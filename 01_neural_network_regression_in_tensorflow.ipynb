{
  "nbformat": 4,
  "nbformat_minor": 0,
  "metadata": {
    "colab": {
      "provenance": [],
      "collapsed_sections": [],
      "toc_visible": true,
      "authorship_tag": "ABX9TyN/x6SqiK2abZlODE1kuwS1",
      "include_colab_link": true
    },
    "kernelspec": {
      "name": "python3",
      "display_name": "Python 3"
    },
    "language_info": {
      "name": "python"
    }
  },
  "cells": [
    {
      "cell_type": "markdown",
      "metadata": {
        "id": "view-in-github",
        "colab_type": "text"
      },
      "source": [
        "<a href=\"https://colab.research.google.com/github/SaketMunda/tensorflow-fundamentals/blob/master/01_neural_network_regression_in_tensorflow.ipynb\" target=\"_parent\"><img src=\"https://colab.research.google.com/assets/colab-badge.svg\" alt=\"Open In Colab\"/></a>"
      ]
    },
    {
      "cell_type": "markdown",
      "source": [
        "# 01. Neural Network Regression with TensorFlow\n",
        "\n",
        "In this notebook, we're going to set the foundations for how you can take a sample of inputs(this is our data), build a neural network to discover patterns in those inputs and then make a prediction(in form of a number) based on those inputs."
      ],
      "metadata": {
        "id": "W6f0UacUZj40"
      }
    },
    {
      "cell_type": "markdown",
      "source": [
        "## Typical Architecture of Regression Neural Network\n",
        "\n",
        "The word *typical* is on purpose.\n",
        "\n",
        "Why?\n",
        "\n",
        "Because there are many different ways (actually, there's almost an infinite number of ways) to write neural network.\n",
        "\n",
        "But the following is a generic setup for ingesting a collection of numbers, finding patterns in them and then outputing some kind of target number.\n",
        "\n",
        "\n",
        "| **Hyperparameter** | **Typical value** |\n",
        "| --- | --- |\n",
        "| Input layer shape | Same shape as number of features (e.g. 3 for # bedrooms, # bathrooms, # car spaces in housing price prediction) |\n",
        "| Hidden layer(s) | Problem specific, minimum = 1, maximum = unlimited |\n",
        "| Neurons per hidden layer | Problem specific, generally 10 to 100 |\n",
        "| Output layer shape | Same shape as desired prediction shape (e.g. 1 for house price) |\n",
        "| Hidden activation | Usually [ReLU](https://www.kaggle.com/dansbecker/rectified-linear-units-relu-in-deep-learning) (rectified linear unit) |\n",
        "| Output activation | None, ReLU, logistic/tanh |\n",
        "| Loss function | [MSE](https://en.wikipedia.org/wiki/Mean_squared_error) (mean square error) or [MAE](https://en.wikipedia.org/wiki/Mean_absolute_error) (mean absolute error)/Huber (combination of MAE/MSE) if outliers |\n",
        "| Optimizer | [SGD](https://www.tensorflow.org/api_docs/python/tf/keras/optimizers/SGD) (stochastic gradient descent), [Adam](https://www.tensorflow.org/api_docs/python/tf/keras/optimizers/Adam) |\n",
        "\n",
        "***Table 1:*** *Typical architecture of a regression network.* ***Source:*** *Adapted from page 293 of [Hands-On Machine Learning with Scikit-Learn, Keras & TensorFlow Book by Aurélien Géron](https://www.oreilly.com/library/view/hands-on-machine-learning/9781492032632/)*\n"
      ],
      "metadata": {
        "id": "2yMovR5Ei1Yr"
      }
    },
    {
      "cell_type": "markdown",
      "source": [
        "> 🔑 **Note**: A **hyperparameter** in machine learning is something a data analyst or developer can set themselves, where as a **parameter** usually describes something a model learns on its own (a value not explicitly set by an analyst)."
      ],
      "metadata": {
        "id": "-m6-iIs7j8aw"
      }
    },
    {
      "cell_type": "code",
      "source": [
        "# Import the tensorFlow\n",
        "import tensorflow as tf\n",
        "print(tf.__version__)"
      ],
      "metadata": {
        "colab": {
          "base_uri": "https://localhost:8080/"
        },
        "id": "r5DzVSjBk5p5",
        "outputId": "a5c9aef2-157d-4279-e420-9ca4a07d3934"
      },
      "execution_count": 2,
      "outputs": [
        {
          "output_type": "stream",
          "name": "stdout",
          "text": [
            "2.9.2\n"
          ]
        }
      ]
    },
    {
      "cell_type": "markdown",
      "source": [
        "## Creating data to view and fit\n",
        "\n",
        "Since we're working on a regression problem (predicting a number), let's create some linear data (a straight line) to model."
      ],
      "metadata": {
        "id": "LsFdN0L2m5Kz"
      }
    },
    {
      "cell_type": "code",
      "source": [
        "import numpy as np\n",
        "import matplotlib.pyplot as plt\n",
        "\n",
        "# Create features\n",
        "X = np.array([-7.0, -4.0, -1.0, 2.0, 5.0, 8.0, 11.0, 14.0])\n",
        "\n",
        "# Create labels\n",
        "y = np.array([-3.0, 0.0, 3.0, 6.0, 9.0, 12.0, 15.0, 18.0])\n",
        "\n",
        "# Visualise it\n",
        "plt.scatter(X,y);"
      ],
      "metadata": {
        "colab": {
          "base_uri": "https://localhost:8080/",
          "height": 265
        },
        "id": "12LMC9ADnLj3",
        "outputId": "23c206b3-e189-466e-954f-f8d3abb29ef1"
      },
      "execution_count": 3,
      "outputs": [
        {
          "output_type": "display_data",
          "data": {
            "text/plain": [
              "<Figure size 432x288 with 1 Axes>"
            ],
            "image/png": "[encoded data removed]"
          },
          "metadata": {
            "needs_background": "light"
          }
        }
      ]
    },
    {
      "cell_type": "markdown",
      "source": [
        "Before we do any modelling, can we calculate the pattern between X and y?\n",
        "\n",
        "For example, say I asked you, based on this data what the y value would be if X was 17.0 ?\n",
        "\n",
        "or how about if X was -10.0 ?\n",
        "\n",
        "This kind of pattern discovery is the essence of what we'll be building neural networks to do for us."
      ],
      "metadata": {
        "id": "GfE5U1OAnRe0"
      }
    },
    {
      "cell_type": "markdown",
      "source": [
        "## Regression input shapes and output shapes\n",
        "\n",
        "One of the most important concepts when working with neural networks are the input and output shapes.\n",
        "\n",
        "The **input shape** is the shape of your data that goes into the model.\n",
        "The **output shape** is the shape of your data you want to come out of your model.\n",
        "\n",
        "These will differ depending on the problem you're working on.\n",
        "\n",
        "Neural networks accept numbers and output numbers. These numbers are typically represented as tensors(or arrays).\n",
        "\n",
        "Before, we created data using Numpy arrays, but we could do the same with tensors."
      ],
      "metadata": {
        "id": "Nhwn395rpYZ4"
      }
    },
    {
      "cell_type": "code",
      "source": [
        "# Example input and output shapes of a regression model\n",
        "house_info = tf.constant([\"bedroom\",\"bathroom\", \"garage\"])\n",
        "house_price = tf.constant([939700])\n",
        "house_info, house_price"
      ],
      "metadata": {
        "colab": {
          "base_uri": "https://localhost:8080/"
        },
        "id": "h5ifuXF5uz49",
        "outputId": "8aaf17be-0213-43e4-9b10-b668a47a1c71"
      },
      "execution_count": 4,
      "outputs": [
        {
          "output_type": "execute_result",
          "data": {
            "text/plain": [
              "(<tf.Tensor: shape=(3,), dtype=string, numpy=array([b'bedroom', b'bathroom', b'garage'], dtype=object)>,\n",
              " <tf.Tensor: shape=(1,), dtype=int32, numpy=array([939700], dtype=int32)>)"
            ]
          },
          "metadata": {},
          "execution_count": 4
        }
      ]
    },
    {
      "cell_type": "code",
      "source": [
        "house_info.shape, house_price.shape"
      ],
      "metadata": {
        "colab": {
          "base_uri": "https://localhost:8080/"
        },
        "id": "go-zW8dQvEzF",
        "outputId": "cdab5d23-2c72-439e-ec38-04fc8a37d015"
      },
      "execution_count": 5,
      "outputs": [
        {
          "output_type": "execute_result",
          "data": {
            "text/plain": [
              "(TensorShape([3]), TensorShape([1]))"
            ]
          },
          "metadata": {},
          "execution_count": 5
        }
      ]
    },
    {
      "cell_type": "markdown",
      "source": [
        "It says input shape as 3, and output shape is 1"
      ],
      "metadata": {
        "id": "YAOQb8jdvowI"
      }
    },
    {
      "cell_type": "markdown",
      "source": [
        "\n",
        "![example of input and output shapes for a housing price prediction problem](https://raw.githubusercontent.com/mrdbourke/tensorflow-deep-learning/main/images/01-input-and-output-shapes-housing-prices.png)\n",
        "\n",
        "*If we were working on building a machine learning algorithm for predicting housing prices, our inputs may be number of bedrooms, number of bathrooms and number of garages, giving you an input shape of 3 (3 different features). And since we are trying to predict the price of the house, our output shape would be 1.*"
      ],
      "metadata": {
        "id": "1r52eIn2vtWI"
      }
    },
    {
      "cell_type": "markdown",
      "source": [
        "## Steps in modelling with TensorFlow\n",
        "\n",
        "Now we know what data we have as well as the input and output shapes, let's see how we'd build a neural network to model it.\n",
        "\n",
        "In TensorFlow, there are typically 3 fundamental steps to creating and training a model.\n",
        "\n",
        "1. **Creating a model**: piece together the layers of a neural network yourself (using Functional or Sequential API) or import a previously build model (known as transfer learning).\n",
        "2. **Compiling a model**: defining how a model performance should be measured(loss/metrics) as well as defining how it should improve(optimizer)\n",
        "3. **Fitting a model**: letting the model try to find patterns in the data(how does x get to y)\n",
        "\n",
        "\n",
        "Let's see using the Keras Sequential API to build a model for our regression problem."
      ],
      "metadata": {
        "id": "2V3Y_GjZw4FR"
      }
    },
    {
      "cell_type": "code",
      "source": [
        "# set the random see\n",
        "tf.random.set_seed(42)\n",
        "\n",
        "# create a model using the Sequential API\n",
        "model = tf.keras.Sequential([\n",
        "    tf.keras.layers.Dense(1)\n",
        "])\n",
        "\n",
        "# Dense means, fully connected layer, it means all the neurons are connected with all the neurons of the next layer\n",
        "\n",
        "# compile the model\n",
        "\n",
        "model.compile(loss= tf.keras.losses.mae, # Mean absolute error\n",
        "              optimizer = tf.keras.optimizers.SGD(), # Stochastic gradient descent\n",
        "              metrics = [\"mae\"])\n",
        "\n",
        "# Fit the model\n",
        "model.fit(tf.expand_dims(X, axis = -1), y, epochs = 5)"
      ],
      "metadata": {
        "colab": {
          "base_uri": "https://localhost:8080/"
        },
        "id": "JIK-rK-PyYlJ",
        "outputId": "66f1b9a1-343d-4649-db52-05d157fc985e"
      },
      "execution_count": 6,
      "outputs": [
        {
          "output_type": "stream",
          "name": "stdout",
          "text": [
            "Epoch 1/5\n",
            "1/1 [==============================] - 1s 598ms/step - loss: 5.5048 - mae: 5.5048\n",
            "Epoch 2/5\n",
            "1/1 [==============================] - 0s 11ms/step - loss: 5.3723 - mae: 5.3723\n",
            "Epoch 3/5\n",
            "1/1 [==============================] - 0s 9ms/step - loss: 5.2398 - mae: 5.2398\n",
            "Epoch 4/5\n",
            "1/1 [==============================] - 0s 12ms/step - loss: 5.1073 - mae: 5.1073\n",
            "Epoch 5/5\n",
            "1/1 [==============================] - 0s 12ms/step - loss: 4.9748 - mae: 4.9748\n"
          ]
        },
        {
          "output_type": "execute_result",
          "data": {
            "text/plain": [
              "<keras.callbacks.History at 0x7f84a05dad50>"
            ]
          },
          "metadata": {},
          "execution_count": 6
        }
      ]
    },
    {
      "cell_type": "markdown",
      "source": [
        "We've just trained a model to figure out the patterns between X and y\n"
      ],
      "metadata": {
        "id": "IVs1iOFgzZqW"
      }
    },
    {
      "cell_type": "code",
      "source": [
        "# Check out X and y\n",
        "X, y"
      ],
      "metadata": {
        "colab": {
          "base_uri": "https://localhost:8080/"
        },
        "id": "CdeuHOZSzobM",
        "outputId": "7e417059-67a8-49a1-b071-95d743b3c48e"
      },
      "execution_count": 7,
      "outputs": [
        {
          "output_type": "execute_result",
          "data": {
            "text/plain": [
              "(array([-7., -4., -1.,  2.,  5.,  8., 11., 14.]),\n",
              " array([-3.,  0.,  3.,  6.,  9., 12., 15., 18.]))"
            ]
          },
          "metadata": {},
          "execution_count": 7
        }
      ]
    },
    {
      "cell_type": "markdown",
      "source": [
        "What do you think the outcome should be if we passed our model an x value of 17.0 ?\n"
      ],
      "metadata": {
        "id": "_B_iEtluzqSp"
      }
    },
    {
      "cell_type": "code",
      "source": [
        "# Make a prediction with the model\n",
        "model.predict([17.0])"
      ],
      "metadata": {
        "colab": {
          "base_uri": "https://localhost:8080/"
        },
        "id": "gfEHXWfnzzK8",
        "outputId": "7c199e4c-c148-4fec-aa9a-92b11e40251f"
      },
      "execution_count": 8,
      "outputs": [
        {
          "output_type": "stream",
          "name": "stdout",
          "text": [
            "1/1 [==============================] - 0s 93ms/step\n"
          ]
        },
        {
          "output_type": "execute_result",
          "data": {
            "text/plain": [
              "array([[12.716021]], dtype=float32)"
            ]
          },
          "metadata": {},
          "execution_count": 8
        }
      ]
    },
    {
      "cell_type": "code",
      "source": [
        "12.71 + 4.97 # adding with our model's loss"
      ],
      "metadata": {
        "colab": {
          "base_uri": "https://localhost:8080/"
        },
        "id": "YRDgEX-R0YhF",
        "outputId": "f3fd8b15-0026-412f-8710-9e797ba8bbbb"
      },
      "execution_count": 9,
      "outputs": [
        {
          "output_type": "execute_result",
          "data": {
            "text/plain": [
              "17.68"
            ]
          },
          "metadata": {},
          "execution_count": 9
        }
      ]
    },
    {
      "cell_type": "markdown",
      "source": [
        "It doesn't went well.. it should've output something close to 21.0\n",
        "\n",
        "> 🤔 **What's Keras ?** : I thought we were working with TensorFLow but everytime we write TensorFlow code, `keras` comes after `tf` (e.g `tf.keras.layers.Dense()`) ?\n",
        "\n",
        "Before TensorFlow 2.0+, Keras was an API designed to be able to build deep learning models with ease. Since TensorFlow 2.0+, its functionality has been tightly integrated withing the TensorFlow Library."
      ],
      "metadata": {
        "id": "UW63yVq00dqF"
      }
    },
    {
      "cell_type": "markdown",
      "source": [
        "## Improving a model\n",
        "\n",
        "To improve our model, we alter almost every part of 3 steps we went through before.\n",
        "\n",
        "1. **Creating a model**: here we might add some more layers, increase the number of hidden units (also called as neurons) within each layer, change the activation functions of each layer.\n",
        "2. **Compiling a model**: we might want to choose different optimization function or perhaps change the **learning rate** of the optimization function.\n",
        "3. **Fitting a model**: perhaps we might want to train on more data or we could fit a model for more **epochs** (leave it training for longer)\n",
        "\n",
        "![improve a model](https://raw.githubusercontent.com/mrdbourke/tensorflow-deep-learning/main/images/02-improving-a-model-from-model-perspective.png)\n",
        "\n",
        "*There are many different ways to potentially improve a neural network. Some of the most common include: increasing the number of layers (making the network deeper), increasing the number of hidden units (making the network wider) and changing the learning rate. Because these values are all human-changeable, they're referred to as hyperparameters and the practice of trying to find the best hyperparameters is referred to as hyperparameter tuning.*\n",
        "\n",
        "\n",
        "\n",
        "For now, let's keep it simple, all we'll do is to train our model for longer (everything else will stay the same)"
      ],
      "metadata": {
        "id": "T0K_Iedy1kM1"
      }
    },
    {
      "cell_type": "code",
      "source": [
        "# set random seed\n",
        "tf.random.set_seed(42)\n",
        "\n",
        "# create a model (same as above)\n",
        "model = tf.keras.Sequential([\n",
        "    tf.keras.layers.Dense(1)\n",
        "])\n",
        "\n",
        "# compile a model\n",
        "model.compile(loss=tf.keras.losses.mae,\n",
        "              optimizer=tf.keras.optimizers.SGD(),\n",
        "              metrics=[\"mae\"])\n",
        "\n",
        "# fitting a model\n",
        "model.fit(tf.expand_dims(X, axis = -1),y,epochs = 100)"
      ],
      "metadata": {
        "id": "coYGyqg41m8A",
        "colab": {
          "base_uri": "https://localhost:8080/"
        },
        "outputId": "1f619bc9-bbad-44ee-c7c9-7804dbe29af7"
      },
      "execution_count": 10,
      "outputs": [
        {
          "output_type": "stream",
          "name": "stdout",
          "text": [
            "Epoch 1/100\n",
            "1/1 [==============================] - 0s 318ms/step - loss: 5.5048 - mae: 5.5048\n",
            "Epoch 2/100\n",
            "1/1 [==============================] - 0s 10ms/step - loss: 5.3723 - mae: 5.3723\n",
            "Epoch 3/100\n",
            "1/1 [==============================] - 0s 9ms/step - loss: 5.2398 - mae: 5.2398\n",
            "Epoch 4/100\n",
            "1/1 [==============================] - 0s 11ms/step - loss: 5.1073 - mae: 5.1073\n",
            "Epoch 5/100\n",
            "1/1 [==============================] - 0s 9ms/step - loss: 4.9748 - mae: 4.9748\n",
            "Epoch 6/100\n",
            "1/1 [==============================] - 0s 10ms/step - loss: 4.8423 - mae: 4.8423\n",
            "Epoch 7/100\n",
            "1/1 [==============================] - 0s 7ms/step - loss: 4.7098 - mae: 4.7098\n",
            "Epoch 8/100\n",
            "1/1 [==============================] - 0s 8ms/step - loss: 4.5773 - mae: 4.5773\n",
            "Epoch 9/100\n",
            "1/1 [==============================] - 0s 9ms/step - loss: 4.4448 - mae: 4.4448\n",
            "Epoch 10/100\n",
            "1/1 [==============================] - 0s 7ms/step - loss: 4.3123 - mae: 4.3123\n",
            "Epoch 11/100\n",
            "1/1 [==============================] - 0s 6ms/step - loss: 4.1798 - mae: 4.1798\n",
            "Epoch 12/100\n",
            "1/1 [==============================] - 0s 10ms/step - loss: 4.0473 - mae: 4.0473\n",
            "Epoch 13/100\n",
            "1/1 [==============================] - 0s 8ms/step - loss: 3.9148 - mae: 3.9148\n",
            "Epoch 14/100\n",
            "1/1 [==============================] - 0s 6ms/step - loss: 3.7823 - mae: 3.7823\n",
            "Epoch 15/100\n",
            "1/1 [==============================] - 0s 6ms/step - loss: 3.6498 - mae: 3.6498\n",
            "Epoch 16/100\n",
            "1/1 [==============================] - 0s 8ms/step - loss: 3.5173 - mae: 3.5173\n",
            "Epoch 17/100\n",
            "1/1 [==============================] - 0s 17ms/step - loss: 3.3848 - mae: 3.3848\n",
            "Epoch 18/100\n",
            "1/1 [==============================] - 0s 6ms/step - loss: 3.2523 - mae: 3.2523\n",
            "Epoch 19/100\n",
            "1/1 [==============================] - 0s 10ms/step - loss: 3.1198 - mae: 3.1198\n",
            "Epoch 20/100\n",
            "1/1 [==============================] - 0s 7ms/step - loss: 2.9873 - mae: 2.9873\n",
            "Epoch 21/100\n",
            "1/1 [==============================] - 0s 11ms/step - loss: 2.8548 - mae: 2.8548\n",
            "Epoch 22/100\n",
            "1/1 [==============================] - 0s 12ms/step - loss: 2.8425 - mae: 2.8425\n",
            "Epoch 23/100\n",
            "1/1 [==============================] - 0s 9ms/step - loss: 2.8369 - mae: 2.8369\n",
            "Epoch 24/100\n",
            "1/1 [==============================] - 0s 12ms/step - loss: 2.8312 - mae: 2.8312\n",
            "Epoch 25/100\n",
            "1/1 [==============================] - 0s 10ms/step - loss: 2.8256 - mae: 2.8256\n",
            "Epoch 26/100\n",
            "1/1 [==============================] - 0s 12ms/step - loss: 2.8200 - mae: 2.8200\n",
            "Epoch 27/100\n",
            "1/1 [==============================] - 0s 15ms/step - loss: 2.8144 - mae: 2.8144\n",
            "Epoch 28/100\n",
            "1/1 [==============================] - 0s 10ms/step - loss: 2.8087 - mae: 2.8087\n",
            "Epoch 29/100\n",
            "1/1 [==============================] - 0s 11ms/step - loss: 2.8031 - mae: 2.8031\n",
            "Epoch 30/100\n",
            "1/1 [==============================] - 0s 11ms/step - loss: 2.7975 - mae: 2.7975\n",
            "Epoch 31/100\n",
            "1/1 [==============================] - 0s 8ms/step - loss: 2.7919 - mae: 2.7919\n",
            "Epoch 32/100\n",
            "1/1 [==============================] - 0s 8ms/step - loss: 2.7863 - mae: 2.7863\n",
            "Epoch 33/100\n",
            "1/1 [==============================] - 0s 7ms/step - loss: 2.7806 - mae: 2.7806\n",
            "Epoch 34/100\n",
            "1/1 [==============================] - 0s 6ms/step - loss: 2.7750 - mae: 2.7750\n",
            "Epoch 35/100\n",
            "1/1 [==============================] - 0s 8ms/step - loss: 2.7694 - mae: 2.7694\n",
            "Epoch 36/100\n",
            "1/1 [==============================] - 0s 9ms/step - loss: 2.7638 - mae: 2.7638\n",
            "Epoch 37/100\n",
            "1/1 [==============================] - 0s 7ms/step - loss: 2.7581 - mae: 2.7581\n",
            "Epoch 38/100\n",
            "1/1 [==============================] - 0s 6ms/step - loss: 2.7525 - mae: 2.7525\n",
            "Epoch 39/100\n",
            "1/1 [==============================] - 0s 6ms/step - loss: 2.7469 - mae: 2.7469\n",
            "Epoch 40/100\n",
            "1/1 [==============================] - 0s 6ms/step - loss: 2.7413 - mae: 2.7413\n",
            "Epoch 41/100\n",
            "1/1 [==============================] - 0s 6ms/step - loss: 2.7356 - mae: 2.7356\n",
            "Epoch 42/100\n",
            "1/1 [==============================] - 0s 6ms/step - loss: 2.7300 - mae: 2.7300\n",
            "Epoch 43/100\n",
            "1/1 [==============================] - 0s 6ms/step - loss: 2.7244 - mae: 2.7244\n",
            "Epoch 44/100\n",
            "1/1 [==============================] - 0s 6ms/step - loss: 2.7188 - mae: 2.7188\n",
            "Epoch 45/100\n",
            "1/1 [==============================] - 0s 6ms/step - loss: 2.7131 - mae: 2.7131\n",
            "Epoch 46/100\n",
            "1/1 [==============================] - 0s 6ms/step - loss: 2.7075 - mae: 2.7075\n",
            "Epoch 47/100\n",
            "1/1 [==============================] - 0s 6ms/step - loss: 2.7019 - mae: 2.7019\n",
            "Epoch 48/100\n",
            "1/1 [==============================] - 0s 6ms/step - loss: 2.6963 - mae: 2.6963\n",
            "Epoch 49/100\n",
            "1/1 [==============================] - 0s 6ms/step - loss: 2.6906 - mae: 2.6906\n",
            "Epoch 50/100\n",
            "1/1 [==============================] - 0s 6ms/step - loss: 2.6850 - mae: 2.6850\n",
            "Epoch 51/100\n",
            "1/1 [==============================] - 0s 6ms/step - loss: 2.6794 - mae: 2.6794\n",
            "Epoch 52/100\n",
            "1/1 [==============================] - 0s 6ms/step - loss: 2.6738 - mae: 2.6738\n",
            "Epoch 53/100\n",
            "1/1 [==============================] - 0s 6ms/step - loss: 2.6681 - mae: 2.6681\n",
            "Epoch 54/100\n",
            "1/1 [==============================] - 0s 6ms/step - loss: 2.6625 - mae: 2.6625\n",
            "Epoch 55/100\n",
            "1/1 [==============================] - 0s 6ms/step - loss: 2.6569 - mae: 2.6569\n",
            "Epoch 56/100\n",
            "1/1 [==============================] - 0s 6ms/step - loss: 2.6513 - mae: 2.6513\n",
            "Epoch 57/100\n",
            "1/1 [==============================] - 0s 5ms/step - loss: 2.6456 - mae: 2.6456\n",
            "Epoch 58/100\n",
            "1/1 [==============================] - 0s 6ms/step - loss: 2.6400 - mae: 2.6400\n",
            "Epoch 59/100\n",
            "1/1 [==============================] - 0s 6ms/step - loss: 2.6344 - mae: 2.6344\n",
            "Epoch 60/100\n",
            "1/1 [==============================] - 0s 5ms/step - loss: 2.6288 - mae: 2.6288\n",
            "Epoch 61/100\n",
            "1/1 [==============================] - 0s 6ms/step - loss: 2.6231 - mae: 2.6231\n",
            "Epoch 62/100\n",
            "1/1 [==============================] - 0s 5ms/step - loss: 2.6175 - mae: 2.6175\n",
            "Epoch 63/100\n",
            "1/1 [==============================] - 0s 6ms/step - loss: 2.6119 - mae: 2.6119\n",
            "Epoch 64/100\n",
            "1/1 [==============================] - 0s 6ms/step - loss: 2.6063 - mae: 2.6063\n",
            "Epoch 65/100\n",
            "1/1 [==============================] - 0s 6ms/step - loss: 2.6006 - mae: 2.6006\n",
            "Epoch 66/100\n",
            "1/1 [==============================] - 0s 5ms/step - loss: 2.5950 - mae: 2.5950\n",
            "Epoch 67/100\n",
            "1/1 [==============================] - 0s 7ms/step - loss: 2.5894 - mae: 2.5894\n",
            "Epoch 68/100\n",
            "1/1 [==============================] - 0s 5ms/step - loss: 2.5838 - mae: 2.5838\n",
            "Epoch 69/100\n",
            "1/1 [==============================] - 0s 5ms/step - loss: 2.5781 - mae: 2.5781\n",
            "Epoch 70/100\n",
            "1/1 [==============================] - 0s 6ms/step - loss: 2.5725 - mae: 2.5725\n",
            "Epoch 71/100\n",
            "1/1 [==============================] - 0s 7ms/step - loss: 2.5669 - mae: 2.5669\n",
            "Epoch 72/100\n",
            "1/1 [==============================] - 0s 6ms/step - loss: 2.5613 - mae: 2.5613\n",
            "Epoch 73/100\n",
            "1/1 [==============================] - 0s 6ms/step - loss: 2.5556 - mae: 2.5556\n",
            "Epoch 74/100\n",
            "1/1 [==============================] - 0s 6ms/step - loss: 2.5500 - mae: 2.5500\n",
            "Epoch 75/100\n",
            "1/1 [==============================] - 0s 8ms/step - loss: 2.5444 - mae: 2.5444\n",
            "Epoch 76/100\n",
            "1/1 [==============================] - 0s 5ms/step - loss: 2.5388 - mae: 2.5388\n",
            "Epoch 77/100\n",
            "1/1 [==============================] - 0s 6ms/step - loss: 2.5331 - mae: 2.5331\n",
            "Epoch 78/100\n",
            "1/1 [==============================] - 0s 7ms/step - loss: 2.5275 - mae: 2.5275\n",
            "Epoch 79/100\n",
            "1/1 [==============================] - 0s 6ms/step - loss: 2.5219 - mae: 2.5219\n",
            "Epoch 80/100\n",
            "1/1 [==============================] - 0s 6ms/step - loss: 2.5164 - mae: 2.5164\n",
            "Epoch 81/100\n",
            "1/1 [==============================] - 0s 6ms/step - loss: 2.5125 - mae: 2.5125\n",
            "Epoch 82/100\n",
            "1/1 [==============================] - 0s 6ms/step - loss: 2.5069 - mae: 2.5069\n",
            "Epoch 83/100\n",
            "1/1 [==============================] - 0s 6ms/step - loss: 2.5013 - mae: 2.5013\n",
            "Epoch 84/100\n",
            "1/1 [==============================] - 0s 6ms/step - loss: 2.4956 - mae: 2.4956\n",
            "Epoch 85/100\n",
            "1/1 [==============================] - 0s 6ms/step - loss: 2.4900 - mae: 2.4900\n",
            "Epoch 86/100\n",
            "1/1 [==============================] - 0s 6ms/step - loss: 2.4844 - mae: 2.4844\n",
            "Epoch 87/100\n",
            "1/1 [==============================] - 0s 7ms/step - loss: 2.4788 - mae: 2.4788\n",
            "Epoch 88/100\n",
            "1/1 [==============================] - 0s 6ms/step - loss: 2.4731 - mae: 2.4731\n",
            "Epoch 89/100\n",
            "1/1 [==============================] - 0s 6ms/step - loss: 2.4675 - mae: 2.4675\n",
            "Epoch 90/100\n",
            "1/1 [==============================] - 0s 6ms/step - loss: 2.4619 - mae: 2.4619\n",
            "Epoch 91/100\n",
            "1/1 [==============================] - 0s 7ms/step - loss: 2.4563 - mae: 2.4563\n",
            "Epoch 92/100\n",
            "1/1 [==============================] - 0s 6ms/step - loss: 2.4506 - mae: 2.4506\n",
            "Epoch 93/100\n",
            "1/1 [==============================] - 0s 6ms/step - loss: 2.4450 - mae: 2.4450\n",
            "Epoch 94/100\n",
            "1/1 [==============================] - 0s 7ms/step - loss: 2.4394 - mae: 2.4394\n",
            "Epoch 95/100\n",
            "1/1 [==============================] - 0s 8ms/step - loss: 2.4338 - mae: 2.4338\n",
            "Epoch 96/100\n",
            "1/1 [==============================] - 0s 9ms/step - loss: 2.4281 - mae: 2.4281\n",
            "Epoch 97/100\n",
            "1/1 [==============================] - 0s 7ms/step - loss: 2.4225 - mae: 2.4225\n",
            "Epoch 98/100\n",
            "1/1 [==============================] - 0s 7ms/step - loss: 2.4169 - mae: 2.4169\n",
            "Epoch 99/100\n",
            "1/1 [==============================] - 0s 6ms/step - loss: 2.4113 - mae: 2.4113\n",
            "Epoch 100/100\n",
            "1/1 [==============================] - 0s 6ms/step - loss: 2.4056 - mae: 2.4056\n"
          ]
        },
        {
          "output_type": "execute_result",
          "data": {
            "text/plain": [
              "<keras.callbacks.History at 0x7f849bdf4790>"
            ]
          },
          "metadata": {},
          "execution_count": 10
        }
      ]
    },
    {
      "cell_type": "markdown",
      "source": [
        "If you notice, we have minimised the loss just below 2.5 which was almost 5 when we were fitting the model with 5 `epochs`"
      ],
      "metadata": {
        "id": "51wl8sxvKe_4"
      }
    },
    {
      "cell_type": "code",
      "source": [
        "# let's see X & y\n",
        "X, y"
      ],
      "metadata": {
        "colab": {
          "base_uri": "https://localhost:8080/"
        },
        "id": "AhLJUyasLBXc",
        "outputId": "284bdc61-35f5-4404-fcc0-998c1ea0172c"
      },
      "execution_count": 11,
      "outputs": [
        {
          "output_type": "execute_result",
          "data": {
            "text/plain": [
              "(array([-7., -4., -1.,  2.,  5.,  8., 11., 14.]),\n",
              " array([-3.,  0.,  3.,  6.,  9., 12., 15., 18.]))"
            ]
          },
          "metadata": {},
          "execution_count": 11
        }
      ]
    },
    {
      "cell_type": "code",
      "source": [
        "# make prediction with improved model\n",
        "model.predict([17.0])"
      ],
      "metadata": {
        "colab": {
          "base_uri": "https://localhost:8080/"
        },
        "id": "7mfCXNrPLFGM",
        "outputId": "401ae26c-041e-41b8-b6bd-467e5545364d"
      },
      "execution_count": 12,
      "outputs": [
        {
          "output_type": "stream",
          "name": "stdout",
          "text": [
            "1/1 [==============================] - 0s 181ms/step\n"
          ]
        },
        {
          "output_type": "execute_result",
          "data": {
            "text/plain": [
              "array([[22.518517]], dtype=float32)"
            ]
          },
          "metadata": {},
          "execution_count": 12
        }
      ]
    },
    {
      "cell_type": "markdown",
      "source": [
        "It should predict around 21.0, so our model is almost closer to the correct predictions.\n",
        "\n",
        "Let's try tuning other hyperparameters,\n",
        "\n",
        "This time, we will choose different optimizer function"
      ],
      "metadata": {
        "id": "vUXd5v3dLOIy"
      }
    },
    {
      "cell_type": "code",
      "source": [
        "# again do the same process,\n",
        "\n",
        "# set random seed\n",
        "tf.random.set_seed(42)\n",
        "\n",
        "# create a model\n",
        "model = tf.keras.Sequential([\n",
        "    tf.keras.layers.Dense(1)\n",
        "])\n",
        "\n",
        "# compile a model\n",
        "model.compile(loss=tf.keras.losses.mae,\n",
        "              optimizer=tf.keras.optimizers.Adam(learning_rate=0.0001), # lr stands for learning rate\n",
        "              metrics=[\"mae\"])\n",
        "\n",
        "# fit a model\n",
        "model.fit(tf.expand_dims(X, axis = -1), y, epochs = 100)"
      ],
      "metadata": {
        "colab": {
          "base_uri": "https://localhost:8080/"
        },
        "id": "nx9GPFbwLaGL",
        "outputId": "bfdb502f-c778-438f-be72-fcc7d1613aba"
      },
      "execution_count": 13,
      "outputs": [
        {
          "output_type": "stream",
          "name": "stdout",
          "text": [
            "Epoch 1/100\n",
            "1/1 [==============================] - 0s 495ms/step - loss: 5.5048 - mae: 5.5048\n",
            "Epoch 2/100\n",
            "1/1 [==============================] - 0s 9ms/step - loss: 5.5043 - mae: 5.5043\n",
            "Epoch 3/100\n",
            "1/1 [==============================] - 0s 11ms/step - loss: 5.5039 - mae: 5.5039\n",
            "Epoch 4/100\n",
            "1/1 [==============================] - 0s 12ms/step - loss: 5.5034 - mae: 5.5034\n",
            "Epoch 5/100\n",
            "1/1 [==============================] - 0s 7ms/step - loss: 5.5030 - mae: 5.5030\n",
            "Epoch 6/100\n",
            "1/1 [==============================] - 0s 8ms/step - loss: 5.5025 - mae: 5.5025\n",
            "Epoch 7/100\n",
            "1/1 [==============================] - 0s 8ms/step - loss: 5.5021 - mae: 5.5021\n",
            "Epoch 8/100\n",
            "1/1 [==============================] - 0s 14ms/step - loss: 5.5016 - mae: 5.5016\n",
            "Epoch 9/100\n",
            "1/1 [==============================] - 0s 8ms/step - loss: 5.5012 - mae: 5.5012\n",
            "Epoch 10/100\n",
            "1/1 [==============================] - 0s 9ms/step - loss: 5.5007 - mae: 5.5007\n",
            "Epoch 11/100\n",
            "1/1 [==============================] - 0s 8ms/step - loss: 5.5003 - mae: 5.5003\n",
            "Epoch 12/100\n",
            "1/1 [==============================] - 0s 7ms/step - loss: 5.4998 - mae: 5.4998\n",
            "Epoch 13/100\n",
            "1/1 [==============================] - 0s 7ms/step - loss: 5.4994 - mae: 5.4994\n",
            "Epoch 14/100\n",
            "1/1 [==============================] - 0s 7ms/step - loss: 5.4989 - mae: 5.4989\n",
            "Epoch 15/100\n",
            "1/1 [==============================] - 0s 7ms/step - loss: 5.4985 - mae: 5.4985\n",
            "Epoch 16/100\n",
            "1/1 [==============================] - 0s 7ms/step - loss: 5.4980 - mae: 5.4980\n",
            "Epoch 17/100\n",
            "1/1 [==============================] - 0s 7ms/step - loss: 5.4976 - mae: 5.4976\n",
            "Epoch 18/100\n",
            "1/1 [==============================] - 0s 7ms/step - loss: 5.4971 - mae: 5.4971\n",
            "Epoch 19/100\n",
            "1/1 [==============================] - 0s 7ms/step - loss: 5.4967 - mae: 5.4967\n",
            "Epoch 20/100\n",
            "1/1 [==============================] - 0s 7ms/step - loss: 5.4962 - mae: 5.4962\n",
            "Epoch 21/100\n",
            "1/1 [==============================] - 0s 7ms/step - loss: 5.4958 - mae: 5.4958\n",
            "Epoch 22/100\n",
            "1/1 [==============================] - 0s 7ms/step - loss: 5.4953 - mae: 5.4953\n",
            "Epoch 23/100\n",
            "1/1 [==============================] - 0s 8ms/step - loss: 5.4949 - mae: 5.4949\n",
            "Epoch 24/100\n",
            "1/1 [==============================] - 0s 7ms/step - loss: 5.4944 - mae: 5.4944\n",
            "Epoch 25/100\n",
            "1/1 [==============================] - 0s 7ms/step - loss: 5.4940 - mae: 5.4940\n",
            "Epoch 26/100\n",
            "1/1 [==============================] - 0s 7ms/step - loss: 5.4935 - mae: 5.4935\n",
            "Epoch 27/100\n",
            "1/1 [==============================] - 0s 7ms/step - loss: 5.4931 - mae: 5.4931\n",
            "Epoch 28/100\n",
            "1/1 [==============================] - 0s 7ms/step - loss: 5.4926 - mae: 5.4926\n",
            "Epoch 29/100\n",
            "1/1 [==============================] - 0s 8ms/step - loss: 5.4922 - mae: 5.4922\n",
            "Epoch 30/100\n",
            "1/1 [==============================] - 0s 6ms/step - loss: 5.4917 - mae: 5.4917\n",
            "Epoch 31/100\n",
            "1/1 [==============================] - 0s 10ms/step - loss: 5.4913 - mae: 5.4913\n",
            "Epoch 32/100\n",
            "1/1 [==============================] - 0s 8ms/step - loss: 5.4908 - mae: 5.4908\n",
            "Epoch 33/100\n",
            "1/1 [==============================] - 0s 11ms/step - loss: 5.4904 - mae: 5.4904\n",
            "Epoch 34/100\n",
            "1/1 [==============================] - 0s 10ms/step - loss: 5.4899 - mae: 5.4899\n",
            "Epoch 35/100\n",
            "1/1 [==============================] - 0s 7ms/step - loss: 5.4895 - mae: 5.4895\n",
            "Epoch 36/100\n",
            "1/1 [==============================] - 0s 6ms/step - loss: 5.4890 - mae: 5.4890\n",
            "Epoch 37/100\n",
            "1/1 [==============================] - 0s 6ms/step - loss: 5.4886 - mae: 5.4886\n",
            "Epoch 38/100\n",
            "1/1 [==============================] - 0s 6ms/step - loss: 5.4881 - mae: 5.4881\n",
            "Epoch 39/100\n",
            "1/1 [==============================] - 0s 6ms/step - loss: 5.4877 - mae: 5.4877\n",
            "Epoch 40/100\n",
            "1/1 [==============================] - 0s 8ms/step - loss: 5.4872 - mae: 5.4872\n",
            "Epoch 41/100\n",
            "1/1 [==============================] - 0s 6ms/step - loss: 5.4868 - mae: 5.4868\n",
            "Epoch 42/100\n",
            "1/1 [==============================] - 0s 6ms/step - loss: 5.4863 - mae: 5.4863\n",
            "Epoch 43/100\n",
            "1/1 [==============================] - 0s 7ms/step - loss: 5.4859 - mae: 5.4859\n",
            "Epoch 44/100\n",
            "1/1 [==============================] - 0s 7ms/step - loss: 5.4854 - mae: 5.4854\n",
            "Epoch 45/100\n",
            "1/1 [==============================] - 0s 6ms/step - loss: 5.4850 - mae: 5.4850\n",
            "Epoch 46/100\n",
            "1/1 [==============================] - 0s 7ms/step - loss: 5.4845 - mae: 5.4845\n",
            "Epoch 47/100\n",
            "1/1 [==============================] - 0s 7ms/step - loss: 5.4841 - mae: 5.4841\n",
            "Epoch 48/100\n",
            "1/1 [==============================] - 0s 7ms/step - loss: 5.4836 - mae: 5.4836\n",
            "Epoch 49/100\n",
            "1/1 [==============================] - 0s 6ms/step - loss: 5.4832 - mae: 5.4832\n",
            "Epoch 50/100\n",
            "1/1 [==============================] - 0s 6ms/step - loss: 5.4827 - mae: 5.4827\n",
            "Epoch 51/100\n",
            "1/1 [==============================] - 0s 6ms/step - loss: 5.4823 - mae: 5.4823\n",
            "Epoch 52/100\n",
            "1/1 [==============================] - 0s 9ms/step - loss: 5.4818 - mae: 5.4818\n",
            "Epoch 53/100\n",
            "1/1 [==============================] - 0s 13ms/step - loss: 5.4814 - mae: 5.4814\n",
            "Epoch 54/100\n",
            "1/1 [==============================] - 0s 6ms/step - loss: 5.4809 - mae: 5.4809\n",
            "Epoch 55/100\n",
            "1/1 [==============================] - 0s 6ms/step - loss: 5.4805 - mae: 5.4805\n",
            "Epoch 56/100\n",
            "1/1 [==============================] - 0s 6ms/step - loss: 5.4800 - mae: 5.4800\n",
            "Epoch 57/100\n",
            "1/1 [==============================] - 0s 6ms/step - loss: 5.4796 - mae: 5.4796\n",
            "Epoch 58/100\n",
            "1/1 [==============================] - 0s 10ms/step - loss: 5.4791 - mae: 5.4791\n",
            "Epoch 59/100\n",
            "1/1 [==============================] - 0s 6ms/step - loss: 5.4787 - mae: 5.4787\n",
            "Epoch 60/100\n",
            "1/1 [==============================] - 0s 6ms/step - loss: 5.4782 - mae: 5.4782\n",
            "Epoch 61/100\n",
            "1/1 [==============================] - 0s 5ms/step - loss: 5.4778 - mae: 5.4778\n",
            "Epoch 62/100\n",
            "1/1 [==============================] - 0s 6ms/step - loss: 5.4773 - mae: 5.4773\n",
            "Epoch 63/100\n",
            "1/1 [==============================] - 0s 6ms/step - loss: 5.4769 - mae: 5.4769\n",
            "Epoch 64/100\n",
            "1/1 [==============================] - 0s 5ms/step - loss: 5.4764 - mae: 5.4764\n",
            "Epoch 65/100\n",
            "1/1 [==============================] - 0s 6ms/step - loss: 5.4760 - mae: 5.4760\n",
            "Epoch 66/100\n",
            "1/1 [==============================] - 0s 6ms/step - loss: 5.4755 - mae: 5.4755\n",
            "Epoch 67/100\n",
            "1/1 [==============================] - 0s 6ms/step - loss: 5.4751 - mae: 5.4751\n",
            "Epoch 68/100\n",
            "1/1 [==============================] - 0s 6ms/step - loss: 5.4746 - mae: 5.4746\n",
            "Epoch 69/100\n",
            "1/1 [==============================] - 0s 6ms/step - loss: 5.4742 - mae: 5.4742\n",
            "Epoch 70/100\n",
            "1/1 [==============================] - 0s 6ms/step - loss: 5.4737 - mae: 5.4737\n",
            "Epoch 71/100\n",
            "1/1 [==============================] - 0s 6ms/step - loss: 5.4733 - mae: 5.4733\n",
            "Epoch 72/100\n",
            "1/1 [==============================] - 0s 6ms/step - loss: 5.4728 - mae: 5.4728\n",
            "Epoch 73/100\n",
            "1/1 [==============================] - 0s 6ms/step - loss: 5.4724 - mae: 5.4724\n",
            "Epoch 74/100\n",
            "1/1 [==============================] - 0s 6ms/step - loss: 5.4719 - mae: 5.4719\n",
            "Epoch 75/100\n",
            "1/1 [==============================] - 0s 6ms/step - loss: 5.4715 - mae: 5.4715\n",
            "Epoch 76/100\n",
            "1/1 [==============================] - 0s 6ms/step - loss: 5.4710 - mae: 5.4710\n",
            "Epoch 77/100\n",
            "1/1 [==============================] - 0s 6ms/step - loss: 5.4706 - mae: 5.4706\n",
            "Epoch 78/100\n",
            "1/1 [==============================] - 0s 6ms/step - loss: 5.4701 - mae: 5.4701\n",
            "Epoch 79/100\n",
            "1/1 [==============================] - 0s 7ms/step - loss: 5.4697 - mae: 5.4697\n",
            "Epoch 80/100\n",
            "1/1 [==============================] - 0s 6ms/step - loss: 5.4692 - mae: 5.4692\n",
            "Epoch 81/100\n",
            "1/1 [==============================] - 0s 6ms/step - loss: 5.4688 - mae: 5.4688\n",
            "Epoch 82/100\n",
            "1/1 [==============================] - 0s 7ms/step - loss: 5.4683 - mae: 5.4683\n",
            "Epoch 83/100\n",
            "1/1 [==============================] - 0s 8ms/step - loss: 5.4679 - mae: 5.4679\n",
            "Epoch 84/100\n",
            "1/1 [==============================] - 0s 7ms/step - loss: 5.4674 - mae: 5.4674\n",
            "Epoch 85/100\n",
            "1/1 [==============================] - 0s 7ms/step - loss: 5.4670 - mae: 5.4670\n",
            "Epoch 86/100\n",
            "1/1 [==============================] - 0s 7ms/step - loss: 5.4665 - mae: 5.4665\n",
            "Epoch 87/100\n",
            "1/1 [==============================] - 0s 7ms/step - loss: 5.4661 - mae: 5.4661\n",
            "Epoch 88/100\n",
            "1/1 [==============================] - 0s 6ms/step - loss: 5.4656 - mae: 5.4656\n",
            "Epoch 89/100\n",
            "1/1 [==============================] - 0s 7ms/step - loss: 5.4652 - mae: 5.4652\n",
            "Epoch 90/100\n",
            "1/1 [==============================] - 0s 7ms/step - loss: 5.4647 - mae: 5.4647\n",
            "Epoch 91/100\n",
            "1/1 [==============================] - 0s 7ms/step - loss: 5.4643 - mae: 5.4643\n",
            "Epoch 92/100\n",
            "1/1 [==============================] - 0s 7ms/step - loss: 5.4638 - mae: 5.4638\n",
            "Epoch 93/100\n",
            "1/1 [==============================] - 0s 8ms/step - loss: 5.4634 - mae: 5.4634\n",
            "Epoch 94/100\n",
            "1/1 [==============================] - 0s 7ms/step - loss: 5.4629 - mae: 5.4629\n",
            "Epoch 95/100\n",
            "1/1 [==============================] - 0s 6ms/step - loss: 5.4625 - mae: 5.4625\n",
            "Epoch 96/100\n",
            "1/1 [==============================] - 0s 8ms/step - loss: 5.4620 - mae: 5.4620\n",
            "Epoch 97/100\n",
            "1/1 [==============================] - 0s 7ms/step - loss: 5.4616 - mae: 5.4616\n",
            "Epoch 98/100\n",
            "1/1 [==============================] - 0s 8ms/step - loss: 5.4611 - mae: 5.4611\n",
            "Epoch 99/100\n",
            "1/1 [==============================] - 0s 8ms/step - loss: 5.4607 - mae: 5.4607\n",
            "Epoch 100/100\n",
            "1/1 [==============================] - 0s 7ms/step - loss: 5.4602 - mae: 5.4602\n"
          ]
        },
        {
          "output_type": "execute_result",
          "data": {
            "text/plain": [
              "<keras.callbacks.History at 0x7f849aceda90>"
            ]
          },
          "metadata": {},
          "execution_count": 13
        }
      ]
    },
    {
      "cell_type": "code",
      "source": [
        "model.predict([17.0])"
      ],
      "metadata": {
        "colab": {
          "base_uri": "https://localhost:8080/"
        },
        "id": "Goi7zpzEMyCv",
        "outputId": "d6fba1bb-05ff-4413-bf6c-0b3e4b21cafe"
      },
      "execution_count": 14,
      "outputs": [
        {
          "output_type": "stream",
          "name": "stdout",
          "text": [
            "1/1 [==============================] - 0s 167ms/step\n"
          ]
        },
        {
          "output_type": "execute_result",
          "data": {
            "text/plain": [
              "array([[9.871047]], dtype=float32)"
            ]
          },
          "metadata": {},
          "execution_count": 14
        }
      ]
    },
    {
      "cell_type": "markdown",
      "source": [
        "It is possible that not always tweaking with hyperparameters will get closer to the correct results, like in this case, our model performs worse than previous tuning, it means `Adam()` function is not right for this model. \n",
        "\n",
        "Hence, that's idea behind tweaking and improving our model, to find out best possible hyperparameters to build a perfect model."
      ],
      "metadata": {
        "id": "3JBGFRBaNBj3"
      }
    },
    {
      "cell_type": "markdown",
      "source": [
        "## Evaluating a model\n",
        "\n",
        "A typical workflow you'll go through when building neural network is:\n",
        "\n",
        "`Build a model -> evaluate it -> build (tweak) a model -> evaluate it -> build (tweak) a model -> evaluate it...`\n",
        "\n",
        "The tweaking comes from maybe not building a model from scratch but adjusting existing one.\n",
        "\n",
        "\n",
        "When it comes to evaluation, we must remember these 3 words:\n",
        "> **Visualise, Visualise, Visualise**\n",
        "\n",
        "This is because we're probably better looking at something(doing) than we are thinking about something.\n",
        "\n",
        "It's a good idea to visualise:\n",
        "* **The data** - what data are we working with? What does it look like?\n",
        "* **The model itself** - what does the architecture look like? What are the different shapes.\n",
        "* **The training of a model** - how does a model perform while it learns ?\n",
        "* **The predictions of a model** - how do the predictions of a model line up against the ground truth (the original labels)?\n",
        "\n",
        "Let's visualising our model,\n",
        "\n",
        "But first we need to create a little bit of a bigger dataset and a new model we can use."
      ],
      "metadata": {
        "id": "OSbH_Kd0Nrff"
      }
    },
    {
      "cell_type": "code",
      "source": [
        "# Make a bigger dataset\n",
        "X = tf.range(-100,100,4)\n",
        "X"
      ],
      "metadata": {
        "colab": {
          "base_uri": "https://localhost:8080/"
        },
        "id": "VqNKZ34zbJ2K",
        "outputId": "de40533c-eefe-498b-eace-3f2f3434d733"
      },
      "execution_count": 15,
      "outputs": [
        {
          "output_type": "execute_result",
          "data": {
            "text/plain": [
              "<tf.Tensor: shape=(50,), dtype=int32, numpy=\n",
              "array([-100,  -96,  -92,  -88,  -84,  -80,  -76,  -72,  -68,  -64,  -60,\n",
              "        -56,  -52,  -48,  -44,  -40,  -36,  -32,  -28,  -24,  -20,  -16,\n",
              "        -12,   -8,   -4,    0,    4,    8,   12,   16,   20,   24,   28,\n",
              "         32,   36,   40,   44,   48,   52,   56,   60,   64,   68,   72,\n",
              "         76,   80,   84,   88,   92,   96], dtype=int32)>"
            ]
          },
          "metadata": {},
          "execution_count": 15
        }
      ]
    },
    {
      "cell_type": "code",
      "source": [
        "# make labels for the dataset\n",
        "# we want our model to learn the model as y = X + 5\n",
        "y = X + 5\n",
        "y"
      ],
      "metadata": {
        "colab": {
          "base_uri": "https://localhost:8080/"
        },
        "id": "n4WmhcRic3i0",
        "outputId": "f35d6422-e25d-478a-b160-3d8064a336f6"
      },
      "execution_count": 16,
      "outputs": [
        {
          "output_type": "execute_result",
          "data": {
            "text/plain": [
              "<tf.Tensor: shape=(50,), dtype=int32, numpy=\n",
              "array([-95, -91, -87, -83, -79, -75, -71, -67, -63, -59, -55, -51, -47,\n",
              "       -43, -39, -35, -31, -27, -23, -19, -15, -11,  -7,  -3,   1,   5,\n",
              "         9,  13,  17,  21,  25,  29,  33,  37,  41,  45,  49,  53,  57,\n",
              "        61,  65,  69,  73,  77,  81,  85,  89,  93,  97, 101], dtype=int32)>"
            ]
          },
          "metadata": {},
          "execution_count": 16
        }
      ]
    },
    {
      "cell_type": "markdown",
      "source": [
        "### Split data into training/test set\n",
        "\n",
        "Usually when dealing with real-world data, spliting is typically done right at the start of the project (the test set should always be kept separate from all other data).\n",
        "\n",
        "We want our model to learn on training data and then evaluate it on test data to get an indication of how well it generalizes to unseen examples."
      ],
      "metadata": {
        "id": "s_Z1Zuy0dA8a"
      }
    },
    {
      "cell_type": "code",
      "source": [
        "# check the number of samples we have\n",
        "len(X)"
      ],
      "metadata": {
        "colab": {
          "base_uri": "https://localhost:8080/"
        },
        "id": "yP8buvVYjIXS",
        "outputId": "16aed627-3049-4282-98ca-4799a1403d1f"
      },
      "execution_count": 17,
      "outputs": [
        {
          "output_type": "execute_result",
          "data": {
            "text/plain": [
              "50"
            ]
          },
          "metadata": {},
          "execution_count": 17
        }
      ]
    },
    {
      "cell_type": "code",
      "source": [
        "# Split data into train and test sets\n",
        "X_train = X[:40]  # first 40 examples (80% of data)\n",
        "y_train = y[:40]\n",
        "\n",
        "X_test = X[40:] # last 10 examples (20% of data)\n",
        "y_test = y[40:]\n",
        "\n",
        "len(X_train), len(X_test)"
      ],
      "metadata": {
        "colab": {
          "base_uri": "https://localhost:8080/"
        },
        "id": "uekAQyc_jLml",
        "outputId": "d2a02cee-9e32-42d2-a91d-5dd66fa10fbe"
      },
      "execution_count": 18,
      "outputs": [
        {
          "output_type": "execute_result",
          "data": {
            "text/plain": [
              "(40, 10)"
            ]
          },
          "metadata": {},
          "execution_count": 18
        }
      ]
    },
    {
      "cell_type": "markdown",
      "source": [
        "let's visualise it using the plots"
      ],
      "metadata": {
        "id": "F7lIXR5ojl_s"
      }
    },
    {
      "cell_type": "markdown",
      "source": [
        "### Visualise the data"
      ],
      "metadata": {
        "id": "KzL9B1GBjuFI"
      }
    },
    {
      "cell_type": "code",
      "source": [
        "plt.figure(figsize=(10,7))\n",
        "\n",
        "# plot the training data in blue\n",
        "plt.scatter(X_train, y_train, c=\"b\", label=\"Training Data\")\n",
        "\n",
        "# Plot the test data in green\n",
        "plt.scatter(X_test, y_test, c=\"g\", label=\"Test data\")\n",
        "\n",
        "# Show the legend\n",
        "plt.legend();"
      ],
      "metadata": {
        "colab": {
          "base_uri": "https://localhost:8080/",
          "height": 428
        },
        "id": "Tp9DHssXjwxc",
        "outputId": "3b1a5c7a-1046-48c2-a5d2-402a19b86158"
      },
      "execution_count": 19,
      "outputs": [
        {
          "output_type": "display_data",
          "data": {
            "text/plain": [
              "<Figure size 720x504 with 1 Axes>"
            ],
            "image/png": "[encoded data removed]"
          },
          "metadata": {
            "needs_background": "light"
          }
        }
      ]
    },
    {
      "cell_type": "markdown",
      "source": [
        "Any time we can visualise our data, our model, our anything. It's a good idea.\n",
        "\n",
        "\n",
        "Keeping this graph in our mind, what we'll be trying is to build a model which learns the pattern in the blue dots (`X_train`) to draw the green dots (`X_test`)\n",
        "\n",
        "So, let's build our model."
      ],
      "metadata": {
        "id": "Eg02XDBckhjl"
      }
    },
    {
      "cell_type": "code",
      "source": [
        "# Set random seed\n",
        "tf.random.set_seed(42)\n",
        "\n",
        "\n",
        "# Create a model\n",
        "model = tf.keras.Sequential([\n",
        "    tf.keras.layers.Dense(1)\n",
        "])\n",
        "\n",
        "# Compile a model\n",
        "model.compile(loss=tf.keras.losses.mae,\n",
        "              optimizer= tf.keras.optimizers.SGD(),\n",
        "              metrics=[\"mae\"])\n",
        "\n",
        "# Fit the model\n",
        "# model.fit(X_train, y_train, epochs = 100) # commented out on purpose, first we will visualise the model"
      ],
      "metadata": {
        "id": "NuEBZpRFlKTO"
      },
      "execution_count": 20,
      "outputs": []
    },
    {
      "cell_type": "markdown",
      "source": [
        "### Visualise the model\n",
        "\n",
        "After we've built a model, we might want to visualise the layers and shapes of our model, by called `summary()` on it.\n",
        "\n",
        "> 🔑 **Note**: Visualizing a model is particularly helpful when you run into input and output shapes mismatches.\n"
      ],
      "metadata": {
        "id": "axSQcA1Tl8AF"
      }
    },
    {
      "cell_type": "code",
      "source": [
        "# let's see the summary\n",
        "model.summary()"
      ],
      "metadata": {
        "colab": {
          "base_uri": "https://localhost:8080/",
          "height": 305
        },
        "id": "0evj4qiMmbAF",
        "outputId": "24dda25f-6b58-4b4b-812b-416f7344d0fb"
      },
      "execution_count": 21,
      "outputs": [
        {
          "output_type": "error",
          "ename": "ValueError",
          "evalue": "ignored",
          "traceback": [
            "\u001b[0;31m---------------------------------------------------------------------------\u001b[0m",
            "\u001b[0;31mValueError\u001b[0m                                Traceback (most recent call last)",
            "\u001b[0;32m<ipython-input-21-4954ad8269f7>\u001b[0m in \u001b[0;36m<module>\u001b[0;34m\u001b[0m\n\u001b[1;32m      1\u001b[0m \u001b[0;31m# let's see the summary\u001b[0m\u001b[0;34m\u001b[0m\u001b[0;34m\u001b[0m\u001b[0;34m\u001b[0m\u001b[0m\n\u001b[0;32m----> 2\u001b[0;31m \u001b[0mmodel\u001b[0m\u001b[0;34m.\u001b[0m\u001b[0msummary\u001b[0m\u001b[0;34m(\u001b[0m\u001b[0;34m)\u001b[0m\u001b[0;34m\u001b[0m\u001b[0;34m\u001b[0m\u001b[0m\n\u001b[0m",
            "\u001b[0;32m/usr/local/lib/python3.7/dist-packages/keras/engine/training.py\u001b[0m in \u001b[0;36msummary\u001b[0;34m(self, line_length, positions, print_fn, expand_nested, show_trainable)\u001b[0m\n\u001b[1;32m   2868\u001b[0m     \u001b[0;32mif\u001b[0m \u001b[0;32mnot\u001b[0m \u001b[0mself\u001b[0m\u001b[0;34m.\u001b[0m\u001b[0mbuilt\u001b[0m\u001b[0;34m:\u001b[0m\u001b[0;34m\u001b[0m\u001b[0;34m\u001b[0m\u001b[0m\n\u001b[1;32m   2869\u001b[0m       raise ValueError(\n\u001b[0;32m-> 2870\u001b[0;31m           \u001b[0;34m'This model has not yet been built. '\u001b[0m\u001b[0;34m\u001b[0m\u001b[0;34m\u001b[0m\u001b[0m\n\u001b[0m\u001b[1;32m   2871\u001b[0m           \u001b[0;34m'Build the model first by calling `build()` or by calling '\u001b[0m\u001b[0;34m\u001b[0m\u001b[0;34m\u001b[0m\u001b[0m\n\u001b[1;32m   2872\u001b[0m           'the model on a batch of data.')\n",
            "\u001b[0;31mValueError\u001b[0m: This model has not yet been built. Build the model first by calling `build()` or by calling the model on a batch of data."
          ]
        }
      ]
    },
    {
      "cell_type": "markdown",
      "source": [
        "Since the model is not built, it's not showing us the summary.\n",
        "\n",
        "We also haven't defined the input the shape while creating a model, it we define the input shape while creating a model, it will automatically build the model.\n",
        "\n",
        "So what's the input shape of our dataset ?"
      ],
      "metadata": {
        "id": "_K-zZFzNmf__"
      }
    },
    {
      "cell_type": "code",
      "source": [
        "# since our prediction would be predicting 1 y value from 1 X value, it means X[0] will be the shape of our input\n",
        "X[0].shape"
      ],
      "metadata": {
        "colab": {
          "base_uri": "https://localhost:8080/"
        },
        "id": "Pvyxe1vDms8S",
        "outputId": "8b526380-ce4d-4e6a-ea92-cf49c0ea476d"
      },
      "execution_count": 22,
      "outputs": [
        {
          "output_type": "execute_result",
          "data": {
            "text/plain": [
              "TensorShape([])"
            ]
          },
          "metadata": {},
          "execution_count": 22
        }
      ]
    },
    {
      "cell_type": "markdown",
      "source": [
        "In this case, our `input_shape` is `[1]`.\n",
        "\n",
        "**Note:** Usually if input_shape isn't defined, Keras tries to figure it out automatically."
      ],
      "metadata": {
        "id": "IdJRwcnknCPf"
      }
    },
    {
      "cell_type": "code",
      "source": [
        "# building the model again\n",
        "\n",
        "# set random seed\n",
        "tf.random.set_seed(42)\n",
        "\n",
        "# Create a model\n",
        "model = tf.keras.Sequential([\n",
        "    tf.keras.layers.Dense(1, input_shape=[1]) # define the input_shape of our model\n",
        "])\n",
        "\n",
        "# Compile a model\n",
        "model.compile(loss=tf.keras.losses.mae,\n",
        "              optimizer=tf.keras.optimizers.SGD(),\n",
        "              metrics=[\"mae\"])"
      ],
      "metadata": {
        "id": "9ObI5rTQni75"
      },
      "execution_count": 46,
      "outputs": []
    },
    {
      "cell_type": "code",
      "source": [
        "model.summary()"
      ],
      "metadata": {
        "colab": {
          "base_uri": "https://localhost:8080/"
        },
        "id": "m-a71NC0oAnt",
        "outputId": "db83ea00-5195-4291-871a-5dde3eaa0b14"
      },
      "execution_count": 24,
      "outputs": [
        {
          "output_type": "stream",
          "name": "stdout",
          "text": [
            "Model: \"sequential_4\"\n",
            "_________________________________________________________________\n",
            " Layer (type)                Output Shape              Param #   \n",
            "=================================================================\n",
            " dense_4 (Dense)             (None, 3)                 6         \n",
            "                                                                 \n",
            "=================================================================\n",
            "Total params: 6\n",
            "Trainable params: 6\n",
            "Non-trainable params: 0\n",
            "_________________________________________________________________\n"
          ]
        }
      ]
    },
    {
      "cell_type": "markdown",
      "source": [
        "Calling `summary()` on our model shows us the layers it contains, the output shape and the number of parameters.\n",
        "\n",
        "* **Total Params**: Total number of parameters in the model\n",
        "* **Trainable params**: These are the parameters(patterns) the model can update as it trains.\n",
        "* **Non-Trainable params**: These parameters aren't updated during training(this is typical when you bring in the already learned patterns from other models during transfer learning).\n",
        "\n",
        "> 📖 **Resource**: For a more in-depth overview of the trainabel parameters within a layer, check out [MIT's introduction to deep learning video](https://youtu.be/njKP3FqW3Sk)\n",
        "\n",
        "> 🛠 **Exercise**: Try playing around with the number of hidden units in the `Dense` Layer (e.g `Dense(2)`, `Dense(3)`). How does this change the Total/Trainable params ? Investigate what's causing the change."
      ],
      "metadata": {
        "id": "gCvk48ZZoCYL"
      }
    },
    {
      "cell_type": "markdown",
      "source": [
        "Let's fit the model to the training data"
      ],
      "metadata": {
        "id": "covrTjq7puns"
      }
    },
    {
      "cell_type": "code",
      "source": [
        "# Fit the model to the training data\n",
        "model.fit(X_train, y_train, epochs = 100, verbose=0) # verbose controls how much gets output"
      ],
      "metadata": {
        "colab": {
          "base_uri": "https://localhost:8080/"
        },
        "id": "yEEFjt4nj3Df",
        "outputId": "78691af4-1f12-4e77-a670-2956bd501a19"
      },
      "execution_count": 47,
      "outputs": [
        {
          "output_type": "execute_result",
          "data": {
            "text/plain": [
              "<keras.callbacks.History at 0x7f8495a228d0>"
            ]
          },
          "metadata": {},
          "execution_count": 47
        }
      ]
    },
    {
      "cell_type": "code",
      "source": [
        "# check the model summary\n",
        "model.summary()"
      ],
      "metadata": {
        "colab": {
          "base_uri": "https://localhost:8080/"
        },
        "id": "kO_YpbV1kBYq",
        "outputId": "6283a5b1-0cdf-41dd-9e18-3a1cbf6f9728"
      },
      "execution_count": 48,
      "outputs": [
        {
          "output_type": "stream",
          "name": "stdout",
          "text": [
            "Model: \"sequential_5\"\n",
            "_________________________________________________________________\n",
            " Layer (type)                Output Shape              Param #   \n",
            "=================================================================\n",
            " dense_5 (Dense)             (None, 1)                 2         \n",
            "                                                                 \n",
            "=================================================================\n",
            "Total params: 2\n",
            "Trainable params: 2\n",
            "Non-trainable params: 0\n",
            "_________________________________________________________________\n"
          ]
        }
      ]
    },
    {
      "cell_type": "markdown",
      "source": [
        "Alongside summary, you can also view a 2D plot of the model using `plot_model()`"
      ],
      "metadata": {
        "id": "OgJ2pZczkFL2"
      }
    },
    {
      "cell_type": "code",
      "source": [
        "from tensorflow.keras.utils import plot_model\n",
        "\n",
        "plot_model(model=model, show_shapes = True)"
      ],
      "metadata": {
        "colab": {
          "base_uri": "https://localhost:8080/",
          "height": 201
        },
        "id": "gfCSl4nXkRzH",
        "outputId": "f19f0268-ea4e-45d6-ba23-6fa865fbb447"
      },
      "execution_count": 49,
      "outputs": [
        {
          "output_type": "execute_result",
          "data": {
            "image/png": "[encoded data removed]",
            "text/plain": [
              "<IPython.core.display.Image object>"
            ]
          },
          "metadata": {},
          "execution_count": 49
        }
      ]
    },
    {
      "cell_type": "markdown",
      "source": [
        "In our case, the model we used only has an input and an output but visualizing more complicated models can be very helpful for debugging."
      ],
      "metadata": {
        "id": "1S1XSV1zkapX"
      }
    },
    {
      "cell_type": "markdown",
      "source": [
        "### Visualise the predictions\n",
        "\n",
        "Now we've got a trained model, let's visualise some prediction.\n",
        "\n",
        "To visualise the predictions, it's always a good idea to plot them against the ground truth labels.\n",
        "\n",
        "Often you'll see this in the form of `y_test` vs `y_preds` (ground truth vs predictions)\n",
        "\n",
        "First, we'll make some predictions on the test data(`X_test`), remember the model has never seen the test data."
      ],
      "metadata": {
        "id": "dxEb2yxPlGQB"
      }
    },
    {
      "cell_type": "code",
      "source": [
        "# make predictions\n",
        "y_preds = model.predict(X_test)\n",
        "y_preds"
      ],
      "metadata": {
        "colab": {
          "base_uri": "https://localhost:8080/"
        },
        "id": "6t6GrbH-lVfH",
        "outputId": "cfe531f6-7aa8-4047-f6a1-c03b72b8dbc9"
      },
      "execution_count": 50,
      "outputs": [
        {
          "output_type": "stream",
          "name": "stderr",
          "text": [
            "WARNING:tensorflow:5 out of the last 6 calls to <function Model.make_predict_function.<locals>.predict_function at 0x7f849a3c0440> triggered tf.function retracing. Tracing is expensive and the excessive number of tracings could be due to (1) creating @tf.function repeatedly in a loop, (2) passing tensors with different shapes, (3) passing Python objects instead of tensors. For (1), please define your @tf.function outside of the loop. For (2), @tf.function has reduce_retracing=True option that can avoid unnecessary retracing. For (3), please refer to https://www.tensorflow.org/guide/function#controlling_retracing and https://www.tensorflow.org/api_docs/python/tf/function for  more details.\n"
          ]
        },
        {
          "output_type": "stream",
          "name": "stdout",
          "text": [
            "1/1 [==============================] - 0s 45ms/step\n"
          ]
        },
        {
          "output_type": "execute_result",
          "data": {
            "text/plain": [
              "array([[44.477352],\n",
              "       [47.392593],\n",
              "       [50.307835],\n",
              "       [53.223076],\n",
              "       [56.138313],\n",
              "       [59.053555],\n",
              "       [61.968796],\n",
              "       [64.88403 ],\n",
              "       [67.79928 ],\n",
              "       [70.714516]], dtype=float32)"
            ]
          },
          "metadata": {},
          "execution_count": 50
        }
      ]
    },
    {
      "cell_type": "code",
      "source": [
        "# Ground truth label\n",
        "y_test"
      ],
      "metadata": {
        "colab": {
          "base_uri": "https://localhost:8080/"
        },
        "id": "756qLaKZlhQG",
        "outputId": "4a1cfb44-05fa-4b59-d7bc-6cba6219e9f0"
      },
      "execution_count": 32,
      "outputs": [
        {
          "output_type": "execute_result",
          "data": {
            "text/plain": [
              "<tf.Tensor: shape=(10,), dtype=int32, numpy=array([ 65,  69,  73,  77,  81,  85,  89,  93,  97, 101], dtype=int32)>"
            ]
          },
          "metadata": {},
          "execution_count": 32
        }
      ]
    },
    {
      "cell_type": "markdown",
      "source": [
        "Let's plot them to make a comparision between them, for this we'll be creating a function so that we can be able to use it for later comparisons as well"
      ],
      "metadata": {
        "id": "zJKWIWiklmvJ"
      }
    },
    {
      "cell_type": "code",
      "source": [
        "# Creating a plot_prediction function\n",
        "\n",
        "import matplotlib.pyplot as plt\n",
        "\n",
        "def plot_prediction(train_data=X_train,\n",
        "                    train_label= y_train,\n",
        "                    test_data=X_test,\n",
        "                    test_label=y_test,\n",
        "                    predictions=y_preds):\n",
        "  \"\"\"\n",
        "  This function will help to visualise the prediction using scatter plot.\n",
        "  It takes train data,train labels, test data, ground truth data and predictions and plot \n",
        "  them to visualise.\n",
        "  \"\"\"\n",
        "\n",
        "  # plot the figure\n",
        "  plt.figure(figsize=(10,7))\n",
        "\n",
        "  # plot the train data in blue\n",
        "  plt.scatter(train_data, train_label, c=\"b\", label=\"Training data\")\n",
        "\n",
        "  # plot the test data in green\n",
        "  plt.scatter(test_data, test_label, c=\"g\", label=\"Test data\")\n",
        "\n",
        "  # plot the test data vs predictions in red\n",
        "  plt.scatter(test_data, predictions, c=\"r\", label=\"Predictions\")\n",
        "\n",
        "  # show the legend\n",
        "  plt.legend();"
      ],
      "metadata": {
        "id": "ZvhbNd0GmM4q"
      },
      "execution_count": 51,
      "outputs": []
    },
    {
      "cell_type": "code",
      "source": [
        "plot_prediction()"
      ],
      "metadata": {
        "colab": {
          "base_uri": "https://localhost:8080/",
          "height": 428
        },
        "id": "WwZUizlEnisL",
        "outputId": "f0c0061e-8148-431b-9302-a414975613a7"
      },
      "execution_count": 54,
      "outputs": [
        {
          "output_type": "display_data",
          "data": {
            "text/plain": [
              "<Figure size 720x504 with 1 Axes>"
            ],
            "image/png": "[encoded data removed]"
          },
          "metadata": {
            "needs_background": "light"
          }
        }
      ]
    },
    {
      "cell_type": "markdown",
      "source": [
        "From the plot we can see our predictions aren't totally outlandish but they definitely aren't anything special either."
      ],
      "metadata": {
        "id": "R-FUfr2MoyTT"
      }
    },
    {
      "cell_type": "markdown",
      "source": [
        "### Evaluating predictions\n",
        "\n",
        "Alongside visualizations, evaluation metrics are your alternative best option for evaluating our model.\n",
        "\n",
        "Depending on the problem you're working on, different models have different evaluation metrics.\n",
        "\n",
        "Two of the main metrics used for regression problems are:\n",
        "\n",
        "* **MAE** : Mean absolute error, the mean difference between each of the predictions\n",
        "* **MSE** : Mean Squared error, the squared mean difference between of the predictions (use if larger errors are more detrimental than smaller ones)\n",
        "* **Huber** : Combination of MAE and MSE\n",
        "\n",
        "The lower each of these values, the better.\n",
        "\n",
        "We can also use `model.evaluate()` which also returns the metrics results that we mentioned while `model.compile()` as `metrics`"
      ],
      "metadata": {
        "id": "Mrr-KLEOqrNw"
      }
    },
    {
      "cell_type": "code",
      "source": [
        "model.evaluate(X_test, y_test)"
      ],
      "metadata": {
        "colab": {
          "base_uri": "https://localhost:8080/"
        },
        "id": "t4JZVuAfrxMR",
        "outputId": "22194225-642f-4635-a332-499ccb5e2101"
      },
      "execution_count": 55,
      "outputs": [
        {
          "output_type": "stream",
          "name": "stdout",
          "text": [
            "1/1 [==============================] - 0s 204ms/step - loss: 25.4041 - mae: 25.4041\n"
          ]
        },
        {
          "output_type": "execute_result",
          "data": {
            "text/plain": [
              "[25.404064178466797, 25.404064178466797]"
            ]
          },
          "metadata": {},
          "execution_count": 55
        }
      ]
    },
    {
      "cell_type": "markdown",
      "source": [
        "In our case, we used MAE as the metrics, so it's showing the MAE of the model.\n",
        "\n",
        "\n",
        "TensorFlow also has built-in functions for MSE and MAE.\n",
        "\n",
        "For many evaluation functions, the premise is the same: compare predictions to the ground truth labels."
      ],
      "metadata": {
        "id": "04WWBaVJr1z2"
      }
    },
    {
      "cell_type": "code",
      "source": [
        "# Calculate the mean absolute error\n",
        "mae = tf.keras.metrics.mean_absolute_error(y_test, y_preds)\n",
        "mae"
      ],
      "metadata": {
        "colab": {
          "base_uri": "https://localhost:8080/"
        },
        "id": "QlVyxKJZsLGk",
        "outputId": "850afc75-6104-4dfe-f616-62ee0a338bb9"
      },
      "execution_count": 57,
      "outputs": [
        {
          "output_type": "execute_result",
          "data": {
            "text/plain": [
              "<tf.Tensor: shape=(10,), dtype=float32, numpy=\n",
              "array([38.522648, 35.607407, 32.692165, 29.776922, 26.861689, 23.946445,\n",
              "       21.031204, 18.115967, 15.760577, 13.771291], dtype=float32)>"
            ]
          },
          "metadata": {},
          "execution_count": 57
        }
      ]
    },
    {
      "cell_type": "markdown",
      "source": [
        "It's showing in this format because the shape of `y_test` and `y_preds` are different, and to compare tensors, or do some operations, we have to make sure that shapes should be same."
      ],
      "metadata": {
        "id": "iFlmBrOysW-I"
      }
    },
    {
      "cell_type": "code",
      "source": [
        "y_preds.shape, y_test.shape"
      ],
      "metadata": {
        "colab": {
          "base_uri": "https://localhost:8080/"
        },
        "id": "NpaTxOzJsolN",
        "outputId": "51742d5e-44b3-4f66-a8dc-2fbe4d762f97"
      },
      "execution_count": 58,
      "outputs": [
        {
          "output_type": "execute_result",
          "data": {
            "text/plain": [
              "((10, 1), TensorShape([10]))"
            ]
          },
          "metadata": {},
          "execution_count": 58
        }
      ]
    },
    {
      "cell_type": "code",
      "source": [
        "# let's squeeze and then calculate mae\n",
        "mae = tf.keras.metrics.mean_absolute_error(y_test, tf.squeeze(y_preds))\n",
        "mae"
      ],
      "metadata": {
        "colab": {
          "base_uri": "https://localhost:8080/"
        },
        "id": "V6RBNGfpsrRM",
        "outputId": "ee18dfcb-7b48-4d30-9e8a-3612a2a9c162"
      },
      "execution_count": 59,
      "outputs": [
        {
          "output_type": "execute_result",
          "data": {
            "text/plain": [
              "<tf.Tensor: shape=(), dtype=float32, numpy=25.404064>"
            ]
          },
          "metadata": {},
          "execution_count": 59
        }
      ]
    },
    {
      "cell_type": "code",
      "source": [
        "# calculate the mean squared error\n",
        "mse = tf.keras.metrics.mean_squared_error(y_test, tf.squeeze(y_preds))\n",
        "mse"
      ],
      "metadata": {
        "colab": {
          "base_uri": "https://localhost:8080/"
        },
        "id": "OBCKUzuls295",
        "outputId": "6079a739-037c-499f-fe16-132cd7c9df54"
      },
      "execution_count": 60,
      "outputs": [
        {
          "output_type": "execute_result",
          "data": {
            "text/plain": [
              "<tf.Tensor: shape=(), dtype=float32, numpy=655.07434>"
            ]
          },
          "metadata": {},
          "execution_count": 60
        }
      ]
    },
    {
      "cell_type": "markdown",
      "source": [
        "Create a function for each for later use"
      ],
      "metadata": {
        "id": "xxZuPQl-tAz8"
      }
    },
    {
      "cell_type": "code",
      "source": [
        "def mae(y_test=y_test,y_preds=y_preds):\n",
        "  \"\"\"\n",
        "  Calculates mean absolute error between y_test and y_preds\n",
        "  \"\"\"\n",
        "  return tf.keras.metrics.mean_absolute_error(y_test, tf.squeeze(y_preds)).numpy()\n",
        "\n",
        "def mse(y_test=y_test,y_preds=y_preds):\n",
        "  \"\"\"\n",
        "  Calculates mean squared error between y_test and y_preds\n",
        "  \"\"\"\n",
        "  return tf.keras.metrics.mean_squared_error(y_test, tf.squeeze(y_preds)).numpy()"
      ],
      "metadata": {
        "id": "-Lv7EO38tGf2"
      },
      "execution_count": 63,
      "outputs": []
    },
    {
      "cell_type": "markdown",
      "source": [
        "We can also calculate Mean using pure TensorFlow function"
      ],
      "metadata": {
        "id": "Sa8TCOj5tkH9"
      }
    },
    {
      "cell_type": "code",
      "source": [
        "tf.reduce_mean(tf.abs(y_test - y_preds.squeeze()))"
      ],
      "metadata": {
        "colab": {
          "base_uri": "https://localhost:8080/"
        },
        "id": "v4AKB9n3twJP",
        "outputId": "e9f2c484-4cfe-4d40-ede4-1ad96dccba69"
      },
      "execution_count": 62,
      "outputs": [
        {
          "output_type": "execute_result",
          "data": {
            "text/plain": [
              "<tf.Tensor: shape=(), dtype=int32, numpy=25>"
            ]
          },
          "metadata": {},
          "execution_count": 62
        }
      ]
    },
    {
      "cell_type": "markdown",
      "source": [
        "## Running Experiments to Improve a model\n",
        "\n",
        "After seeing the evaluation metrics and the predictions your model makes, it's likely you'll want to improve it.\n",
        "\n",
        "Again, there are many different ways you can do this, but 3 of the main ones are:\n",
        "\n",
        "1. **Get more data** : get more examples for your model to train on (more opportunities to learn patterns).\n",
        "2. **Make your model larger (use a more complex model)** : this might come in the form of more layers or more hidden units in each layer.\n",
        "3. **Train for longer**: give your model more of a chance to find the patterns in the data\n",
        "\n",
        "Since we created our dataset, we could easily make more data but this isn't always the case when you're working with real-world datasets.\n",
        "\n",
        "So let's take a look at how we can improve our model using 2 and 3:\n",
        "\n",
        "To do so, we'll build 3 models and compare their results:\n",
        "\n",
        "1. `model_1`: same as original model, 1 layer, trained with 100 epochs.\n",
        "2. `model_2`: 2 layer, trained with 100 epochs\n",
        "3. `model_3`: 2 layer, trained with 500 epochs\n",
        "\n",
        "\n",
        "**Build `model_1`**"
      ],
      "metadata": {
        "id": "de4_MMTdt5y6"
      }
    },
    {
      "cell_type": "code",
      "source": [
        "# set random seed\n",
        "tf.random.set_seed(4)\n",
        "\n",
        "# create a model\n",
        "model_1 = tf.keras.Sequential([\n",
        "    tf.keras.layers.Dense(1)\n",
        "])\n",
        "\n",
        "# compile a model\n",
        "model_1.compile(loss=tf.keras.losses.mae,\n",
        "                optimizer=tf.keras.optimizers.SGD(),\n",
        "                metrics=[\"mae\"])\n",
        "\n",
        "# fit the model\n",
        "model_1.fit(tf.expand_dims(X_train, axis=-1), y_train, epochs=100)"
      ],
      "metadata": {
        "colab": {
          "base_uri": "https://localhost:8080/"
        },
        "id": "QH-IFwM-0Xig",
        "outputId": "72ada425-04e3-4e02-b8cf-694cfb4a2993"
      },
      "execution_count": 65,
      "outputs": [
        {
          "output_type": "stream",
          "name": "stdout",
          "text": [
            "Epoch 1/100\n",
            "2/2 [==============================] - 0s 9ms/step - loss: 26.2736 - mae: 26.2736\n",
            "Epoch 2/100\n",
            "2/2 [==============================] - 0s 6ms/step - loss: 5.8289 - mae: 5.8289\n",
            "Epoch 3/100\n",
            "2/2 [==============================] - 0s 6ms/step - loss: 5.3501 - mae: 5.3501\n",
            "Epoch 4/100\n",
            "2/2 [==============================] - 0s 6ms/step - loss: 11.0469 - mae: 11.0469\n",
            "Epoch 5/100\n",
            "2/2 [==============================] - 0s 5ms/step - loss: 6.0472 - mae: 6.0472\n",
            "Epoch 6/100\n",
            "2/2 [==============================] - 0s 6ms/step - loss: 4.8599 - mae: 4.8599\n",
            "Epoch 7/100\n",
            "2/2 [==============================] - 0s 8ms/step - loss: 8.4550 - mae: 8.4550\n",
            "Epoch 8/100\n",
            "2/2 [==============================] - 0s 5ms/step - loss: 9.1616 - mae: 9.1616\n",
            "Epoch 9/100\n",
            "2/2 [==============================] - 0s 5ms/step - loss: 5.4323 - mae: 5.4323\n",
            "Epoch 10/100\n",
            "2/2 [==============================] - 0s 8ms/step - loss: 8.8058 - mae: 8.8058\n",
            "Epoch 11/100\n",
            "2/2 [==============================] - 0s 5ms/step - loss: 11.9951 - mae: 11.9951\n",
            "Epoch 12/100\n",
            "2/2 [==============================] - 0s 6ms/step - loss: 9.9585 - mae: 9.9585\n",
            "Epoch 13/100\n",
            "2/2 [==============================] - 0s 5ms/step - loss: 12.5150 - mae: 12.5150\n",
            "Epoch 14/100\n",
            "2/2 [==============================] - 0s 7ms/step - loss: 5.2024 - mae: 5.2024\n",
            "Epoch 15/100\n",
            "2/2 [==============================] - 0s 6ms/step - loss: 12.8693 - mae: 12.8693\n",
            "Epoch 16/100\n",
            "2/2 [==============================] - 0s 5ms/step - loss: 8.1372 - mae: 8.1372\n",
            "Epoch 17/100\n",
            "2/2 [==============================] - 0s 4ms/step - loss: 4.8182 - mae: 4.8182\n",
            "Epoch 18/100\n",
            "2/2 [==============================] - 0s 7ms/step - loss: 8.9585 - mae: 8.9585\n",
            "Epoch 19/100\n",
            "2/2 [==============================] - 0s 5ms/step - loss: 5.3259 - mae: 5.3259\n",
            "Epoch 20/100\n",
            "2/2 [==============================] - 0s 3ms/step - loss: 6.8067 - mae: 6.8067\n",
            "Epoch 21/100\n",
            "2/2 [==============================] - 0s 5ms/step - loss: 7.2946 - mae: 7.2946\n",
            "Epoch 22/100\n",
            "2/2 [==============================] - 0s 5ms/step - loss: 7.9777 - mae: 7.9777\n",
            "Epoch 23/100\n",
            "2/2 [==============================] - 0s 5ms/step - loss: 7.8188 - mae: 7.8188\n",
            "Epoch 24/100\n",
            "2/2 [==============================] - 0s 8ms/step - loss: 10.2744 - mae: 10.2744\n",
            "Epoch 25/100\n",
            "2/2 [==============================] - 0s 6ms/step - loss: 12.4774 - mae: 12.4774\n",
            "Epoch 26/100\n",
            "2/2 [==============================] - 0s 6ms/step - loss: 5.9552 - mae: 5.9552\n",
            "Epoch 27/100\n",
            "2/2 [==============================] - 0s 6ms/step - loss: 5.6419 - mae: 5.6419\n",
            "Epoch 28/100\n",
            "2/2 [==============================] - 0s 4ms/step - loss: 11.6073 - mae: 11.6073\n",
            "Epoch 29/100\n",
            "2/2 [==============================] - 0s 3ms/step - loss: 12.1142 - mae: 12.1142\n",
            "Epoch 30/100\n",
            "2/2 [==============================] - 0s 4ms/step - loss: 9.3279 - mae: 9.3279\n",
            "Epoch 31/100\n",
            "2/2 [==============================] - 0s 4ms/step - loss: 10.8030 - mae: 10.8030\n",
            "Epoch 32/100\n",
            "2/2 [==============================] - 0s 3ms/step - loss: 16.1114 - mae: 16.1114\n",
            "Epoch 33/100\n",
            "2/2 [==============================] - 0s 5ms/step - loss: 9.3508 - mae: 9.3508\n",
            "Epoch 34/100\n",
            "2/2 [==============================] - 0s 6ms/step - loss: 6.9281 - mae: 6.9281\n",
            "Epoch 35/100\n",
            "2/2 [==============================] - 0s 4ms/step - loss: 4.7452 - mae: 4.7452\n",
            "Epoch 36/100\n",
            "2/2 [==============================] - 0s 4ms/step - loss: 5.0834 - mae: 5.0834\n",
            "Epoch 37/100\n",
            "2/2 [==============================] - 0s 5ms/step - loss: 5.4311 - mae: 5.4311\n",
            "Epoch 38/100\n",
            "2/2 [==============================] - 0s 4ms/step - loss: 5.4156 - mae: 5.4156\n",
            "Epoch 39/100\n",
            "2/2 [==============================] - 0s 5ms/step - loss: 5.2098 - mae: 5.2098\n",
            "Epoch 40/100\n",
            "2/2 [==============================] - 0s 5ms/step - loss: 12.3448 - mae: 12.3448\n",
            "Epoch 41/100\n",
            "2/2 [==============================] - 0s 4ms/step - loss: 8.4752 - mae: 8.4752\n",
            "Epoch 42/100\n",
            "2/2 [==============================] - 0s 4ms/step - loss: 11.0883 - mae: 11.0883\n",
            "Epoch 43/100\n",
            "2/2 [==============================] - 0s 5ms/step - loss: 9.7070 - mae: 9.7070\n",
            "Epoch 44/100\n",
            "2/2 [==============================] - 0s 4ms/step - loss: 15.1892 - mae: 15.1892\n",
            "Epoch 45/100\n",
            "2/2 [==============================] - 0s 3ms/step - loss: 6.9533 - mae: 6.9533\n",
            "Epoch 46/100\n",
            "2/2 [==============================] - 0s 4ms/step - loss: 5.8549 - mae: 5.8549\n",
            "Epoch 47/100\n",
            "2/2 [==============================] - 0s 5ms/step - loss: 13.6988 - mae: 13.6988\n",
            "Epoch 48/100\n",
            "2/2 [==============================] - 0s 6ms/step - loss: 10.2165 - mae: 10.2165\n",
            "Epoch 49/100\n",
            "2/2 [==============================] - 0s 4ms/step - loss: 11.3079 - mae: 11.3079\n",
            "Epoch 50/100\n",
            "2/2 [==============================] - 0s 9ms/step - loss: 8.1985 - mae: 8.1985\n",
            "Epoch 51/100\n",
            "2/2 [==============================] - 0s 9ms/step - loss: 10.7097 - mae: 10.7097\n",
            "Epoch 52/100\n",
            "2/2 [==============================] - 0s 6ms/step - loss: 5.8176 - mae: 5.8176\n",
            "Epoch 53/100\n",
            "2/2 [==============================] - 0s 10ms/step - loss: 7.1681 - mae: 7.1681\n",
            "Epoch 54/100\n",
            "2/2 [==============================] - 0s 4ms/step - loss: 7.7591 - mae: 7.7591\n",
            "Epoch 55/100\n",
            "2/2 [==============================] - 0s 4ms/step - loss: 8.7092 - mae: 8.7092\n",
            "Epoch 56/100\n",
            "2/2 [==============================] - 0s 4ms/step - loss: 7.1068 - mae: 7.1068\n",
            "Epoch 57/100\n",
            "2/2 [==============================] - 0s 4ms/step - loss: 11.7226 - mae: 11.7226\n",
            "Epoch 58/100\n",
            "2/2 [==============================] - 0s 5ms/step - loss: 5.6130 - mae: 5.6130\n",
            "Epoch 59/100\n",
            "2/2 [==============================] - 0s 7ms/step - loss: 7.1943 - mae: 7.1943\n",
            "Epoch 60/100\n",
            "2/2 [==============================] - 0s 4ms/step - loss: 12.7965 - mae: 12.7965\n",
            "Epoch 61/100\n",
            "2/2 [==============================] - 0s 4ms/step - loss: 8.1668 - mae: 8.1668\n",
            "Epoch 62/100\n",
            "2/2 [==============================] - 0s 5ms/step - loss: 7.5795 - mae: 7.5795\n",
            "Epoch 63/100\n",
            "2/2 [==============================] - 0s 6ms/step - loss: 10.9615 - mae: 10.9615\n",
            "Epoch 64/100\n",
            "2/2 [==============================] - 0s 4ms/step - loss: 12.3831 - mae: 12.3831\n",
            "Epoch 65/100\n",
            "2/2 [==============================] - 0s 3ms/step - loss: 6.4478 - mae: 6.4478\n",
            "Epoch 66/100\n",
            "2/2 [==============================] - 0s 4ms/step - loss: 4.9967 - mae: 4.9967\n",
            "Epoch 67/100\n",
            "2/2 [==============================] - 0s 5ms/step - loss: 6.1890 - mae: 6.1890\n",
            "Epoch 68/100\n",
            "2/2 [==============================] - 0s 4ms/step - loss: 10.1926 - mae: 10.1926\n",
            "Epoch 69/100\n",
            "2/2 [==============================] - 0s 4ms/step - loss: 8.7438 - mae: 8.7438\n",
            "Epoch 70/100\n",
            "2/2 [==============================] - 0s 5ms/step - loss: 5.7691 - mae: 5.7691\n",
            "Epoch 71/100\n",
            "2/2 [==============================] - 0s 4ms/step - loss: 8.6417 - mae: 8.6417\n",
            "Epoch 72/100\n",
            "2/2 [==============================] - 0s 4ms/step - loss: 19.4683 - mae: 19.4683\n",
            "Epoch 73/100\n",
            "2/2 [==============================] - 0s 4ms/step - loss: 6.5358 - mae: 6.5358\n",
            "Epoch 74/100\n",
            "2/2 [==============================] - 0s 5ms/step - loss: 3.4672 - mae: 3.4672\n",
            "Epoch 75/100\n",
            "2/2 [==============================] - 0s 4ms/step - loss: 13.5750 - mae: 13.5750\n",
            "Epoch 76/100\n",
            "2/2 [==============================] - 0s 4ms/step - loss: 9.1122 - mae: 9.1122\n",
            "Epoch 77/100\n",
            "2/2 [==============================] - 0s 5ms/step - loss: 6.2883 - mae: 6.2883\n",
            "Epoch 78/100\n",
            "2/2 [==============================] - 0s 4ms/step - loss: 6.9682 - mae: 6.9682\n",
            "Epoch 79/100\n",
            "2/2 [==============================] - 0s 4ms/step - loss: 5.2651 - mae: 5.2651\n",
            "Epoch 80/100\n",
            "2/2 [==============================] - 0s 4ms/step - loss: 4.4525 - mae: 4.4525\n",
            "Epoch 81/100\n",
            "2/2 [==============================] - 0s 4ms/step - loss: 4.4769 - mae: 4.4769\n",
            "Epoch 82/100\n",
            "2/2 [==============================] - 0s 4ms/step - loss: 11.3614 - mae: 11.3614\n",
            "Epoch 83/100\n",
            "2/2 [==============================] - 0s 4ms/step - loss: 11.4737 - mae: 11.4737\n",
            "Epoch 84/100\n",
            "2/2 [==============================] - 0s 4ms/step - loss: 5.7549 - mae: 5.7549\n",
            "Epoch 85/100\n",
            "2/2 [==============================] - 0s 4ms/step - loss: 9.7125 - mae: 9.7125\n",
            "Epoch 86/100\n",
            "2/2 [==============================] - 0s 4ms/step - loss: 14.0676 - mae: 14.0676\n",
            "Epoch 87/100\n",
            "2/2 [==============================] - 0s 4ms/step - loss: 6.5628 - mae: 6.5628\n",
            "Epoch 88/100\n",
            "2/2 [==============================] - 0s 4ms/step - loss: 8.5756 - mae: 8.5756\n",
            "Epoch 89/100\n",
            "2/2 [==============================] - 0s 4ms/step - loss: 13.3504 - mae: 13.3504\n",
            "Epoch 90/100\n",
            "2/2 [==============================] - 0s 4ms/step - loss: 8.5381 - mae: 8.5381\n",
            "Epoch 91/100\n",
            "2/2 [==============================] - 0s 4ms/step - loss: 15.7728 - mae: 15.7728\n",
            "Epoch 92/100\n",
            "2/2 [==============================] - 0s 4ms/step - loss: 12.5162 - mae: 12.5162\n",
            "Epoch 93/100\n",
            "2/2 [==============================] - 0s 5ms/step - loss: 6.0417 - mae: 6.0417\n",
            "Epoch 94/100\n",
            "2/2 [==============================] - 0s 4ms/step - loss: 8.3045 - mae: 8.3045\n",
            "Epoch 95/100\n",
            "2/2 [==============================] - 0s 4ms/step - loss: 10.9778 - mae: 10.9778\n",
            "Epoch 96/100\n",
            "2/2 [==============================] - 0s 4ms/step - loss: 5.6015 - mae: 5.6015\n",
            "Epoch 97/100\n",
            "2/2 [==============================] - 0s 4ms/step - loss: 16.0907 - mae: 16.0907\n",
            "Epoch 98/100\n",
            "2/2 [==============================] - 0s 4ms/step - loss: 6.8727 - mae: 6.8727\n",
            "Epoch 99/100\n",
            "2/2 [==============================] - 0s 4ms/step - loss: 6.2880 - mae: 6.2880\n",
            "Epoch 100/100\n",
            "2/2 [==============================] - 0s 4ms/step - loss: 10.3345 - mae: 10.3345\n"
          ]
        },
        {
          "output_type": "execute_result",
          "data": {
            "text/plain": [
              "<keras.callbacks.History at 0x7f8499eb4110>"
            ]
          },
          "metadata": {},
          "execution_count": 65
        }
      ]
    },
    {
      "cell_type": "code",
      "source": [
        "# make predictions\n",
        "y_pred_1 = model_1.predict(X_test)\n",
        "y_pred_1"
      ],
      "metadata": {
        "colab": {
          "base_uri": "https://localhost:8080/"
        },
        "id": "5Y9bm-fr06nc",
        "outputId": "f9cd33bf-94fa-41c5-9a09-cd4904357eac"
      },
      "execution_count": 66,
      "outputs": [
        {
          "output_type": "stream",
          "name": "stderr",
          "text": [
            "WARNING:tensorflow:6 out of the last 7 calls to <function Model.make_predict_function.<locals>.predict_function at 0x7f849a5f3560> triggered tf.function retracing. Tracing is expensive and the excessive number of tracings could be due to (1) creating @tf.function repeatedly in a loop, (2) passing tensors with different shapes, (3) passing Python objects instead of tensors. For (1), please define your @tf.function outside of the loop. For (2), @tf.function has reduce_retracing=True option that can avoid unnecessary retracing. For (3), please refer to https://www.tensorflow.org/guide/function#controlling_retracing and https://www.tensorflow.org/api_docs/python/tf/function for  more details.\n"
          ]
        },
        {
          "output_type": "stream",
          "name": "stdout",
          "text": [
            "1/1 [==============================] - 0s 63ms/step\n"
          ]
        },
        {
          "output_type": "execute_result",
          "data": {
            "text/plain": [
              "array([[50.149574],\n",
              "       [53.43563 ],\n",
              "       [56.721687],\n",
              "       [60.00774 ],\n",
              "       [63.293797],\n",
              "       [66.57985 ],\n",
              "       [69.865906],\n",
              "       [73.15196 ],\n",
              "       [76.43802 ],\n",
              "       [79.724075]], dtype=float32)"
            ]
          },
          "metadata": {},
          "execution_count": 66
        }
      ]
    },
    {
      "cell_type": "code",
      "source": [
        "# plot predictions\n",
        "plot_prediction(predictions=y_pred_1)"
      ],
      "metadata": {
        "colab": {
          "base_uri": "https://localhost:8080/",
          "height": 428
        },
        "id": "LrenoraM1Wtg",
        "outputId": "a4a027d3-e553-448f-e68e-9cdb0a266986"
      },
      "execution_count": 67,
      "outputs": [
        {
          "output_type": "display_data",
          "data": {
            "text/plain": [
              "<Figure size 720x504 with 1 Axes>"
            ],
            "image/png": "[encoded data removed]"
          },
          "metadata": {
            "needs_background": "light"
          }
        }
      ]
    },
    {
      "cell_type": "code",
      "source": [
        "# check metrics\n",
        "mae_1 = mae(y_test,y_pred_1)\n",
        "mae_1"
      ],
      "metadata": {
        "colab": {
          "base_uri": "https://localhost:8080/"
        },
        "id": "7rAh7vCf1eRJ",
        "outputId": "14c0cf58-e8b5-4bd2-cf22-ebe058af410a"
      },
      "execution_count": 69,
      "outputs": [
        {
          "output_type": "execute_result",
          "data": {
            "text/plain": [
              "18.063175"
            ]
          },
          "metadata": {},
          "execution_count": 69
        }
      ]
    },
    {
      "cell_type": "code",
      "source": [
        "mse_1 = mse(y_test,y_pred_1)\n",
        "mse_1"
      ],
      "metadata": {
        "colab": {
          "base_uri": "https://localhost:8080/"
        },
        "id": "F1RuVE121rPQ",
        "outputId": "57b3ae99-7a1c-4276-91e9-0573c0a806cb"
      },
      "execution_count": 70,
      "outputs": [
        {
          "output_type": "execute_result",
          "data": {
            "text/plain": [
              "330.4835"
            ]
          },
          "metadata": {},
          "execution_count": 70
        }
      ]
    },
    {
      "cell_type": "markdown",
      "source": [
        "**Build `model_2`**\n",
        "\n",
        "Adding one extra dense layer"
      ],
      "metadata": {
        "id": "sd8ni6UT13_5"
      }
    },
    {
      "cell_type": "code",
      "source": [
        "# set random seed\n",
        "tf.random.set_seed(42)\n",
        "\n",
        "# create a model\n",
        "model_2 = tf.keras.Sequential([\n",
        "    tf.keras.layers.Dense(1),\n",
        "    tf.keras.layers.Dense(1) # add a second layer\n",
        "])\n",
        "\n",
        "# compile a model\n",
        "model_2.compile(loss=tf.keras.losses.mae,\n",
        "                optimizer=tf.keras.optimizers.SGD(),\n",
        "                metrics=[\"mae\"])\n",
        "\n",
        "# fit the model\n",
        "model_2.fit(tf.expand_dims(X_train, axis=-1), y_train, epochs = 100, verbose=0)"
      ],
      "metadata": {
        "colab": {
          "base_uri": "https://localhost:8080/"
        },
        "id": "go2l6ZeT2CL8",
        "outputId": "a70cd75d-1487-4a7d-efb7-9d411b7089bb"
      },
      "execution_count": 74,
      "outputs": [
        {
          "output_type": "execute_result",
          "data": {
            "text/plain": [
              "<keras.callbacks.History at 0x7f84982b1250>"
            ]
          },
          "metadata": {},
          "execution_count": 74
        }
      ]
    },
    {
      "cell_type": "code",
      "source": [
        "# Make predictions and plot model_2\n",
        "y_preds_2 = model_2.predict(X_test)\n",
        "plot_prediction(predictions=y_preds_2)"
      ],
      "metadata": {
        "colab": {
          "base_uri": "https://localhost:8080/",
          "height": 448
        },
        "id": "3u1ktti74f1W",
        "outputId": "62be0473-ab23-4f16-d02e-b7c4183cba85"
      },
      "execution_count": 75,
      "outputs": [
        {
          "output_type": "stream",
          "name": "stdout",
          "text": [
            "1/1 [==============================] - 0s 42ms/step\n"
          ]
        },
        {
          "output_type": "display_data",
          "data": {
            "text/plain": [
              "<Figure size 720x504 with 1 Axes>"
            ],
            "image/png": "[encoded data removed]"
          },
          "metadata": {
            "needs_background": "light"
          }
        }
      ]
    },
    {
      "cell_type": "code",
      "source": [
        "# Calculate model_2 metics\n",
        "mae_2 = mae(y_preds=y_preds_2)\n",
        "mse_2 = mse(y_preds=y_preds_2)\n",
        "mae_2, mse_2"
      ],
      "metadata": {
        "colab": {
          "base_uri": "https://localhost:8080/"
        },
        "id": "gzxJldE-4xjH",
        "outputId": "8a91f68c-6a90-41f6-a85e-0ef33f28f4d2"
      },
      "execution_count": 77,
      "outputs": [
        {
          "output_type": "execute_result",
          "data": {
            "text/plain": [
              "(30.45366, 953.075)"
            ]
          },
          "metadata": {},
          "execution_count": 77
        }
      ]
    },
    {
      "cell_type": "code",
      "source": [],
      "metadata": {
        "id": "WhUH2l3x5Js5"
      },
      "execution_count": null,
      "outputs": []
    }
  ]
}
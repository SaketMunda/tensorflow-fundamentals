{
  "nbformat": 4,
  "nbformat_minor": 0,
  "metadata": {
    "colab": {
      "provenance": [],
      "collapsed_sections": [],
      "toc_visible": true,
      "authorship_tag": "ABX9TyOtNf+N/iiiARMRBYjkhgPZ",
      "include_colab_link": true
    },
    "kernelspec": {
      "name": "python3",
      "display_name": "Python 3"
    },
    "language_info": {
      "name": "python"
    }
  },
  "cells": [
    {
      "cell_type": "markdown",
      "metadata": {
        "id": "view-in-github",
        "colab_type": "text"
      },
      "source": [
        "<a href=\"https://colab.research.google.com/github/SaketMunda/tensorflow-fundamentals/blob/master/01_neural_network_regression_in_tensorflow.ipynb\" target=\"_parent\"><img src=\"https://colab.research.google.com/assets/colab-badge.svg\" alt=\"Open In Colab\"/></a>"
      ]
    },
    {
      "cell_type": "markdown",
      "source": [
        "# 01. Neural Network Regression with TensorFlow\n",
        "\n",
        "In this notebook, we're going to set the foundations for how you can take a sample of inputs(this is our data), build a neural network to discover patterns in those inputs and then make a prediction(in form of a number) based on those inputs."
      ],
      "metadata": {
        "id": "W6f0UacUZj40"
      }
    },
    {
      "cell_type": "markdown",
      "source": [
        "## Typical Architecture of Regression Neural Network\n",
        "\n",
        "The word *typical* is on purpose.\n",
        "\n",
        "Why?\n",
        "\n",
        "Because there are many different ways (actually, there's almost an infinite number of ways) to write neural network.\n",
        "\n",
        "But the following is a generic setup for ingesting a collection of numbers, finding patterns in them and then outputing some kind of target number.\n",
        "\n",
        "\n",
        "| **Hyperparameter** | **Typical value** |\n",
        "| --- | --- |\n",
        "| Input layer shape | Same shape as number of features (e.g. 3 for # bedrooms, # bathrooms, # car spaces in housing price prediction) |\n",
        "| Hidden layer(s) | Problem specific, minimum = 1, maximum = unlimited |\n",
        "| Neurons per hidden layer | Problem specific, generally 10 to 100 |\n",
        "| Output layer shape | Same shape as desired prediction shape (e.g. 1 for house price) |\n",
        "| Hidden activation | Usually [ReLU](https://www.kaggle.com/dansbecker/rectified-linear-units-relu-in-deep-learning) (rectified linear unit) |\n",
        "| Output activation | None, ReLU, logistic/tanh |\n",
        "| Loss function | [MSE](https://en.wikipedia.org/wiki/Mean_squared_error) (mean square error) or [MAE](https://en.wikipedia.org/wiki/Mean_absolute_error) (mean absolute error)/Huber (combination of MAE/MSE) if outliers |\n",
        "| Optimizer | [SGD](https://www.tensorflow.org/api_docs/python/tf/keras/optimizers/SGD) (stochastic gradient descent), [Adam](https://www.tensorflow.org/api_docs/python/tf/keras/optimizers/Adam) |\n",
        "\n",
        "***Table 1:*** *Typical architecture of a regression network.* ***Source:*** *Adapted from page 293 of [Hands-On Machine Learning with Scikit-Learn, Keras & TensorFlow Book by Aurélien Géron](https://www.oreilly.com/library/view/hands-on-machine-learning/9781492032632/)*\n"
      ],
      "metadata": {
        "id": "2yMovR5Ei1Yr"
      }
    },
    {
      "cell_type": "markdown",
      "source": [
        "> 🔑 **Note**: A **hyperparameter** in machine learning is something a data analyst or developer can set themselves, where as a **parameter** usually describes something a model learns on its own (a value not explicitly set by an analyst)."
      ],
      "metadata": {
        "id": "-m6-iIs7j8aw"
      }
    },
    {
      "cell_type": "code",
      "source": [
        "# Import the tensorFlow\n",
        "import tensorflow as tf\n",
        "print(tf.__version__)"
      ],
      "metadata": {
        "colab": {
          "base_uri": "https://localhost:8080/"
        },
        "id": "r5DzVSjBk5p5",
        "outputId": "9d593a84-f6ff-446d-b262-22814e01e50f"
      },
      "execution_count": 1,
      "outputs": [
        {
          "output_type": "stream",
          "name": "stdout",
          "text": [
            "2.9.2\n"
          ]
        }
      ]
    },
    {
      "cell_type": "markdown",
      "source": [
        "## Creating data to view and fit\n",
        "\n",
        "Since we're working on a regression problem (predicting a number), let's create some linear data (a straight line) to model."
      ],
      "metadata": {
        "id": "LsFdN0L2m5Kz"
      }
    },
    {
      "cell_type": "code",
      "source": [
        "import numpy as np\n",
        "import matplotlib.pyplot as plt\n",
        "\n",
        "# Create features\n",
        "X = np.array([-7.0, -4.0, -1.0, 2.0, 5.0, 8.0, 11.0, 14.0])\n",
        "\n",
        "# Create labels\n",
        "y = np.array([-3.0, 0.0, 3.0, 6.0, 9.0, 12.0, 15.0, 18.0])\n",
        "\n",
        "# Visualise it\n",
        "plt.scatter(X,y);"
      ],
      "metadata": {
        "colab": {
          "base_uri": "https://localhost:8080/",
          "height": 265
        },
        "id": "12LMC9ADnLj3",
        "outputId": "d721741b-9f2e-4d5e-b229-1879a443d27a"
      },
      "execution_count": 2,
      "outputs": [
        {
          "output_type": "display_data",
          "data": {
            "text/plain": [
              "<Figure size 432x288 with 1 Axes>"
            ],
            "image/png": "[encoded data removed]"
          },
          "metadata": {
            "needs_background": "light"
          }
        }
      ]
    },
    {
      "cell_type": "markdown",
      "source": [
        "Before we do any modelling, can we calculate the pattern between X and y?\n",
        "\n",
        "For example, say I asked you, based on this data what the y value would be if X was 17.0 ?\n",
        "\n",
        "or how about if X was -10.0 ?\n",
        "\n",
        "This kind of pattern discovery is the essence of what we'll be building neural networks to do for us."
      ],
      "metadata": {
        "id": "GfE5U1OAnRe0"
      }
    },
    {
      "cell_type": "markdown",
      "source": [
        "## Regression input shapes and output shapes\n",
        "\n",
        "One of the most important concepts when working with neural networks are the input and output shapes.\n",
        "\n",
        "The **input shape** is the shape of your data that goes into the model.\n",
        "The **output shape** is the shape of your data you want to come out of your model.\n",
        "\n",
        "These will differ depending on the problem you're working on.\n",
        "\n",
        "Neural networks accept numbers and output numbers. These numbers are typically represented as tensors(or arrays).\n",
        "\n",
        "Before, we created data using Numpy arrays, but we could do the same with tensors."
      ],
      "metadata": {
        "id": "Nhwn395rpYZ4"
      }
    },
    {
      "cell_type": "code",
      "source": [
        "# Example input and output shapes of a regression model\n",
        "house_info = tf.constant([\"bedroom\",\"bathroom\", \"garage\"])\n",
        "house_price = tf.constant([939700])\n",
        "house_info, house_price"
      ],
      "metadata": {
        "colab": {
          "base_uri": "https://localhost:8080/"
        },
        "id": "h5ifuXF5uz49",
        "outputId": "a5788f5b-719c-41ac-c8c1-5daccd145f81"
      },
      "execution_count": 3,
      "outputs": [
        {
          "output_type": "execute_result",
          "data": {
            "text/plain": [
              "(<tf.Tensor: shape=(3,), dtype=string, numpy=array([b'bedroom', b'bathroom', b'garage'], dtype=object)>,\n",
              " <tf.Tensor: shape=(1,), dtype=int32, numpy=array([939700], dtype=int32)>)"
            ]
          },
          "metadata": {},
          "execution_count": 3
        }
      ]
    },
    {
      "cell_type": "code",
      "source": [
        "house_info.shape, house_price.shape"
      ],
      "metadata": {
        "colab": {
          "base_uri": "https://localhost:8080/"
        },
        "id": "go-zW8dQvEzF",
        "outputId": "925311db-803b-4840-a322-6aec1ba103d7"
      },
      "execution_count": 4,
      "outputs": [
        {
          "output_type": "execute_result",
          "data": {
            "text/plain": [
              "(TensorShape([3]), TensorShape([1]))"
            ]
          },
          "metadata": {},
          "execution_count": 4
        }
      ]
    },
    {
      "cell_type": "markdown",
      "source": [
        "It says input shape as 3, and output shape is 1"
      ],
      "metadata": {
        "id": "YAOQb8jdvowI"
      }
    },
    {
      "cell_type": "markdown",
      "source": [
        "\n",
        "![example of input and output shapes for a housing price prediction problem](https://raw.githubusercontent.com/mrdbourke/tensorflow-deep-learning/main/images/01-input-and-output-shapes-housing-prices.png)\n",
        "\n",
        "*If we were working on building a machine learning algorithm for predicting housing prices, our inputs may be number of bedrooms, number of bathrooms and number of garages, giving you an input shape of 3 (3 different features). And since we are trying to predict the price of the house, our output shape would be 1.*"
      ],
      "metadata": {
        "id": "1r52eIn2vtWI"
      }
    },
    {
      "cell_type": "markdown",
      "source": [
        "## Steps in modelling with TensorFlow\n",
        "\n",
        "Now we know what data we have as well as the input and output shapes, let's see how we'd build a neural network to model it.\n",
        "\n",
        "In TensorFlow, there are typically 3 fundamental steps to creating and training a model.\n",
        "\n",
        "1. **Creating a model**: piece together the layers of a neural network yourself (using Functional or Sequential API) or import a previously build model (known as transfer learning).\n",
        "2. **Compiling a model**: defining how a model performance should be measured(loss/metrics) as well as defining how it should improve(optimizer)\n",
        "3. **Fitting a model**: letting the model try to find patterns in the data(how does x get to y)\n",
        "\n",
        "\n",
        "Let's see using the Keras Sequential API to build a model for our regression problem."
      ],
      "metadata": {
        "id": "2V3Y_GjZw4FR"
      }
    },
    {
      "cell_type": "code",
      "source": [
        "# set the random see\n",
        "tf.random.set_seed(42)\n",
        "\n",
        "# create a model using the Sequential API\n",
        "model = tf.keras.Sequential([\n",
        "    tf.keras.layers.Dense(1)\n",
        "])\n",
        "\n",
        "# Dense means, fully connected layer, it means all the neurons are connected with all the neurons of the next layer\n",
        "\n",
        "# compile the model\n",
        "\n",
        "model.compile(loss= tf.keras.losses.mae, # Mean absolute error\n",
        "              optimizer = tf.keras.optimizers.SGD(), # Stochastic gradient descent\n",
        "              metrics = [\"mae\"])\n",
        "\n",
        "# Fit the model\n",
        "model.fit(tf.expand_dims(X, axis = -1), y, epochs = 5)"
      ],
      "metadata": {
        "colab": {
          "base_uri": "https://localhost:8080/"
        },
        "id": "JIK-rK-PyYlJ",
        "outputId": "6543ba7d-f544-45e4-b189-f0a6dee3c720"
      },
      "execution_count": 5,
      "outputs": [
        {
          "output_type": "stream",
          "name": "stdout",
          "text": [
            "Epoch 1/5\n",
            "1/1 [==============================] - 1s 1s/step - loss: 5.5048 - mae: 5.5048\n",
            "Epoch 2/5\n",
            "1/1 [==============================] - 0s 11ms/step - loss: 5.3723 - mae: 5.3723\n",
            "Epoch 3/5\n",
            "1/1 [==============================] - 0s 30ms/step - loss: 5.2398 - mae: 5.2398\n",
            "Epoch 4/5\n",
            "1/1 [==============================] - 0s 22ms/step - loss: 5.1073 - mae: 5.1073\n",
            "Epoch 5/5\n",
            "1/1 [==============================] - 0s 7ms/step - loss: 4.9748 - mae: 4.9748\n"
          ]
        },
        {
          "output_type": "execute_result",
          "data": {
            "text/plain": [
              "<keras.callbacks.History at 0x7fe5bd6cb1d0>"
            ]
          },
          "metadata": {},
          "execution_count": 5
        }
      ]
    },
    {
      "cell_type": "markdown",
      "source": [
        "We've just trained a model to figure out the patterns between X and y\n"
      ],
      "metadata": {
        "id": "IVs1iOFgzZqW"
      }
    },
    {
      "cell_type": "code",
      "source": [
        "# Check out X and y\n",
        "X, y"
      ],
      "metadata": {
        "colab": {
          "base_uri": "https://localhost:8080/"
        },
        "id": "CdeuHOZSzobM",
        "outputId": "87268a6e-8520-4d50-be03-ba8b433916c8"
      },
      "execution_count": 6,
      "outputs": [
        {
          "output_type": "execute_result",
          "data": {
            "text/plain": [
              "(array([-7., -4., -1.,  2.,  5.,  8., 11., 14.]),\n",
              " array([-3.,  0.,  3.,  6.,  9., 12., 15., 18.]))"
            ]
          },
          "metadata": {},
          "execution_count": 6
        }
      ]
    },
    {
      "cell_type": "markdown",
      "source": [
        "What do you think the outcome should be if we passed our model an x value of 17.0 ?\n"
      ],
      "metadata": {
        "id": "_B_iEtluzqSp"
      }
    },
    {
      "cell_type": "code",
      "source": [
        "# Make a prediction with the model\n",
        "model.predict([17.0])"
      ],
      "metadata": {
        "colab": {
          "base_uri": "https://localhost:8080/"
        },
        "id": "gfEHXWfnzzK8",
        "outputId": "44a75ebf-62d1-445d-b121-eb4678752cee"
      },
      "execution_count": 7,
      "outputs": [
        {
          "output_type": "stream",
          "name": "stdout",
          "text": [
            "1/1 [==============================] - 0s 278ms/step\n"
          ]
        },
        {
          "output_type": "execute_result",
          "data": {
            "text/plain": [
              "array([[12.716021]], dtype=float32)"
            ]
          },
          "metadata": {},
          "execution_count": 7
        }
      ]
    },
    {
      "cell_type": "code",
      "source": [
        "12.71 + 4.97 # adding with our model's loss"
      ],
      "metadata": {
        "colab": {
          "base_uri": "https://localhost:8080/"
        },
        "id": "YRDgEX-R0YhF",
        "outputId": "f863c8ef-e305-4b29-bb65-86094c38b6b3"
      },
      "execution_count": 8,
      "outputs": [
        {
          "output_type": "execute_result",
          "data": {
            "text/plain": [
              "17.68"
            ]
          },
          "metadata": {},
          "execution_count": 8
        }
      ]
    },
    {
      "cell_type": "markdown",
      "source": [
        "It doesn't went well.. it should've output something close to 21.0\n",
        "\n",
        "> 🤔 **What's Keras ?** : I thought we were working with TensorFLow but everytime we write TensorFlow code, `keras` comes after `tf` (e.g `tf.keras.layers.Dense()`) ?\n",
        "\n",
        "Before TensorFlow 2.0+, Keras was an API designed to be able to build deep learning models with ease. Since TensorFlow 2.0+, its functionality has been tightly integrated withing the TensorFlow Library."
      ],
      "metadata": {
        "id": "UW63yVq00dqF"
      }
    },
    {
      "cell_type": "markdown",
      "source": [
        "## Improving a model\n",
        "\n",
        "To improve our model, we alter almost every part of 3 steps we went through before.\n",
        "\n",
        "1. **Creating a model**: here we might add some more layers, increase the number of hidden units (also called as neurons) within each layer, change the activation functions of each layer.\n",
        "2. **Compiling a model**: we might want to choose different optimization function or perhaps change the **learning rate** of the optimization function.\n",
        "3. **Fitting a model**: perhaps we might want to train on more data or we could fit a model for more **epochs** (leave it training for longer)\n",
        "\n",
        "![improve a model](https://raw.githubusercontent.com/mrdbourke/tensorflow-deep-learning/main/images/02-improving-a-model-from-model-perspective.png)\n",
        "\n",
        "*There are many different ways to potentially improve a neural network. Some of the most common include: increasing the number of layers (making the network deeper), increasing the number of hidden units (making the network wider) and changing the learning rate. Because these values are all human-changeable, they're referred to as hyperparameters and the practice of trying to find the best hyperparameters is referred to as hyperparameter tuning.*\n",
        "\n",
        "\n",
        "\n",
        "For now, let's keep it simple, all we'll do is to train our model for longer (everything else will stay the same)"
      ],
      "metadata": {
        "id": "T0K_Iedy1kM1"
      }
    },
    {
      "cell_type": "code",
      "source": [
        "# set random seed\n",
        "tf.random.set_seed(42)\n",
        "\n",
        "# create a model (same as above)\n",
        "model = tf.keras.Sequential([\n",
        "    tf.keras.layers.Dense(1)\n",
        "])\n",
        "\n",
        "# compile a model\n",
        "model.compile(loss=tf.keras.losses.mae,\n",
        "              optimizer=tf.keras.optimizers.SGD(),\n",
        "              metrics=[\"mae\"])\n",
        "\n",
        "# fitting a model\n",
        "model.fit(tf.expand_dims(X, axis = -1),y,epochs = 100)"
      ],
      "metadata": {
        "id": "coYGyqg41m8A",
        "colab": {
          "base_uri": "https://localhost:8080/"
        },
        "outputId": "30489aa1-f25c-4981-e804-c6ca57733037"
      },
      "execution_count": 9,
      "outputs": [
        {
          "output_type": "stream",
          "name": "stdout",
          "text": [
            "Epoch 1/100\n",
            "1/1 [==============================] - 1s 695ms/step - loss: 5.5048 - mae: 5.5048\n",
            "Epoch 2/100\n",
            "1/1 [==============================] - 0s 13ms/step - loss: 5.3723 - mae: 5.3723\n",
            "Epoch 3/100\n",
            "1/1 [==============================] - 0s 21ms/step - loss: 5.2398 - mae: 5.2398\n",
            "Epoch 4/100\n",
            "1/1 [==============================] - 0s 14ms/step - loss: 5.1073 - mae: 5.1073\n",
            "Epoch 5/100\n",
            "1/1 [==============================] - 0s 9ms/step - loss: 4.9748 - mae: 4.9748\n",
            "Epoch 6/100\n",
            "1/1 [==============================] - 0s 18ms/step - loss: 4.8423 - mae: 4.8423\n",
            "Epoch 7/100\n",
            "1/1 [==============================] - 0s 12ms/step - loss: 4.7098 - mae: 4.7098\n",
            "Epoch 8/100\n",
            "1/1 [==============================] - 0s 15ms/step - loss: 4.5773 - mae: 4.5773\n",
            "Epoch 9/100\n",
            "1/1 [==============================] - 0s 14ms/step - loss: 4.4448 - mae: 4.4448\n",
            "Epoch 10/100\n",
            "1/1 [==============================] - 0s 11ms/step - loss: 4.3123 - mae: 4.3123\n",
            "Epoch 11/100\n",
            "1/1 [==============================] - 0s 12ms/step - loss: 4.1798 - mae: 4.1798\n",
            "Epoch 12/100\n",
            "1/1 [==============================] - 0s 15ms/step - loss: 4.0473 - mae: 4.0473\n",
            "Epoch 13/100\n",
            "1/1 [==============================] - 0s 10ms/step - loss: 3.9148 - mae: 3.9148\n",
            "Epoch 14/100\n",
            "1/1 [==============================] - 0s 10ms/step - loss: 3.7823 - mae: 3.7823\n",
            "Epoch 15/100\n",
            "1/1 [==============================] - 0s 10ms/step - loss: 3.6498 - mae: 3.6498\n",
            "Epoch 16/100\n",
            "1/1 [==============================] - 0s 12ms/step - loss: 3.5173 - mae: 3.5173\n",
            "Epoch 17/100\n",
            "1/1 [==============================] - 0s 17ms/step - loss: 3.3848 - mae: 3.3848\n",
            "Epoch 18/100\n",
            "1/1 [==============================] - 0s 16ms/step - loss: 3.2523 - mae: 3.2523\n",
            "Epoch 19/100\n",
            "1/1 [==============================] - 0s 27ms/step - loss: 3.1198 - mae: 3.1198\n",
            "Epoch 20/100\n",
            "1/1 [==============================] - 0s 15ms/step - loss: 2.9873 - mae: 2.9873\n",
            "Epoch 21/100\n",
            "1/1 [==============================] - 0s 17ms/step - loss: 2.8548 - mae: 2.8548\n",
            "Epoch 22/100\n",
            "1/1 [==============================] - 0s 19ms/step - loss: 2.8425 - mae: 2.8425\n",
            "Epoch 23/100\n",
            "1/1 [==============================] - 0s 16ms/step - loss: 2.8369 - mae: 2.8369\n",
            "Epoch 24/100\n",
            "1/1 [==============================] - 0s 13ms/step - loss: 2.8312 - mae: 2.8312\n",
            "Epoch 25/100\n",
            "1/1 [==============================] - 0s 30ms/step - loss: 2.8256 - mae: 2.8256\n",
            "Epoch 26/100\n",
            "1/1 [==============================] - 0s 17ms/step - loss: 2.8200 - mae: 2.8200\n",
            "Epoch 27/100\n",
            "1/1 [==============================] - 0s 10ms/step - loss: 2.8144 - mae: 2.8144\n",
            "Epoch 28/100\n",
            "1/1 [==============================] - 0s 18ms/step - loss: 2.8087 - mae: 2.8087\n",
            "Epoch 29/100\n",
            "1/1 [==============================] - 0s 34ms/step - loss: 2.8031 - mae: 2.8031\n",
            "Epoch 30/100\n",
            "1/1 [==============================] - 0s 8ms/step - loss: 2.7975 - mae: 2.7975\n",
            "Epoch 31/100\n",
            "1/1 [==============================] - 0s 8ms/step - loss: 2.7919 - mae: 2.7919\n",
            "Epoch 32/100\n",
            "1/1 [==============================] - 0s 7ms/step - loss: 2.7863 - mae: 2.7863\n",
            "Epoch 33/100\n",
            "1/1 [==============================] - 0s 19ms/step - loss: 2.7806 - mae: 2.7806\n",
            "Epoch 34/100\n",
            "1/1 [==============================] - 0s 12ms/step - loss: 2.7750 - mae: 2.7750\n",
            "Epoch 35/100\n",
            "1/1 [==============================] - 0s 19ms/step - loss: 2.7694 - mae: 2.7694\n",
            "Epoch 36/100\n",
            "1/1 [==============================] - 0s 11ms/step - loss: 2.7638 - mae: 2.7638\n",
            "Epoch 37/100\n",
            "1/1 [==============================] - 0s 13ms/step - loss: 2.7581 - mae: 2.7581\n",
            "Epoch 38/100\n",
            "1/1 [==============================] - 0s 14ms/step - loss: 2.7525 - mae: 2.7525\n",
            "Epoch 39/100\n",
            "1/1 [==============================] - 0s 15ms/step - loss: 2.7469 - mae: 2.7469\n",
            "Epoch 40/100\n",
            "1/1 [==============================] - 0s 14ms/step - loss: 2.7413 - mae: 2.7413\n",
            "Epoch 41/100\n",
            "1/1 [==============================] - 0s 18ms/step - loss: 2.7356 - mae: 2.7356\n",
            "Epoch 42/100\n",
            "1/1 [==============================] - 0s 18ms/step - loss: 2.7300 - mae: 2.7300\n",
            "Epoch 43/100\n",
            "1/1 [==============================] - 0s 17ms/step - loss: 2.7244 - mae: 2.7244\n",
            "Epoch 44/100\n",
            "1/1 [==============================] - 0s 15ms/step - loss: 2.7188 - mae: 2.7188\n",
            "Epoch 45/100\n",
            "1/1 [==============================] - 0s 10ms/step - loss: 2.7131 - mae: 2.7131\n",
            "Epoch 46/100\n",
            "1/1 [==============================] - 0s 10ms/step - loss: 2.7075 - mae: 2.7075\n",
            "Epoch 47/100\n",
            "1/1 [==============================] - 0s 13ms/step - loss: 2.7019 - mae: 2.7019\n",
            "Epoch 48/100\n",
            "1/1 [==============================] - 0s 10ms/step - loss: 2.6963 - mae: 2.6963\n",
            "Epoch 49/100\n",
            "1/1 [==============================] - 0s 8ms/step - loss: 2.6906 - mae: 2.6906\n",
            "Epoch 50/100\n",
            "1/1 [==============================] - 0s 9ms/step - loss: 2.6850 - mae: 2.6850\n",
            "Epoch 51/100\n",
            "1/1 [==============================] - 0s 15ms/step - loss: 2.6794 - mae: 2.6794\n",
            "Epoch 52/100\n",
            "1/1 [==============================] - 0s 16ms/step - loss: 2.6738 - mae: 2.6738\n",
            "Epoch 53/100\n",
            "1/1 [==============================] - 0s 11ms/step - loss: 2.6681 - mae: 2.6681\n",
            "Epoch 54/100\n",
            "1/1 [==============================] - 0s 7ms/step - loss: 2.6625 - mae: 2.6625\n",
            "Epoch 55/100\n",
            "1/1 [==============================] - 0s 8ms/step - loss: 2.6569 - mae: 2.6569\n",
            "Epoch 56/100\n",
            "1/1 [==============================] - 0s 8ms/step - loss: 2.6513 - mae: 2.6513\n",
            "Epoch 57/100\n",
            "1/1 [==============================] - 0s 7ms/step - loss: 2.6456 - mae: 2.6456\n",
            "Epoch 58/100\n",
            "1/1 [==============================] - 0s 12ms/step - loss: 2.6400 - mae: 2.6400\n",
            "Epoch 59/100\n",
            "1/1 [==============================] - 0s 11ms/step - loss: 2.6344 - mae: 2.6344\n",
            "Epoch 60/100\n",
            "1/1 [==============================] - 0s 12ms/step - loss: 2.6288 - mae: 2.6288\n",
            "Epoch 61/100\n",
            "1/1 [==============================] - 0s 13ms/step - loss: 2.6231 - mae: 2.6231\n",
            "Epoch 62/100\n",
            "1/1 [==============================] - 0s 16ms/step - loss: 2.6175 - mae: 2.6175\n",
            "Epoch 63/100\n",
            "1/1 [==============================] - 0s 35ms/step - loss: 2.6119 - mae: 2.6119\n",
            "Epoch 64/100\n",
            "1/1 [==============================] - 0s 11ms/step - loss: 2.6063 - mae: 2.6063\n",
            "Epoch 65/100\n",
            "1/1 [==============================] - 0s 14ms/step - loss: 2.6006 - mae: 2.6006\n",
            "Epoch 66/100\n",
            "1/1 [==============================] - 0s 13ms/step - loss: 2.5950 - mae: 2.5950\n",
            "Epoch 67/100\n",
            "1/1 [==============================] - 0s 17ms/step - loss: 2.5894 - mae: 2.5894\n",
            "Epoch 68/100\n",
            "1/1 [==============================] - 0s 19ms/step - loss: 2.5838 - mae: 2.5838\n",
            "Epoch 69/100\n",
            "1/1 [==============================] - 0s 14ms/step - loss: 2.5781 - mae: 2.5781\n",
            "Epoch 70/100\n",
            "1/1 [==============================] - 0s 18ms/step - loss: 2.5725 - mae: 2.5725\n",
            "Epoch 71/100\n",
            "1/1 [==============================] - 0s 15ms/step - loss: 2.5669 - mae: 2.5669\n",
            "Epoch 72/100\n",
            "1/1 [==============================] - 0s 19ms/step - loss: 2.5613 - mae: 2.5613\n",
            "Epoch 73/100\n",
            "1/1 [==============================] - 0s 16ms/step - loss: 2.5556 - mae: 2.5556\n",
            "Epoch 74/100\n",
            "1/1 [==============================] - 0s 22ms/step - loss: 2.5500 - mae: 2.5500\n",
            "Epoch 75/100\n",
            "1/1 [==============================] - 0s 34ms/step - loss: 2.5444 - mae: 2.5444\n",
            "Epoch 76/100\n",
            "1/1 [==============================] - 0s 17ms/step - loss: 2.5388 - mae: 2.5388\n",
            "Epoch 77/100\n",
            "1/1 [==============================] - 0s 20ms/step - loss: 2.5331 - mae: 2.5331\n",
            "Epoch 78/100\n",
            "1/1 [==============================] - 0s 12ms/step - loss: 2.5275 - mae: 2.5275\n",
            "Epoch 79/100\n",
            "1/1 [==============================] - 0s 8ms/step - loss: 2.5219 - mae: 2.5219\n",
            "Epoch 80/100\n",
            "1/1 [==============================] - 0s 11ms/step - loss: 2.5164 - mae: 2.5164\n",
            "Epoch 81/100\n",
            "1/1 [==============================] - 0s 9ms/step - loss: 2.5125 - mae: 2.5125\n",
            "Epoch 82/100\n",
            "1/1 [==============================] - 0s 8ms/step - loss: 2.5069 - mae: 2.5069\n",
            "Epoch 83/100\n",
            "1/1 [==============================] - 0s 11ms/step - loss: 2.5013 - mae: 2.5013\n",
            "Epoch 84/100\n",
            "1/1 [==============================] - 0s 16ms/step - loss: 2.4956 - mae: 2.4956\n",
            "Epoch 85/100\n",
            "1/1 [==============================] - 0s 11ms/step - loss: 2.4900 - mae: 2.4900\n",
            "Epoch 86/100\n",
            "1/1 [==============================] - 0s 13ms/step - loss: 2.4844 - mae: 2.4844\n",
            "Epoch 87/100\n",
            "1/1 [==============================] - 0s 9ms/step - loss: 2.4788 - mae: 2.4788\n",
            "Epoch 88/100\n",
            "1/1 [==============================] - 0s 24ms/step - loss: 2.4731 - mae: 2.4731\n",
            "Epoch 89/100\n",
            "1/1 [==============================] - 0s 10ms/step - loss: 2.4675 - mae: 2.4675\n",
            "Epoch 90/100\n",
            "1/1 [==============================] - 0s 15ms/step - loss: 2.4619 - mae: 2.4619\n",
            "Epoch 91/100\n",
            "1/1 [==============================] - 0s 8ms/step - loss: 2.4563 - mae: 2.4563\n",
            "Epoch 92/100\n",
            "1/1 [==============================] - 0s 15ms/step - loss: 2.4506 - mae: 2.4506\n",
            "Epoch 93/100\n",
            "1/1 [==============================] - 0s 27ms/step - loss: 2.4450 - mae: 2.4450\n",
            "Epoch 94/100\n",
            "1/1 [==============================] - 0s 23ms/step - loss: 2.4394 - mae: 2.4394\n",
            "Epoch 95/100\n",
            "1/1 [==============================] - 0s 26ms/step - loss: 2.4338 - mae: 2.4338\n",
            "Epoch 96/100\n",
            "1/1 [==============================] - 0s 13ms/step - loss: 2.4281 - mae: 2.4281\n",
            "Epoch 97/100\n",
            "1/1 [==============================] - 0s 11ms/step - loss: 2.4225 - mae: 2.4225\n",
            "Epoch 98/100\n",
            "1/1 [==============================] - 0s 8ms/step - loss: 2.4169 - mae: 2.4169\n",
            "Epoch 99/100\n",
            "1/1 [==============================] - 0s 14ms/step - loss: 2.4113 - mae: 2.4113\n",
            "Epoch 100/100\n",
            "1/1 [==============================] - 0s 8ms/step - loss: 2.4056 - mae: 2.4056\n"
          ]
        },
        {
          "output_type": "execute_result",
          "data": {
            "text/plain": [
              "<keras.callbacks.History at 0x7fe5b88f7990>"
            ]
          },
          "metadata": {},
          "execution_count": 9
        }
      ]
    },
    {
      "cell_type": "markdown",
      "source": [
        "If you notice, we have minimised the loss just below 2.5 which was almost 5 when we were fitting the model with 5 `epochs`"
      ],
      "metadata": {
        "id": "51wl8sxvKe_4"
      }
    },
    {
      "cell_type": "code",
      "source": [
        "# let's see X & y\n",
        "X, y"
      ],
      "metadata": {
        "colab": {
          "base_uri": "https://localhost:8080/"
        },
        "id": "AhLJUyasLBXc",
        "outputId": "de6bd511-9d26-46f3-d5d6-40306400d6b7"
      },
      "execution_count": 10,
      "outputs": [
        {
          "output_type": "execute_result",
          "data": {
            "text/plain": [
              "(array([-7., -4., -1.,  2.,  5.,  8., 11., 14.]),\n",
              " array([-3.,  0.,  3.,  6.,  9., 12., 15., 18.]))"
            ]
          },
          "metadata": {},
          "execution_count": 10
        }
      ]
    },
    {
      "cell_type": "code",
      "source": [
        "# make prediction with improved model\n",
        "model.predict([17.0])"
      ],
      "metadata": {
        "colab": {
          "base_uri": "https://localhost:8080/"
        },
        "id": "7mfCXNrPLFGM",
        "outputId": "fc26e863-1867-47cb-e31f-ea32b5c0f6de"
      },
      "execution_count": 11,
      "outputs": [
        {
          "output_type": "stream",
          "name": "stdout",
          "text": [
            "1/1 [==============================] - 0s 212ms/step\n"
          ]
        },
        {
          "output_type": "execute_result",
          "data": {
            "text/plain": [
              "array([[22.518517]], dtype=float32)"
            ]
          },
          "metadata": {},
          "execution_count": 11
        }
      ]
    },
    {
      "cell_type": "markdown",
      "source": [
        "It should predict around 21.0, so our model is almost closer to the correct predictions.\n",
        "\n",
        "Let's try tuning other hyperparameters,\n",
        "\n",
        "This time, we will choose different optimizer function"
      ],
      "metadata": {
        "id": "vUXd5v3dLOIy"
      }
    },
    {
      "cell_type": "code",
      "source": [
        "# again do the same process,\n",
        "\n",
        "# set random seed\n",
        "tf.random.set_seed(42)\n",
        "\n",
        "# create a model\n",
        "model = tf.keras.Sequential([\n",
        "    tf.keras.layers.Dense(1)\n",
        "])\n",
        "\n",
        "# compile a model\n",
        "model.compile(loss=tf.keras.losses.mae,\n",
        "              optimizer=tf.keras.optimizers.Adam(learning_rate=0.0001), # lr stands for learning rate\n",
        "              metrics=[\"mae\"])\n",
        "\n",
        "# fit a model\n",
        "model.fit(tf.expand_dims(X, axis = -1), y, epochs = 100)"
      ],
      "metadata": {
        "colab": {
          "base_uri": "https://localhost:8080/"
        },
        "id": "nx9GPFbwLaGL",
        "outputId": "c59b7e98-a084-4443-e5b9-f09552ec2774"
      },
      "execution_count": 12,
      "outputs": [
        {
          "output_type": "stream",
          "name": "stdout",
          "text": [
            "Epoch 1/100\n",
            "1/1 [==============================] - 1s 690ms/step - loss: 5.5048 - mae: 5.5048\n",
            "Epoch 2/100\n",
            "1/1 [==============================] - 0s 21ms/step - loss: 5.5043 - mae: 5.5043\n",
            "Epoch 3/100\n",
            "1/1 [==============================] - 0s 29ms/step - loss: 5.5039 - mae: 5.5039\n",
            "Epoch 4/100\n",
            "1/1 [==============================] - 0s 17ms/step - loss: 5.5034 - mae: 5.5034\n",
            "Epoch 5/100\n",
            "1/1 [==============================] - 0s 12ms/step - loss: 5.5030 - mae: 5.5030\n",
            "Epoch 6/100\n",
            "1/1 [==============================] - 0s 11ms/step - loss: 5.5025 - mae: 5.5025\n",
            "Epoch 7/100\n",
            "1/1 [==============================] - 0s 8ms/step - loss: 5.5021 - mae: 5.5021\n",
            "Epoch 8/100\n",
            "1/1 [==============================] - 0s 7ms/step - loss: 5.5016 - mae: 5.5016\n",
            "Epoch 9/100\n",
            "1/1 [==============================] - 0s 7ms/step - loss: 5.5012 - mae: 5.5012\n",
            "Epoch 10/100\n",
            "1/1 [==============================] - 0s 10ms/step - loss: 5.5007 - mae: 5.5007\n",
            "Epoch 11/100\n",
            "1/1 [==============================] - 0s 9ms/step - loss: 5.5003 - mae: 5.5003\n",
            "Epoch 12/100\n",
            "1/1 [==============================] - 0s 12ms/step - loss: 5.4998 - mae: 5.4998\n",
            "Epoch 13/100\n",
            "1/1 [==============================] - 0s 10ms/step - loss: 5.4994 - mae: 5.4994\n",
            "Epoch 14/100\n",
            "1/1 [==============================] - 0s 16ms/step - loss: 5.4989 - mae: 5.4989\n",
            "Epoch 15/100\n",
            "1/1 [==============================] - 0s 12ms/step - loss: 5.4985 - mae: 5.4985\n",
            "Epoch 16/100\n",
            "1/1 [==============================] - 0s 9ms/step - loss: 5.4980 - mae: 5.4980\n",
            "Epoch 17/100\n",
            "1/1 [==============================] - 0s 7ms/step - loss: 5.4976 - mae: 5.4976\n",
            "Epoch 18/100\n",
            "1/1 [==============================] - 0s 9ms/step - loss: 5.4971 - mae: 5.4971\n",
            "Epoch 19/100\n",
            "1/1 [==============================] - 0s 8ms/step - loss: 5.4967 - mae: 5.4967\n",
            "Epoch 20/100\n",
            "1/1 [==============================] - 0s 8ms/step - loss: 5.4962 - mae: 5.4962\n",
            "Epoch 21/100\n",
            "1/1 [==============================] - 0s 8ms/step - loss: 5.4958 - mae: 5.4958\n",
            "Epoch 22/100\n",
            "1/1 [==============================] - 0s 9ms/step - loss: 5.4953 - mae: 5.4953\n",
            "Epoch 23/100\n",
            "1/1 [==============================] - 0s 8ms/step - loss: 5.4949 - mae: 5.4949\n",
            "Epoch 24/100\n",
            "1/1 [==============================] - 0s 8ms/step - loss: 5.4944 - mae: 5.4944\n",
            "Epoch 25/100\n",
            "1/1 [==============================] - 0s 8ms/step - loss: 5.4940 - mae: 5.4940\n",
            "Epoch 26/100\n",
            "1/1 [==============================] - 0s 9ms/step - loss: 5.4935 - mae: 5.4935\n",
            "Epoch 27/100\n",
            "1/1 [==============================] - 0s 8ms/step - loss: 5.4931 - mae: 5.4931\n",
            "Epoch 28/100\n",
            "1/1 [==============================] - 0s 9ms/step - loss: 5.4926 - mae: 5.4926\n",
            "Epoch 29/100\n",
            "1/1 [==============================] - 0s 15ms/step - loss: 5.4922 - mae: 5.4922\n",
            "Epoch 30/100\n",
            "1/1 [==============================] - 0s 14ms/step - loss: 5.4917 - mae: 5.4917\n",
            "Epoch 31/100\n",
            "1/1 [==============================] - 0s 15ms/step - loss: 5.4913 - mae: 5.4913\n",
            "Epoch 32/100\n",
            "1/1 [==============================] - 0s 13ms/step - loss: 5.4908 - mae: 5.4908\n",
            "Epoch 33/100\n",
            "1/1 [==============================] - 0s 10ms/step - loss: 5.4904 - mae: 5.4904\n",
            "Epoch 34/100\n",
            "1/1 [==============================] - 0s 12ms/step - loss: 5.4899 - mae: 5.4899\n",
            "Epoch 35/100\n",
            "1/1 [==============================] - 0s 8ms/step - loss: 5.4895 - mae: 5.4895\n",
            "Epoch 36/100\n",
            "1/1 [==============================] - 0s 9ms/step - loss: 5.4890 - mae: 5.4890\n",
            "Epoch 37/100\n",
            "1/1 [==============================] - 0s 15ms/step - loss: 5.4886 - mae: 5.4886\n",
            "Epoch 38/100\n",
            "1/1 [==============================] - 0s 15ms/step - loss: 5.4881 - mae: 5.4881\n",
            "Epoch 39/100\n",
            "1/1 [==============================] - 0s 15ms/step - loss: 5.4877 - mae: 5.4877\n",
            "Epoch 40/100\n",
            "1/1 [==============================] - 0s 18ms/step - loss: 5.4872 - mae: 5.4872\n",
            "Epoch 41/100\n",
            "1/1 [==============================] - 0s 9ms/step - loss: 5.4868 - mae: 5.4868\n",
            "Epoch 42/100\n",
            "1/1 [==============================] - 0s 11ms/step - loss: 5.4863 - mae: 5.4863\n",
            "Epoch 43/100\n",
            "1/1 [==============================] - 0s 10ms/step - loss: 5.4859 - mae: 5.4859\n",
            "Epoch 44/100\n",
            "1/1 [==============================] - 0s 13ms/step - loss: 5.4854 - mae: 5.4854\n",
            "Epoch 45/100\n",
            "1/1 [==============================] - 0s 12ms/step - loss: 5.4850 - mae: 5.4850\n",
            "Epoch 46/100\n",
            "1/1 [==============================] - 0s 6ms/step - loss: 5.4845 - mae: 5.4845\n",
            "Epoch 47/100\n",
            "1/1 [==============================] - 0s 9ms/step - loss: 5.4841 - mae: 5.4841\n",
            "Epoch 48/100\n",
            "1/1 [==============================] - 0s 21ms/step - loss: 5.4836 - mae: 5.4836\n",
            "Epoch 49/100\n",
            "1/1 [==============================] - 0s 14ms/step - loss: 5.4832 - mae: 5.4832\n",
            "Epoch 50/100\n",
            "1/1 [==============================] - 0s 17ms/step - loss: 5.4827 - mae: 5.4827\n",
            "Epoch 51/100\n",
            "1/1 [==============================] - 0s 16ms/step - loss: 5.4823 - mae: 5.4823\n",
            "Epoch 52/100\n",
            "1/1 [==============================] - 0s 17ms/step - loss: 5.4818 - mae: 5.4818\n",
            "Epoch 53/100\n",
            "1/1 [==============================] - 0s 17ms/step - loss: 5.4814 - mae: 5.4814\n",
            "Epoch 54/100\n",
            "1/1 [==============================] - 0s 19ms/step - loss: 5.4809 - mae: 5.4809\n",
            "Epoch 55/100\n",
            "1/1 [==============================] - 0s 12ms/step - loss: 5.4805 - mae: 5.4805\n",
            "Epoch 56/100\n",
            "1/1 [==============================] - 0s 19ms/step - loss: 5.4800 - mae: 5.4800\n",
            "Epoch 57/100\n",
            "1/1 [==============================] - 0s 18ms/step - loss: 5.4796 - mae: 5.4796\n",
            "Epoch 58/100\n",
            "1/1 [==============================] - 0s 25ms/step - loss: 5.4791 - mae: 5.4791\n",
            "Epoch 59/100\n",
            "1/1 [==============================] - 0s 43ms/step - loss: 5.4787 - mae: 5.4787\n",
            "Epoch 60/100\n",
            "1/1 [==============================] - 0s 21ms/step - loss: 5.4782 - mae: 5.4782\n",
            "Epoch 61/100\n",
            "1/1 [==============================] - 0s 10ms/step - loss: 5.4778 - mae: 5.4778\n",
            "Epoch 62/100\n",
            "1/1 [==============================] - 0s 18ms/step - loss: 5.4773 - mae: 5.4773\n",
            "Epoch 63/100\n",
            "1/1 [==============================] - 0s 22ms/step - loss: 5.4769 - mae: 5.4769\n",
            "Epoch 64/100\n",
            "1/1 [==============================] - 0s 11ms/step - loss: 5.4764 - mae: 5.4764\n",
            "Epoch 65/100\n",
            "1/1 [==============================] - 0s 12ms/step - loss: 5.4760 - mae: 5.4760\n",
            "Epoch 66/100\n",
            "1/1 [==============================] - 0s 9ms/step - loss: 5.4755 - mae: 5.4755\n",
            "Epoch 67/100\n",
            "1/1 [==============================] - 0s 14ms/step - loss: 5.4751 - mae: 5.4751\n",
            "Epoch 68/100\n",
            "1/1 [==============================] - 0s 12ms/step - loss: 5.4746 - mae: 5.4746\n",
            "Epoch 69/100\n",
            "1/1 [==============================] - 0s 25ms/step - loss: 5.4742 - mae: 5.4742\n",
            "Epoch 70/100\n",
            "1/1 [==============================] - 0s 9ms/step - loss: 5.4737 - mae: 5.4737\n",
            "Epoch 71/100\n",
            "1/1 [==============================] - 0s 10ms/step - loss: 5.4733 - mae: 5.4733\n",
            "Epoch 72/100\n",
            "1/1 [==============================] - 0s 7ms/step - loss: 5.4728 - mae: 5.4728\n",
            "Epoch 73/100\n",
            "1/1 [==============================] - 0s 7ms/step - loss: 5.4724 - mae: 5.4724\n",
            "Epoch 74/100\n",
            "1/1 [==============================] - 0s 8ms/step - loss: 5.4719 - mae: 5.4719\n",
            "Epoch 75/100\n",
            "1/1 [==============================] - 0s 12ms/step - loss: 5.4715 - mae: 5.4715\n",
            "Epoch 76/100\n",
            "1/1 [==============================] - 0s 10ms/step - loss: 5.4710 - mae: 5.4710\n",
            "Epoch 77/100\n",
            "1/1 [==============================] - 0s 13ms/step - loss: 5.4706 - mae: 5.4706\n",
            "Epoch 78/100\n",
            "1/1 [==============================] - 0s 17ms/step - loss: 5.4701 - mae: 5.4701\n",
            "Epoch 79/100\n",
            "1/1 [==============================] - 0s 9ms/step - loss: 5.4697 - mae: 5.4697\n",
            "Epoch 80/100\n",
            "1/1 [==============================] - 0s 22ms/step - loss: 5.4692 - mae: 5.4692\n",
            "Epoch 81/100\n",
            "1/1 [==============================] - 0s 20ms/step - loss: 5.4688 - mae: 5.4688\n",
            "Epoch 82/100\n",
            "1/1 [==============================] - 0s 15ms/step - loss: 5.4683 - mae: 5.4683\n",
            "Epoch 83/100\n",
            "1/1 [==============================] - 0s 12ms/step - loss: 5.4679 - mae: 5.4679\n",
            "Epoch 84/100\n",
            "1/1 [==============================] - 0s 15ms/step - loss: 5.4674 - mae: 5.4674\n",
            "Epoch 85/100\n",
            "1/1 [==============================] - 0s 16ms/step - loss: 5.4670 - mae: 5.4670\n",
            "Epoch 86/100\n",
            "1/1 [==============================] - 0s 14ms/step - loss: 5.4665 - mae: 5.4665\n",
            "Epoch 87/100\n",
            "1/1 [==============================] - 0s 27ms/step - loss: 5.4661 - mae: 5.4661\n",
            "Epoch 88/100\n",
            "1/1 [==============================] - 0s 9ms/step - loss: 5.4656 - mae: 5.4656\n",
            "Epoch 89/100\n",
            "1/1 [==============================] - 0s 18ms/step - loss: 5.4652 - mae: 5.4652\n",
            "Epoch 90/100\n",
            "1/1 [==============================] - 0s 8ms/step - loss: 5.4647 - mae: 5.4647\n",
            "Epoch 91/100\n",
            "1/1 [==============================] - 0s 26ms/step - loss: 5.4643 - mae: 5.4643\n",
            "Epoch 92/100\n",
            "1/1 [==============================] - 0s 20ms/step - loss: 5.4638 - mae: 5.4638\n",
            "Epoch 93/100\n",
            "1/1 [==============================] - 0s 17ms/step - loss: 5.4634 - mae: 5.4634\n",
            "Epoch 94/100\n",
            "1/1 [==============================] - 0s 12ms/step - loss: 5.4629 - mae: 5.4629\n",
            "Epoch 95/100\n",
            "1/1 [==============================] - 0s 21ms/step - loss: 5.4625 - mae: 5.4625\n",
            "Epoch 96/100\n",
            "1/1 [==============================] - 0s 12ms/step - loss: 5.4620 - mae: 5.4620\n",
            "Epoch 97/100\n",
            "1/1 [==============================] - 0s 15ms/step - loss: 5.4616 - mae: 5.4616\n",
            "Epoch 98/100\n",
            "1/1 [==============================] - 0s 12ms/step - loss: 5.4611 - mae: 5.4611\n",
            "Epoch 99/100\n",
            "1/1 [==============================] - 0s 7ms/step - loss: 5.4607 - mae: 5.4607\n",
            "Epoch 100/100\n",
            "1/1 [==============================] - 0s 8ms/step - loss: 5.4602 - mae: 5.4602\n"
          ]
        },
        {
          "output_type": "execute_result",
          "data": {
            "text/plain": [
              "<keras.callbacks.History at 0x7fe5b7fe2710>"
            ]
          },
          "metadata": {},
          "execution_count": 12
        }
      ]
    },
    {
      "cell_type": "code",
      "source": [
        "model.predict([17.0])"
      ],
      "metadata": {
        "colab": {
          "base_uri": "https://localhost:8080/"
        },
        "id": "Goi7zpzEMyCv",
        "outputId": "a07de3d8-f9e7-4b3b-a73f-0f85e2be0966"
      },
      "execution_count": 13,
      "outputs": [
        {
          "output_type": "stream",
          "name": "stdout",
          "text": [
            "1/1 [==============================] - 0s 114ms/step\n"
          ]
        },
        {
          "output_type": "execute_result",
          "data": {
            "text/plain": [
              "array([[9.871047]], dtype=float32)"
            ]
          },
          "metadata": {},
          "execution_count": 13
        }
      ]
    },
    {
      "cell_type": "markdown",
      "source": [
        "It is possible that not always tweaking with hyperparameters will get closer to the correct results, like in this case, our model performs worse than previous tuning, it means `Adam()` function is not right for this model. \n",
        "\n",
        "Hence, that's idea behind tweaking and improving our model, to find out best possible hyperparameters to build a perfect model."
      ],
      "metadata": {
        "id": "3JBGFRBaNBj3"
      }
    },
    {
      "cell_type": "markdown",
      "source": [
        "## Evaluating a model\n",
        "\n",
        "A typical workflow you'll go through when building neural network is:\n",
        "\n",
        "`Build a model -> evaluate it -> build (tweak) a model -> evaluate it -> build (tweak) a model -> evaluate it...`\n",
        "\n",
        "The tweaking comes from maybe not building a model from scratch but adjusting existing one.\n",
        "\n",
        "\n",
        "When it comes to evaluation, we must remember these 3 words:\n",
        "> **Visualise, Visualise, Visualise**\n",
        "\n",
        "This is because we're probably better looking at something(doing) than we are thinking about something.\n",
        "\n",
        "It's a good idea to visualise:\n",
        "* **The data** - what data are we working with? What does it look like?\n",
        "* **The model itself** - what does the architecture look like? What are the different shapes.\n",
        "* **The training of a model** - how does a model perform while it learns ?\n",
        "* **The predictions of a model** - how do the predictions of a model line up against the ground truth (the original labels)?\n",
        "\n",
        "Let's visualising our model,\n",
        "\n",
        "But first we need to create a little bit of a bigger dataset and a new model we can use."
      ],
      "metadata": {
        "id": "OSbH_Kd0Nrff"
      }
    },
    {
      "cell_type": "code",
      "source": [
        "# Make a bigger dataset\n",
        "X = tf.range(-100,100,4)\n",
        "X"
      ],
      "metadata": {
        "colab": {
          "base_uri": "https://localhost:8080/"
        },
        "id": "VqNKZ34zbJ2K",
        "outputId": "3ade152d-a024-4104-8bbf-fd6f3fcc88d6"
      },
      "execution_count": 14,
      "outputs": [
        {
          "output_type": "execute_result",
          "data": {
            "text/plain": [
              "<tf.Tensor: shape=(50,), dtype=int32, numpy=\n",
              "array([-100,  -96,  -92,  -88,  -84,  -80,  -76,  -72,  -68,  -64,  -60,\n",
              "        -56,  -52,  -48,  -44,  -40,  -36,  -32,  -28,  -24,  -20,  -16,\n",
              "        -12,   -8,   -4,    0,    4,    8,   12,   16,   20,   24,   28,\n",
              "         32,   36,   40,   44,   48,   52,   56,   60,   64,   68,   72,\n",
              "         76,   80,   84,   88,   92,   96], dtype=int32)>"
            ]
          },
          "metadata": {},
          "execution_count": 14
        }
      ]
    },
    {
      "cell_type": "code",
      "source": [
        "# make labels for the dataset\n",
        "# we want our model to learn the model as y = X + 5\n",
        "y = X + 5\n",
        "y"
      ],
      "metadata": {
        "colab": {
          "base_uri": "https://localhost:8080/"
        },
        "id": "n4WmhcRic3i0",
        "outputId": "53cb95ad-ec25-4103-d31a-63bf05d0292c"
      },
      "execution_count": 15,
      "outputs": [
        {
          "output_type": "execute_result",
          "data": {
            "text/plain": [
              "<tf.Tensor: shape=(50,), dtype=int32, numpy=\n",
              "array([-95, -91, -87, -83, -79, -75, -71, -67, -63, -59, -55, -51, -47,\n",
              "       -43, -39, -35, -31, -27, -23, -19, -15, -11,  -7,  -3,   1,   5,\n",
              "         9,  13,  17,  21,  25,  29,  33,  37,  41,  45,  49,  53,  57,\n",
              "        61,  65,  69,  73,  77,  81,  85,  89,  93,  97, 101], dtype=int32)>"
            ]
          },
          "metadata": {},
          "execution_count": 15
        }
      ]
    },
    {
      "cell_type": "markdown",
      "source": [
        "### Split data into training/test set\n",
        "\n",
        "Usually when dealing with real-world data, spliting is typically done right at the start of the project (the test set should always be kept separate from all other data).\n",
        "\n",
        "We want our model to learn on training data and then evaluate it on test data to get an indication of how well it generalizes to unseen examples."
      ],
      "metadata": {
        "id": "s_Z1Zuy0dA8a"
      }
    },
    {
      "cell_type": "code",
      "source": [
        "# check the number of samples we have\n",
        "len(X)"
      ],
      "metadata": {
        "colab": {
          "base_uri": "https://localhost:8080/"
        },
        "id": "yP8buvVYjIXS",
        "outputId": "08097755-c3d1-4b54-baa2-5aa96a9120da"
      },
      "execution_count": 16,
      "outputs": [
        {
          "output_type": "execute_result",
          "data": {
            "text/plain": [
              "50"
            ]
          },
          "metadata": {},
          "execution_count": 16
        }
      ]
    },
    {
      "cell_type": "code",
      "source": [
        "# Split data into train and test sets\n",
        "X_train = X[:40]  # first 40 examples (80% of data)\n",
        "y_train = y[:40]\n",
        "\n",
        "X_test = X[40:] # last 10 examples (20% of data)\n",
        "y_test = y[40:]\n",
        "\n",
        "len(X_train), len(X_test)"
      ],
      "metadata": {
        "colab": {
          "base_uri": "https://localhost:8080/"
        },
        "id": "uekAQyc_jLml",
        "outputId": "f7cab7c8-db34-430a-9b9c-b0e89a112926"
      },
      "execution_count": 17,
      "outputs": [
        {
          "output_type": "execute_result",
          "data": {
            "text/plain": [
              "(40, 10)"
            ]
          },
          "metadata": {},
          "execution_count": 17
        }
      ]
    },
    {
      "cell_type": "markdown",
      "source": [
        "let's visualise it using the plots"
      ],
      "metadata": {
        "id": "F7lIXR5ojl_s"
      }
    },
    {
      "cell_type": "markdown",
      "source": [
        "### Visualise the data"
      ],
      "metadata": {
        "id": "KzL9B1GBjuFI"
      }
    },
    {
      "cell_type": "code",
      "source": [
        "plt.figure(figsize=(10,7))\n",
        "\n",
        "# plot the training data in blue\n",
        "plt.scatter(X_train, y_train, c=\"b\", label=\"Training Data\")\n",
        "\n",
        "# Plot the test data in green\n",
        "plt.scatter(X_test, y_test, c=\"g\", label=\"Test data\")\n",
        "\n",
        "# Show the legend\n",
        "plt.legend();"
      ],
      "metadata": {
        "colab": {
          "base_uri": "https://localhost:8080/",
          "height": 428
        },
        "id": "Tp9DHssXjwxc",
        "outputId": "3a386ae8-8777-415e-90d3-ca07e82e99ee"
      },
      "execution_count": 18,
      "outputs": [
        {
          "output_type": "display_data",
          "data": {
            "text/plain": [
              "<Figure size 720x504 with 1 Axes>"
            ],
            "image/png": "[encoded data removed]"
          },
          "metadata": {
            "needs_background": "light"
          }
        }
      ]
    },
    {
      "cell_type": "markdown",
      "source": [
        "Any time we can visualise our data, our model, our anything. It's a good idea.\n",
        "\n",
        "\n",
        "Keeping this graph in our mind, what we'll be trying is to build a model which learns the pattern in the blue dots (`X_train`) to draw the green dots (`X_test`)\n",
        "\n",
        "So, let's build our model."
      ],
      "metadata": {
        "id": "Eg02XDBckhjl"
      }
    },
    {
      "cell_type": "code",
      "source": [
        "# Set random seed\n",
        "tf.random.set_seed(42)\n",
        "\n",
        "\n",
        "# Create a model\n",
        "model = tf.keras.Sequential([\n",
        "    tf.keras.layers.Dense(1)\n",
        "])\n",
        "\n",
        "# Compile a model\n",
        "model.compile(loss=tf.keras.losses.mae,\n",
        "              optimizer= tf.keras.optimizers.SGD(),\n",
        "              metrics=[\"mae\"])\n",
        "\n",
        "# Fit the model\n",
        "# model.fit(X_train, y_train, epochs = 100) # commented out on purpose, first we will visualise the model"
      ],
      "metadata": {
        "id": "NuEBZpRFlKTO"
      },
      "execution_count": 19,
      "outputs": []
    },
    {
      "cell_type": "markdown",
      "source": [
        "### Visualise the model\n",
        "\n",
        "After we've built a model, we might want to visualise the layers and shapes of our model, by called `summary()` on it.\n",
        "\n",
        "> 🔑 **Note**: Visualizing a model is particularly helpful when you run into input and output shapes mismatches.\n"
      ],
      "metadata": {
        "id": "axSQcA1Tl8AF"
      }
    },
    {
      "cell_type": "code",
      "source": [
        "# let's see the summary\n",
        "model.summary()"
      ],
      "metadata": {
        "colab": {
          "base_uri": "https://localhost:8080/",
          "height": 305
        },
        "id": "0evj4qiMmbAF",
        "outputId": "d5dfbe29-560d-49bf-c467-ab16d1798de1"
      },
      "execution_count": 20,
      "outputs": [
        {
          "output_type": "error",
          "ename": "ValueError",
          "evalue": "ignored",
          "traceback": [
            "\u001b[0;31m---------------------------------------------------------------------------\u001b[0m",
            "\u001b[0;31mValueError\u001b[0m                                Traceback (most recent call last)",
            "\u001b[0;32m<ipython-input-20-4954ad8269f7>\u001b[0m in \u001b[0;36m<module>\u001b[0;34m\u001b[0m\n\u001b[1;32m      1\u001b[0m \u001b[0;31m# let's see the summary\u001b[0m\u001b[0;34m\u001b[0m\u001b[0;34m\u001b[0m\u001b[0;34m\u001b[0m\u001b[0m\n\u001b[0;32m----> 2\u001b[0;31m \u001b[0mmodel\u001b[0m\u001b[0;34m.\u001b[0m\u001b[0msummary\u001b[0m\u001b[0;34m(\u001b[0m\u001b[0;34m)\u001b[0m\u001b[0;34m\u001b[0m\u001b[0;34m\u001b[0m\u001b[0m\n\u001b[0m",
            "\u001b[0;32m/usr/local/lib/python3.7/dist-packages/keras/engine/training.py\u001b[0m in \u001b[0;36msummary\u001b[0;34m(self, line_length, positions, print_fn, expand_nested, show_trainable)\u001b[0m\n\u001b[1;32m   2868\u001b[0m     \u001b[0;32mif\u001b[0m \u001b[0;32mnot\u001b[0m \u001b[0mself\u001b[0m\u001b[0;34m.\u001b[0m\u001b[0mbuilt\u001b[0m\u001b[0;34m:\u001b[0m\u001b[0;34m\u001b[0m\u001b[0;34m\u001b[0m\u001b[0m\n\u001b[1;32m   2869\u001b[0m       raise ValueError(\n\u001b[0;32m-> 2870\u001b[0;31m           \u001b[0;34m'This model has not yet been built. '\u001b[0m\u001b[0;34m\u001b[0m\u001b[0;34m\u001b[0m\u001b[0m\n\u001b[0m\u001b[1;32m   2871\u001b[0m           \u001b[0;34m'Build the model first by calling `build()` or by calling '\u001b[0m\u001b[0;34m\u001b[0m\u001b[0;34m\u001b[0m\u001b[0m\n\u001b[1;32m   2872\u001b[0m           'the model on a batch of data.')\n",
            "\u001b[0;31mValueError\u001b[0m: This model has not yet been built. Build the model first by calling `build()` or by calling the model on a batch of data."
          ]
        }
      ]
    },
    {
      "cell_type": "markdown",
      "source": [
        "Since the model is not built, it's not showing us the summary.\n",
        "\n",
        "We also haven't defined the input the shape while creating a model, it we define the input shape while creating a model, it will automatically build the model.\n",
        "\n",
        "So what's the input shape of our dataset ?"
      ],
      "metadata": {
        "id": "_K-zZFzNmf__"
      }
    },
    {
      "cell_type": "code",
      "source": [
        "# since our prediction would be predicting 1 y value from 1 X value, it means X[0] will be the shape of our input\n",
        "X[0].shape"
      ],
      "metadata": {
        "colab": {
          "base_uri": "https://localhost:8080/"
        },
        "id": "Pvyxe1vDms8S",
        "outputId": "27292b41-b597-4f32-a8aa-3fd56caedafa"
      },
      "execution_count": 21,
      "outputs": [
        {
          "output_type": "execute_result",
          "data": {
            "text/plain": [
              "TensorShape([])"
            ]
          },
          "metadata": {},
          "execution_count": 21
        }
      ]
    },
    {
      "cell_type": "markdown",
      "source": [
        "In this case, our `input_shape` is `[1]`.\n",
        "\n",
        "**Note:** Usually if input_shape isn't defined, Keras tries to figure it out automatically."
      ],
      "metadata": {
        "id": "IdJRwcnknCPf"
      }
    },
    {
      "cell_type": "code",
      "source": [
        "# building the model again\n",
        "\n",
        "# set random seed\n",
        "tf.random.set_seed(42)\n",
        "\n",
        "# Create a model\n",
        "model = tf.keras.Sequential([\n",
        "    tf.keras.layers.Dense(1, input_shape=[1]) # define the input_shape of our model\n",
        "])\n",
        "\n",
        "# Compile a model\n",
        "model.compile(loss=tf.keras.losses.mae,\n",
        "              optimizer=tf.keras.optimizers.SGD(),\n",
        "              metrics=[\"mae\"])"
      ],
      "metadata": {
        "id": "9ObI5rTQni75"
      },
      "execution_count": 22,
      "outputs": []
    },
    {
      "cell_type": "code",
      "source": [
        "model.summary()"
      ],
      "metadata": {
        "colab": {
          "base_uri": "https://localhost:8080/"
        },
        "id": "m-a71NC0oAnt",
        "outputId": "dfbafa72-c526-49dc-e823-78f150649326"
      },
      "execution_count": 23,
      "outputs": [
        {
          "output_type": "stream",
          "name": "stdout",
          "text": [
            "Model: \"sequential_4\"\n",
            "_________________________________________________________________\n",
            " Layer (type)                Output Shape              Param #   \n",
            "=================================================================\n",
            " dense_4 (Dense)             (None, 1)                 2         \n",
            "                                                                 \n",
            "=================================================================\n",
            "Total params: 2\n",
            "Trainable params: 2\n",
            "Non-trainable params: 0\n",
            "_________________________________________________________________\n"
          ]
        }
      ]
    },
    {
      "cell_type": "markdown",
      "source": [
        "Calling `summary()` on our model shows us the layers it contains, the output shape and the number of parameters.\n",
        "\n",
        "* **Total Params**: Total number of parameters in the model\n",
        "* **Trainable params**: These are the parameters(patterns) the model can update as it trains.\n",
        "* **Non-Trainable params**: These parameters aren't updated during training(this is typical when you bring in the already learned patterns from other models during transfer learning).\n",
        "\n",
        "> 📖 **Resource**: For a more in-depth overview of the trainabel parameters within a layer, check out [MIT's introduction to deep learning video](https://youtu.be/njKP3FqW3Sk)\n",
        "\n",
        "> 🛠 **Exercise**: Try playing around with the number of hidden units in the `Dense` Layer (e.g `Dense(2)`, `Dense(3)`). How does this change the Total/Trainable params ? Investigate what's causing the change."
      ],
      "metadata": {
        "id": "gCvk48ZZoCYL"
      }
    },
    {
      "cell_type": "markdown",
      "source": [
        "Let's fit the model to the training data"
      ],
      "metadata": {
        "id": "covrTjq7puns"
      }
    },
    {
      "cell_type": "code",
      "source": [
        "# Fit the model to the training data\n",
        "model.fit(X_train, y_train, epochs = 100, verbose=0) # verbose controls how much gets output"
      ],
      "metadata": {
        "colab": {
          "base_uri": "https://localhost:8080/"
        },
        "id": "yEEFjt4nj3Df",
        "outputId": "dce8fd74-99c5-49d5-dbd3-1b139ee3bc3d"
      },
      "execution_count": 24,
      "outputs": [
        {
          "output_type": "execute_result",
          "data": {
            "text/plain": [
              "<keras.callbacks.History at 0x7fe5b7f71e50>"
            ]
          },
          "metadata": {},
          "execution_count": 24
        }
      ]
    },
    {
      "cell_type": "code",
      "source": [
        "# check the model summary\n",
        "model.summary()"
      ],
      "metadata": {
        "colab": {
          "base_uri": "https://localhost:8080/"
        },
        "id": "kO_YpbV1kBYq",
        "outputId": "e224ef96-f305-47f3-8d9c-71845d380e56"
      },
      "execution_count": 25,
      "outputs": [
        {
          "output_type": "stream",
          "name": "stdout",
          "text": [
            "Model: \"sequential_4\"\n",
            "_________________________________________________________________\n",
            " Layer (type)                Output Shape              Param #   \n",
            "=================================================================\n",
            " dense_4 (Dense)             (None, 1)                 2         \n",
            "                                                                 \n",
            "=================================================================\n",
            "Total params: 2\n",
            "Trainable params: 2\n",
            "Non-trainable params: 0\n",
            "_________________________________________________________________\n"
          ]
        }
      ]
    },
    {
      "cell_type": "markdown",
      "source": [
        "Alongside summary, you can also view a 2D plot of the model using `plot_model()`"
      ],
      "metadata": {
        "id": "OgJ2pZczkFL2"
      }
    },
    {
      "cell_type": "code",
      "source": [
        "from tensorflow.keras.utils import plot_model\n",
        "\n",
        "plot_model(model=model, show_shapes = True)"
      ],
      "metadata": {
        "colab": {
          "base_uri": "https://localhost:8080/",
          "height": 201
        },
        "id": "gfCSl4nXkRzH",
        "outputId": "000a154b-dd7e-41d3-be9d-0aaf2d454386"
      },
      "execution_count": 26,
      "outputs": [
        {
          "output_type": "execute_result",
          "data": {
            "image/png": "[encoded data removed]",
            "text/plain": [
              "<IPython.core.display.Image object>"
            ]
          },
          "metadata": {},
          "execution_count": 26
        }
      ]
    },
    {
      "cell_type": "markdown",
      "source": [
        "In our case, the model we used only has an input and an output but visualizing more complicated models can be very helpful for debugging."
      ],
      "metadata": {
        "id": "1S1XSV1zkapX"
      }
    },
    {
      "cell_type": "markdown",
      "source": [
        "### Visualise the predictions\n",
        "\n",
        "Now we've got a trained model, let's visualise some prediction.\n",
        "\n",
        "To visualise the predictions, it's always a good idea to plot them against the ground truth labels.\n",
        "\n",
        "Often you'll see this in the form of `y_test` vs `y_preds` (ground truth vs predictions)\n",
        "\n",
        "First, we'll make some predictions on the test data(`X_test`), remember the model has never seen the test data."
      ],
      "metadata": {
        "id": "dxEb2yxPlGQB"
      }
    },
    {
      "cell_type": "code",
      "source": [
        "# make predictions\n",
        "y_preds = model.predict(X_test)\n",
        "y_preds"
      ],
      "metadata": {
        "colab": {
          "base_uri": "https://localhost:8080/"
        },
        "id": "6t6GrbH-lVfH",
        "outputId": "3b2b4452-e461-4313-98cf-569b7274a8c7"
      },
      "execution_count": 27,
      "outputs": [
        {
          "output_type": "stream",
          "name": "stdout",
          "text": [
            "1/1 [==============================] - 0s 45ms/step\n"
          ]
        },
        {
          "output_type": "execute_result",
          "data": {
            "text/plain": [
              "array([[44.477352],\n",
              "       [47.392593],\n",
              "       [50.307835],\n",
              "       [53.223076],\n",
              "       [56.138313],\n",
              "       [59.053555],\n",
              "       [61.968796],\n",
              "       [64.88403 ],\n",
              "       [67.79928 ],\n",
              "       [70.714516]], dtype=float32)"
            ]
          },
          "metadata": {},
          "execution_count": 27
        }
      ]
    },
    {
      "cell_type": "code",
      "source": [
        "# Ground truth label\n",
        "y_test"
      ],
      "metadata": {
        "colab": {
          "base_uri": "https://localhost:8080/"
        },
        "id": "756qLaKZlhQG",
        "outputId": "84278d77-75d5-47a7-ea11-f5f94ed0990f"
      },
      "execution_count": 28,
      "outputs": [
        {
          "output_type": "execute_result",
          "data": {
            "text/plain": [
              "<tf.Tensor: shape=(10,), dtype=int32, numpy=array([ 65,  69,  73,  77,  81,  85,  89,  93,  97, 101], dtype=int32)>"
            ]
          },
          "metadata": {},
          "execution_count": 28
        }
      ]
    },
    {
      "cell_type": "markdown",
      "source": [
        "Let's plot them to make a comparision between them, for this we'll be creating a function so that we can be able to use it for later comparisons as well"
      ],
      "metadata": {
        "id": "zJKWIWiklmvJ"
      }
    },
    {
      "cell_type": "code",
      "source": [
        "# Creating a plot_prediction function\n",
        "\n",
        "import matplotlib.pyplot as plt\n",
        "\n",
        "def plot_prediction(train_data=X_train,\n",
        "                    train_label= y_train,\n",
        "                    test_data=X_test,\n",
        "                    test_label=y_test,\n",
        "                    predictions=y_preds):\n",
        "  \"\"\"\n",
        "  This function will help to visualise the prediction using scatter plot.\n",
        "  It takes train data,train labels, test data, ground truth data and predictions and plot \n",
        "  them to visualise.\n",
        "  \"\"\"\n",
        "\n",
        "  # plot the figure\n",
        "  plt.figure(figsize=(10,7))\n",
        "\n",
        "  # plot the train data in blue\n",
        "  plt.scatter(train_data, train_label, c=\"b\", label=\"Training data\")\n",
        "\n",
        "  # plot the test data in green\n",
        "  plt.scatter(test_data, test_label, c=\"g\", label=\"Test data\")\n",
        "\n",
        "  # plot the test data vs predictions in red\n",
        "  plt.scatter(test_data, predictions, c=\"r\", label=\"Predictions\")\n",
        "\n",
        "  # show the legend\n",
        "  plt.legend();"
      ],
      "metadata": {
        "id": "ZvhbNd0GmM4q"
      },
      "execution_count": 29,
      "outputs": []
    },
    {
      "cell_type": "code",
      "source": [
        "plot_prediction()"
      ],
      "metadata": {
        "colab": {
          "base_uri": "https://localhost:8080/",
          "height": 428
        },
        "id": "WwZUizlEnisL",
        "outputId": "05d85f0b-2e63-4ac0-c2ed-e71c64c062f7"
      },
      "execution_count": 30,
      "outputs": [
        {
          "output_type": "display_data",
          "data": {
            "text/plain": [
              "<Figure size 720x504 with 1 Axes>"
            ],
            "image/png": "[encoded data removed]"
          },
          "metadata": {
            "needs_background": "light"
          }
        }
      ]
    },
    {
      "cell_type": "markdown",
      "source": [
        "From the plot we can see our predictions aren't totally outlandish but they definitely aren't anything special either."
      ],
      "metadata": {
        "id": "R-FUfr2MoyTT"
      }
    },
    {
      "cell_type": "markdown",
      "source": [
        "### Evaluating predictions\n",
        "\n",
        "Alongside visualizations, evaluation metrics are your alternative best option for evaluating our model.\n",
        "\n",
        "Depending on the problem you're working on, different models have different evaluation metrics.\n",
        "\n",
        "Two of the main metrics used for regression problems are:\n",
        "\n",
        "* **MAE** : Mean absolute error, the mean difference between each of the predictions\n",
        "* **MSE** : Mean Squared error, the squared mean difference between of the predictions (use if larger errors are more detrimental than smaller ones)\n",
        "* **Huber** : Combination of MAE and MSE\n",
        "\n",
        "The lower each of these values, the better.\n",
        "\n",
        "We can also use `model.evaluate()` which also returns the metrics results that we mentioned while `model.compile()` as `metrics`"
      ],
      "metadata": {
        "id": "Mrr-KLEOqrNw"
      }
    },
    {
      "cell_type": "code",
      "source": [
        "model.evaluate(X_test, y_test)"
      ],
      "metadata": {
        "colab": {
          "base_uri": "https://localhost:8080/"
        },
        "id": "t4JZVuAfrxMR",
        "outputId": "c18932ce-a7aa-45c7-a02c-deac1ec013fe"
      },
      "execution_count": 31,
      "outputs": [
        {
          "output_type": "stream",
          "name": "stdout",
          "text": [
            "1/1 [==============================] - 0s 130ms/step - loss: 25.4041 - mae: 25.4041\n"
          ]
        },
        {
          "output_type": "execute_result",
          "data": {
            "text/plain": [
              "[25.404064178466797, 25.404064178466797]"
            ]
          },
          "metadata": {},
          "execution_count": 31
        }
      ]
    },
    {
      "cell_type": "markdown",
      "source": [
        "In our case, we used MAE as the metrics, so it's showing the MAE of the model.\n",
        "\n",
        "\n",
        "TensorFlow also has built-in functions for MSE and MAE.\n",
        "\n",
        "For many evaluation functions, the premise is the same: compare predictions to the ground truth labels."
      ],
      "metadata": {
        "id": "04WWBaVJr1z2"
      }
    },
    {
      "cell_type": "code",
      "source": [
        "# Calculate the mean absolute error\n",
        "mae = tf.keras.metrics.mean_absolute_error(y_test, y_preds)\n",
        "mae"
      ],
      "metadata": {
        "colab": {
          "base_uri": "https://localhost:8080/"
        },
        "id": "QlVyxKJZsLGk",
        "outputId": "60d6a897-8a2d-427b-879f-f5a080a4dd17"
      },
      "execution_count": 32,
      "outputs": [
        {
          "output_type": "execute_result",
          "data": {
            "text/plain": [
              "<tf.Tensor: shape=(10,), dtype=float32, numpy=\n",
              "array([38.522648, 35.607407, 32.692165, 29.776922, 26.861689, 23.946445,\n",
              "       21.031204, 18.115967, 15.760577, 13.771291], dtype=float32)>"
            ]
          },
          "metadata": {},
          "execution_count": 32
        }
      ]
    },
    {
      "cell_type": "markdown",
      "source": [
        "It's showing in this format because the shape of `y_test` and `y_preds` are different, and to compare tensors, or do some operations, we have to make sure that shapes should be same."
      ],
      "metadata": {
        "id": "iFlmBrOysW-I"
      }
    },
    {
      "cell_type": "code",
      "source": [
        "y_preds.shape, y_test.shape"
      ],
      "metadata": {
        "colab": {
          "base_uri": "https://localhost:8080/"
        },
        "id": "NpaTxOzJsolN",
        "outputId": "43305a01-49d6-4c66-917e-c166e40accac"
      },
      "execution_count": 33,
      "outputs": [
        {
          "output_type": "execute_result",
          "data": {
            "text/plain": [
              "((10, 1), TensorShape([10]))"
            ]
          },
          "metadata": {},
          "execution_count": 33
        }
      ]
    },
    {
      "cell_type": "code",
      "source": [
        "# let's squeeze and then calculate mae\n",
        "mae = tf.keras.metrics.mean_absolute_error(y_test, tf.squeeze(y_preds))\n",
        "mae"
      ],
      "metadata": {
        "colab": {
          "base_uri": "https://localhost:8080/"
        },
        "id": "V6RBNGfpsrRM",
        "outputId": "6ff2af9f-7898-4320-f468-8aa8b9bf0633"
      },
      "execution_count": 34,
      "outputs": [
        {
          "output_type": "execute_result",
          "data": {
            "text/plain": [
              "<tf.Tensor: shape=(), dtype=float32, numpy=25.404064>"
            ]
          },
          "metadata": {},
          "execution_count": 34
        }
      ]
    },
    {
      "cell_type": "code",
      "source": [
        "# calculate the mean squared error\n",
        "mse = tf.keras.metrics.mean_squared_error(y_test, tf.squeeze(y_preds))\n",
        "mse"
      ],
      "metadata": {
        "colab": {
          "base_uri": "https://localhost:8080/"
        },
        "id": "OBCKUzuls295",
        "outputId": "382be139-b7ad-419d-eb24-1def45390c06"
      },
      "execution_count": 35,
      "outputs": [
        {
          "output_type": "execute_result",
          "data": {
            "text/plain": [
              "<tf.Tensor: shape=(), dtype=float32, numpy=655.07434>"
            ]
          },
          "metadata": {},
          "execution_count": 35
        }
      ]
    },
    {
      "cell_type": "markdown",
      "source": [
        "Create a function for each for later use"
      ],
      "metadata": {
        "id": "xxZuPQl-tAz8"
      }
    },
    {
      "cell_type": "code",
      "source": [
        "def mae(y_test=y_test,y_preds=y_preds):\n",
        "  \"\"\"\n",
        "  Calculates mean absolute error between y_test and y_preds\n",
        "  \"\"\"\n",
        "  return tf.keras.metrics.mean_absolute_error(y_test, tf.squeeze(y_preds)).numpy()\n",
        "\n",
        "def mse(y_test=y_test,y_preds=y_preds):\n",
        "  \"\"\"\n",
        "  Calculates mean squared error between y_test and y_preds\n",
        "  \"\"\"\n",
        "  return tf.keras.metrics.mean_squared_error(y_test, tf.squeeze(y_preds)).numpy()"
      ],
      "metadata": {
        "id": "-Lv7EO38tGf2"
      },
      "execution_count": 36,
      "outputs": []
    },
    {
      "cell_type": "markdown",
      "source": [
        "We can also calculate Mean using pure TensorFlow function"
      ],
      "metadata": {
        "id": "Sa8TCOj5tkH9"
      }
    },
    {
      "cell_type": "code",
      "source": [
        "tf.reduce_mean(tf.abs(y_test - y_preds.squeeze()))"
      ],
      "metadata": {
        "colab": {
          "base_uri": "https://localhost:8080/"
        },
        "id": "v4AKB9n3twJP",
        "outputId": "4d3e2a59-3766-4906-d35a-d24ad02c5f5c"
      },
      "execution_count": 37,
      "outputs": [
        {
          "output_type": "execute_result",
          "data": {
            "text/plain": [
              "<tf.Tensor: shape=(), dtype=int32, numpy=25>"
            ]
          },
          "metadata": {},
          "execution_count": 37
        }
      ]
    },
    {
      "cell_type": "markdown",
      "source": [
        "## Running Experiments to Improve a model\n",
        "\n",
        "After seeing the evaluation metrics and the predictions your model makes, it's likely you'll want to improve it.\n",
        "\n",
        "Again, there are many different ways you can do this, but 3 of the main ones are:\n",
        "\n",
        "1. **Get more data** : get more examples for your model to train on (more opportunities to learn patterns).\n",
        "2. **Make your model larger (use a more complex model)** : this might come in the form of more layers or more hidden units in each layer.\n",
        "3. **Train for longer**: give your model more of a chance to find the patterns in the data\n",
        "\n",
        "Since we created our dataset, we could easily make more data but this isn't always the case when you're working with real-world datasets.\n",
        "\n",
        "So let's take a look at how we can improve our model using 2 and 3:\n",
        "\n",
        "To do so, we'll build 3 models and compare their results:\n",
        "\n",
        "1. `model_1`: same as original model, 1 layer, trained with 100 epochs.\n",
        "2. `model_2`: 2 layer, trained with 100 epochs\n",
        "3. `model_3`: 2 layer, trained with 500 epochs\n",
        "\n",
        "\n",
        "**Build `model_1`**"
      ],
      "metadata": {
        "id": "de4_MMTdt5y6"
      }
    },
    {
      "cell_type": "code",
      "source": [
        "# set random seed\n",
        "tf.random.set_seed(4)\n",
        "\n",
        "# create a model\n",
        "model_1 = tf.keras.Sequential([\n",
        "    tf.keras.layers.Dense(1)\n",
        "])\n",
        "\n",
        "# compile a model\n",
        "model_1.compile(loss=tf.keras.losses.mae,\n",
        "                optimizer=tf.keras.optimizers.SGD(),\n",
        "                metrics=[\"mae\"])\n",
        "\n",
        "# fit the model\n",
        "model_1.fit(tf.expand_dims(X_train, axis=-1), y_train, epochs=100)"
      ],
      "metadata": {
        "colab": {
          "base_uri": "https://localhost:8080/"
        },
        "id": "QH-IFwM-0Xig",
        "outputId": "14d07128-8d74-4970-b0d2-6c8cc274d7e7"
      },
      "execution_count": 38,
      "outputs": [
        {
          "output_type": "stream",
          "name": "stdout",
          "text": [
            "Epoch 1/100\n",
            "2/2 [==============================] - 0s 6ms/step - loss: 26.2736 - mae: 26.2736\n",
            "Epoch 2/100\n",
            "2/2 [==============================] - 0s 7ms/step - loss: 5.8289 - mae: 5.8289\n",
            "Epoch 3/100\n",
            "2/2 [==============================] - 0s 9ms/step - loss: 5.3501 - mae: 5.3501\n",
            "Epoch 4/100\n",
            "2/2 [==============================] - 0s 4ms/step - loss: 11.0469 - mae: 11.0469\n",
            "Epoch 5/100\n",
            "2/2 [==============================] - 0s 9ms/step - loss: 6.0472 - mae: 6.0472\n",
            "Epoch 6/100\n",
            "2/2 [==============================] - 0s 4ms/step - loss: 4.8599 - mae: 4.8599\n",
            "Epoch 7/100\n",
            "2/2 [==============================] - 0s 5ms/step - loss: 8.4550 - mae: 8.4550\n",
            "Epoch 8/100\n",
            "2/2 [==============================] - 0s 5ms/step - loss: 9.1616 - mae: 9.1616\n",
            "Epoch 9/100\n",
            "2/2 [==============================] - 0s 4ms/step - loss: 5.4323 - mae: 5.4323\n",
            "Epoch 10/100\n",
            "2/2 [==============================] - 0s 5ms/step - loss: 8.8058 - mae: 8.8058\n",
            "Epoch 11/100\n",
            "2/2 [==============================] - 0s 8ms/step - loss: 11.9951 - mae: 11.9951\n",
            "Epoch 12/100\n",
            "2/2 [==============================] - 0s 6ms/step - loss: 9.9585 - mae: 9.9585\n",
            "Epoch 13/100\n",
            "2/2 [==============================] - 0s 9ms/step - loss: 12.5150 - mae: 12.5150\n",
            "Epoch 14/100\n",
            "2/2 [==============================] - 0s 4ms/step - loss: 5.2024 - mae: 5.2024\n",
            "Epoch 15/100\n",
            "2/2 [==============================] - 0s 4ms/step - loss: 12.8693 - mae: 12.8693\n",
            "Epoch 16/100\n",
            "2/2 [==============================] - 0s 5ms/step - loss: 8.1372 - mae: 8.1372\n",
            "Epoch 17/100\n",
            "2/2 [==============================] - 0s 8ms/step - loss: 4.8182 - mae: 4.8182\n",
            "Epoch 18/100\n",
            "2/2 [==============================] - 0s 12ms/step - loss: 8.9585 - mae: 8.9585\n",
            "Epoch 19/100\n",
            "2/2 [==============================] - 0s 6ms/step - loss: 5.3259 - mae: 5.3259\n",
            "Epoch 20/100\n",
            "2/2 [==============================] - 0s 4ms/step - loss: 6.8067 - mae: 6.8067\n",
            "Epoch 21/100\n",
            "2/2 [==============================] - 0s 5ms/step - loss: 7.2946 - mae: 7.2946\n",
            "Epoch 22/100\n",
            "2/2 [==============================] - 0s 5ms/step - loss: 7.9777 - mae: 7.9777\n",
            "Epoch 23/100\n",
            "2/2 [==============================] - 0s 5ms/step - loss: 7.8188 - mae: 7.8188\n",
            "Epoch 24/100\n",
            "2/2 [==============================] - 0s 5ms/step - loss: 10.2744 - mae: 10.2744\n",
            "Epoch 25/100\n",
            "2/2 [==============================] - 0s 5ms/step - loss: 12.4774 - mae: 12.4774\n",
            "Epoch 26/100\n",
            "2/2 [==============================] - 0s 9ms/step - loss: 5.9552 - mae: 5.9552\n",
            "Epoch 27/100\n",
            "2/2 [==============================] - 0s 5ms/step - loss: 5.6419 - mae: 5.6419\n",
            "Epoch 28/100\n",
            "2/2 [==============================] - 0s 4ms/step - loss: 11.6073 - mae: 11.6073\n",
            "Epoch 29/100\n",
            "2/2 [==============================] - 0s 4ms/step - loss: 12.1142 - mae: 12.1142\n",
            "Epoch 30/100\n",
            "2/2 [==============================] - 0s 4ms/step - loss: 9.3279 - mae: 9.3279\n",
            "Epoch 31/100\n",
            "2/2 [==============================] - 0s 4ms/step - loss: 10.8030 - mae: 10.8030\n",
            "Epoch 32/100\n",
            "2/2 [==============================] - 0s 5ms/step - loss: 16.1114 - mae: 16.1114\n",
            "Epoch 33/100\n",
            "2/2 [==============================] - 0s 4ms/step - loss: 9.3508 - mae: 9.3508\n",
            "Epoch 34/100\n",
            "2/2 [==============================] - 0s 5ms/step - loss: 6.9281 - mae: 6.9281\n",
            "Epoch 35/100\n",
            "2/2 [==============================] - 0s 6ms/step - loss: 4.7452 - mae: 4.7452\n",
            "Epoch 36/100\n",
            "2/2 [==============================] - 0s 5ms/step - loss: 5.0834 - mae: 5.0834\n",
            "Epoch 37/100\n",
            "2/2 [==============================] - 0s 7ms/step - loss: 5.4311 - mae: 5.4311\n",
            "Epoch 38/100\n",
            "2/2 [==============================] - 0s 6ms/step - loss: 5.4156 - mae: 5.4156\n",
            "Epoch 39/100\n",
            "2/2 [==============================] - 0s 6ms/step - loss: 5.2098 - mae: 5.2098\n",
            "Epoch 40/100\n",
            "2/2 [==============================] - 0s 7ms/step - loss: 12.3448 - mae: 12.3448\n",
            "Epoch 41/100\n",
            "2/2 [==============================] - 0s 6ms/step - loss: 8.4752 - mae: 8.4752\n",
            "Epoch 42/100\n",
            "2/2 [==============================] - 0s 6ms/step - loss: 11.0883 - mae: 11.0883\n",
            "Epoch 43/100\n",
            "2/2 [==============================] - 0s 7ms/step - loss: 9.7070 - mae: 9.7070\n",
            "Epoch 44/100\n",
            "2/2 [==============================] - 0s 5ms/step - loss: 15.1892 - mae: 15.1892\n",
            "Epoch 45/100\n",
            "2/2 [==============================] - 0s 6ms/step - loss: 6.9533 - mae: 6.9533\n",
            "Epoch 46/100\n",
            "2/2 [==============================] - 0s 5ms/step - loss: 5.8549 - mae: 5.8549\n",
            "Epoch 47/100\n",
            "2/2 [==============================] - 0s 6ms/step - loss: 13.6988 - mae: 13.6988\n",
            "Epoch 48/100\n",
            "2/2 [==============================] - 0s 6ms/step - loss: 10.2165 - mae: 10.2165\n",
            "Epoch 49/100\n",
            "2/2 [==============================] - 0s 5ms/step - loss: 11.3079 - mae: 11.3079\n",
            "Epoch 50/100\n",
            "2/2 [==============================] - 0s 5ms/step - loss: 8.1985 - mae: 8.1985\n",
            "Epoch 51/100\n",
            "2/2 [==============================] - 0s 5ms/step - loss: 10.7097 - mae: 10.7097\n",
            "Epoch 52/100\n",
            "2/2 [==============================] - 0s 5ms/step - loss: 5.8176 - mae: 5.8176\n",
            "Epoch 53/100\n",
            "2/2 [==============================] - 0s 5ms/step - loss: 7.1681 - mae: 7.1681\n",
            "Epoch 54/100\n",
            "2/2 [==============================] - 0s 5ms/step - loss: 7.7591 - mae: 7.7591\n",
            "Epoch 55/100\n",
            "2/2 [==============================] - 0s 5ms/step - loss: 8.7092 - mae: 8.7092\n",
            "Epoch 56/100\n",
            "2/2 [==============================] - 0s 9ms/step - loss: 7.1068 - mae: 7.1068\n",
            "Epoch 57/100\n",
            "2/2 [==============================] - 0s 10ms/step - loss: 11.7226 - mae: 11.7226\n",
            "Epoch 58/100\n",
            "2/2 [==============================] - 0s 11ms/step - loss: 5.6130 - mae: 5.6130\n",
            "Epoch 59/100\n",
            "2/2 [==============================] - 0s 9ms/step - loss: 7.1943 - mae: 7.1943\n",
            "Epoch 60/100\n",
            "2/2 [==============================] - 0s 8ms/step - loss: 12.7965 - mae: 12.7965\n",
            "Epoch 61/100\n",
            "2/2 [==============================] - 0s 8ms/step - loss: 8.1668 - mae: 8.1668\n",
            "Epoch 62/100\n",
            "2/2 [==============================] - 0s 6ms/step - loss: 7.5795 - mae: 7.5795\n",
            "Epoch 63/100\n",
            "2/2 [==============================] - 0s 11ms/step - loss: 10.9615 - mae: 10.9615\n",
            "Epoch 64/100\n",
            "2/2 [==============================] - 0s 9ms/step - loss: 12.3831 - mae: 12.3831\n",
            "Epoch 65/100\n",
            "2/2 [==============================] - 0s 4ms/step - loss: 6.4478 - mae: 6.4478\n",
            "Epoch 66/100\n",
            "2/2 [==============================] - 0s 4ms/step - loss: 4.9967 - mae: 4.9967\n",
            "Epoch 67/100\n",
            "2/2 [==============================] - 0s 7ms/step - loss: 6.1890 - mae: 6.1890\n",
            "Epoch 68/100\n",
            "2/2 [==============================] - 0s 5ms/step - loss: 10.1926 - mae: 10.1926\n",
            "Epoch 69/100\n",
            "2/2 [==============================] - 0s 5ms/step - loss: 8.7438 - mae: 8.7438\n",
            "Epoch 70/100\n",
            "2/2 [==============================] - 0s 4ms/step - loss: 5.7691 - mae: 5.7691\n",
            "Epoch 71/100\n",
            "2/2 [==============================] - 0s 8ms/step - loss: 8.6417 - mae: 8.6417\n",
            "Epoch 72/100\n",
            "2/2 [==============================] - 0s 8ms/step - loss: 19.4683 - mae: 19.4683\n",
            "Epoch 73/100\n",
            "2/2 [==============================] - 0s 5ms/step - loss: 6.5358 - mae: 6.5358\n",
            "Epoch 74/100\n",
            "2/2 [==============================] - 0s 12ms/step - loss: 3.4672 - mae: 3.4672\n",
            "Epoch 75/100\n",
            "2/2 [==============================] - 0s 7ms/step - loss: 13.5750 - mae: 13.5750\n",
            "Epoch 76/100\n",
            "2/2 [==============================] - 0s 4ms/step - loss: 9.1122 - mae: 9.1122\n",
            "Epoch 77/100\n",
            "2/2 [==============================] - 0s 6ms/step - loss: 6.2883 - mae: 6.2883\n",
            "Epoch 78/100\n",
            "2/2 [==============================] - 0s 6ms/step - loss: 6.9682 - mae: 6.9682\n",
            "Epoch 79/100\n",
            "2/2 [==============================] - 0s 4ms/step - loss: 5.2651 - mae: 5.2651\n",
            "Epoch 80/100\n",
            "2/2 [==============================] - 0s 5ms/step - loss: 4.4525 - mae: 4.4525\n",
            "Epoch 81/100\n",
            "2/2 [==============================] - 0s 4ms/step - loss: 4.4769 - mae: 4.4769\n",
            "Epoch 82/100\n",
            "2/2 [==============================] - 0s 5ms/step - loss: 11.3614 - mae: 11.3614\n",
            "Epoch 83/100\n",
            "2/2 [==============================] - 0s 5ms/step - loss: 11.4737 - mae: 11.4737\n",
            "Epoch 84/100\n",
            "2/2 [==============================] - 0s 7ms/step - loss: 5.7549 - mae: 5.7549\n",
            "Epoch 85/100\n",
            "2/2 [==============================] - 0s 5ms/step - loss: 9.7125 - mae: 9.7125\n",
            "Epoch 86/100\n",
            "2/2 [==============================] - 0s 7ms/step - loss: 14.0676 - mae: 14.0676\n",
            "Epoch 87/100\n",
            "2/2 [==============================] - 0s 4ms/step - loss: 6.5628 - mae: 6.5628\n",
            "Epoch 88/100\n",
            "2/2 [==============================] - 0s 5ms/step - loss: 8.5756 - mae: 8.5756\n",
            "Epoch 89/100\n",
            "2/2 [==============================] - 0s 5ms/step - loss: 13.3504 - mae: 13.3504\n",
            "Epoch 90/100\n",
            "2/2 [==============================] - 0s 4ms/step - loss: 8.5381 - mae: 8.5381\n",
            "Epoch 91/100\n",
            "2/2 [==============================] - 0s 6ms/step - loss: 15.7728 - mae: 15.7728\n",
            "Epoch 92/100\n",
            "2/2 [==============================] - 0s 10ms/step - loss: 12.5162 - mae: 12.5162\n",
            "Epoch 93/100\n",
            "2/2 [==============================] - 0s 6ms/step - loss: 6.0417 - mae: 6.0417\n",
            "Epoch 94/100\n",
            "2/2 [==============================] - 0s 5ms/step - loss: 8.3045 - mae: 8.3045\n",
            "Epoch 95/100\n",
            "2/2 [==============================] - 0s 7ms/step - loss: 10.9778 - mae: 10.9778\n",
            "Epoch 96/100\n",
            "2/2 [==============================] - 0s 6ms/step - loss: 5.6015 - mae: 5.6015\n",
            "Epoch 97/100\n",
            "2/2 [==============================] - 0s 6ms/step - loss: 16.0907 - mae: 16.0907\n",
            "Epoch 98/100\n",
            "2/2 [==============================] - 0s 9ms/step - loss: 6.8727 - mae: 6.8727\n",
            "Epoch 99/100\n",
            "2/2 [==============================] - 0s 7ms/step - loss: 6.2880 - mae: 6.2880\n",
            "Epoch 100/100\n",
            "2/2 [==============================] - 0s 5ms/step - loss: 10.3345 - mae: 10.3345\n"
          ]
        },
        {
          "output_type": "execute_result",
          "data": {
            "text/plain": [
              "<keras.callbacks.History at 0x7fe5b7711250>"
            ]
          },
          "metadata": {},
          "execution_count": 38
        }
      ]
    },
    {
      "cell_type": "code",
      "source": [
        "# make predictions\n",
        "y_pred_1 = model_1.predict(X_test)\n",
        "y_pred_1"
      ],
      "metadata": {
        "colab": {
          "base_uri": "https://localhost:8080/"
        },
        "id": "5Y9bm-fr06nc",
        "outputId": "361ce96d-738d-4f70-a234-7742f5447a80"
      },
      "execution_count": 39,
      "outputs": [
        {
          "output_type": "stream",
          "name": "stderr",
          "text": [
            "WARNING:tensorflow:5 out of the last 5 calls to <function Model.make_predict_function.<locals>.predict_function at 0x7fe5bd1530e0> triggered tf.function retracing. Tracing is expensive and the excessive number of tracings could be due to (1) creating @tf.function repeatedly in a loop, (2) passing tensors with different shapes, (3) passing Python objects instead of tensors. For (1), please define your @tf.function outside of the loop. For (2), @tf.function has reduce_retracing=True option that can avoid unnecessary retracing. For (3), please refer to https://www.tensorflow.org/guide/function#controlling_retracing and https://www.tensorflow.org/api_docs/python/tf/function for  more details.\n"
          ]
        },
        {
          "output_type": "stream",
          "name": "stdout",
          "text": [
            "1/1 [==============================] - 0s 44ms/step\n"
          ]
        },
        {
          "output_type": "execute_result",
          "data": {
            "text/plain": [
              "array([[50.149574],\n",
              "       [53.43563 ],\n",
              "       [56.721687],\n",
              "       [60.00774 ],\n",
              "       [63.293797],\n",
              "       [66.57985 ],\n",
              "       [69.865906],\n",
              "       [73.15196 ],\n",
              "       [76.43802 ],\n",
              "       [79.724075]], dtype=float32)"
            ]
          },
          "metadata": {},
          "execution_count": 39
        }
      ]
    },
    {
      "cell_type": "code",
      "source": [
        "# plot predictions\n",
        "plot_prediction(predictions=y_pred_1)"
      ],
      "metadata": {
        "colab": {
          "base_uri": "https://localhost:8080/",
          "height": 428
        },
        "id": "LrenoraM1Wtg",
        "outputId": "5fd4e164-3b9b-4b3d-9d2e-0f11e1730e43"
      },
      "execution_count": 40,
      "outputs": [
        {
          "output_type": "display_data",
          "data": {
            "text/plain": [
              "<Figure size 720x504 with 1 Axes>"
            ],
            "image/png": "[encoded data removed]"
          },
          "metadata": {
            "needs_background": "light"
          }
        }
      ]
    },
    {
      "cell_type": "code",
      "source": [
        "# check metrics\n",
        "mae_1 = mae(y_test,y_pred_1)\n",
        "mae_1"
      ],
      "metadata": {
        "colab": {
          "base_uri": "https://localhost:8080/"
        },
        "id": "7rAh7vCf1eRJ",
        "outputId": "79d32961-a840-45b1-8cde-6f134fe76a03"
      },
      "execution_count": 41,
      "outputs": [
        {
          "output_type": "execute_result",
          "data": {
            "text/plain": [
              "18.063175"
            ]
          },
          "metadata": {},
          "execution_count": 41
        }
      ]
    },
    {
      "cell_type": "code",
      "source": [
        "mse_1 = mse(y_test,y_pred_1)\n",
        "mse_1"
      ],
      "metadata": {
        "colab": {
          "base_uri": "https://localhost:8080/"
        },
        "id": "F1RuVE121rPQ",
        "outputId": "33a1c9db-8c53-4f7a-854d-0bfa37409085"
      },
      "execution_count": 42,
      "outputs": [
        {
          "output_type": "execute_result",
          "data": {
            "text/plain": [
              "330.4835"
            ]
          },
          "metadata": {},
          "execution_count": 42
        }
      ]
    },
    {
      "cell_type": "markdown",
      "source": [
        "**Build `model_2`**\n",
        "\n",
        "Adding one extra dense layer"
      ],
      "metadata": {
        "id": "sd8ni6UT13_5"
      }
    },
    {
      "cell_type": "code",
      "source": [
        "# set random seed\n",
        "tf.random.set_seed(42)\n",
        "\n",
        "# create a model\n",
        "model_2 = tf.keras.Sequential([\n",
        "    tf.keras.layers.Dense(1),\n",
        "    tf.keras.layers.Dense(1) # add a second layer\n",
        "])\n",
        "\n",
        "# compile a model\n",
        "model_2.compile(loss=tf.keras.losses.mae,\n",
        "                optimizer=tf.keras.optimizers.SGD(),\n",
        "                metrics=[\"mae\"])\n",
        "\n",
        "# fit the model\n",
        "model_2.fit(tf.expand_dims(X_train, axis=-1), y_train, epochs = 100, verbose=0)"
      ],
      "metadata": {
        "colab": {
          "base_uri": "https://localhost:8080/"
        },
        "id": "go2l6ZeT2CL8",
        "outputId": "0e2a1302-477c-44c0-e5ae-654482cbe8c1"
      },
      "execution_count": 43,
      "outputs": [
        {
          "output_type": "execute_result",
          "data": {
            "text/plain": [
              "<keras.callbacks.History at 0x7fe5b85ed710>"
            ]
          },
          "metadata": {},
          "execution_count": 43
        }
      ]
    },
    {
      "cell_type": "code",
      "source": [
        "# Make predictions and plot model_2\n",
        "y_preds_2 = model_2.predict(X_test)\n",
        "plot_prediction(predictions=y_preds_2)"
      ],
      "metadata": {
        "colab": {
          "base_uri": "https://localhost:8080/",
          "height": 486
        },
        "id": "3u1ktti74f1W",
        "outputId": "ba6a28db-2930-4d7c-f17f-e34b55ad853f"
      },
      "execution_count": 44,
      "outputs": [
        {
          "output_type": "stream",
          "name": "stderr",
          "text": [
            "WARNING:tensorflow:6 out of the last 6 calls to <function Model.make_predict_function.<locals>.predict_function at 0x7fe5b8531320> triggered tf.function retracing. Tracing is expensive and the excessive number of tracings could be due to (1) creating @tf.function repeatedly in a loop, (2) passing tensors with different shapes, (3) passing Python objects instead of tensors. For (1), please define your @tf.function outside of the loop. For (2), @tf.function has reduce_retracing=True option that can avoid unnecessary retracing. For (3), please refer to https://www.tensorflow.org/guide/function#controlling_retracing and https://www.tensorflow.org/api_docs/python/tf/function for  more details.\n"
          ]
        },
        {
          "output_type": "stream",
          "name": "stdout",
          "text": [
            "1/1 [==============================] - 0s 54ms/step\n"
          ]
        },
        {
          "output_type": "display_data",
          "data": {
            "text/plain": [
              "<Figure size 720x504 with 1 Axes>"
            ],
            "image/png": "[encoded data removed]"
          },
          "metadata": {
            "needs_background": "light"
          }
        }
      ]
    },
    {
      "cell_type": "code",
      "source": [
        "# Calculate model_2 metrics\n",
        "mae_2 = mae(y_preds=y_preds_2)\n",
        "mse_2 = mse(y_preds=y_preds_2)\n",
        "mae_2, mse_2"
      ],
      "metadata": {
        "colab": {
          "base_uri": "https://localhost:8080/"
        },
        "id": "gzxJldE-4xjH",
        "outputId": "4bb2fa6c-cf70-42f1-c75b-db9ad83f6339"
      },
      "execution_count": 45,
      "outputs": [
        {
          "output_type": "execute_result",
          "data": {
            "text/plain": [
              "(30.45366, 953.075)"
            ]
          },
          "metadata": {},
          "execution_count": 45
        }
      ]
    },
    {
      "cell_type": "markdown",
      "source": [
        "**Build `model_3`**\n",
        "\n",
        "2 layer, trained with 500 epochs"
      ],
      "metadata": {
        "id": "WhUH2l3x5Js5"
      }
    },
    {
      "cell_type": "code",
      "source": [
        "# set the random seed\n",
        "tf.random.set_seed(42)\n",
        "\n",
        "#1. Create a model\n",
        "model_3 = tf.keras.Sequential([\n",
        "    tf.keras.layers.Dense(10),\n",
        "    tf.keras.layers.Dense(1)\n",
        "])\n",
        "\n",
        "# 2. Compile a model\n",
        "model_3.compile(loss=tf.keras.losses.mae,\n",
        "                optimizer=tf.keras.optimizers.SGD(),\n",
        "                metrics=[\"mae\"])\n",
        "\n",
        "# 3. Fit a model\n",
        "model_3.fit(tf.expand_dims(X_train, axis=-1), y_train, epochs=500, verbose = 0)"
      ],
      "metadata": {
        "colab": {
          "base_uri": "https://localhost:8080/"
        },
        "id": "SyPTfS8xqGJn",
        "outputId": "ab31a909-95b6-43dd-c5c8-e23ce5ec1965"
      },
      "execution_count": 47,
      "outputs": [
        {
          "output_type": "execute_result",
          "data": {
            "text/plain": [
              "<keras.callbacks.History at 0x7fe5b66f29d0>"
            ]
          },
          "metadata": {},
          "execution_count": 47
        }
      ]
    },
    {
      "cell_type": "code",
      "source": [
        "# Make predictions and plot model_3\n",
        "y_preds_3 = model_3.predict(X_test)\n",
        "plot_prediction(predictions=y_preds_3)"
      ],
      "metadata": {
        "colab": {
          "base_uri": "https://localhost:8080/",
          "height": 445
        },
        "id": "hx3ePH5UqwLt",
        "outputId": "0d83f960-2910-454c-9162-73c6684899ee"
      },
      "execution_count": 48,
      "outputs": [
        {
          "output_type": "stream",
          "name": "stdout",
          "text": [
            "1/1 [==============================] - 0s 71ms/step\n"
          ]
        },
        {
          "output_type": "display_data",
          "data": {
            "text/plain": [
              "<Figure size 720x504 with 1 Axes>"
            ],
            "image/png": "[encoded data removed]"
          },
          "metadata": {
            "needs_background": "light"
          }
        }
      ]
    },
    {
      "cell_type": "markdown",
      "source": [
        "Even worse 😆"
      ],
      "metadata": {
        "id": "3aAiQqzJrEGa"
      }
    },
    {
      "cell_type": "code",
      "source": [
        "# lets check mae and mse\n",
        "mae_3 = mae(y_test, y_preds_3)\n",
        "mse_3 = mse(y_test, y_preds_3)\n",
        "mae_3, mse_3"
      ],
      "metadata": {
        "colab": {
          "base_uri": "https://localhost:8080/"
        },
        "id": "Y3oUYIiHrJTT",
        "outputId": "c9a374a4-aebc-45b1-c468-4a36d2291a35"
      },
      "execution_count": 49,
      "outputs": [
        {
          "output_type": "execute_result",
          "data": {
            "text/plain": [
              "(66.00897, 4443.747)"
            ]
          },
          "metadata": {},
          "execution_count": 49
        }
      ]
    },
    {
      "cell_type": "markdown",
      "source": [
        "So how can we know which experiment went well, we have visualized it, but let's compare each metrics of each model"
      ],
      "metadata": {
        "id": "ZS2vKjpJrXXr"
      }
    },
    {
      "cell_type": "code",
      "source": [
        "# creating a dataframe\n",
        "\n",
        "import pandas as pd\n",
        "d = [[mae_1, mae_2, mae_3], [mse_1, mse_2, mse_3]]\n",
        "metrics_df = pd.DataFrame(data=d ,index=[\"MAE\", \"MSE\"],columns=[\"Model 1\",\"Model 2\", \"Model 3\"])\n",
        "metrics_df"
      ],
      "metadata": {
        "colab": {
          "base_uri": "https://localhost:8080/",
          "height": 112
        },
        "id": "-DRl_ocark1K",
        "outputId": "c8dc3dda-c9ed-431a-e893-02dd06dcf4f0"
      },
      "execution_count": 52,
      "outputs": [
        {
          "output_type": "execute_result",
          "data": {
            "text/plain": [
              "        Model 1     Model 2      Model 3\n",
              "MAE   18.063175   30.453659    66.008972\n",
              "MSE  330.483490  953.075012  4443.747070"
            ],
            "text/html": [
              "\n",
              "  <div id=\"df-87cdb250-7b20-490d-9973-1a28ca996a40\">\n",
              "    <div class=\"colab-df-container\">\n",
              "      <div>\n",
              "<style scoped>\n",
              "    .dataframe tbody tr th:only-of-type {\n",
              "        vertical-align: middle;\n",
              "    }\n",
              "\n",
              "    .dataframe tbody tr th {\n",
              "        vertical-align: top;\n",
              "    }\n",
              "\n",
              "    .dataframe thead th {\n",
              "        text-align: right;\n",
              "    }\n",
              "</style>\n",
              "<table border=\"1\" class=\"dataframe\">\n",
              "  <thead>\n",
              "    <tr style=\"text-align: right;\">\n",
              "      <th></th>\n",
              "      <th>Model 1</th>\n",
              "      <th>Model 2</th>\n",
              "      <th>Model 3</th>\n",
              "    </tr>\n",
              "  </thead>\n",
              "  <tbody>\n",
              "    <tr>\n",
              "      <th>MAE</th>\n",
              "      <td>18.063175</td>\n",
              "      <td>30.453659</td>\n",
              "      <td>66.008972</td>\n",
              "    </tr>\n",
              "    <tr>\n",
              "      <th>MSE</th>\n",
              "      <td>330.483490</td>\n",
              "      <td>953.075012</td>\n",
              "      <td>4443.747070</td>\n",
              "    </tr>\n",
              "  </tbody>\n",
              "</table>\n",
              "</div>\n",
              "      <button class=\"colab-df-convert\" onclick=\"convertToInteractive('df-87cdb250-7b20-490d-9973-1a28ca996a40')\"\n",
              "              title=\"Convert this dataframe to an interactive table.\"\n",
              "              style=\"display:none;\">\n",
              "        \n",
              "  <svg xmlns=\"http://www.w3.org/2000/svg\" height=\"24px\"viewBox=\"0 0 24 24\"\n",
              "       width=\"24px\">\n",
              "    <path d=\"M0 0h24v24H0V0z\" fill=\"none\"/>\n",
              "    <path d=\"M18.56 5.44l.94 2.06.94-2.06 2.06-.94-2.06-.94-.94-2.06-.94 2.06-2.06.94zm-11 1L8.5 8.5l.94-2.06 2.06-.94-2.06-.94L8.5 2.5l-.94 2.06-2.06.94zm10 10l.94 2.06.94-2.06 2.06-.94-2.06-.94-.94-2.06-.94 2.06-2.06.94z\"/><path d=\"M17.41 7.96l-1.37-1.37c-.4-.4-.92-.59-1.43-.59-.52 0-1.04.2-1.43.59L10.3 9.45l-7.72 7.72c-.78.78-.78 2.05 0 2.83L4 21.41c.39.39.9.59 1.41.59.51 0 1.02-.2 1.41-.59l7.78-7.78 2.81-2.81c.8-.78.8-2.07 0-2.86zM5.41 20L4 18.59l7.72-7.72 1.47 1.35L5.41 20z\"/>\n",
              "  </svg>\n",
              "      </button>\n",
              "      \n",
              "  <style>\n",
              "    .colab-df-container {\n",
              "      display:flex;\n",
              "      flex-wrap:wrap;\n",
              "      gap: 12px;\n",
              "    }\n",
              "\n",
              "    .colab-df-convert {\n",
              "      background-color: #E8F0FE;\n",
              "      border: none;\n",
              "      border-radius: 50%;\n",
              "      cursor: pointer;\n",
              "      display: none;\n",
              "      fill: #1967D2;\n",
              "      height: 32px;\n",
              "      padding: 0 0 0 0;\n",
              "      width: 32px;\n",
              "    }\n",
              "\n",
              "    .colab-df-convert:hover {\n",
              "      background-color: #E2EBFA;\n",
              "      box-shadow: 0px 1px 2px rgba(60, 64, 67, 0.3), 0px 1px 3px 1px rgba(60, 64, 67, 0.15);\n",
              "      fill: #174EA6;\n",
              "    }\n",
              "\n",
              "    [theme=dark] .colab-df-convert {\n",
              "      background-color: #3B4455;\n",
              "      fill: #D2E3FC;\n",
              "    }\n",
              "\n",
              "    [theme=dark] .colab-df-convert:hover {\n",
              "      background-color: #434B5C;\n",
              "      box-shadow: 0px 1px 3px 1px rgba(0, 0, 0, 0.15);\n",
              "      filter: drop-shadow(0px 1px 2px rgba(0, 0, 0, 0.3));\n",
              "      fill: #FFFFFF;\n",
              "    }\n",
              "  </style>\n",
              "\n",
              "      <script>\n",
              "        const buttonEl =\n",
              "          document.querySelector('#df-87cdb250-7b20-490d-9973-1a28ca996a40 button.colab-df-convert');\n",
              "        buttonEl.style.display =\n",
              "          google.colab.kernel.accessAllowed ? 'block' : 'none';\n",
              "\n",
              "        async function convertToInteractive(key) {\n",
              "          const element = document.querySelector('#df-87cdb250-7b20-490d-9973-1a28ca996a40');\n",
              "          const dataTable =\n",
              "            await google.colab.kernel.invokeFunction('convertToInteractive',\n",
              "                                                     [key], {});\n",
              "          if (!dataTable) return;\n",
              "\n",
              "          const docLinkHtml = 'Like what you see? Visit the ' +\n",
              "            '<a target=\"_blank\" href=https://colab.research.google.com/notebooks/data_table.ipynb>data table notebook</a>'\n",
              "            + ' to learn more about interactive tables.';\n",
              "          element.innerHTML = '';\n",
              "          dataTable['output_type'] = 'display_data';\n",
              "          await google.colab.output.renderOutput(dataTable, element);\n",
              "          const docLink = document.createElement('div');\n",
              "          docLink.innerHTML = docLinkHtml;\n",
              "          element.appendChild(docLink);\n",
              "        }\n",
              "      </script>\n",
              "    </div>\n",
              "  </div>\n",
              "  "
            ]
          },
          "metadata": {},
          "execution_count": 52
        }
      ]
    },
    {
      "cell_type": "code",
      "source": [
        "# if we plot a bar graph\n",
        "metrics_df.plot(kind=\"bar\")"
      ],
      "metadata": {
        "colab": {
          "base_uri": "https://localhost:8080/",
          "height": 294
        },
        "id": "uqjcgFNgrwbT",
        "outputId": "b3c04d53-1083-478a-8321-a4700d6e5954"
      },
      "execution_count": 56,
      "outputs": [
        {
          "output_type": "execute_result",
          "data": {
            "text/plain": [
              "<matplotlib.axes._subplots.AxesSubplot at 0x7fe5b118cf10>"
            ]
          },
          "metadata": {},
          "execution_count": 56
        },
        {
          "output_type": "display_data",
          "data": {
            "text/plain": [
              "<Figure size 432x288 with 1 Axes>"
            ],
            "image/png": "[encoded data removed]"
          },
          "metadata": {
            "needs_background": "light"
          }
        }
      ]
    },
    {
      "cell_type": "markdown",
      "source": [
        "So from our experiments it looks like `model_1` performed the best.\n",
        "\n",
        "But usually this is very less number of experiments and changes we did to adjust the hyperparameters and increase layers of neural network for experiments.\n",
        "\n",
        "> 🔑 **Note**: One of your main goals should be to minimize the time between your experiments. The more experiments you do, the more things you'll figure out which don't work and in turn, get closer to figuring out what does work. Remember the machine learning practitioner's motto: **\"Experiment\", \"Experiment\" and \"Experiment\"**."
      ],
      "metadata": {
        "id": "iLWzA1V_thXU"
      }
    },
    {
      "cell_type": "markdown",
      "source": [
        "## Tracking our experiments\n",
        "\n",
        "To track our experiments we have used variables and stored the results into them and visualized it, but there are more tools and libraries available for this.\n",
        "\n",
        "> 📖 **Resource**:\n",
        "  1. [TensorBoard](https://tensorboard.dev/) - a component of TensorFlow library to help track modelling experiments.\n",
        "  2. [Weights & Biases](https://www.wandb.com/) - a tool for tracking all kinds of machine learning experiments."
      ],
      "metadata": {
        "id": "X7w6imq0u21B"
      }
    },
    {
      "cell_type": "markdown",
      "source": [
        "## Saving a model\n",
        "\n",
        "Once we've trained a model and found one which performs to your liking, we'll probabily want to save it for use elsewhere(like a web application or mobile devices).\n",
        "\n",
        "We can save a TensorFlow/Keras model using `model.save()`\n",
        "\n",
        "There are two ways to save a model in TensorFlow\n",
        "1. `SavedModel` format(default)\n",
        "2. `HDF5` format."
      ],
      "metadata": {
        "id": "qU7g_ej7vfYu"
      }
    },
    {
      "cell_type": "markdown",
      "source": [
        "let's save it using `SavedModel`"
      ],
      "metadata": {
        "id": "PGAxrHizxA2U"
      }
    },
    {
      "cell_type": "code",
      "source": [
        "model_1.save(\"best_model_SavedModel_format_regression_NN\")"
      ],
      "metadata": {
        "id": "7-O5u0ZexFR3"
      },
      "execution_count": 57,
      "outputs": []
    },
    {
      "cell_type": "code",
      "source": [
        "# check it out\n",
        "!ls best_model_SavedModel_format_regression_NN"
      ],
      "metadata": {
        "colab": {
          "base_uri": "https://localhost:8080/"
        },
        "id": "18EWFHLgxPIB",
        "outputId": "0ef6344d-9569-4c2f-e261-c9b3f95f0ab0"
      },
      "execution_count": 58,
      "outputs": [
        {
          "output_type": "stream",
          "name": "stdout",
          "text": [
            "assets\tkeras_metadata.pb  saved_model.pb  variables\n"
          ]
        }
      ]
    },
    {
      "cell_type": "markdown",
      "source": [
        "using `HDF5` format"
      ],
      "metadata": {
        "id": "7IzIpg5jxXf8"
      }
    },
    {
      "cell_type": "code",
      "source": [
        "model_1.save(\"best_model_HDF5_format.h5\")"
      ],
      "metadata": {
        "id": "n_ssHmEWxewK"
      },
      "execution_count": 59,
      "outputs": []
    },
    {
      "cell_type": "code",
      "source": [
        "!ls best_model_HDF5_format.h5"
      ],
      "metadata": {
        "colab": {
          "base_uri": "https://localhost:8080/"
        },
        "id": "bgH2xNr1xkX0",
        "outputId": "cd1230f5-a4f4-4a19-bc26-0378189256ab"
      },
      "execution_count": 60,
      "outputs": [
        {
          "output_type": "stream",
          "name": "stdout",
          "text": [
            "best_model_HDF5_format.h5\n"
          ]
        }
      ]
    },
    {
      "cell_type": "markdown",
      "source": [
        "## Loading a model\n",
        "\n",
        "We can load a saved model using the `load_model()` method"
      ],
      "metadata": {
        "id": "k4Mw1qpuxoJ9"
      }
    },
    {
      "cell_type": "code",
      "source": [
        "model_loaded = tf.keras.models.load_model(\"best_model_HDF5_format.h5\")\n",
        "model_loaded.summary()"
      ],
      "metadata": {
        "colab": {
          "base_uri": "https://localhost:8080/"
        },
        "id": "JTcush_wxy-7",
        "outputId": "6ddaf997-b0d4-4c0c-a521-1710aa131b77"
      },
      "execution_count": 61,
      "outputs": [
        {
          "output_type": "stream",
          "name": "stdout",
          "text": [
            "Model: \"sequential_5\"\n",
            "_________________________________________________________________\n",
            " Layer (type)                Output Shape              Param #   \n",
            "=================================================================\n",
            " dense_5 (Dense)             (None, 1)                 2         \n",
            "                                                                 \n",
            "=================================================================\n",
            "Total params: 2\n",
            "Trainable params: 2\n",
            "Non-trainable params: 0\n",
            "_________________________________________________________________\n"
          ]
        }
      ]
    },
    {
      "cell_type": "markdown",
      "source": [
        "## Downloading a model (from Google colab)\n",
        "\n",
        "We can download it manually using right-click over the file and then Download it.\n",
        "\n",
        "But using code also it's possible."
      ],
      "metadata": {
        "id": "h8yeqrqzx82D"
      }
    },
    {
      "cell_type": "code",
      "source": [
        "from google.colab import files\n",
        "files.download(\"best_model_SavedModel_format_regression_NN\")"
      ],
      "metadata": {
        "colab": {
          "base_uri": "https://localhost:8080/",
          "height": 34
        },
        "id": "AlQvLMCWyQWW",
        "outputId": "8f22e4ff-23d9-4833-c778-836717186901"
      },
      "execution_count": 62,
      "outputs": [
        {
          "output_type": "display_data",
          "data": {
            "text/plain": [
              "<IPython.core.display.Javascript object>"
            ],
            "application/javascript": [
              "\n",
              "    async function download(id, filename, size) {\n",
              "      if (!google.colab.kernel.accessAllowed) {\n",
              "        return;\n",
              "      }\n",
              "      const div = document.createElement('div');\n",
              "      const label = document.createElement('label');\n",
              "      label.textContent = `Downloading \"${filename}\": `;\n",
              "      div.appendChild(label);\n",
              "      const progress = document.createElement('progress');\n",
              "      progress.max = size;\n",
              "      div.appendChild(progress);\n",
              "      document.body.appendChild(div);\n",
              "\n",
              "      const buffers = [];\n",
              "      let downloaded = 0;\n",
              "\n",
              "      const channel = await google.colab.kernel.comms.open(id);\n",
              "      // Send a message to notify the kernel that we're ready.\n",
              "      channel.send({})\n",
              "\n",
              "      for await (const message of channel.messages) {\n",
              "        // Send a message to notify the kernel that we're ready.\n",
              "        channel.send({})\n",
              "        if (message.buffers) {\n",
              "          for (const buffer of message.buffers) {\n",
              "            buffers.push(buffer);\n",
              "            downloaded += buffer.byteLength;\n",
              "            progress.value = downloaded;\n",
              "          }\n",
              "        }\n",
              "      }\n",
              "      const blob = new Blob(buffers, {type: 'application/binary'});\n",
              "      const a = document.createElement('a');\n",
              "      a.href = window.URL.createObjectURL(blob);\n",
              "      a.download = filename;\n",
              "      div.appendChild(a);\n",
              "      a.click();\n",
              "      div.remove();\n",
              "    }\n",
              "  "
            ]
          },
          "metadata": {}
        },
        {
          "output_type": "display_data",
          "data": {
            "text/plain": [
              "<IPython.core.display.Javascript object>"
            ],
            "application/javascript": [
              "download(\"download_ad67a8f7-b09c-4b2c-a739-b7458dbb5b61\", \"best_model_SavedModel_format_regression_NN\", 4096)"
            ]
          },
          "metadata": {}
        }
      ]
    },
    {
      "cell_type": "markdown",
      "source": [
        "## A Larger Example\n",
        "\n",
        "We've seen all the fundamentals of building neural network regression models in TensorFlow\n",
        "\n",
        "Let's step it up a notch and build a model for a more feature rich dataset.\n",
        "\n",
        "\n",
        "For this we will use a dataset available in Kaggle i.e [Medical Cost dataset](https://www.kaggle.com/mirichoi0218/insurance), [hosted on Github](https://github.com/stedy/Machine-Learning-with-R-datasets/blob/master/insurance.csv)"
      ],
      "metadata": {
        "id": "o-KLHzXgyZye"
      }
    },
    {
      "cell_type": "code",
      "source": [
        "# Import required libraries\n",
        "import pandas as pd\n",
        "import matplotlib.pyplot as plt\n",
        "import tensorflow as tf"
      ],
      "metadata": {
        "id": "MdYNf0IAzBZ0"
      },
      "execution_count": 63,
      "outputs": []
    },
    {
      "cell_type": "markdown",
      "source": [
        "The problem we're solving through dataset is:\n",
        "We'll try to predict the cost of the health insurance based on given data like `age`, `sex`, `smoker`, `region`, `bmi`, `children`"
      ],
      "metadata": {
        "id": "jSoVbNGDzP3q"
      }
    },
    {
      "cell_type": "code",
      "source": [
        "# import the dataset\n",
        "insurance = pd.read_csv(\"https://raw.githubusercontent.com/stedy/Machine-Learning-with-R-datasets/master/insurance.csv\")"
      ],
      "metadata": {
        "id": "QVmBwj8RzHoi"
      },
      "execution_count": 65,
      "outputs": []
    },
    {
      "cell_type": "code",
      "source": [
        "insurance.head()"
      ],
      "metadata": {
        "colab": {
          "base_uri": "https://localhost:8080/",
          "height": 206
        },
        "id": "GCsrjQoMzjwd",
        "outputId": "b6b17b21-133e-471f-b5be-f8761bae6b26"
      },
      "execution_count": 66,
      "outputs": [
        {
          "output_type": "execute_result",
          "data": {
            "text/plain": [
              "   age     sex     bmi  children smoker     region      charges\n",
              "0   19  female  27.900         0    yes  southwest  16884.92400\n",
              "1   18    male  33.770         1     no  southeast   1725.55230\n",
              "2   28    male  33.000         3     no  southeast   4449.46200\n",
              "3   33    male  22.705         0     no  northwest  21984.47061\n",
              "4   32    male  28.880         0     no  northwest   3866.85520"
            ],
            "text/html": [
              "\n",
              "  <div id=\"df-afa8d751-827f-4254-bcaf-c3d6081a9b45\">\n",
              "    <div class=\"colab-df-container\">\n",
              "      <div>\n",
              "<style scoped>\n",
              "    .dataframe tbody tr th:only-of-type {\n",
              "        vertical-align: middle;\n",
              "    }\n",
              "\n",
              "    .dataframe tbody tr th {\n",
              "        vertical-align: top;\n",
              "    }\n",
              "\n",
              "    .dataframe thead th {\n",
              "        text-align: right;\n",
              "    }\n",
              "</style>\n",
              "<table border=\"1\" class=\"dataframe\">\n",
              "  <thead>\n",
              "    <tr style=\"text-align: right;\">\n",
              "      <th></th>\n",
              "      <th>age</th>\n",
              "      <th>sex</th>\n",
              "      <th>bmi</th>\n",
              "      <th>children</th>\n",
              "      <th>smoker</th>\n",
              "      <th>region</th>\n",
              "      <th>charges</th>\n",
              "    </tr>\n",
              "  </thead>\n",
              "  <tbody>\n",
              "    <tr>\n",
              "      <th>0</th>\n",
              "      <td>19</td>\n",
              "      <td>female</td>\n",
              "      <td>27.900</td>\n",
              "      <td>0</td>\n",
              "      <td>yes</td>\n",
              "      <td>southwest</td>\n",
              "      <td>16884.92400</td>\n",
              "    </tr>\n",
              "    <tr>\n",
              "      <th>1</th>\n",
              "      <td>18</td>\n",
              "      <td>male</td>\n",
              "      <td>33.770</td>\n",
              "      <td>1</td>\n",
              "      <td>no</td>\n",
              "      <td>southeast</td>\n",
              "      <td>1725.55230</td>\n",
              "    </tr>\n",
              "    <tr>\n",
              "      <th>2</th>\n",
              "      <td>28</td>\n",
              "      <td>male</td>\n",
              "      <td>33.000</td>\n",
              "      <td>3</td>\n",
              "      <td>no</td>\n",
              "      <td>southeast</td>\n",
              "      <td>4449.46200</td>\n",
              "    </tr>\n",
              "    <tr>\n",
              "      <th>3</th>\n",
              "      <td>33</td>\n",
              "      <td>male</td>\n",
              "      <td>22.705</td>\n",
              "      <td>0</td>\n",
              "      <td>no</td>\n",
              "      <td>northwest</td>\n",
              "      <td>21984.47061</td>\n",
              "    </tr>\n",
              "    <tr>\n",
              "      <th>4</th>\n",
              "      <td>32</td>\n",
              "      <td>male</td>\n",
              "      <td>28.880</td>\n",
              "      <td>0</td>\n",
              "      <td>no</td>\n",
              "      <td>northwest</td>\n",
              "      <td>3866.85520</td>\n",
              "    </tr>\n",
              "  </tbody>\n",
              "</table>\n",
              "</div>\n",
              "      <button class=\"colab-df-convert\" onclick=\"convertToInteractive('df-afa8d751-827f-4254-bcaf-c3d6081a9b45')\"\n",
              "              title=\"Convert this dataframe to an interactive table.\"\n",
              "              style=\"display:none;\">\n",
              "        \n",
              "  <svg xmlns=\"http://www.w3.org/2000/svg\" height=\"24px\"viewBox=\"0 0 24 24\"\n",
              "       width=\"24px\">\n",
              "    <path d=\"M0 0h24v24H0V0z\" fill=\"none\"/>\n",
              "    <path d=\"M18.56 5.44l.94 2.06.94-2.06 2.06-.94-2.06-.94-.94-2.06-.94 2.06-2.06.94zm-11 1L8.5 8.5l.94-2.06 2.06-.94-2.06-.94L8.5 2.5l-.94 2.06-2.06.94zm10 10l.94 2.06.94-2.06 2.06-.94-2.06-.94-.94-2.06-.94 2.06-2.06.94z\"/><path d=\"M17.41 7.96l-1.37-1.37c-.4-.4-.92-.59-1.43-.59-.52 0-1.04.2-1.43.59L10.3 9.45l-7.72 7.72c-.78.78-.78 2.05 0 2.83L4 21.41c.39.39.9.59 1.41.59.51 0 1.02-.2 1.41-.59l7.78-7.78 2.81-2.81c.8-.78.8-2.07 0-2.86zM5.41 20L4 18.59l7.72-7.72 1.47 1.35L5.41 20z\"/>\n",
              "  </svg>\n",
              "      </button>\n",
              "      \n",
              "  <style>\n",
              "    .colab-df-container {\n",
              "      display:flex;\n",
              "      flex-wrap:wrap;\n",
              "      gap: 12px;\n",
              "    }\n",
              "\n",
              "    .colab-df-convert {\n",
              "      background-color: #E8F0FE;\n",
              "      border: none;\n",
              "      border-radius: 50%;\n",
              "      cursor: pointer;\n",
              "      display: none;\n",
              "      fill: #1967D2;\n",
              "      height: 32px;\n",
              "      padding: 0 0 0 0;\n",
              "      width: 32px;\n",
              "    }\n",
              "\n",
              "    .colab-df-convert:hover {\n",
              "      background-color: #E2EBFA;\n",
              "      box-shadow: 0px 1px 2px rgba(60, 64, 67, 0.3), 0px 1px 3px 1px rgba(60, 64, 67, 0.15);\n",
              "      fill: #174EA6;\n",
              "    }\n",
              "\n",
              "    [theme=dark] .colab-df-convert {\n",
              "      background-color: #3B4455;\n",
              "      fill: #D2E3FC;\n",
              "    }\n",
              "\n",
              "    [theme=dark] .colab-df-convert:hover {\n",
              "      background-color: #434B5C;\n",
              "      box-shadow: 0px 1px 3px 1px rgba(0, 0, 0, 0.15);\n",
              "      filter: drop-shadow(0px 1px 2px rgba(0, 0, 0, 0.3));\n",
              "      fill: #FFFFFF;\n",
              "    }\n",
              "  </style>\n",
              "\n",
              "      <script>\n",
              "        const buttonEl =\n",
              "          document.querySelector('#df-afa8d751-827f-4254-bcaf-c3d6081a9b45 button.colab-df-convert');\n",
              "        buttonEl.style.display =\n",
              "          google.colab.kernel.accessAllowed ? 'block' : 'none';\n",
              "\n",
              "        async function convertToInteractive(key) {\n",
              "          const element = document.querySelector('#df-afa8d751-827f-4254-bcaf-c3d6081a9b45');\n",
              "          const dataTable =\n",
              "            await google.colab.kernel.invokeFunction('convertToInteractive',\n",
              "                                                     [key], {});\n",
              "          if (!dataTable) return;\n",
              "\n",
              "          const docLinkHtml = 'Like what you see? Visit the ' +\n",
              "            '<a target=\"_blank\" href=https://colab.research.google.com/notebooks/data_table.ipynb>data table notebook</a>'\n",
              "            + ' to learn more about interactive tables.';\n",
              "          element.innerHTML = '';\n",
              "          dataTable['output_type'] = 'display_data';\n",
              "          await google.colab.output.renderOutput(dataTable, element);\n",
              "          const docLink = document.createElement('div');\n",
              "          docLink.innerHTML = docLinkHtml;\n",
              "          element.appendChild(docLink);\n",
              "        }\n",
              "      </script>\n",
              "    </div>\n",
              "  </div>\n",
              "  "
            ]
          },
          "metadata": {},
          "execution_count": 66
        }
      ]
    },
    {
      "cell_type": "markdown",
      "source": [
        "Here we have the data, but is it ready to train ?\n",
        "\n",
        "I don't think so, I think we need to first convert them into integers/numeric values so that our machine can learn.\n",
        "\n",
        "To do that, we will do numerical encoding using pandas, and pandas has a function called `get_dummies()`"
      ],
      "metadata": {
        "id": "ebUfcubGzm3M"
      }
    },
    {
      "cell_type": "code",
      "source": [
        "# let's numerical encode all the data and store into a variable\n",
        "insurance_one_hot = pd.get_dummies(insurance)\n",
        "insurance_one_hot.head()"
      ],
      "metadata": {
        "colab": {
          "base_uri": "https://localhost:8080/",
          "height": 206
        },
        "id": "6I6AoIcW4F9K",
        "outputId": "2e308033-12f0-4514-f5da-46e9b95180e2"
      },
      "execution_count": 71,
      "outputs": [
        {
          "output_type": "execute_result",
          "data": {
            "text/plain": [
              "   age     bmi  children      charges  sex_female  sex_male  smoker_no  \\\n",
              "0   19  27.900         0  16884.92400           1         0          0   \n",
              "1   18  33.770         1   1725.55230           0         1          1   \n",
              "2   28  33.000         3   4449.46200           0         1          1   \n",
              "3   33  22.705         0  21984.47061           0         1          1   \n",
              "4   32  28.880         0   3866.85520           0         1          1   \n",
              "\n",
              "   smoker_yes  region_northeast  region_northwest  region_southeast  \\\n",
              "0           1                 0                 0                 0   \n",
              "1           0                 0                 0                 1   \n",
              "2           0                 0                 0                 1   \n",
              "3           0                 0                 1                 0   \n",
              "4           0                 0                 1                 0   \n",
              "\n",
              "   region_southwest  \n",
              "0                 1  \n",
              "1                 0  \n",
              "2                 0  \n",
              "3                 0  \n",
              "4                 0  "
            ],
            "text/html": [
              "\n",
              "  <div id=\"df-ebbd4fd2-0a74-47fe-86c4-919b905f28c4\">\n",
              "    <div class=\"colab-df-container\">\n",
              "      <div>\n",
              "<style scoped>\n",
              "    .dataframe tbody tr th:only-of-type {\n",
              "        vertical-align: middle;\n",
              "    }\n",
              "\n",
              "    .dataframe tbody tr th {\n",
              "        vertical-align: top;\n",
              "    }\n",
              "\n",
              "    .dataframe thead th {\n",
              "        text-align: right;\n",
              "    }\n",
              "</style>\n",
              "<table border=\"1\" class=\"dataframe\">\n",
              "  <thead>\n",
              "    <tr style=\"text-align: right;\">\n",
              "      <th></th>\n",
              "      <th>age</th>\n",
              "      <th>bmi</th>\n",
              "      <th>children</th>\n",
              "      <th>charges</th>\n",
              "      <th>sex_female</th>\n",
              "      <th>sex_male</th>\n",
              "      <th>smoker_no</th>\n",
              "      <th>smoker_yes</th>\n",
              "      <th>region_northeast</th>\n",
              "      <th>region_northwest</th>\n",
              "      <th>region_southeast</th>\n",
              "      <th>region_southwest</th>\n",
              "    </tr>\n",
              "  </thead>\n",
              "  <tbody>\n",
              "    <tr>\n",
              "      <th>0</th>\n",
              "      <td>19</td>\n",
              "      <td>27.900</td>\n",
              "      <td>0</td>\n",
              "      <td>16884.92400</td>\n",
              "      <td>1</td>\n",
              "      <td>0</td>\n",
              "      <td>0</td>\n",
              "      <td>1</td>\n",
              "      <td>0</td>\n",
              "      <td>0</td>\n",
              "      <td>0</td>\n",
              "      <td>1</td>\n",
              "    </tr>\n",
              "    <tr>\n",
              "      <th>1</th>\n",
              "      <td>18</td>\n",
              "      <td>33.770</td>\n",
              "      <td>1</td>\n",
              "      <td>1725.55230</td>\n",
              "      <td>0</td>\n",
              "      <td>1</td>\n",
              "      <td>1</td>\n",
              "      <td>0</td>\n",
              "      <td>0</td>\n",
              "      <td>0</td>\n",
              "      <td>1</td>\n",
              "      <td>0</td>\n",
              "    </tr>\n",
              "    <tr>\n",
              "      <th>2</th>\n",
              "      <td>28</td>\n",
              "      <td>33.000</td>\n",
              "      <td>3</td>\n",
              "      <td>4449.46200</td>\n",
              "      <td>0</td>\n",
              "      <td>1</td>\n",
              "      <td>1</td>\n",
              "      <td>0</td>\n",
              "      <td>0</td>\n",
              "      <td>0</td>\n",
              "      <td>1</td>\n",
              "      <td>0</td>\n",
              "    </tr>\n",
              "    <tr>\n",
              "      <th>3</th>\n",
              "      <td>33</td>\n",
              "      <td>22.705</td>\n",
              "      <td>0</td>\n",
              "      <td>21984.47061</td>\n",
              "      <td>0</td>\n",
              "      <td>1</td>\n",
              "      <td>1</td>\n",
              "      <td>0</td>\n",
              "      <td>0</td>\n",
              "      <td>1</td>\n",
              "      <td>0</td>\n",
              "      <td>0</td>\n",
              "    </tr>\n",
              "    <tr>\n",
              "      <th>4</th>\n",
              "      <td>32</td>\n",
              "      <td>28.880</td>\n",
              "      <td>0</td>\n",
              "      <td>3866.85520</td>\n",
              "      <td>0</td>\n",
              "      <td>1</td>\n",
              "      <td>1</td>\n",
              "      <td>0</td>\n",
              "      <td>0</td>\n",
              "      <td>1</td>\n",
              "      <td>0</td>\n",
              "      <td>0</td>\n",
              "    </tr>\n",
              "  </tbody>\n",
              "</table>\n",
              "</div>\n",
              "      <button class=\"colab-df-convert\" onclick=\"convertToInteractive('df-ebbd4fd2-0a74-47fe-86c4-919b905f28c4')\"\n",
              "              title=\"Convert this dataframe to an interactive table.\"\n",
              "              style=\"display:none;\">\n",
              "        \n",
              "  <svg xmlns=\"http://www.w3.org/2000/svg\" height=\"24px\"viewBox=\"0 0 24 24\"\n",
              "       width=\"24px\">\n",
              "    <path d=\"M0 0h24v24H0V0z\" fill=\"none\"/>\n",
              "    <path d=\"M18.56 5.44l.94 2.06.94-2.06 2.06-.94-2.06-.94-.94-2.06-.94 2.06-2.06.94zm-11 1L8.5 8.5l.94-2.06 2.06-.94-2.06-.94L8.5 2.5l-.94 2.06-2.06.94zm10 10l.94 2.06.94-2.06 2.06-.94-2.06-.94-.94-2.06-.94 2.06-2.06.94z\"/><path d=\"M17.41 7.96l-1.37-1.37c-.4-.4-.92-.59-1.43-.59-.52 0-1.04.2-1.43.59L10.3 9.45l-7.72 7.72c-.78.78-.78 2.05 0 2.83L4 21.41c.39.39.9.59 1.41.59.51 0 1.02-.2 1.41-.59l7.78-7.78 2.81-2.81c.8-.78.8-2.07 0-2.86zM5.41 20L4 18.59l7.72-7.72 1.47 1.35L5.41 20z\"/>\n",
              "  </svg>\n",
              "      </button>\n",
              "      \n",
              "  <style>\n",
              "    .colab-df-container {\n",
              "      display:flex;\n",
              "      flex-wrap:wrap;\n",
              "      gap: 12px;\n",
              "    }\n",
              "\n",
              "    .colab-df-convert {\n",
              "      background-color: #E8F0FE;\n",
              "      border: none;\n",
              "      border-radius: 50%;\n",
              "      cursor: pointer;\n",
              "      display: none;\n",
              "      fill: #1967D2;\n",
              "      height: 32px;\n",
              "      padding: 0 0 0 0;\n",
              "      width: 32px;\n",
              "    }\n",
              "\n",
              "    .colab-df-convert:hover {\n",
              "      background-color: #E2EBFA;\n",
              "      box-shadow: 0px 1px 2px rgba(60, 64, 67, 0.3), 0px 1px 3px 1px rgba(60, 64, 67, 0.15);\n",
              "      fill: #174EA6;\n",
              "    }\n",
              "\n",
              "    [theme=dark] .colab-df-convert {\n",
              "      background-color: #3B4455;\n",
              "      fill: #D2E3FC;\n",
              "    }\n",
              "\n",
              "    [theme=dark] .colab-df-convert:hover {\n",
              "      background-color: #434B5C;\n",
              "      box-shadow: 0px 1px 3px 1px rgba(0, 0, 0, 0.15);\n",
              "      filter: drop-shadow(0px 1px 2px rgba(0, 0, 0, 0.3));\n",
              "      fill: #FFFFFF;\n",
              "    }\n",
              "  </style>\n",
              "\n",
              "      <script>\n",
              "        const buttonEl =\n",
              "          document.querySelector('#df-ebbd4fd2-0a74-47fe-86c4-919b905f28c4 button.colab-df-convert');\n",
              "        buttonEl.style.display =\n",
              "          google.colab.kernel.accessAllowed ? 'block' : 'none';\n",
              "\n",
              "        async function convertToInteractive(key) {\n",
              "          const element = document.querySelector('#df-ebbd4fd2-0a74-47fe-86c4-919b905f28c4');\n",
              "          const dataTable =\n",
              "            await google.colab.kernel.invokeFunction('convertToInteractive',\n",
              "                                                     [key], {});\n",
              "          if (!dataTable) return;\n",
              "\n",
              "          const docLinkHtml = 'Like what you see? Visit the ' +\n",
              "            '<a target=\"_blank\" href=https://colab.research.google.com/notebooks/data_table.ipynb>data table notebook</a>'\n",
              "            + ' to learn more about interactive tables.';\n",
              "          element.innerHTML = '';\n",
              "          dataTable['output_type'] = 'display_data';\n",
              "          await google.colab.output.renderOutput(dataTable, element);\n",
              "          const docLink = document.createElement('div');\n",
              "          docLink.innerHTML = docLinkHtml;\n",
              "          element.appendChild(docLink);\n",
              "        }\n",
              "      </script>\n",
              "    </div>\n",
              "  </div>\n",
              "  "
            ]
          },
          "metadata": {},
          "execution_count": 71
        }
      ]
    },
    {
      "cell_type": "code",
      "source": [
        "# next thing is we have to separate the label and features into different variables\n",
        "X = insurance_one_hot.drop(\"charges\", axis = 1)\n",
        "y = insurance_one_hot[\"charges\"]"
      ],
      "metadata": {
        "id": "dROgmKYQ4ND1"
      },
      "execution_count": 72,
      "outputs": []
    },
    {
      "cell_type": "code",
      "source": [
        "# lets see the shape\n",
        "X.shape, y.shape"
      ],
      "metadata": {
        "colab": {
          "base_uri": "https://localhost:8080/"
        },
        "id": "pvroMZdA4S8d",
        "outputId": "a6af6b05-632b-48fa-8d21-f347f81b72fe"
      },
      "execution_count": 73,
      "outputs": [
        {
          "output_type": "execute_result",
          "data": {
            "text/plain": [
              "((1338, 11), (1338,))"
            ]
          },
          "metadata": {},
          "execution_count": 73
        }
      ]
    },
    {
      "cell_type": "markdown",
      "source": [
        "Now I guess the data is ready to train into the model.\n",
        "\n",
        "But wait, we have to do one more thing, which is to create separate set of training and test set."
      ],
      "metadata": {
        "id": "8zflveap4zn2"
      }
    },
    {
      "cell_type": "code",
      "source": [
        "# import sklearn function to do that\n",
        "from sklearn.model_selection import train_test_split\n",
        "\n",
        "X_train, X_test, y_train, y_test = train_test_split(X, y , test_size=0.2)"
      ],
      "metadata": {
        "id": "jJyyPJDc47ve"
      },
      "execution_count": 75,
      "outputs": []
    },
    {
      "cell_type": "code",
      "source": [
        "X_train.shape, X_test.shape"
      ],
      "metadata": {
        "colab": {
          "base_uri": "https://localhost:8080/"
        },
        "id": "mcckZ_iq5RIV",
        "outputId": "b9188acc-0e4f-4f06-b806-df8161a4f2bf"
      },
      "execution_count": 76,
      "outputs": [
        {
          "output_type": "execute_result",
          "data": {
            "text/plain": [
              "((1070, 11), (268, 11))"
            ]
          },
          "metadata": {},
          "execution_count": 76
        }
      ]
    },
    {
      "cell_type": "markdown",
      "source": [
        "Yeah !! Now we are ready to go."
      ],
      "metadata": {
        "id": "hI1uaUQo5WW4"
      }
    },
    {
      "cell_type": "code",
      "source": [
        "# first set the random seed\n",
        "tf.random.set_seed(42)\n",
        "\n",
        "# 1. Create a model\n",
        "model = tf.keras.Sequential([\n",
        "    tf.keras.layers.Dense(10),\n",
        "    tf.keras.layers.Dense(1)\n",
        "])\n",
        "\n",
        "# 2. Compile a model\n",
        "model.compile(loss=tf.keras.losses.mae,\n",
        "              optimizer= tf.keras.optimizers.SGD(),\n",
        "              metrics=[\"mae\"])\n",
        "\n",
        "# 3. Fit the model\n",
        "model.fit(X_train, y_train, epochs = 100, verbose = 0)"
      ],
      "metadata": {
        "colab": {
          "base_uri": "https://localhost:8080/"
        },
        "id": "f-8tmCz25bNA",
        "outputId": "15d9850a-a18f-4a9c-ae1e-f13585006e79"
      },
      "execution_count": 77,
      "outputs": [
        {
          "output_type": "execute_result",
          "data": {
            "text/plain": [
              "<keras.callbacks.History at 0x7fe5b101a890>"
            ]
          },
          "metadata": {},
          "execution_count": 77
        }
      ]
    },
    {
      "cell_type": "code",
      "source": [
        "# let's evaluate the model\n",
        "model.evaluate(X_test, y_test)"
      ],
      "metadata": {
        "colab": {
          "base_uri": "https://localhost:8080/"
        },
        "id": "V0xMc1Ak51bT",
        "outputId": "a6e3067a-d981-410f-d7b8-f55105f3dd64"
      },
      "execution_count": 78,
      "outputs": [
        {
          "output_type": "stream",
          "name": "stdout",
          "text": [
            "9/9 [==============================] - 0s 2ms/step - loss: 8574.8662 - mae: 8574.8662\n"
          ]
        },
        {
          "output_type": "execute_result",
          "data": {
            "text/plain": [
              "[8574.8662109375, 8574.8662109375]"
            ]
          },
          "metadata": {},
          "execution_count": 78
        }
      ]
    },
    {
      "cell_type": "markdown",
      "source": [
        "It says, that we 8575 ahead or behind the actual results, or loss. So we need to improve the model.\n",
        "\n",
        "How can we do this ? By following these steps,\n",
        "\n",
        "* Add extra dense layer and units(number of neurons)\n",
        "* Choose different optimizer function\n",
        "* Train a little longer, increase the number of epochs"
      ],
      "metadata": {
        "id": "AI13PusD58Ui"
      }
    },
    {
      "cell_type": "code",
      "source": [
        "#Let's do the above then\n",
        "\n",
        "tf.random.set_seed(42)\n",
        "\n",
        "# create a model\n",
        "insurance_model = tf.keras.Sequential([\n",
        "    tf.keras.layers.Dense(100),\n",
        "    tf.keras.layers.Dense(10),\n",
        "    tf.keras.layers.Dense(1)\n",
        "])\n",
        "# compile a model\n",
        "insurance_model.compile(loss=tf.keras.losses.mae,\n",
        "                        optimizer=tf.keras.optimizers.Adam(),\n",
        "                        metrics=[\"mae\"])\n",
        "\n",
        "# fit the model\n",
        "history = insurance_model.fit(X_train, y_train, epochs = 200, verbose = 0)"
      ],
      "metadata": {
        "id": "8zQC8O-K6YaN"
      },
      "execution_count": 82,
      "outputs": []
    },
    {
      "cell_type": "code",
      "source": [
        "# evaluate the model\n",
        "insurance_model.evaluate(X_test, y_test)"
      ],
      "metadata": {
        "colab": {
          "base_uri": "https://localhost:8080/"
        },
        "id": "BqXVi7jl7CyW",
        "outputId": "9497338a-c45c-468a-b9db-f2d0a13e19e1"
      },
      "execution_count": 83,
      "outputs": [
        {
          "output_type": "stream",
          "name": "stdout",
          "text": [
            "9/9 [==============================] - 0s 3ms/step - loss: 2880.7292 - mae: 2880.7292\n"
          ]
        },
        {
          "output_type": "execute_result",
          "data": {
            "text/plain": [
              "[2880.729248046875, 2880.729248046875]"
            ]
          },
          "metadata": {},
          "execution_count": 83
        }
      ]
    },
    {
      "cell_type": "markdown",
      "source": [
        "Woah !! Much better"
      ],
      "metadata": {
        "id": "fnKe_lC07bMb"
      }
    },
    {
      "cell_type": "markdown",
      "source": [
        "Notice, we save the `fit()` into a `history` variable, just to plot the history of each epoch and training process, from `epoch` = 1 t0 200, what was the value of `Loss`"
      ],
      "metadata": {
        "id": "e-aPin297eQX"
      }
    },
    {
      "cell_type": "code",
      "source": [
        "# plot the history (also known as loss curve)\n",
        "pd.DataFrame(history.history).plot()\n",
        "plt.ylabel(\"Loss\")\n",
        "plt.xlabel(\"Epochs\")"
      ],
      "metadata": {
        "colab": {
          "base_uri": "https://localhost:8080/",
          "height": 296
        },
        "id": "g-gdmJmu7vWN",
        "outputId": "3ef44c55-ee98-4889-9335-196f0cd9ca33"
      },
      "execution_count": 84,
      "outputs": [
        {
          "output_type": "execute_result",
          "data": {
            "text/plain": [
              "Text(0.5, 0, 'Epochs')"
            ]
          },
          "metadata": {},
          "execution_count": 84
        },
        {
          "output_type": "display_data",
          "data": {
            "text/plain": [
              "<Figure size 432x288 with 1 Axes>"
            ],
            "image/png": "[encoded data removed]"
          },
          "metadata": {
            "needs_background": "light"
          }
        }
      ]
    },
    {
      "cell_type": "markdown",
      "source": [
        "In our case, the metrics that we used 'Mae' and loss is same, that's why the line is overlapped, but if we choose different in both then graph would be different.\n"
      ],
      "metadata": {
        "id": "_q7rctr38C2O"
      }
    },
    {
      "cell_type": "markdown",
      "source": [
        "> 🤔 **Question**: How long should we train ?  \n",
        "      It depends on our problem we're working on. Sometimes training won't take very long, other times it'll take longer than we expect. A common method is to set our model training for a very long time (e.g 1000s of epochs) but set it up with an EarlyStopping callback so it stops automatically when it stops improving."
      ],
      "metadata": {
        "id": "o2bWzcTi8YPA"
      }
    },
    {
      "cell_type": "markdown",
      "source": [
        "## Preprocessing data (normalization and standardization)\n",
        "\n",
        "Read more in the Resources section of the repo."
      ],
      "metadata": {
        "id": "iv0kMBOj9F-P"
      }
    },
    {
      "cell_type": "markdown",
      "source": [
        "The idea of this is to keep all the features in our data set in same scale from 0 to 1.\n",
        "\n",
        "Neural Network by default suggest that to use normalization technique over standardization to convert the features into same scale.\n",
        "\n",
        "Now, just as before, we need to transform the non-numerical columns into numbers and this time we'll also be normalizing the numerical columns with different ranges(0 to 1).\n",
        "\n",
        "To do this, we will use a few classed from Scikit-learn:\n",
        "\n",
        "* make_column_transformer - build a multi-step data Preprocessing function for the following transformations:\n",
        "  * `MinMaxScaler`: make sure all the columns are in same scale\n",
        "  * `OneHotEncoder`: one hot encode the non-numerical columns."
      ],
      "metadata": {
        "id": "RH3cqnZa9We1"
      }
    },
    {
      "cell_type": "code",
      "source": [
        "insurance.head()"
      ],
      "metadata": {
        "colab": {
          "base_uri": "https://localhost:8080/",
          "height": 206
        },
        "id": "2Y6ERabD_YPL",
        "outputId": "1ae49424-b23e-427c-ff32-12de205222bc"
      },
      "execution_count": 87,
      "outputs": [
        {
          "output_type": "execute_result",
          "data": {
            "text/plain": [
              "   age     sex     bmi  children smoker     region      charges\n",
              "0   19  female  27.900         0    yes  southwest  16884.92400\n",
              "1   18    male  33.770         1     no  southeast   1725.55230\n",
              "2   28    male  33.000         3     no  southeast   4449.46200\n",
              "3   33    male  22.705         0     no  northwest  21984.47061\n",
              "4   32    male  28.880         0     no  northwest   3866.85520"
            ],
            "text/html": [
              "\n",
              "  <div id=\"df-536ddee2-1df0-4ee5-95f9-118a9e1cb99b\">\n",
              "    <div class=\"colab-df-container\">\n",
              "      <div>\n",
              "<style scoped>\n",
              "    .dataframe tbody tr th:only-of-type {\n",
              "        vertical-align: middle;\n",
              "    }\n",
              "\n",
              "    .dataframe tbody tr th {\n",
              "        vertical-align: top;\n",
              "    }\n",
              "\n",
              "    .dataframe thead th {\n",
              "        text-align: right;\n",
              "    }\n",
              "</style>\n",
              "<table border=\"1\" class=\"dataframe\">\n",
              "  <thead>\n",
              "    <tr style=\"text-align: right;\">\n",
              "      <th></th>\n",
              "      <th>age</th>\n",
              "      <th>sex</th>\n",
              "      <th>bmi</th>\n",
              "      <th>children</th>\n",
              "      <th>smoker</th>\n",
              "      <th>region</th>\n",
              "      <th>charges</th>\n",
              "    </tr>\n",
              "  </thead>\n",
              "  <tbody>\n",
              "    <tr>\n",
              "      <th>0</th>\n",
              "      <td>19</td>\n",
              "      <td>female</td>\n",
              "      <td>27.900</td>\n",
              "      <td>0</td>\n",
              "      <td>yes</td>\n",
              "      <td>southwest</td>\n",
              "      <td>16884.92400</td>\n",
              "    </tr>\n",
              "    <tr>\n",
              "      <th>1</th>\n",
              "      <td>18</td>\n",
              "      <td>male</td>\n",
              "      <td>33.770</td>\n",
              "      <td>1</td>\n",
              "      <td>no</td>\n",
              "      <td>southeast</td>\n",
              "      <td>1725.55230</td>\n",
              "    </tr>\n",
              "    <tr>\n",
              "      <th>2</th>\n",
              "      <td>28</td>\n",
              "      <td>male</td>\n",
              "      <td>33.000</td>\n",
              "      <td>3</td>\n",
              "      <td>no</td>\n",
              "      <td>southeast</td>\n",
              "      <td>4449.46200</td>\n",
              "    </tr>\n",
              "    <tr>\n",
              "      <th>3</th>\n",
              "      <td>33</td>\n",
              "      <td>male</td>\n",
              "      <td>22.705</td>\n",
              "      <td>0</td>\n",
              "      <td>no</td>\n",
              "      <td>northwest</td>\n",
              "      <td>21984.47061</td>\n",
              "    </tr>\n",
              "    <tr>\n",
              "      <th>4</th>\n",
              "      <td>32</td>\n",
              "      <td>male</td>\n",
              "      <td>28.880</td>\n",
              "      <td>0</td>\n",
              "      <td>no</td>\n",
              "      <td>northwest</td>\n",
              "      <td>3866.85520</td>\n",
              "    </tr>\n",
              "  </tbody>\n",
              "</table>\n",
              "</div>\n",
              "      <button class=\"colab-df-convert\" onclick=\"convertToInteractive('df-536ddee2-1df0-4ee5-95f9-118a9e1cb99b')\"\n",
              "              title=\"Convert this dataframe to an interactive table.\"\n",
              "              style=\"display:none;\">\n",
              "        \n",
              "  <svg xmlns=\"http://www.w3.org/2000/svg\" height=\"24px\"viewBox=\"0 0 24 24\"\n",
              "       width=\"24px\">\n",
              "    <path d=\"M0 0h24v24H0V0z\" fill=\"none\"/>\n",
              "    <path d=\"M18.56 5.44l.94 2.06.94-2.06 2.06-.94-2.06-.94-.94-2.06-.94 2.06-2.06.94zm-11 1L8.5 8.5l.94-2.06 2.06-.94-2.06-.94L8.5 2.5l-.94 2.06-2.06.94zm10 10l.94 2.06.94-2.06 2.06-.94-2.06-.94-.94-2.06-.94 2.06-2.06.94z\"/><path d=\"M17.41 7.96l-1.37-1.37c-.4-.4-.92-.59-1.43-.59-.52 0-1.04.2-1.43.59L10.3 9.45l-7.72 7.72c-.78.78-.78 2.05 0 2.83L4 21.41c.39.39.9.59 1.41.59.51 0 1.02-.2 1.41-.59l7.78-7.78 2.81-2.81c.8-.78.8-2.07 0-2.86zM5.41 20L4 18.59l7.72-7.72 1.47 1.35L5.41 20z\"/>\n",
              "  </svg>\n",
              "      </button>\n",
              "      \n",
              "  <style>\n",
              "    .colab-df-container {\n",
              "      display:flex;\n",
              "      flex-wrap:wrap;\n",
              "      gap: 12px;\n",
              "    }\n",
              "\n",
              "    .colab-df-convert {\n",
              "      background-color: #E8F0FE;\n",
              "      border: none;\n",
              "      border-radius: 50%;\n",
              "      cursor: pointer;\n",
              "      display: none;\n",
              "      fill: #1967D2;\n",
              "      height: 32px;\n",
              "      padding: 0 0 0 0;\n",
              "      width: 32px;\n",
              "    }\n",
              "\n",
              "    .colab-df-convert:hover {\n",
              "      background-color: #E2EBFA;\n",
              "      box-shadow: 0px 1px 2px rgba(60, 64, 67, 0.3), 0px 1px 3px 1px rgba(60, 64, 67, 0.15);\n",
              "      fill: #174EA6;\n",
              "    }\n",
              "\n",
              "    [theme=dark] .colab-df-convert {\n",
              "      background-color: #3B4455;\n",
              "      fill: #D2E3FC;\n",
              "    }\n",
              "\n",
              "    [theme=dark] .colab-df-convert:hover {\n",
              "      background-color: #434B5C;\n",
              "      box-shadow: 0px 1px 3px 1px rgba(0, 0, 0, 0.15);\n",
              "      filter: drop-shadow(0px 1px 2px rgba(0, 0, 0, 0.3));\n",
              "      fill: #FFFFFF;\n",
              "    }\n",
              "  </style>\n",
              "\n",
              "      <script>\n",
              "        const buttonEl =\n",
              "          document.querySelector('#df-536ddee2-1df0-4ee5-95f9-118a9e1cb99b button.colab-df-convert');\n",
              "        buttonEl.style.display =\n",
              "          google.colab.kernel.accessAllowed ? 'block' : 'none';\n",
              "\n",
              "        async function convertToInteractive(key) {\n",
              "          const element = document.querySelector('#df-536ddee2-1df0-4ee5-95f9-118a9e1cb99b');\n",
              "          const dataTable =\n",
              "            await google.colab.kernel.invokeFunction('convertToInteractive',\n",
              "                                                     [key], {});\n",
              "          if (!dataTable) return;\n",
              "\n",
              "          const docLinkHtml = 'Like what you see? Visit the ' +\n",
              "            '<a target=\"_blank\" href=https://colab.research.google.com/notebooks/data_table.ipynb>data table notebook</a>'\n",
              "            + ' to learn more about interactive tables.';\n",
              "          element.innerHTML = '';\n",
              "          dataTable['output_type'] = 'display_data';\n",
              "          await google.colab.output.renderOutput(dataTable, element);\n",
              "          const docLink = document.createElement('div');\n",
              "          docLink.innerHTML = docLinkHtml;\n",
              "          element.appendChild(docLink);\n",
              "        }\n",
              "      </script>\n",
              "    </div>\n",
              "  </div>\n",
              "  "
            ]
          },
          "metadata": {},
          "execution_count": 87
        }
      ]
    },
    {
      "cell_type": "code",
      "source": [
        "from sklearn.compose import make_column_transformer\n",
        "from sklearn.preprocessing import MinMaxScaler, OneHotEncoder\n",
        "\n",
        "# create an instance of column transformer \n",
        "ct = make_column_transformer(\n",
        "    (MinMaxScaler(), [\"age\",\"bmi\",\"children\"]), # get all values from 0 to 1\n",
        "    (OneHotEncoder(handle_unknown=\"ignore\"), [\"sex\", \"smoker\", \"region\"]))\n",
        "\n",
        "# Create X & y\n",
        "X = insurance.drop(\"charges\", axis = 1)\n",
        "y = insurance[\"charges\"]\n",
        "\n",
        "# Build our train and test sets\n",
        "X_train, X_test, y_train, y_test = train_test_split(X, y, test_size=0.2)\n",
        "\n",
        "# Fit column transformer to the training data only (doing so on test data would result in data leakage)\n",
        "ct.fit(X_train)\n",
        "\n",
        "# Transform training and test data with normalization (MinMaxScalar) and one hot encoding (OneHotEncoder)\n",
        "X_train_normal = ct.transform(X_train)\n",
        "X_test_normal = ct.transform(X_test)"
      ],
      "metadata": {
        "id": "w0O40q1m-4Un"
      },
      "execution_count": 88,
      "outputs": []
    },
    {
      "cell_type": "code",
      "source": [
        "# let's see how our data look\n",
        "X_train_normal[0]"
      ],
      "metadata": {
        "colab": {
          "base_uri": "https://localhost:8080/"
        },
        "id": "OoEHEVeQ_I89",
        "outputId": "65f3971b-e421-47bb-ccd4-12597f445df9"
      },
      "execution_count": 90,
      "outputs": [
        {
          "output_type": "execute_result",
          "data": {
            "text/plain": [
              "array([0.19565217, 0.39359699, 0.2       , 1.        , 0.        ,\n",
              "       1.        , 0.        , 1.        , 0.        , 0.        ,\n",
              "       0.        ])"
            ]
          },
          "metadata": {},
          "execution_count": 90
        }
      ]
    },
    {
      "cell_type": "code",
      "source": [
        "X_test_normal[0]"
      ],
      "metadata": {
        "colab": {
          "base_uri": "https://localhost:8080/"
        },
        "id": "9u80pO60B-DU",
        "outputId": "e1cd3417-3c33-4b89-8462-363df3a850e4"
      },
      "execution_count": 91,
      "outputs": [
        {
          "output_type": "execute_result",
          "data": {
            "text/plain": [
              "array([0.17391304, 0.29862793, 0.        , 0.        , 1.        ,\n",
              "       0.        , 1.        , 0.        , 0.        , 1.        ,\n",
              "       0.        ])"
            ]
          },
          "metadata": {},
          "execution_count": 91
        }
      ]
    },
    {
      "cell_type": "code",
      "source": [
        "#it's ready to model now, let do it\n",
        "\n",
        "tf.random.set_seed(42)\n",
        "\n",
        "# create a model\n",
        "insurance_model_3 = tf.keras.Sequential([\n",
        "    tf.keras.layers.Dense(100),\n",
        "    tf.keras.layers.Dense(10),\n",
        "    tf.keras.layers.Dense(1)\n",
        "])\n",
        "\n",
        "# compile the model\n",
        "insurance_model_3.compile(loss=tf.keras.losses.mae,\n",
        "                          optimizer = tf.keras.optimizers.Adam(),\n",
        "                          metrics=[\"mae\"])\n",
        "\n",
        "# fit the model in normalized train data\n",
        "insurance_model_3.fit(X_train_normal, y_train, epochs = 200, verbose=0)"
      ],
      "metadata": {
        "colab": {
          "base_uri": "https://localhost:8080/"
        },
        "id": "3LgEF4TpCDhG",
        "outputId": "67924f19-a175-4d34-c61c-d34417fcccc1"
      },
      "execution_count": 92,
      "outputs": [
        {
          "output_type": "execute_result",
          "data": {
            "text/plain": [
              "<keras.callbacks.History at 0x7fe5b6d28550>"
            ]
          },
          "metadata": {},
          "execution_count": 92
        }
      ]
    },
    {
      "cell_type": "code",
      "source": [
        "# let's evaluate our model\n",
        "insurance_model_3.evaluate(X_test_normal, y_test)"
      ],
      "metadata": {
        "colab": {
          "base_uri": "https://localhost:8080/"
        },
        "id": "9CzVIEWSCy7c",
        "outputId": "76c39723-5697-42b0-8549-0679632ec435"
      },
      "execution_count": 93,
      "outputs": [
        {
          "output_type": "stream",
          "name": "stdout",
          "text": [
            "9/9 [==============================] - 0s 2ms/step - loss: 3340.7031 - mae: 3340.7031\n"
          ]
        },
        {
          "output_type": "execute_result",
          "data": {
            "text/plain": [
              "[3340.703125, 3340.703125]"
            ]
          },
          "metadata": {},
          "execution_count": 93
        }
      ]
    },
    {
      "cell_type": "code",
      "source": [],
      "metadata": {
        "colab": {
          "base_uri": "https://localhost:8080/",
          "height": 206
        },
        "id": "GmxJNFApC6lb",
        "outputId": "67e586b1-13f3-41d4-e97a-faa1bfd7cc1b"
      },
      "execution_count": 95,
      "outputs": [
        {
          "output_type": "execute_result",
          "data": {
            "text/plain": [
              "      age     sex    bmi  children smoker     region\n",
              "1274   26    male  27.06         0    yes  southeast\n",
              "1223   20  female  24.42         0    yes  southeast\n",
              "221    53  female  33.25         0     no  northeast\n",
              "1129   19  female  18.60         0     no  southwest\n",
              "794    39  female  31.92         2     no  northwest"
            ],
            "text/html": [
              "\n",
              "  <div id=\"df-ec5ee25e-7e60-4357-a143-18c9ed5cd771\">\n",
              "    <div class=\"colab-df-container\">\n",
              "      <div>\n",
              "<style scoped>\n",
              "    .dataframe tbody tr th:only-of-type {\n",
              "        vertical-align: middle;\n",
              "    }\n",
              "\n",
              "    .dataframe tbody tr th {\n",
              "        vertical-align: top;\n",
              "    }\n",
              "\n",
              "    .dataframe thead th {\n",
              "        text-align: right;\n",
              "    }\n",
              "</style>\n",
              "<table border=\"1\" class=\"dataframe\">\n",
              "  <thead>\n",
              "    <tr style=\"text-align: right;\">\n",
              "      <th></th>\n",
              "      <th>age</th>\n",
              "      <th>sex</th>\n",
              "      <th>bmi</th>\n",
              "      <th>children</th>\n",
              "      <th>smoker</th>\n",
              "      <th>region</th>\n",
              "    </tr>\n",
              "  </thead>\n",
              "  <tbody>\n",
              "    <tr>\n",
              "      <th>1274</th>\n",
              "      <td>26</td>\n",
              "      <td>male</td>\n",
              "      <td>27.06</td>\n",
              "      <td>0</td>\n",
              "      <td>yes</td>\n",
              "      <td>southeast</td>\n",
              "    </tr>\n",
              "    <tr>\n",
              "      <th>1223</th>\n",
              "      <td>20</td>\n",
              "      <td>female</td>\n",
              "      <td>24.42</td>\n",
              "      <td>0</td>\n",
              "      <td>yes</td>\n",
              "      <td>southeast</td>\n",
              "    </tr>\n",
              "    <tr>\n",
              "      <th>221</th>\n",
              "      <td>53</td>\n",
              "      <td>female</td>\n",
              "      <td>33.25</td>\n",
              "      <td>0</td>\n",
              "      <td>no</td>\n",
              "      <td>northeast</td>\n",
              "    </tr>\n",
              "    <tr>\n",
              "      <th>1129</th>\n",
              "      <td>19</td>\n",
              "      <td>female</td>\n",
              "      <td>18.60</td>\n",
              "      <td>0</td>\n",
              "      <td>no</td>\n",
              "      <td>southwest</td>\n",
              "    </tr>\n",
              "    <tr>\n",
              "      <th>794</th>\n",
              "      <td>39</td>\n",
              "      <td>female</td>\n",
              "      <td>31.92</td>\n",
              "      <td>2</td>\n",
              "      <td>no</td>\n",
              "      <td>northwest</td>\n",
              "    </tr>\n",
              "  </tbody>\n",
              "</table>\n",
              "</div>\n",
              "      <button class=\"colab-df-convert\" onclick=\"convertToInteractive('df-ec5ee25e-7e60-4357-a143-18c9ed5cd771')\"\n",
              "              title=\"Convert this dataframe to an interactive table.\"\n",
              "              style=\"display:none;\">\n",
              "        \n",
              "  <svg xmlns=\"http://www.w3.org/2000/svg\" height=\"24px\"viewBox=\"0 0 24 24\"\n",
              "       width=\"24px\">\n",
              "    <path d=\"M0 0h24v24H0V0z\" fill=\"none\"/>\n",
              "    <path d=\"M18.56 5.44l.94 2.06.94-2.06 2.06-.94-2.06-.94-.94-2.06-.94 2.06-2.06.94zm-11 1L8.5 8.5l.94-2.06 2.06-.94-2.06-.94L8.5 2.5l-.94 2.06-2.06.94zm10 10l.94 2.06.94-2.06 2.06-.94-2.06-.94-.94-2.06-.94 2.06-2.06.94z\"/><path d=\"M17.41 7.96l-1.37-1.37c-.4-.4-.92-.59-1.43-.59-.52 0-1.04.2-1.43.59L10.3 9.45l-7.72 7.72c-.78.78-.78 2.05 0 2.83L4 21.41c.39.39.9.59 1.41.59.51 0 1.02-.2 1.41-.59l7.78-7.78 2.81-2.81c.8-.78.8-2.07 0-2.86zM5.41 20L4 18.59l7.72-7.72 1.47 1.35L5.41 20z\"/>\n",
              "  </svg>\n",
              "      </button>\n",
              "      \n",
              "  <style>\n",
              "    .colab-df-container {\n",
              "      display:flex;\n",
              "      flex-wrap:wrap;\n",
              "      gap: 12px;\n",
              "    }\n",
              "\n",
              "    .colab-df-convert {\n",
              "      background-color: #E8F0FE;\n",
              "      border: none;\n",
              "      border-radius: 50%;\n",
              "      cursor: pointer;\n",
              "      display: none;\n",
              "      fill: #1967D2;\n",
              "      height: 32px;\n",
              "      padding: 0 0 0 0;\n",
              "      width: 32px;\n",
              "    }\n",
              "\n",
              "    .colab-df-convert:hover {\n",
              "      background-color: #E2EBFA;\n",
              "      box-shadow: 0px 1px 2px rgba(60, 64, 67, 0.3), 0px 1px 3px 1px rgba(60, 64, 67, 0.15);\n",
              "      fill: #174EA6;\n",
              "    }\n",
              "\n",
              "    [theme=dark] .colab-df-convert {\n",
              "      background-color: #3B4455;\n",
              "      fill: #D2E3FC;\n",
              "    }\n",
              "\n",
              "    [theme=dark] .colab-df-convert:hover {\n",
              "      background-color: #434B5C;\n",
              "      box-shadow: 0px 1px 3px 1px rgba(0, 0, 0, 0.15);\n",
              "      filter: drop-shadow(0px 1px 2px rgba(0, 0, 0, 0.3));\n",
              "      fill: #FFFFFF;\n",
              "    }\n",
              "  </style>\n",
              "\n",
              "      <script>\n",
              "        const buttonEl =\n",
              "          document.querySelector('#df-ec5ee25e-7e60-4357-a143-18c9ed5cd771 button.colab-df-convert');\n",
              "        buttonEl.style.display =\n",
              "          google.colab.kernel.accessAllowed ? 'block' : 'none';\n",
              "\n",
              "        async function convertToInteractive(key) {\n",
              "          const element = document.querySelector('#df-ec5ee25e-7e60-4357-a143-18c9ed5cd771');\n",
              "          const dataTable =\n",
              "            await google.colab.kernel.invokeFunction('convertToInteractive',\n",
              "                                                     [key], {});\n",
              "          if (!dataTable) return;\n",
              "\n",
              "          const docLinkHtml = 'Like what you see? Visit the ' +\n",
              "            '<a target=\"_blank\" href=https://colab.research.google.com/notebooks/data_table.ipynb>data table notebook</a>'\n",
              "            + ' to learn more about interactive tables.';\n",
              "          element.innerHTML = '';\n",
              "          dataTable['output_type'] = 'display_data';\n",
              "          await google.colab.output.renderOutput(dataTable, element);\n",
              "          const docLink = document.createElement('div');\n",
              "          docLink.innerHTML = docLinkHtml;\n",
              "          element.appendChild(docLink);\n",
              "        }\n",
              "      </script>\n",
              "    </div>\n",
              "  </div>\n",
              "  "
            ]
          },
          "metadata": {},
          "execution_count": 95
        }
      ]
    },
    {
      "cell_type": "markdown",
      "source": [
        "# Do some Exercises"
      ],
      "metadata": {
        "id": "eUzuZt2uDNc0"
      }
    },
    {
      "cell_type": "code",
      "source": [],
      "metadata": {
        "id": "siQAH3EqDkjl"
      },
      "execution_count": null,
      "outputs": []
    }
  ]
}
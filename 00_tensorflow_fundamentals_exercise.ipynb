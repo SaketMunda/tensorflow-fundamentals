{
  "nbformat": 4,
  "nbformat_minor": 0,
  "metadata": {
    "colab": {
      "provenance": [],
      "collapsed_sections": [],
      "toc_visible": true,
      "authorship_tag": "ABX9TyPGWUtWglRlj/3qN84RwpkI",
      "include_colab_link": true
    },
    "kernelspec": {
      "name": "python3",
      "display_name": "Python 3"
    },
    "language_info": {
      "name": "python"
    }
  },
  "cells": [
    {
      "cell_type": "markdown",
      "metadata": {
        "id": "view-in-github",
        "colab_type": "text"
      },
      "source": [
        "<a href=\"https://colab.research.google.com/github/SaketMunda/tensorflow-fundamentals/blob/master/00_tensorflow_fundamentals_exercise.ipynb\" target=\"_parent\"><img src=\"https://colab.research.google.com/assets/colab-badge.svg\" alt=\"Open In Colab\"/></a>"
      ]
    },
    {
      "cell_type": "markdown",
      "source": [
        "# Exercises for TensorFlow Fundamentals"
      ],
      "metadata": {
        "id": "X74vxdsuQ5E2"
      }
    },
    {
      "cell_type": "code",
      "source": [
        "# first importing the tensorflow and checking the version of tensorflow\n",
        "import tensorflow as tf\n",
        "print(tf.__version__)"
      ],
      "metadata": {
        "colab": {
          "base_uri": "https://localhost:8080/"
        },
        "id": "bHt7_p3eRcFC",
        "outputId": "377f567a-d18a-4bc2-c491-672cd25dc7e1"
      },
      "execution_count": 1,
      "outputs": [
        {
          "output_type": "stream",
          "name": "stdout",
          "text": [
            "2.9.2\n"
          ]
        }
      ]
    },
    {
      "cell_type": "markdown",
      "source": [
        "## 1. Create vector, scalar, matrix and tensor with values of your choosing using `tf.constant()`"
      ],
      "metadata": {
        "id": "G-UW2e5cRE0I"
      }
    },
    {
      "cell_type": "markdown",
      "source": [
        "### Vector"
      ],
      "metadata": {
        "id": "aMG9tcP5RP8X"
      }
    },
    {
      "cell_type": "code",
      "source": [
        "# Create a vector tensor, more than 0 dimension\n",
        "vector = tf.constant([2,7])"
      ],
      "metadata": {
        "id": "nvlLBvrvRUaX"
      },
      "execution_count": 3,
      "outputs": []
    },
    {
      "cell_type": "code",
      "source": [
        "vector, vector.ndim # shape is 2, and dimension is 1"
      ],
      "metadata": {
        "colab": {
          "base_uri": "https://localhost:8080/"
        },
        "id": "0Xqw3u7wR0yv",
        "outputId": "d8c6c59d-bbfd-4349-84f7-3f0f63dabf5f"
      },
      "execution_count": 4,
      "outputs": [
        {
          "output_type": "execute_result",
          "data": {
            "text/plain": [
              "(<tf.Tensor: shape=(2,), dtype=int32, numpy=array([2, 7], dtype=int32)>, 1)"
            ]
          },
          "metadata": {},
          "execution_count": 4
        }
      ]
    },
    {
      "cell_type": "markdown",
      "source": [
        "### Scalar"
      ],
      "metadata": {
        "id": "0ZFFHPpYR503"
      }
    },
    {
      "cell_type": "code",
      "source": [
        "# Create a scalar tensor, 0 dimension\n",
        "scalar = tf.constant(1)"
      ],
      "metadata": {
        "id": "cGer3iIbSBff"
      },
      "execution_count": 7,
      "outputs": []
    },
    {
      "cell_type": "code",
      "source": [
        "scalar, scalar.ndim"
      ],
      "metadata": {
        "colab": {
          "base_uri": "https://localhost:8080/"
        },
        "id": "qBdlR-o1SGef",
        "outputId": "2c38e35d-8dc2-4236-aec7-61675f6fb5bc"
      },
      "execution_count": 8,
      "outputs": [
        {
          "output_type": "execute_result",
          "data": {
            "text/plain": [
              "(<tf.Tensor: shape=(), dtype=int32, numpy=1>, 0)"
            ]
          },
          "metadata": {},
          "execution_count": 8
        }
      ]
    },
    {
      "cell_type": "markdown",
      "source": [
        "### Matrix"
      ],
      "metadata": {
        "id": "HV-RnkukSIWP"
      }
    },
    {
      "cell_type": "code",
      "source": [
        "# create a matrix, more than 1 dimension\n",
        "matrix = tf.constant([[1,2]])"
      ],
      "metadata": {
        "id": "PzEnHngpSRBG"
      },
      "execution_count": 9,
      "outputs": []
    },
    {
      "cell_type": "code",
      "source": [
        "matrix, matrix.ndim"
      ],
      "metadata": {
        "colab": {
          "base_uri": "https://localhost:8080/"
        },
        "id": "ayc_-03hTgy9",
        "outputId": "82d71335-90c8-4635-973c-b7919a332d66"
      },
      "execution_count": 10,
      "outputs": [
        {
          "output_type": "execute_result",
          "data": {
            "text/plain": [
              "(<tf.Tensor: shape=(1, 2), dtype=int32, numpy=array([[1, 2]], dtype=int32)>, 2)"
            ]
          },
          "metadata": {},
          "execution_count": 10
        }
      ]
    },
    {
      "cell_type": "markdown",
      "source": [
        "### Tensor"
      ],
      "metadata": {
        "id": "YCUMsPm-Ti38"
      }
    },
    {
      "cell_type": "code",
      "source": [
        "# create a tensor, more than 2 dimension, although everything that created above are technically tensors\n",
        "tensor = tf.constant([[[1,2],[3,4]]])"
      ],
      "metadata": {
        "id": "uYPVIgiKTypC"
      },
      "execution_count": 11,
      "outputs": []
    },
    {
      "cell_type": "code",
      "source": [
        "tensor, tensor.ndim"
      ],
      "metadata": {
        "colab": {
          "base_uri": "https://localhost:8080/"
        },
        "id": "KuowtrRpUI8j",
        "outputId": "f181641a-6d17-4539-abf0-657820367d57"
      },
      "execution_count": 12,
      "outputs": [
        {
          "output_type": "execute_result",
          "data": {
            "text/plain": [
              "(<tf.Tensor: shape=(1, 2, 2), dtype=int32, numpy=\n",
              " array([[[1, 2],\n",
              "         [3, 4]]], dtype=int32)>, 3)"
            ]
          },
          "metadata": {},
          "execution_count": 12
        }
      ]
    },
    {
      "cell_type": "markdown",
      "source": [
        "## 2. Find the shape, rank and size of the tensors created in 1."
      ],
      "metadata": {
        "id": "CWRFBPCFUKvi"
      }
    },
    {
      "cell_type": "code",
      "source": [
        "# scalar\n",
        "scalar.shape, tf.rank(scalar), tf.size(scalar)"
      ],
      "metadata": {
        "colab": {
          "base_uri": "https://localhost:8080/"
        },
        "id": "jpinJdXkUTsv",
        "outputId": "fc5a4fcc-d843-498e-dd51-7542411d3c84"
      },
      "execution_count": 20,
      "outputs": [
        {
          "output_type": "execute_result",
          "data": {
            "text/plain": [
              "(TensorShape([]),\n",
              " <tf.Tensor: shape=(), dtype=int32, numpy=0>,\n",
              " <tf.Tensor: shape=(), dtype=int32, numpy=1>)"
            ]
          },
          "metadata": {},
          "execution_count": 20
        }
      ]
    },
    {
      "cell_type": "code",
      "source": [
        "# vector\n",
        "vector.shape, tf.rank(vector), tf.size(vector)"
      ],
      "metadata": {
        "colab": {
          "base_uri": "https://localhost:8080/"
        },
        "id": "E4YuUeZ2Ub6y",
        "outputId": "8357add3-4edc-4377-f8d6-bb0a341c16b1"
      },
      "execution_count": 21,
      "outputs": [
        {
          "output_type": "execute_result",
          "data": {
            "text/plain": [
              "(TensorShape([2]),\n",
              " <tf.Tensor: shape=(), dtype=int32, numpy=1>,\n",
              " <tf.Tensor: shape=(), dtype=int32, numpy=2>)"
            ]
          },
          "metadata": {},
          "execution_count": 21
        }
      ]
    },
    {
      "cell_type": "code",
      "source": [
        "# matrix\n",
        "matrix.shape, tf.rank(matrix), tf.size(matrix)"
      ],
      "metadata": {
        "colab": {
          "base_uri": "https://localhost:8080/"
        },
        "id": "0lbGVDj1VR01",
        "outputId": "e06f3a77-452e-4073-f185-d280b7148579"
      },
      "execution_count": 22,
      "outputs": [
        {
          "output_type": "execute_result",
          "data": {
            "text/plain": [
              "(TensorShape([1, 2]),\n",
              " <tf.Tensor: shape=(), dtype=int32, numpy=2>,\n",
              " <tf.Tensor: shape=(), dtype=int32, numpy=2>)"
            ]
          },
          "metadata": {},
          "execution_count": 22
        }
      ]
    },
    {
      "cell_type": "code",
      "source": [
        "# tensor\n",
        "tensor.shape, tf.rank(tensor).numpy(), tf.size(tensor).numpy()"
      ],
      "metadata": {
        "colab": {
          "base_uri": "https://localhost:8080/"
        },
        "id": "2ssfNlbsVdHr",
        "outputId": "654c6fe7-dd20-4cc2-9eb4-04aeedfa0fda"
      },
      "execution_count": 25,
      "outputs": [
        {
          "output_type": "execute_result",
          "data": {
            "text/plain": [
              "(TensorShape([1, 2, 2]), 3, 4)"
            ]
          },
          "metadata": {},
          "execution_count": 25
        }
      ]
    },
    {
      "cell_type": "markdown",
      "source": [
        "## 3. Create two tensor containing random values between 0 and 1 with shape [5, 300]"
      ],
      "metadata": {
        "id": "b8qKM6xbVia9"
      }
    },
    {
      "cell_type": "code",
      "source": [
        "tensor_1 = tf.random.uniform(shape=(5,300), maxval=1)"
      ],
      "metadata": {
        "id": "T4jVSOPeWPQ2"
      },
      "execution_count": 35,
      "outputs": []
    },
    {
      "cell_type": "code",
      "source": [
        "tensor_1"
      ],
      "metadata": {
        "colab": {
          "base_uri": "https://localhost:8080/"
        },
        "id": "91Re6965Wof3",
        "outputId": "902a379e-d57a-4b12-da22-d45ca9a76b30"
      },
      "execution_count": 34,
      "outputs": [
        {
          "output_type": "execute_result",
          "data": {
            "text/plain": [
              "<tf.Tensor: shape=(5, 300), dtype=float32, numpy=\n",
              "array([[0.5495442 , 0.9071908 , 0.01839256, ..., 0.18767607, 0.17765498,\n",
              "        0.744344  ],\n",
              "       [0.9408431 , 0.13851082, 0.7633331 , ..., 0.9895227 , 0.63504386,\n",
              "        0.86147666],\n",
              "       [0.73433375, 0.37296772, 0.03594434, ..., 0.5366154 , 0.8264357 ,\n",
              "        0.69718266],\n",
              "       [0.45012665, 0.9502078 , 0.9503919 , ..., 0.04277134, 0.81989443,\n",
              "        0.7635082 ],\n",
              "       [0.3662908 , 0.5243217 , 0.85867643, ..., 0.21819413, 0.47386515,\n",
              "        0.99849784]], dtype=float32)>"
            ]
          },
          "metadata": {},
          "execution_count": 34
        }
      ]
    },
    {
      "cell_type": "code",
      "source": [
        "tensor_2 = tf.random.uniform(shape=[5,300], maxval=1)"
      ],
      "metadata": {
        "id": "L6sj0iR3XBrF"
      },
      "execution_count": 36,
      "outputs": []
    },
    {
      "cell_type": "code",
      "source": [
        "tensor_2"
      ],
      "metadata": {
        "colab": {
          "base_uri": "https://localhost:8080/"
        },
        "id": "UWHjCnrIZLKX",
        "outputId": "84a1736b-fce6-4aa0-f566-2c3587c423aa"
      },
      "execution_count": 37,
      "outputs": [
        {
          "output_type": "execute_result",
          "data": {
            "text/plain": [
              "<tf.Tensor: shape=(5, 300), dtype=float32, numpy=\n",
              "array([[0.82825184, 0.6818149 , 0.02262032, ..., 0.84771204, 0.5946971 ,\n",
              "        0.19516253],\n",
              "       [0.95749664, 0.34489667, 0.18324673, ..., 0.7432481 , 0.8610915 ,\n",
              "        0.393003  ],\n",
              "       [0.5458158 , 0.26161885, 0.507807  , ..., 0.5696775 , 0.32474804,\n",
              "        0.5702914 ],\n",
              "       [0.9964615 , 0.39158046, 0.5731878 , ..., 0.6864072 , 0.50981367,\n",
              "        0.5920334 ],\n",
              "       [0.7110044 , 0.50321245, 0.8187568 , ..., 0.11610651, 0.08147061,\n",
              "        0.25464153]], dtype=float32)>"
            ]
          },
          "metadata": {},
          "execution_count": 37
        }
      ]
    },
    {
      "cell_type": "markdown",
      "source": [
        "## 4. Multiply the two tensors you created in 3 using matrix multiplication"
      ],
      "metadata": {
        "id": "DJWXuz3XZMbu"
      }
    },
    {
      "cell_type": "code",
      "source": [
        "multiplication = tf.matmul(tensor_1, tensor_2, transpose_b=True)"
      ],
      "metadata": {
        "id": "f9GUXneIjh0r"
      },
      "execution_count": 40,
      "outputs": []
    },
    {
      "cell_type": "code",
      "source": [
        "multiplication , multiplication.ndim"
      ],
      "metadata": {
        "colab": {
          "base_uri": "https://localhost:8080/"
        },
        "id": "7nfTxkXajpRf",
        "outputId": "533b2050-ddeb-4fc0-a4d5-16d312331731"
      },
      "execution_count": 41,
      "outputs": [
        {
          "output_type": "execute_result",
          "data": {
            "text/plain": [
              "(<tf.Tensor: shape=(5, 5), dtype=float32, numpy=\n",
              " array([[75.934204, 74.09201 , 78.10324 , 73.8513  , 71.79252 ],\n",
              "        [79.42161 , 77.88776 , 78.816315, 76.94847 , 73.15262 ],\n",
              "        [76.85294 , 73.534996, 76.012115, 72.37041 , 71.52866 ],\n",
              "        [76.227646, 78.47322 , 81.315445, 78.55235 , 75.24794 ],\n",
              "        [80.37782 , 77.07042 , 81.76574 , 76.511185, 75.3479  ]],\n",
              "       dtype=float32)>, 2)"
            ]
          },
          "metadata": {},
          "execution_count": 41
        }
      ]
    },
    {
      "cell_type": "markdown",
      "source": [
        "## 5. Multiply the two tensors you created in 3 using dot product"
      ],
      "metadata": {
        "id": "hlFi7PnPj3WZ"
      }
    },
    {
      "cell_type": "code",
      "source": [
        "dot = tf.tensordot(tensor_1, tensor_2, axes=0)"
      ],
      "metadata": {
        "id": "0Hq8_TvykCfz"
      },
      "execution_count": 47,
      "outputs": []
    },
    {
      "cell_type": "code",
      "source": [
        "dot.ndim, dot.shape"
      ],
      "metadata": {
        "colab": {
          "base_uri": "https://localhost:8080/"
        },
        "id": "0XBqyKP8kEg8",
        "outputId": "da6f1e64-a7df-4ea6-ea93-b7e07438cba1"
      },
      "execution_count": 48,
      "outputs": [
        {
          "output_type": "execute_result",
          "data": {
            "text/plain": [
              "(4, TensorShape([5, 300, 5, 300]))"
            ]
          },
          "metadata": {},
          "execution_count": 48
        }
      ]
    },
    {
      "cell_type": "markdown",
      "source": [
        "## 6. Create a tensor with random values between 0 and 1 with shape [224,224,3]"
      ],
      "metadata": {
        "id": "GndeDzBhklRg"
      }
    },
    {
      "cell_type": "code",
      "source": [
        "tensor_random = tf.random.uniform(shape=(224,224,3), maxval=1)"
      ],
      "metadata": {
        "id": "mb7i-rWikwkZ"
      },
      "execution_count": 49,
      "outputs": []
    },
    {
      "cell_type": "markdown",
      "source": [
        "## 7. Find the min and max values of the tensor you created in 6 along the first axis"
      ],
      "metadata": {
        "id": "OohFs_tpk59C"
      }
    },
    {
      "cell_type": "code",
      "source": [
        "# max\n",
        "tf.reduce_max(tensor_random)"
      ],
      "metadata": {
        "colab": {
          "base_uri": "https://localhost:8080/"
        },
        "id": "2RjJTRf8lF4P",
        "outputId": "9beffd86-455e-49cc-c76d-64476bc0122f"
      },
      "execution_count": 54,
      "outputs": [
        {
          "output_type": "execute_result",
          "data": {
            "text/plain": [
              "<tf.Tensor: shape=(), dtype=float32, numpy=0.9999976>"
            ]
          },
          "metadata": {},
          "execution_count": 54
        }
      ]
    },
    {
      "cell_type": "code",
      "source": [
        "# min\n",
        "tf.reduce_min(tensor_random)"
      ],
      "metadata": {
        "colab": {
          "base_uri": "https://localhost:8080/"
        },
        "id": "nR846--slaLB",
        "outputId": "e2dd40e9-ded9-48aa-e214-9f8f42ac1279"
      },
      "execution_count": 55,
      "outputs": [
        {
          "output_type": "execute_result",
          "data": {
            "text/plain": [
              "<tf.Tensor: shape=(), dtype=float32, numpy=2.3841858e-07>"
            ]
          },
          "metadata": {},
          "execution_count": 55
        }
      ]
    },
    {
      "cell_type": "markdown",
      "source": [
        "## 8. Created a tensor with random values of shape [1, 224, 224, 3] then squeeze it to change the shape to [224, 224, 3]"
      ],
      "metadata": {
        "id": "oHH6vzNHl0bh"
      }
    },
    {
      "cell_type": "code",
      "source": [
        "tensor_random_1 = tf.random.uniform(shape=(1,224,224,3), maxval=1)"
      ],
      "metadata": {
        "id": "IrAZVrbBmNEP"
      },
      "execution_count": 56,
      "outputs": []
    },
    {
      "cell_type": "code",
      "source": [
        "tensor_random_1.shape"
      ],
      "metadata": {
        "colab": {
          "base_uri": "https://localhost:8080/"
        },
        "id": "MY2QwnHHmYpu",
        "outputId": "1900db51-8069-4d09-aa74-4887c2573197"
      },
      "execution_count": 57,
      "outputs": [
        {
          "output_type": "execute_result",
          "data": {
            "text/plain": [
              "TensorShape([1, 224, 224, 3])"
            ]
          },
          "metadata": {},
          "execution_count": 57
        }
      ]
    },
    {
      "cell_type": "code",
      "source": [
        "tensor_random_1_squeezed = tf.squeeze(tensor_random_1)"
      ],
      "metadata": {
        "id": "ppa8zmEymago"
      },
      "execution_count": 58,
      "outputs": []
    },
    {
      "cell_type": "code",
      "source": [
        "tensor_random_1_squeezed.shape"
      ],
      "metadata": {
        "colab": {
          "base_uri": "https://localhost:8080/"
        },
        "id": "9t7Yy9hAmgXv",
        "outputId": "2337fd71-7735-490c-a7ae-8cecd1e87b1f"
      },
      "execution_count": 60,
      "outputs": [
        {
          "output_type": "execute_result",
          "data": {
            "text/plain": [
              "TensorShape([224, 224, 3])"
            ]
          },
          "metadata": {},
          "execution_count": 60
        }
      ]
    },
    {
      "cell_type": "markdown",
      "source": [
        "## 9. Create a tensor with shape [10] using your own choice of values, then find the index which has the maximum value"
      ],
      "metadata": {
        "id": "-TltlqPwmh73"
      }
    },
    {
      "cell_type": "code",
      "source": [
        "tensor_random_2 = tf.random.uniform(shape=[10], maxval=10)"
      ],
      "metadata": {
        "id": "X6RGfhHVmuPy"
      },
      "execution_count": 61,
      "outputs": []
    },
    {
      "cell_type": "code",
      "source": [
        "tf.argmax(tensor_random_2)"
      ],
      "metadata": {
        "colab": {
          "base_uri": "https://localhost:8080/"
        },
        "id": "QSzWJD_FnUOe",
        "outputId": "5cd42e34-060e-4e41-ea86-0afeea710085"
      },
      "execution_count": 63,
      "outputs": [
        {
          "output_type": "execute_result",
          "data": {
            "text/plain": [
              "<tf.Tensor: shape=(), dtype=int64, numpy=4>"
            ]
          },
          "metadata": {},
          "execution_count": 63
        }
      ]
    },
    {
      "cell_type": "code",
      "source": [
        "tensor_random_2"
      ],
      "metadata": {
        "colab": {
          "base_uri": "https://localhost:8080/"
        },
        "id": "eh014f0HnYEV",
        "outputId": "a0747e93-eab0-4e8b-e90a-3c567b9a7fbe"
      },
      "execution_count": 64,
      "outputs": [
        {
          "output_type": "execute_result",
          "data": {
            "text/plain": [
              "<tf.Tensor: shape=(10,), dtype=float32, numpy=\n",
              "array([2.7337956, 1.0498857, 7.3592863, 2.4113512, 9.840231 , 1.7864108,\n",
              "       3.7696218, 4.4807696, 6.8424034, 2.4963987], dtype=float32)>"
            ]
          },
          "metadata": {},
          "execution_count": 64
        }
      ]
    },
    {
      "cell_type": "markdown",
      "source": [
        "## 10. One-hot encode the tensor you created in 9"
      ],
      "metadata": {
        "id": "l89H5Hs-njpj"
      }
    },
    {
      "cell_type": "code",
      "source": [
        "tf.one_hot(tensor_random_2, depth=10)"
      ],
      "metadata": {
        "colab": {
          "base_uri": "https://localhost:8080/",
          "height": 346
        },
        "id": "n7LLsMdZnv2N",
        "outputId": "11e56392-d6dd-4a1d-d309-f6eda18f0ff5"
      },
      "execution_count": 65,
      "outputs": [
        {
          "output_type": "error",
          "ename": "InvalidArgumentError",
          "evalue": "ignored",
          "traceback": [
            "\u001b[0;31m---------------------------------------------------------------------------\u001b[0m",
            "\u001b[0;31mInvalidArgumentError\u001b[0m                      Traceback (most recent call last)",
            "\u001b[0;32m<ipython-input-65-777ec18c1c09>\u001b[0m in \u001b[0;36m<module>\u001b[0;34m\u001b[0m\n\u001b[0;32m----> 1\u001b[0;31m \u001b[0mtf\u001b[0m\u001b[0;34m.\u001b[0m\u001b[0mone_hot\u001b[0m\u001b[0;34m(\u001b[0m\u001b[0mtensor_random_2\u001b[0m\u001b[0;34m,\u001b[0m \u001b[0mdepth\u001b[0m\u001b[0;34m=\u001b[0m\u001b[0;36m10\u001b[0m\u001b[0;34m)\u001b[0m\u001b[0;34m\u001b[0m\u001b[0;34m\u001b[0m\u001b[0m\n\u001b[0m",
            "\u001b[0;32m/usr/local/lib/python3.7/dist-packages/tensorflow/python/util/traceback_utils.py\u001b[0m in \u001b[0;36merror_handler\u001b[0;34m(*args, **kwargs)\u001b[0m\n\u001b[1;32m    151\u001b[0m     \u001b[0;32mexcept\u001b[0m \u001b[0mException\u001b[0m \u001b[0;32mas\u001b[0m \u001b[0me\u001b[0m\u001b[0;34m:\u001b[0m\u001b[0;34m\u001b[0m\u001b[0;34m\u001b[0m\u001b[0m\n\u001b[1;32m    152\u001b[0m       \u001b[0mfiltered_tb\u001b[0m \u001b[0;34m=\u001b[0m \u001b[0m_process_traceback_frames\u001b[0m\u001b[0;34m(\u001b[0m\u001b[0me\u001b[0m\u001b[0;34m.\u001b[0m\u001b[0m__traceback__\u001b[0m\u001b[0;34m)\u001b[0m\u001b[0;34m\u001b[0m\u001b[0;34m\u001b[0m\u001b[0m\n\u001b[0;32m--> 153\u001b[0;31m       \u001b[0;32mraise\u001b[0m \u001b[0me\u001b[0m\u001b[0;34m.\u001b[0m\u001b[0mwith_traceback\u001b[0m\u001b[0;34m(\u001b[0m\u001b[0mfiltered_tb\u001b[0m\u001b[0;34m)\u001b[0m \u001b[0;32mfrom\u001b[0m \u001b[0;32mNone\u001b[0m\u001b[0;34m\u001b[0m\u001b[0;34m\u001b[0m\u001b[0m\n\u001b[0m\u001b[1;32m    154\u001b[0m     \u001b[0;32mfinally\u001b[0m\u001b[0;34m:\u001b[0m\u001b[0;34m\u001b[0m\u001b[0;34m\u001b[0m\u001b[0m\n\u001b[1;32m    155\u001b[0m       \u001b[0;32mdel\u001b[0m \u001b[0mfiltered_tb\u001b[0m\u001b[0;34m\u001b[0m\u001b[0;34m\u001b[0m\u001b[0m\n",
            "\u001b[0;32m/usr/local/lib/python3.7/dist-packages/tensorflow/python/framework/ops.py\u001b[0m in \u001b[0;36mraise_from_not_ok_status\u001b[0;34m(e, name)\u001b[0m\n\u001b[1;32m   7162\u001b[0m \u001b[0;32mdef\u001b[0m \u001b[0mraise_from_not_ok_status\u001b[0m\u001b[0;34m(\u001b[0m\u001b[0me\u001b[0m\u001b[0;34m,\u001b[0m \u001b[0mname\u001b[0m\u001b[0;34m)\u001b[0m\u001b[0;34m:\u001b[0m\u001b[0;34m\u001b[0m\u001b[0;34m\u001b[0m\u001b[0m\n\u001b[1;32m   7163\u001b[0m   \u001b[0me\u001b[0m\u001b[0;34m.\u001b[0m\u001b[0mmessage\u001b[0m \u001b[0;34m+=\u001b[0m \u001b[0;34m(\u001b[0m\u001b[0;34m\" name: \"\u001b[0m \u001b[0;34m+\u001b[0m \u001b[0mname\u001b[0m \u001b[0;32mif\u001b[0m \u001b[0mname\u001b[0m \u001b[0;32mis\u001b[0m \u001b[0;32mnot\u001b[0m \u001b[0;32mNone\u001b[0m \u001b[0;32melse\u001b[0m \u001b[0;34m\"\"\u001b[0m\u001b[0;34m)\u001b[0m\u001b[0;34m\u001b[0m\u001b[0;34m\u001b[0m\u001b[0m\n\u001b[0;32m-> 7164\u001b[0;31m   \u001b[0;32mraise\u001b[0m \u001b[0mcore\u001b[0m\u001b[0;34m.\u001b[0m\u001b[0m_status_to_exception\u001b[0m\u001b[0;34m(\u001b[0m\u001b[0me\u001b[0m\u001b[0;34m)\u001b[0m \u001b[0;32mfrom\u001b[0m \u001b[0;32mNone\u001b[0m  \u001b[0;31m# pylint: disable=protected-access\u001b[0m\u001b[0;34m\u001b[0m\u001b[0;34m\u001b[0m\u001b[0m\n\u001b[0m\u001b[1;32m   7165\u001b[0m \u001b[0;34m\u001b[0m\u001b[0m\n\u001b[1;32m   7166\u001b[0m \u001b[0;34m\u001b[0m\u001b[0m\n",
            "\u001b[0;31mInvalidArgumentError\u001b[0m: Value for attr 'TI' of float is not in the list of allowed values: uint8, int32, int64\n\t; NodeDef: {{node OneHot}}; Op<name=OneHot; signature=indices:TI, depth:int32, on_value:T, off_value:T -> output:T; attr=axis:int,default=-1; attr=T:type; attr=TI:type,default=DT_INT64,allowed=[DT_UINT8, DT_INT32, DT_INT64]> [Op:OneHot]"
          ]
        }
      ]
    },
    {
      "cell_type": "code",
      "source": [
        "tf_1 = tf.random.uniform(shape=[10], maxval=10, dtype= tf.int32)"
      ],
      "metadata": {
        "id": "TJTWwUX1oZuU"
      },
      "execution_count": 78,
      "outputs": []
    },
    {
      "cell_type": "code",
      "source": [
        "tf_1"
      ],
      "metadata": {
        "colab": {
          "base_uri": "https://localhost:8080/"
        },
        "id": "y88PXOxeofpc",
        "outputId": "ff9018a7-2466-42da-c580-a9446ca7417c"
      },
      "execution_count": 79,
      "outputs": [
        {
          "output_type": "execute_result",
          "data": {
            "text/plain": [
              "<tf.Tensor: shape=(10,), dtype=int32, numpy=array([1, 5, 0, 4, 1, 8, 3, 9, 0, 6], dtype=int32)>"
            ]
          },
          "metadata": {},
          "execution_count": 79
        }
      ]
    },
    {
      "cell_type": "code",
      "source": [
        "tf.one_hot(tf_1, depth = 10, on_value=\"Yes\", off_value=\"No\")"
      ],
      "metadata": {
        "colab": {
          "base_uri": "https://localhost:8080/"
        },
        "id": "Ro5LFrdHoohQ",
        "outputId": "20946a37-d2f1-4be9-e902-d0e9141b7219"
      },
      "execution_count": 81,
      "outputs": [
        {
          "output_type": "execute_result",
          "data": {
            "text/plain": [
              "<tf.Tensor: shape=(10, 10), dtype=string, numpy=\n",
              "array([[b'No', b'Yes', b'No', b'No', b'No', b'No', b'No', b'No', b'No',\n",
              "        b'No'],\n",
              "       [b'No', b'No', b'No', b'No', b'No', b'Yes', b'No', b'No', b'No',\n",
              "        b'No'],\n",
              "       [b'Yes', b'No', b'No', b'No', b'No', b'No', b'No', b'No', b'No',\n",
              "        b'No'],\n",
              "       [b'No', b'No', b'No', b'No', b'Yes', b'No', b'No', b'No', b'No',\n",
              "        b'No'],\n",
              "       [b'No', b'Yes', b'No', b'No', b'No', b'No', b'No', b'No', b'No',\n",
              "        b'No'],\n",
              "       [b'No', b'No', b'No', b'No', b'No', b'No', b'No', b'No', b'Yes',\n",
              "        b'No'],\n",
              "       [b'No', b'No', b'No', b'Yes', b'No', b'No', b'No', b'No', b'No',\n",
              "        b'No'],\n",
              "       [b'No', b'No', b'No', b'No', b'No', b'No', b'No', b'No', b'No',\n",
              "        b'Yes'],\n",
              "       [b'Yes', b'No', b'No', b'No', b'No', b'No', b'No', b'No', b'No',\n",
              "        b'No'],\n",
              "       [b'No', b'No', b'No', b'No', b'No', b'No', b'Yes', b'No', b'No',\n",
              "        b'No']], dtype=object)>"
            ]
          },
          "metadata": {},
          "execution_count": 81
        }
      ]
    },
    {
      "cell_type": "code",
      "source": [],
      "metadata": {
        "id": "taRMNNeQpJOL"
      },
      "execution_count": null,
      "outputs": []
    }
  ]
}
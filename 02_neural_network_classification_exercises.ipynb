{
  "nbformat": 4,
  "nbformat_minor": 0,
  "metadata": {
    "colab": {
      "provenance": [],
      "collapsed_sections": [],
      "toc_visible": true,
      "authorship_tag": "ABX9TyNLjJlAfFB3wW0dFq0RSroL",
      "include_colab_link": true
    },
    "kernelspec": {
      "name": "python3",
      "display_name": "Python 3"
    },
    "language_info": {
      "name": "python"
    }
  },
  "cells": [
    {
      "cell_type": "markdown",
      "metadata": {
        "id": "view-in-github",
        "colab_type": "text"
      },
      "source": [
        "<a href=\"https://colab.research.google.com/github/SaketMunda/tensorflow-fundamentals/blob/master/02_neural_network_classification_exercises.ipynb\" target=\"_parent\"><img src=\"https://colab.research.google.com/assets/colab-badge.svg\" alt=\"Open In Colab\"/></a>"
      ]
    },
    {
      "cell_type": "markdown",
      "source": [
        "# Neural Network Classification with TensorFlow Exercises\n",
        "\n",
        "This notebook consist of various exercises that are listed in the [readMe](https://github.com/SaketMunda/tensorflow-fundamentals/blob/master/README.md) of the [Github Repo](https://github.com/SaketMunda/tensorflow-fundamentals)"
      ],
      "metadata": {
        "id": "VLXCyCmB-YBg"
      }
    },
    {
      "cell_type": "code",
      "source": [
        "# Import required libraries\n",
        "import tensorflow as tf\n",
        "import numpy as np\n",
        "import pandas as pd\n",
        "import matplotlib.pyplot as plt"
      ],
      "metadata": {
        "id": "ul51uC4M_smZ"
      },
      "execution_count": 1,
      "outputs": []
    },
    {
      "cell_type": "markdown",
      "source": [
        "## 2. Replicate the model pictured in the TensorFlow Playground diagram \n",
        "\n",
        "Given below is the diagram, use TensorFlow code and Compile it using the Adam optimizer, binary crossentropy loss and accuracy metric. Once it's compiled check a summary of the model.\n",
        "\n",
        "![image](https://raw.githubusercontent.com/mrdbourke/tensorflow-deep-learning/main/images/02-tensorflow-playground-replication-exercise.png)"
      ],
      "metadata": {
        "id": "TFm3xq1D-18n"
      }
    },
    {
      "cell_type": "code",
      "source": [
        "# First need to create some dataset for this, X (data) and y (labels)\n",
        "from sklearn.datasets import make_circles\n",
        "\n",
        "# Make 1000 samples\n",
        "n_samples = 1000\n",
        "X, y = make_circles(n_samples, noise= 0.03, random_state = 17)"
      ],
      "metadata": {
        "id": "w_jKznEa_NWP"
      },
      "execution_count": 2,
      "outputs": []
    },
    {
      "cell_type": "code",
      "source": [
        "# Let's check the samples\n",
        "X[:5], y[:5]"
      ],
      "metadata": {
        "colab": {
          "base_uri": "https://localhost:8080/"
        },
        "id": "2_b_yXd4Acz2",
        "outputId": "f88710be-8b5a-4818-bb45-3ab5299e9624"
      },
      "execution_count": 3,
      "outputs": [
        {
          "output_type": "execute_result",
          "data": {
            "text/plain": [
              "(array([[-0.69661282, -0.32845725],\n",
              "        [ 0.95581012, -0.05841444],\n",
              "        [ 0.53469756, -0.57338982],\n",
              "        [-0.89332834,  0.42098993],\n",
              "        [-0.65647965, -0.4353153 ]]), array([1, 0, 1, 0, 1]))"
            ]
          },
          "metadata": {},
          "execution_count": 3
        }
      ]
    },
    {
      "cell_type": "code",
      "source": [
        "# Shape of the samples\n",
        "X.shape, y.shape"
      ],
      "metadata": {
        "colab": {
          "base_uri": "https://localhost:8080/"
        },
        "id": "fsqxHBoDAh-K",
        "outputId": "05b831ba-487d-484a-9b43-079a0cbadbce"
      },
      "execution_count": 4,
      "outputs": [
        {
          "output_type": "execute_result",
          "data": {
            "text/plain": [
              "((1000, 2), (1000,))"
            ]
          },
          "metadata": {},
          "execution_count": 4
        }
      ]
    },
    {
      "cell_type": "markdown",
      "source": [
        "Okay what we learned from the data ? Seeing the data in this format is not speaking out anything. Let's visualize it."
      ],
      "metadata": {
        "id": "IlWp6FDYAmne"
      }
    },
    {
      "cell_type": "code",
      "source": [
        "circles = pd.DataFrame({\"X0\":X[:, 0], \"X1\": X[:, 1], \"label\": y})\n",
        "circles.head(10)"
      ],
      "metadata": {
        "colab": {
          "base_uri": "https://localhost:8080/",
          "height": 363
        },
        "id": "LhE1aTsSArdm",
        "outputId": "9ed88cd1-543a-40b0-e3bd-7262d2e7c28a"
      },
      "execution_count": 5,
      "outputs": [
        {
          "output_type": "execute_result",
          "data": {
            "text/plain": [
              "         X0        X1  label\n",
              "0 -0.696613 -0.328457      1\n",
              "1  0.955810 -0.058414      0\n",
              "2  0.534698 -0.573390      1\n",
              "3 -0.893328  0.420990      0\n",
              "4 -0.656480 -0.435315      1\n",
              "5  0.611903  0.800231      0\n",
              "6 -0.598358 -0.567453      1\n",
              "7  0.331679  0.922320      0\n",
              "8  0.782751 -0.135743      1\n",
              "9  0.579686  0.842586      0"
            ],
            "text/html": [
              "\n",
              "  <div id=\"df-cbbe0ae2-811b-4310-a1f9-a6d5ee7fad90\">\n",
              "    <div class=\"colab-df-container\">\n",
              "      <div>\n",
              "<style scoped>\n",
              "    .dataframe tbody tr th:only-of-type {\n",
              "        vertical-align: middle;\n",
              "    }\n",
              "\n",
              "    .dataframe tbody tr th {\n",
              "        vertical-align: top;\n",
              "    }\n",
              "\n",
              "    .dataframe thead th {\n",
              "        text-align: right;\n",
              "    }\n",
              "</style>\n",
              "<table border=\"1\" class=\"dataframe\">\n",
              "  <thead>\n",
              "    <tr style=\"text-align: right;\">\n",
              "      <th></th>\n",
              "      <th>X0</th>\n",
              "      <th>X1</th>\n",
              "      <th>label</th>\n",
              "    </tr>\n",
              "  </thead>\n",
              "  <tbody>\n",
              "    <tr>\n",
              "      <th>0</th>\n",
              "      <td>-0.696613</td>\n",
              "      <td>-0.328457</td>\n",
              "      <td>1</td>\n",
              "    </tr>\n",
              "    <tr>\n",
              "      <th>1</th>\n",
              "      <td>0.955810</td>\n",
              "      <td>-0.058414</td>\n",
              "      <td>0</td>\n",
              "    </tr>\n",
              "    <tr>\n",
              "      <th>2</th>\n",
              "      <td>0.534698</td>\n",
              "      <td>-0.573390</td>\n",
              "      <td>1</td>\n",
              "    </tr>\n",
              "    <tr>\n",
              "      <th>3</th>\n",
              "      <td>-0.893328</td>\n",
              "      <td>0.420990</td>\n",
              "      <td>0</td>\n",
              "    </tr>\n",
              "    <tr>\n",
              "      <th>4</th>\n",
              "      <td>-0.656480</td>\n",
              "      <td>-0.435315</td>\n",
              "      <td>1</td>\n",
              "    </tr>\n",
              "    <tr>\n",
              "      <th>5</th>\n",
              "      <td>0.611903</td>\n",
              "      <td>0.800231</td>\n",
              "      <td>0</td>\n",
              "    </tr>\n",
              "    <tr>\n",
              "      <th>6</th>\n",
              "      <td>-0.598358</td>\n",
              "      <td>-0.567453</td>\n",
              "      <td>1</td>\n",
              "    </tr>\n",
              "    <tr>\n",
              "      <th>7</th>\n",
              "      <td>0.331679</td>\n",
              "      <td>0.922320</td>\n",
              "      <td>0</td>\n",
              "    </tr>\n",
              "    <tr>\n",
              "      <th>8</th>\n",
              "      <td>0.782751</td>\n",
              "      <td>-0.135743</td>\n",
              "      <td>1</td>\n",
              "    </tr>\n",
              "    <tr>\n",
              "      <th>9</th>\n",
              "      <td>0.579686</td>\n",
              "      <td>0.842586</td>\n",
              "      <td>0</td>\n",
              "    </tr>\n",
              "  </tbody>\n",
              "</table>\n",
              "</div>\n",
              "      <button class=\"colab-df-convert\" onclick=\"convertToInteractive('df-cbbe0ae2-811b-4310-a1f9-a6d5ee7fad90')\"\n",
              "              title=\"Convert this dataframe to an interactive table.\"\n",
              "              style=\"display:none;\">\n",
              "        \n",
              "  <svg xmlns=\"http://www.w3.org/2000/svg\" height=\"24px\"viewBox=\"0 0 24 24\"\n",
              "       width=\"24px\">\n",
              "    <path d=\"M0 0h24v24H0V0z\" fill=\"none\"/>\n",
              "    <path d=\"M18.56 5.44l.94 2.06.94-2.06 2.06-.94-2.06-.94-.94-2.06-.94 2.06-2.06.94zm-11 1L8.5 8.5l.94-2.06 2.06-.94-2.06-.94L8.5 2.5l-.94 2.06-2.06.94zm10 10l.94 2.06.94-2.06 2.06-.94-2.06-.94-.94-2.06-.94 2.06-2.06.94z\"/><path d=\"M17.41 7.96l-1.37-1.37c-.4-.4-.92-.59-1.43-.59-.52 0-1.04.2-1.43.59L10.3 9.45l-7.72 7.72c-.78.78-.78 2.05 0 2.83L4 21.41c.39.39.9.59 1.41.59.51 0 1.02-.2 1.41-.59l7.78-7.78 2.81-2.81c.8-.78.8-2.07 0-2.86zM5.41 20L4 18.59l7.72-7.72 1.47 1.35L5.41 20z\"/>\n",
              "  </svg>\n",
              "      </button>\n",
              "      \n",
              "  <style>\n",
              "    .colab-df-container {\n",
              "      display:flex;\n",
              "      flex-wrap:wrap;\n",
              "      gap: 12px;\n",
              "    }\n",
              "\n",
              "    .colab-df-convert {\n",
              "      background-color: #E8F0FE;\n",
              "      border: none;\n",
              "      border-radius: 50%;\n",
              "      cursor: pointer;\n",
              "      display: none;\n",
              "      fill: #1967D2;\n",
              "      height: 32px;\n",
              "      padding: 0 0 0 0;\n",
              "      width: 32px;\n",
              "    }\n",
              "\n",
              "    .colab-df-convert:hover {\n",
              "      background-color: #E2EBFA;\n",
              "      box-shadow: 0px 1px 2px rgba(60, 64, 67, 0.3), 0px 1px 3px 1px rgba(60, 64, 67, 0.15);\n",
              "      fill: #174EA6;\n",
              "    }\n",
              "\n",
              "    [theme=dark] .colab-df-convert {\n",
              "      background-color: #3B4455;\n",
              "      fill: #D2E3FC;\n",
              "    }\n",
              "\n",
              "    [theme=dark] .colab-df-convert:hover {\n",
              "      background-color: #434B5C;\n",
              "      box-shadow: 0px 1px 3px 1px rgba(0, 0, 0, 0.15);\n",
              "      filter: drop-shadow(0px 1px 2px rgba(0, 0, 0, 0.3));\n",
              "      fill: #FFFFFF;\n",
              "    }\n",
              "  </style>\n",
              "\n",
              "      <script>\n",
              "        const buttonEl =\n",
              "          document.querySelector('#df-cbbe0ae2-811b-4310-a1f9-a6d5ee7fad90 button.colab-df-convert');\n",
              "        buttonEl.style.display =\n",
              "          google.colab.kernel.accessAllowed ? 'block' : 'none';\n",
              "\n",
              "        async function convertToInteractive(key) {\n",
              "          const element = document.querySelector('#df-cbbe0ae2-811b-4310-a1f9-a6d5ee7fad90');\n",
              "          const dataTable =\n",
              "            await google.colab.kernel.invokeFunction('convertToInteractive',\n",
              "                                                     [key], {});\n",
              "          if (!dataTable) return;\n",
              "\n",
              "          const docLinkHtml = 'Like what you see? Visit the ' +\n",
              "            '<a target=\"_blank\" href=https://colab.research.google.com/notebooks/data_table.ipynb>data table notebook</a>'\n",
              "            + ' to learn more about interactive tables.';\n",
              "          element.innerHTML = '';\n",
              "          dataTable['output_type'] = 'display_data';\n",
              "          await google.colab.output.renderOutput(dataTable, element);\n",
              "          const docLink = document.createElement('div');\n",
              "          docLink.innerHTML = docLinkHtml;\n",
              "          element.appendChild(docLink);\n",
              "        }\n",
              "      </script>\n",
              "    </div>\n",
              "  </div>\n",
              "  "
            ]
          },
          "metadata": {},
          "execution_count": 5
        }
      ]
    },
    {
      "cell_type": "code",
      "source": [
        "# If we use this dataframe to plot\n",
        "plt.scatter(circles[\"X0\"], circles[\"X1\"], c=circles[\"label\"]);"
      ],
      "metadata": {
        "colab": {
          "base_uri": "https://localhost:8080/",
          "height": 265
        },
        "id": "mzLNxsc0A1T-",
        "outputId": "487ff40b-825f-4c91-f9bb-d6f2f818fcd9"
      },
      "execution_count": 6,
      "outputs": [
        {
          "output_type": "display_data",
          "data": {
            "text/plain": [
              "<Figure size 432x288 with 1 Axes>"
            ],
            "image/png": "[encoded data removed]"
          },
          "metadata": {
            "needs_background": "light"
          }
        }
      ]
    },
    {
      "cell_type": "code",
      "source": [
        "# check out the different labels\n",
        "circles.label.value_counts()"
      ],
      "metadata": {
        "colab": {
          "base_uri": "https://localhost:8080/"
        },
        "id": "KxQeXH0FBvpH",
        "outputId": "24c5a7ea-6784-4628-e149-7687baf14263"
      },
      "execution_count": 7,
      "outputs": [
        {
          "output_type": "execute_result",
          "data": {
            "text/plain": [
              "1    500\n",
              "0    500\n",
              "Name: label, dtype: int64"
            ]
          },
          "metadata": {},
          "execution_count": 7
        }
      ]
    },
    {
      "cell_type": "markdown",
      "source": [
        "We can see that we have label `0` and `1`, it means that we're going to solve a binary classification problem."
      ],
      "metadata": {
        "id": "YMPaI3tqB9mP"
      }
    },
    {
      "cell_type": "code",
      "source": [
        "# Let's split our data into training and test set, ratio will be 80-20\n",
        "from sklearn.model_selection import train_test_split\n",
        "\n",
        "X_train, X_test, y_train, y_test = train_test_split(X,y,test_size=0.2)"
      ],
      "metadata": {
        "id": "aqXPG2-QCFxM"
      },
      "execution_count": 8,
      "outputs": []
    },
    {
      "cell_type": "code",
      "source": [
        "# Check the shapes of training and test samples\n",
        "X_train.shape, X_test.shape, y_train.shape, y_test.shape"
      ],
      "metadata": {
        "colab": {
          "base_uri": "https://localhost:8080/"
        },
        "id": "YN4cIzHiCrqA",
        "outputId": "3d0abf3a-8b55-4cf1-b2e6-839f37aa7b9a"
      },
      "execution_count": 9,
      "outputs": [
        {
          "output_type": "execute_result",
          "data": {
            "text/plain": [
              "((800, 2), (200, 2), (800,), (200,))"
            ]
          },
          "metadata": {},
          "execution_count": 9
        }
      ]
    },
    {
      "cell_type": "markdown",
      "source": [
        "Alright, now we are ready to build our model and replicate the layers shown above in the TensorFlow playground screenshot."
      ],
      "metadata": {
        "id": "Vji-nuhGDDMD"
      }
    },
    {
      "cell_type": "code",
      "source": [
        "# set the random seed\n",
        "tf.random.set_seed(17)\n",
        "\n",
        "# Create a model with 5 hidden layers having 6 neuron each layer with activation as ReLu and 1 output layer with activation as sigmoid\n",
        "model_1 = tf.keras.Sequential([\n",
        "    tf.keras.layers.Dense(6, activation='relu'),\n",
        "    tf.keras.layers.Dense(6, activation='relu'),\n",
        "    tf.keras.layers.Dense(6, activation='relu'),\n",
        "    tf.keras.layers.Dense(6, activation='relu'),\n",
        "    tf.keras.layers.Dense(6, activation='relu'),\n",
        "    tf.keras.layers.Dense(1, activation='sigmoid')\n",
        "])\n",
        "\n",
        "# Compile a model\n",
        "model_1.compile(loss='binary_crossentropy',\n",
        "                optimizer='Adam',\n",
        "                metrics=['accuracy'])\n",
        "\n",
        "# Fit the model\n",
        "history_1 = model_1.fit(X_train,\n",
        "                        y_train,\n",
        "                        epochs=100,\n",
        "                        validation_data=(X_test, y_test))"
      ],
      "metadata": {
        "colab": {
          "base_uri": "https://localhost:8080/"
        },
        "id": "ppI0yri9DOqj",
        "outputId": "a227cd74-8d69-4435-cbea-77f320f706d7"
      },
      "execution_count": 10,
      "outputs": [
        {
          "output_type": "stream",
          "name": "stdout",
          "text": [
            "Epoch 1/100\n",
            "25/25 [==============================] - 1s 10ms/step - loss: 0.6906 - accuracy: 0.4963 - val_loss: 0.6904 - val_accuracy: 0.4950\n",
            "Epoch 2/100\n",
            "25/25 [==============================] - 0s 2ms/step - loss: 0.6896 - accuracy: 0.5163 - val_loss: 0.6902 - val_accuracy: 0.5050\n",
            "Epoch 3/100\n",
            "25/25 [==============================] - 0s 2ms/step - loss: 0.6890 - accuracy: 0.5188 - val_loss: 0.6900 - val_accuracy: 0.5100\n",
            "Epoch 4/100\n",
            "25/25 [==============================] - 0s 3ms/step - loss: 0.6883 - accuracy: 0.5175 - val_loss: 0.6896 - val_accuracy: 0.5100\n",
            "Epoch 5/100\n",
            "25/25 [==============================] - 0s 3ms/step - loss: 0.6875 - accuracy: 0.5200 - val_loss: 0.6893 - val_accuracy: 0.5050\n",
            "Epoch 6/100\n",
            "25/25 [==============================] - 0s 2ms/step - loss: 0.6867 - accuracy: 0.5375 - val_loss: 0.6885 - val_accuracy: 0.5050\n",
            "Epoch 7/100\n",
            "25/25 [==============================] - 0s 3ms/step - loss: 0.6855 - accuracy: 0.5362 - val_loss: 0.6880 - val_accuracy: 0.5100\n",
            "Epoch 8/100\n",
            "25/25 [==============================] - 0s 3ms/step - loss: 0.6840 - accuracy: 0.5387 - val_loss: 0.6871 - val_accuracy: 0.4900\n",
            "Epoch 9/100\n",
            "25/25 [==============================] - 0s 2ms/step - loss: 0.6824 - accuracy: 0.5663 - val_loss: 0.6863 - val_accuracy: 0.5050\n",
            "Epoch 10/100\n",
            "25/25 [==============================] - 0s 2ms/step - loss: 0.6801 - accuracy: 0.5600 - val_loss: 0.6848 - val_accuracy: 0.4950\n",
            "Epoch 11/100\n",
            "25/25 [==============================] - 0s 3ms/step - loss: 0.6778 - accuracy: 0.5650 - val_loss: 0.6834 - val_accuracy: 0.5000\n",
            "Epoch 12/100\n",
            "25/25 [==============================] - 0s 2ms/step - loss: 0.6748 - accuracy: 0.5738 - val_loss: 0.6805 - val_accuracy: 0.4850\n",
            "Epoch 13/100\n",
            "25/25 [==============================] - 0s 2ms/step - loss: 0.6712 - accuracy: 0.5575 - val_loss: 0.6763 - val_accuracy: 0.5200\n",
            "Epoch 14/100\n",
            "25/25 [==============================] - 0s 2ms/step - loss: 0.6672 - accuracy: 0.5612 - val_loss: 0.6715 - val_accuracy: 0.5500\n",
            "Epoch 15/100\n",
            "25/25 [==============================] - 0s 2ms/step - loss: 0.6600 - accuracy: 0.6150 - val_loss: 0.6645 - val_accuracy: 0.5350\n",
            "Epoch 16/100\n",
            "25/25 [==============================] - 0s 2ms/step - loss: 0.6528 - accuracy: 0.6137 - val_loss: 0.6574 - val_accuracy: 0.5400\n",
            "Epoch 17/100\n",
            "25/25 [==============================] - 0s 2ms/step - loss: 0.6433 - accuracy: 0.6687 - val_loss: 0.6454 - val_accuracy: 0.5650\n",
            "Epoch 18/100\n",
            "25/25 [==============================] - 0s 3ms/step - loss: 0.6302 - accuracy: 0.6862 - val_loss: 0.6386 - val_accuracy: 0.5200\n",
            "Epoch 19/100\n",
            "25/25 [==============================] - 0s 2ms/step - loss: 0.6150 - accuracy: 0.7025 - val_loss: 0.6169 - val_accuracy: 0.6650\n",
            "Epoch 20/100\n",
            "25/25 [==============================] - 0s 2ms/step - loss: 0.5975 - accuracy: 0.7287 - val_loss: 0.6066 - val_accuracy: 0.6200\n",
            "Epoch 21/100\n",
            "25/25 [==============================] - 0s 2ms/step - loss: 0.5812 - accuracy: 0.7312 - val_loss: 0.5843 - val_accuracy: 0.7100\n",
            "Epoch 22/100\n",
            "25/25 [==============================] - 0s 2ms/step - loss: 0.5635 - accuracy: 0.7450 - val_loss: 0.5712 - val_accuracy: 0.7450\n",
            "Epoch 23/100\n",
            "25/25 [==============================] - 0s 3ms/step - loss: 0.5491 - accuracy: 0.7487 - val_loss: 0.5534 - val_accuracy: 0.7350\n",
            "Epoch 24/100\n",
            "25/25 [==============================] - 0s 2ms/step - loss: 0.5307 - accuracy: 0.7663 - val_loss: 0.5485 - val_accuracy: 0.7100\n",
            "Epoch 25/100\n",
            "25/25 [==============================] - 0s 2ms/step - loss: 0.5166 - accuracy: 0.7663 - val_loss: 0.5247 - val_accuracy: 0.7400\n",
            "Epoch 26/100\n",
            "25/25 [==============================] - 0s 2ms/step - loss: 0.4984 - accuracy: 0.7788 - val_loss: 0.5171 - val_accuracy: 0.7600\n",
            "Epoch 27/100\n",
            "25/25 [==============================] - 0s 3ms/step - loss: 0.4871 - accuracy: 0.7837 - val_loss: 0.5022 - val_accuracy: 0.7400\n",
            "Epoch 28/100\n",
            "25/25 [==============================] - 0s 3ms/step - loss: 0.4742 - accuracy: 0.7788 - val_loss: 0.4955 - val_accuracy: 0.7450\n",
            "Epoch 29/100\n",
            "25/25 [==============================] - 0s 3ms/step - loss: 0.4585 - accuracy: 0.8037 - val_loss: 0.4832 - val_accuracy: 0.7550\n",
            "Epoch 30/100\n",
            "25/25 [==============================] - 0s 3ms/step - loss: 0.4505 - accuracy: 0.8075 - val_loss: 0.4765 - val_accuracy: 0.7700\n",
            "Epoch 31/100\n",
            "25/25 [==============================] - 0s 3ms/step - loss: 0.4394 - accuracy: 0.8125 - val_loss: 0.4693 - val_accuracy: 0.7600\n",
            "Epoch 32/100\n",
            "25/25 [==============================] - 0s 2ms/step - loss: 0.4302 - accuracy: 0.8138 - val_loss: 0.4606 - val_accuracy: 0.7800\n",
            "Epoch 33/100\n",
            "25/25 [==============================] - 0s 2ms/step - loss: 0.4235 - accuracy: 0.8150 - val_loss: 0.4578 - val_accuracy: 0.7800\n",
            "Epoch 34/100\n",
            "25/25 [==============================] - 0s 2ms/step - loss: 0.4135 - accuracy: 0.8200 - val_loss: 0.4470 - val_accuracy: 0.7800\n",
            "Epoch 35/100\n",
            "25/25 [==============================] - 0s 2ms/step - loss: 0.4055 - accuracy: 0.8250 - val_loss: 0.4414 - val_accuracy: 0.7800\n",
            "Epoch 36/100\n",
            "25/25 [==============================] - 0s 3ms/step - loss: 0.3992 - accuracy: 0.8288 - val_loss: 0.4336 - val_accuracy: 0.7900\n",
            "Epoch 37/100\n",
            "25/25 [==============================] - 0s 3ms/step - loss: 0.3936 - accuracy: 0.8275 - val_loss: 0.4268 - val_accuracy: 0.8000\n",
            "Epoch 38/100\n",
            "25/25 [==============================] - 0s 2ms/step - loss: 0.3856 - accuracy: 0.8313 - val_loss: 0.4207 - val_accuracy: 0.7850\n",
            "Epoch 39/100\n",
            "25/25 [==============================] - 0s 2ms/step - loss: 0.3778 - accuracy: 0.8363 - val_loss: 0.4113 - val_accuracy: 0.7900\n",
            "Epoch 40/100\n",
            "25/25 [==============================] - 0s 2ms/step - loss: 0.3709 - accuracy: 0.8388 - val_loss: 0.4021 - val_accuracy: 0.8100\n",
            "Epoch 41/100\n",
            "25/25 [==============================] - 0s 3ms/step - loss: 0.3662 - accuracy: 0.8438 - val_loss: 0.3973 - val_accuracy: 0.8100\n",
            "Epoch 42/100\n",
            "25/25 [==============================] - 0s 2ms/step - loss: 0.3604 - accuracy: 0.8450 - val_loss: 0.3984 - val_accuracy: 0.8000\n",
            "Epoch 43/100\n",
            "25/25 [==============================] - 0s 2ms/step - loss: 0.3552 - accuracy: 0.8462 - val_loss: 0.3899 - val_accuracy: 0.8100\n",
            "Epoch 44/100\n",
            "25/25 [==============================] - 0s 2ms/step - loss: 0.3515 - accuracy: 0.8475 - val_loss: 0.3961 - val_accuracy: 0.8000\n",
            "Epoch 45/100\n",
            "25/25 [==============================] - 0s 2ms/step - loss: 0.3424 - accuracy: 0.8487 - val_loss: 0.3757 - val_accuracy: 0.8200\n",
            "Epoch 46/100\n",
            "25/25 [==============================] - 0s 2ms/step - loss: 0.3375 - accuracy: 0.8487 - val_loss: 0.3690 - val_accuracy: 0.8200\n",
            "Epoch 47/100\n",
            "25/25 [==============================] - 0s 2ms/step - loss: 0.3307 - accuracy: 0.8537 - val_loss: 0.3644 - val_accuracy: 0.8250\n",
            "Epoch 48/100\n",
            "25/25 [==============================] - 0s 2ms/step - loss: 0.3268 - accuracy: 0.8525 - val_loss: 0.3623 - val_accuracy: 0.8150\n",
            "Epoch 49/100\n",
            "25/25 [==============================] - 0s 3ms/step - loss: 0.3198 - accuracy: 0.8562 - val_loss: 0.3589 - val_accuracy: 0.8150\n",
            "Epoch 50/100\n",
            "25/25 [==============================] - 0s 2ms/step - loss: 0.3172 - accuracy: 0.8562 - val_loss: 0.3548 - val_accuracy: 0.8100\n",
            "Epoch 51/100\n",
            "25/25 [==============================] - 0s 2ms/step - loss: 0.3063 - accuracy: 0.8600 - val_loss: 0.3487 - val_accuracy: 0.8150\n",
            "Epoch 52/100\n",
            "25/25 [==============================] - 0s 2ms/step - loss: 0.3036 - accuracy: 0.8600 - val_loss: 0.3388 - val_accuracy: 0.8250\n",
            "Epoch 53/100\n",
            "25/25 [==============================] - 0s 2ms/step - loss: 0.2974 - accuracy: 0.8612 - val_loss: 0.3246 - val_accuracy: 0.8350\n",
            "Epoch 54/100\n",
            "25/25 [==============================] - 0s 2ms/step - loss: 0.2893 - accuracy: 0.8637 - val_loss: 0.3193 - val_accuracy: 0.8350\n",
            "Epoch 55/100\n",
            "25/25 [==============================] - 0s 3ms/step - loss: 0.2837 - accuracy: 0.8637 - val_loss: 0.3170 - val_accuracy: 0.8300\n",
            "Epoch 56/100\n",
            "25/25 [==============================] - 0s 3ms/step - loss: 0.2790 - accuracy: 0.8662 - val_loss: 0.3048 - val_accuracy: 0.8400\n",
            "Epoch 57/100\n",
            "25/25 [==============================] - 0s 3ms/step - loss: 0.2743 - accuracy: 0.8650 - val_loss: 0.2975 - val_accuracy: 0.8400\n",
            "Epoch 58/100\n",
            "25/25 [==============================] - 0s 3ms/step - loss: 0.2678 - accuracy: 0.8687 - val_loss: 0.2915 - val_accuracy: 0.8400\n",
            "Epoch 59/100\n",
            "25/25 [==============================] - 0s 2ms/step - loss: 0.2625 - accuracy: 0.8700 - val_loss: 0.2818 - val_accuracy: 0.8450\n",
            "Epoch 60/100\n",
            "25/25 [==============================] - 0s 2ms/step - loss: 0.2589 - accuracy: 0.8687 - val_loss: 0.2710 - val_accuracy: 0.8550\n",
            "Epoch 61/100\n",
            "25/25 [==============================] - 0s 3ms/step - loss: 0.2549 - accuracy: 0.8687 - val_loss: 0.2730 - val_accuracy: 0.8450\n",
            "Epoch 62/100\n",
            "25/25 [==============================] - 0s 3ms/step - loss: 0.2541 - accuracy: 0.8725 - val_loss: 0.2643 - val_accuracy: 0.8500\n",
            "Epoch 63/100\n",
            "25/25 [==============================] - 0s 2ms/step - loss: 0.2463 - accuracy: 0.8725 - val_loss: 0.2561 - val_accuracy: 0.8550\n",
            "Epoch 64/100\n",
            "25/25 [==============================] - 0s 2ms/step - loss: 0.2434 - accuracy: 0.8737 - val_loss: 0.2568 - val_accuracy: 0.8500\n",
            "Epoch 65/100\n",
            "25/25 [==============================] - 0s 2ms/step - loss: 0.2401 - accuracy: 0.8712 - val_loss: 0.2480 - val_accuracy: 0.8600\n",
            "Epoch 66/100\n",
            "25/25 [==============================] - 0s 2ms/step - loss: 0.2337 - accuracy: 0.8788 - val_loss: 0.2534 - val_accuracy: 0.8550\n",
            "Epoch 67/100\n",
            "25/25 [==============================] - 0s 2ms/step - loss: 0.2297 - accuracy: 0.8775 - val_loss: 0.2437 - val_accuracy: 0.8600\n",
            "Epoch 68/100\n",
            "25/25 [==============================] - 0s 3ms/step - loss: 0.2265 - accuracy: 0.8813 - val_loss: 0.2440 - val_accuracy: 0.8600\n",
            "Epoch 69/100\n",
            "25/25 [==============================] - 0s 2ms/step - loss: 0.2233 - accuracy: 0.8813 - val_loss: 0.2413 - val_accuracy: 0.8550\n",
            "Epoch 70/100\n",
            "25/25 [==============================] - 0s 3ms/step - loss: 0.2204 - accuracy: 0.8813 - val_loss: 0.2346 - val_accuracy: 0.8600\n",
            "Epoch 71/100\n",
            "25/25 [==============================] - 0s 3ms/step - loss: 0.2189 - accuracy: 0.8800 - val_loss: 0.2348 - val_accuracy: 0.8550\n",
            "Epoch 72/100\n",
            "25/25 [==============================] - 0s 2ms/step - loss: 0.2153 - accuracy: 0.8825 - val_loss: 0.2311 - val_accuracy: 0.8600\n",
            "Epoch 73/100\n",
            "25/25 [==============================] - 0s 3ms/step - loss: 0.2151 - accuracy: 0.8825 - val_loss: 0.2273 - val_accuracy: 0.8650\n",
            "Epoch 74/100\n",
            "25/25 [==============================] - 0s 2ms/step - loss: 0.2123 - accuracy: 0.8825 - val_loss: 0.2293 - val_accuracy: 0.8650\n",
            "Epoch 75/100\n",
            "25/25 [==============================] - 0s 2ms/step - loss: 0.2091 - accuracy: 0.8838 - val_loss: 0.2224 - val_accuracy: 0.8550\n",
            "Epoch 76/100\n",
            "25/25 [==============================] - 0s 2ms/step - loss: 0.2054 - accuracy: 0.8825 - val_loss: 0.2164 - val_accuracy: 0.8700\n",
            "Epoch 77/100\n",
            "25/25 [==============================] - 0s 2ms/step - loss: 0.2031 - accuracy: 0.8838 - val_loss: 0.2179 - val_accuracy: 0.8650\n",
            "Epoch 78/100\n",
            "25/25 [==============================] - 0s 2ms/step - loss: 0.1987 - accuracy: 0.8863 - val_loss: 0.2104 - val_accuracy: 0.8750\n",
            "Epoch 79/100\n",
            "25/25 [==============================] - 0s 2ms/step - loss: 0.1960 - accuracy: 0.8900 - val_loss: 0.2073 - val_accuracy: 0.8750\n",
            "Epoch 80/100\n",
            "25/25 [==============================] - 0s 3ms/step - loss: 0.1915 - accuracy: 0.8900 - val_loss: 0.2081 - val_accuracy: 0.8700\n",
            "Epoch 81/100\n",
            "25/25 [==============================] - 0s 2ms/step - loss: 0.1874 - accuracy: 0.8950 - val_loss: 0.2010 - val_accuracy: 0.8700\n",
            "Epoch 82/100\n",
            "25/25 [==============================] - 0s 2ms/step - loss: 0.1833 - accuracy: 0.8975 - val_loss: 0.1942 - val_accuracy: 0.8750\n",
            "Epoch 83/100\n",
            "25/25 [==============================] - 0s 2ms/step - loss: 0.1887 - accuracy: 0.8888 - val_loss: 0.2078 - val_accuracy: 0.8700\n",
            "Epoch 84/100\n",
            "25/25 [==============================] - 0s 2ms/step - loss: 0.1796 - accuracy: 0.8975 - val_loss: 0.1889 - val_accuracy: 0.8750\n",
            "Epoch 85/100\n",
            "25/25 [==============================] - 0s 3ms/step - loss: 0.1757 - accuracy: 0.8988 - val_loss: 0.1786 - val_accuracy: 0.8900\n",
            "Epoch 86/100\n",
            "25/25 [==============================] - 0s 2ms/step - loss: 0.1716 - accuracy: 0.9025 - val_loss: 0.1787 - val_accuracy: 0.8850\n",
            "Epoch 87/100\n",
            "25/25 [==============================] - 0s 3ms/step - loss: 0.1698 - accuracy: 0.9038 - val_loss: 0.1787 - val_accuracy: 0.8900\n",
            "Epoch 88/100\n",
            "25/25 [==============================] - 0s 2ms/step - loss: 0.1660 - accuracy: 0.9050 - val_loss: 0.1726 - val_accuracy: 0.8900\n",
            "Epoch 89/100\n",
            "25/25 [==============================] - 0s 2ms/step - loss: 0.1637 - accuracy: 0.9050 - val_loss: 0.1693 - val_accuracy: 0.8900\n",
            "Epoch 90/100\n",
            "25/25 [==============================] - 0s 2ms/step - loss: 0.1604 - accuracy: 0.9087 - val_loss: 0.1706 - val_accuracy: 0.8900\n",
            "Epoch 91/100\n",
            "25/25 [==============================] - 0s 2ms/step - loss: 0.1581 - accuracy: 0.9087 - val_loss: 0.1650 - val_accuracy: 0.8900\n",
            "Epoch 92/100\n",
            "25/25 [==============================] - 0s 3ms/step - loss: 0.1532 - accuracy: 0.9112 - val_loss: 0.1647 - val_accuracy: 0.8850\n",
            "Epoch 93/100\n",
            "25/25 [==============================] - 0s 2ms/step - loss: 0.1508 - accuracy: 0.9112 - val_loss: 0.1699 - val_accuracy: 0.8900\n",
            "Epoch 94/100\n",
            "25/25 [==============================] - 0s 2ms/step - loss: 0.1487 - accuracy: 0.9125 - val_loss: 0.1565 - val_accuracy: 0.8900\n",
            "Epoch 95/100\n",
            "25/25 [==============================] - 0s 2ms/step - loss: 0.1456 - accuracy: 0.9137 - val_loss: 0.1542 - val_accuracy: 0.8950\n",
            "Epoch 96/100\n",
            "25/25 [==============================] - 0s 2ms/step - loss: 0.1425 - accuracy: 0.9175 - val_loss: 0.1465 - val_accuracy: 0.8950\n",
            "Epoch 97/100\n",
            "25/25 [==============================] - 0s 2ms/step - loss: 0.1349 - accuracy: 0.9463 - val_loss: 0.1364 - val_accuracy: 0.9600\n",
            "Epoch 98/100\n",
            "25/25 [==============================] - 0s 2ms/step - loss: 0.1260 - accuracy: 0.9375 - val_loss: 0.1287 - val_accuracy: 0.9650\n",
            "Epoch 99/100\n",
            "25/25 [==============================] - 0s 3ms/step - loss: 0.0881 - accuracy: 0.9725 - val_loss: 0.0622 - val_accuracy: 0.9750\n",
            "Epoch 100/100\n",
            "25/25 [==============================] - 0s 2ms/step - loss: 0.0616 - accuracy: 0.9775 - val_loss: 0.0770 - val_accuracy: 0.9700\n"
          ]
        }
      ]
    },
    {
      "cell_type": "markdown",
      "source": [
        "Our model performed pretty well with `Accuracy` **99%**.\n",
        "\n",
        "Now to replicate the figure we need to plot the decision boundary. Let's do then,"
      ],
      "metadata": {
        "id": "Wxe2FWcnEYmR"
      }
    },
    {
      "cell_type": "code",
      "source": [
        "def plot_decision_boundary(model, X, y):\n",
        "  # Define the axis boundaries of the plot and create a meshgrid\n",
        "  x_min, x_max = X[:, 0].min() - 0.1, X[:, 0].max() + 0.1\n",
        "  y_min, y_max = X[:, 1].min() - 0.1, X[:, 1].max() + 0.1\n",
        "  xx, yy = np.meshgrid(np.linspace(x_min, x_max, 100),\n",
        "                       np.linspace(y_min, y_max, 100))\n",
        "  \n",
        "  # Create X values (we're going to predict on all of these)\n",
        "  x_in = np.c_[xx.ravel(), yy.ravel()] # stack 2D arrays together\n",
        "\n",
        "  # Make predictions using trained model\n",
        "  y_pred = model.predict(x_in)\n",
        "\n",
        "  # Check for multi-class\n",
        "  if model.output_shape[-1] > 1: \n",
        "    print(\"Doing multi-class classification...\")\n",
        "    # We have to reshape our predictions to get them ready for plotting\n",
        "    y_pred = np.argmax(y_pred, axis=1).reshape(xx.shape)\n",
        "  else:\n",
        "    print(\"Doing binary-class classification...\")\n",
        "    y_pred = np.round(np.max(y_pred, axis=1)).reshape(xx.shape)\n",
        "  \n",
        "  # plot decision boundary\n",
        "  plt.contourf(xx, yy, y_pred, cmap=plt.cm.RdYlBu, alpha = 0.7)\n",
        "  plt.scatter(X[:,0], X[:,1], c = y, s=40, cmap=plt.cm.RdYlBu)\n",
        "  plt.xlim(xx.min(), xx.max())\n",
        "  plt.ylim(yy.min(), yy.max())"
      ],
      "metadata": {
        "id": "yIoUkN1rEwC0"
      },
      "execution_count": 11,
      "outputs": []
    },
    {
      "cell_type": "code",
      "source": [
        "plot_decision_boundary(model_1, X, y)"
      ],
      "metadata": {
        "colab": {
          "base_uri": "https://localhost:8080/",
          "height": 300
        },
        "id": "RH5BO1rrF9lJ",
        "outputId": "0fca835a-6a42-46de-e04b-ccc45e2e7651"
      },
      "execution_count": 12,
      "outputs": [
        {
          "output_type": "stream",
          "name": "stdout",
          "text": [
            "313/313 [==============================] - 0s 907us/step\n",
            "Doing binary-class classification...\n"
          ]
        },
        {
          "output_type": "display_data",
          "data": {
            "text/plain": [
              "<Figure size 432x288 with 1 Axes>"
            ],
            "image/png": "[encoded data removed]"
          },
          "metadata": {
            "needs_background": "light"
          }
        }
      ]
    },
    {
      "cell_type": "markdown",
      "source": [
        "There is another way of plotting decision boundaries using `mlxtend.plotting`.\n",
        "\n",
        "Lets see..."
      ],
      "metadata": {
        "id": "6dWBzHXnI-cX"
      }
    },
    {
      "cell_type": "code",
      "source": [
        "from mlxtend.plotting import plot_decision_regions\n"
      ],
      "metadata": {
        "id": "AsjPoTRR17oo"
      },
      "execution_count": 24,
      "outputs": []
    },
    {
      "cell_type": "code",
      "source": [
        "plot_decision_regions(X_test, y_test, clf=model_1,legend=2)\n",
        "plt.show();"
      ],
      "metadata": {
        "colab": {
          "base_uri": "https://localhost:8080/",
          "height": 339
        },
        "id": "Rr4hAMHi6xRd",
        "outputId": "a2c3246b-991d-45f3-81a9-1d91f1a3a6a5"
      },
      "execution_count": 29,
      "outputs": [
        {
          "output_type": "stream",
          "name": "stdout",
          "text": [
            "3888/3888 [==============================] - 4s 973us/step\n"
          ]
        },
        {
          "output_type": "stream",
          "name": "stderr",
          "text": [
            "/usr/local/lib/python3.7/dist-packages/mlxtend/plotting/decision_regions.py:244: MatplotlibDeprecationWarning: Passing unsupported keyword arguments to axis() will raise a TypeError in 3.3.\n",
            "  ax.axis(xmin=xx.min(), xmax=xx.max(), y_min=yy.min(), y_max=yy.max())\n"
          ]
        },
        {
          "output_type": "display_data",
          "data": {
            "text/plain": [
              "<Figure size 432x288 with 1 Axes>"
            ],
            "image/png": "[encoded data removed]"
          },
          "metadata": {
            "needs_background": "light"
          }
        }
      ]
    },
    {
      "cell_type": "markdown",
      "source": [
        "## Create a classification dataset using Scikit-Learns `make_moons()`"
      ],
      "metadata": {
        "id": "6b12_bDL7gns"
      }
    },
    {
      "cell_type": "markdown",
      "source": [
        "Create a classification dataset using Scikit-learns [make_moons()](https://scikit-learn.org/stable/modules/generated/sklearn.datasets.make_moons.html) function, visualize it and then build a model to fit it at over 85% accuracy."
      ],
      "metadata": {
        "id": "Vkdw6mM98Gur"
      }
    },
    {
      "cell_type": "code",
      "source": [
        "# import the make_moons() dataset\n",
        "from sklearn.datasets import make_moons\n",
        "n_samples = 1000\n",
        "\n",
        "X, y = make_moons(n_samples)"
      ],
      "metadata": {
        "id": "RfrkM4N18Zva"
      },
      "execution_count": 30,
      "outputs": []
    },
    {
      "cell_type": "code",
      "source": [
        "# view the data\n",
        "X[:10], y[:10]"
      ],
      "metadata": {
        "colab": {
          "base_uri": "https://localhost:8080/"
        },
        "id": "vn7KhN2w8ynf",
        "outputId": "e2a34c3e-c011-4abf-adc3-ce5f83422aa0"
      },
      "execution_count": 31,
      "outputs": [
        {
          "output_type": "execute_result",
          "data": {
            "text/plain": [
              "(array([[ 0.32125705, -0.23437593],\n",
              "        [ 0.75997907, -0.47076771],\n",
              "        [-0.98663265,  0.16296018],\n",
              "        [ 0.25503244, -0.16710069],\n",
              "        [ 1.99611811,  0.4119732 ],\n",
              "        [ 0.02832721,  0.9995987 ],\n",
              "        [ 0.40358981, -0.30267982],\n",
              "        [-0.95468484,  0.29761864],\n",
              "        [ 0.73223568,  0.68105132],\n",
              "        [-0.44640126,  0.8948329 ]]), array([1, 1, 0, 1, 1, 0, 1, 0, 0, 0]))"
            ]
          },
          "metadata": {},
          "execution_count": 31
        }
      ]
    },
    {
      "cell_type": "code",
      "source": [
        "X.shape, y.shape"
      ],
      "metadata": {
        "colab": {
          "base_uri": "https://localhost:8080/"
        },
        "id": "O6trNGcb83Jn",
        "outputId": "9fc4d21a-0c59-47fa-dbb1-e6e7273e618d"
      },
      "execution_count": 32,
      "outputs": [
        {
          "output_type": "execute_result",
          "data": {
            "text/plain": [
              "((1000, 2), (1000,))"
            ]
          },
          "metadata": {},
          "execution_count": 32
        }
      ]
    },
    {
      "cell_type": "code",
      "source": [
        "# Split the data first into training and test samples\n",
        "X_train, X_test = X[:750], X[750:]\n",
        "y_train, y_test = y[:750], y[750:]"
      ],
      "metadata": {
        "id": "sH7QzPg9858w"
      },
      "execution_count": 33,
      "outputs": []
    },
    {
      "cell_type": "code",
      "source": [
        "# plot the train data into scatter plot\n",
        "plt.scatter(X_train[:, 0], X_train[:, 1], c=y_train);"
      ],
      "metadata": {
        "colab": {
          "base_uri": "https://localhost:8080/",
          "height": 265
        },
        "id": "DJ3XmjIe9Sum",
        "outputId": "e8cb18aa-745e-4445-d941-8c4cedd53c18"
      },
      "execution_count": 35,
      "outputs": [
        {
          "output_type": "display_data",
          "data": {
            "text/plain": [
              "<Figure size 432x288 with 1 Axes>"
            ],
            "image/png": "[encoded data removed]"
          },
          "metadata": {
            "needs_background": "light"
          }
        }
      ]
    },
    {
      "cell_type": "markdown",
      "source": [
        "Data looks non-linear, so we will need activation functions which supports non-linearity.\n",
        "\n",
        "Let's do the modelling now,"
      ],
      "metadata": {
        "id": "trk6cn999h5t"
      }
    },
    {
      "cell_type": "code",
      "source": [
        "# set the random seed\n",
        "tf.random.set_seed(17)\n",
        "\n",
        "# create a model\n",
        "model_2 = tf.keras.Sequential([\n",
        "    tf.keras.layers.Dense(4, activation='relu'),\n",
        "    tf.keras.layers.Dense(4, activation='relu'),\n",
        "    tf.keras.layers.Dense(1, activation='sigmoid') # output layer, binary classification so sigmoid activation\n",
        "])\n",
        "\n",
        "# compile a model\n",
        "model_2.compile(loss='binary_crossentropy',\n",
        "                optimizer='Adam',\n",
        "                metrics=['accuracy'])\n",
        "\n",
        "# fit the model\n",
        "history_2 = model_2.fit(X_train,\n",
        "                        y_train,\n",
        "                        epochs=50)"
      ],
      "metadata": {
        "colab": {
          "base_uri": "https://localhost:8080/"
        },
        "id": "vO28cglw92r9",
        "outputId": "87fcd0c9-5641-44f8-d10d-655e0ccbbf81"
      },
      "execution_count": 36,
      "outputs": [
        {
          "output_type": "stream",
          "name": "stdout",
          "text": [
            "Epoch 1/50\n",
            "24/24 [==============================] - 1s 2ms/step - loss: 0.6382 - accuracy: 0.7400\n",
            "Epoch 2/50\n",
            "24/24 [==============================] - 0s 3ms/step - loss: 0.6233 - accuracy: 0.8093\n",
            "Epoch 3/50\n",
            "24/24 [==============================] - 0s 2ms/step - loss: 0.6003 - accuracy: 0.8307\n",
            "Epoch 4/50\n",
            "24/24 [==============================] - 0s 2ms/step - loss: 0.5745 - accuracy: 0.8320\n",
            "Epoch 5/50\n",
            "24/24 [==============================] - 0s 1ms/step - loss: 0.5518 - accuracy: 0.8307\n",
            "Epoch 6/50\n",
            "24/24 [==============================] - 0s 1ms/step - loss: 0.5307 - accuracy: 0.8360\n",
            "Epoch 7/50\n",
            "24/24 [==============================] - 0s 1ms/step - loss: 0.5126 - accuracy: 0.8373\n",
            "Epoch 8/50\n",
            "24/24 [==============================] - 0s 1ms/step - loss: 0.4965 - accuracy: 0.8413\n",
            "Epoch 9/50\n",
            "24/24 [==============================] - 0s 1ms/step - loss: 0.4830 - accuracy: 0.8427\n",
            "Epoch 10/50\n",
            "24/24 [==============================] - 0s 1ms/step - loss: 0.4702 - accuracy: 0.8533\n",
            "Epoch 11/50\n",
            "24/24 [==============================] - 0s 1ms/step - loss: 0.4584 - accuracy: 0.8600\n",
            "Epoch 12/50\n",
            "24/24 [==============================] - 0s 1ms/step - loss: 0.4474 - accuracy: 0.8627\n",
            "Epoch 13/50\n",
            "24/24 [==============================] - 0s 1ms/step - loss: 0.4373 - accuracy: 0.8613\n",
            "Epoch 14/50\n",
            "24/24 [==============================] - 0s 1ms/step - loss: 0.4275 - accuracy: 0.8587\n",
            "Epoch 15/50\n",
            "24/24 [==============================] - 0s 2ms/step - loss: 0.4178 - accuracy: 0.8573\n",
            "Epoch 16/50\n",
            "24/24 [==============================] - 0s 1ms/step - loss: 0.4087 - accuracy: 0.8573\n",
            "Epoch 17/50\n",
            "24/24 [==============================] - 0s 1ms/step - loss: 0.3997 - accuracy: 0.8573\n",
            "Epoch 18/50\n",
            "24/24 [==============================] - 0s 1ms/step - loss: 0.3906 - accuracy: 0.8587\n",
            "Epoch 19/50\n",
            "24/24 [==============================] - 0s 1ms/step - loss: 0.3820 - accuracy: 0.8573\n",
            "Epoch 20/50\n",
            "24/24 [==============================] - 0s 1ms/step - loss: 0.3735 - accuracy: 0.8573\n",
            "Epoch 21/50\n",
            "24/24 [==============================] - 0s 1ms/step - loss: 0.3652 - accuracy: 0.8560\n",
            "Epoch 22/50\n",
            "24/24 [==============================] - 0s 1ms/step - loss: 0.3574 - accuracy: 0.8573\n",
            "Epoch 23/50\n",
            "24/24 [==============================] - 0s 1ms/step - loss: 0.3497 - accuracy: 0.8600\n",
            "Epoch 24/50\n",
            "24/24 [==============================] - 0s 1ms/step - loss: 0.3423 - accuracy: 0.8613\n",
            "Epoch 25/50\n",
            "24/24 [==============================] - 0s 1ms/step - loss: 0.3355 - accuracy: 0.8613\n",
            "Epoch 26/50\n",
            "24/24 [==============================] - 0s 1ms/step - loss: 0.3287 - accuracy: 0.8653\n",
            "Epoch 27/50\n",
            "24/24 [==============================] - 0s 1ms/step - loss: 0.3218 - accuracy: 0.8667\n",
            "Epoch 28/50\n",
            "24/24 [==============================] - 0s 1ms/step - loss: 0.3156 - accuracy: 0.8693\n",
            "Epoch 29/50\n",
            "24/24 [==============================] - 0s 1ms/step - loss: 0.3095 - accuracy: 0.8720\n",
            "Epoch 30/50\n",
            "24/24 [==============================] - 0s 1ms/step - loss: 0.3036 - accuracy: 0.8747\n",
            "Epoch 31/50\n",
            "24/24 [==============================] - 0s 2ms/step - loss: 0.2980 - accuracy: 0.8773\n",
            "Epoch 32/50\n",
            "24/24 [==============================] - 0s 2ms/step - loss: 0.2925 - accuracy: 0.8813\n",
            "Epoch 33/50\n",
            "24/24 [==============================] - 0s 1ms/step - loss: 0.2873 - accuracy: 0.8840\n",
            "Epoch 34/50\n",
            "24/24 [==============================] - 0s 1ms/step - loss: 0.2820 - accuracy: 0.8867\n",
            "Epoch 35/50\n",
            "24/24 [==============================] - 0s 1ms/step - loss: 0.2771 - accuracy: 0.8880\n",
            "Epoch 36/50\n",
            "24/24 [==============================] - 0s 1ms/step - loss: 0.2722 - accuracy: 0.8920\n",
            "Epoch 37/50\n",
            "24/24 [==============================] - 0s 1ms/step - loss: 0.2677 - accuracy: 0.8920\n",
            "Epoch 38/50\n",
            "24/24 [==============================] - 0s 1ms/step - loss: 0.2630 - accuracy: 0.8960\n",
            "Epoch 39/50\n",
            "24/24 [==============================] - 0s 1ms/step - loss: 0.2583 - accuracy: 0.8973\n",
            "Epoch 40/50\n",
            "24/24 [==============================] - 0s 1ms/step - loss: 0.2538 - accuracy: 0.8987\n",
            "Epoch 41/50\n",
            "24/24 [==============================] - 0s 1ms/step - loss: 0.2495 - accuracy: 0.9000\n",
            "Epoch 42/50\n",
            "24/24 [==============================] - 0s 1ms/step - loss: 0.2459 - accuracy: 0.9027\n",
            "Epoch 43/50\n",
            "24/24 [==============================] - 0s 1ms/step - loss: 0.2430 - accuracy: 0.9040\n",
            "Epoch 44/50\n",
            "24/24 [==============================] - 0s 1ms/step - loss: 0.2407 - accuracy: 0.9027\n",
            "Epoch 45/50\n",
            "24/24 [==============================] - 0s 1ms/step - loss: 0.2383 - accuracy: 0.9027\n",
            "Epoch 46/50\n",
            "24/24 [==============================] - 0s 1ms/step - loss: 0.2365 - accuracy: 0.9027\n",
            "Epoch 47/50\n",
            "24/24 [==============================] - 0s 1ms/step - loss: 0.2346 - accuracy: 0.9040\n",
            "Epoch 48/50\n",
            "24/24 [==============================] - 0s 1ms/step - loss: 0.2328 - accuracy: 0.9013\n",
            "Epoch 49/50\n",
            "24/24 [==============================] - 0s 1ms/step - loss: 0.2312 - accuracy: 0.9013\n",
            "Epoch 50/50\n",
            "24/24 [==============================] - 0s 1ms/step - loss: 0.2299 - accuracy: 0.9013\n"
          ]
        }
      ]
    },
    {
      "cell_type": "code",
      "source": [
        "# let's evaluate the model\n",
        "model_2.evaluate(X_test, y_test)"
      ],
      "metadata": {
        "colab": {
          "base_uri": "https://localhost:8080/"
        },
        "id": "L0vxNtiE-oNB",
        "outputId": "3a7e2f03-2d34-4d41-f012-e5c23e4afaac"
      },
      "execution_count": 37,
      "outputs": [
        {
          "output_type": "stream",
          "name": "stdout",
          "text": [
            "8/8 [==============================] - 0s 1ms/step - loss: 0.2316 - accuracy: 0.8960\n"
          ]
        },
        {
          "output_type": "execute_result",
          "data": {
            "text/plain": [
              "[0.2315957397222519, 0.8960000276565552]"
            ]
          },
          "metadata": {},
          "execution_count": 37
        }
      ]
    },
    {
      "cell_type": "markdown",
      "source": [
        "So on testing samples, model's accuracy was **89%** which was our goal."
      ],
      "metadata": {
        "id": "HSPSBmzq-vjH"
      }
    },
    {
      "cell_type": "markdown",
      "source": [
        "## Recreate TensorFlow's softmax activation function in your code.\n",
        "\n",
        "Recreate [TensorFlow's Softmax Activation](https://en.wikipedia.org/wiki/Softmax_function) function in your own code. Make sure it can accept a tensor and return that tensor after having softmax function applied to it."
      ],
      "metadata": {
        "id": "eFv2swYa-64j"
      }
    },
    {
      "cell_type": "code",
      "source": [
        "# Let's create a tensor with random numbers ranging from -1 to 1\n",
        "random = tf.constant(tf.range(-1, 1, 0.1))"
      ],
      "metadata": {
        "id": "lCECAbOBBD3k"
      },
      "execution_count": 38,
      "outputs": []
    },
    {
      "cell_type": "markdown",
      "source": [
        "So what is softmax function ?\n",
        "\n",
        "It basically return the max between 0 and the passed value, if some passed value is less than 0 then it treat as 0 and if some value is greater than 0 then it treats with original value.\n",
        "In short max(0, n)"
      ],
      "metadata": {
        "id": "g6LDHhG-BtZZ"
      }
    },
    {
      "cell_type": "code",
      "source": [
        "random"
      ],
      "metadata": {
        "colab": {
          "base_uri": "https://localhost:8080/"
        },
        "id": "rvuwRVDHBuOg",
        "outputId": "1f42fb4d-062b-49e2-dfe4-6e66a56b9620"
      },
      "execution_count": 40,
      "outputs": [
        {
          "output_type": "execute_result",
          "data": {
            "text/plain": [
              "<tf.Tensor: shape=(20,), dtype=float32, numpy=\n",
              "array([-1.00000000e+00, -8.99999976e-01, -7.99999952e-01, -6.99999928e-01,\n",
              "       -5.99999905e-01, -4.99999911e-01, -3.99999917e-01, -2.99999923e-01,\n",
              "       -1.99999928e-01, -9.99999270e-02,  7.45058060e-08,  1.00000076e-01,\n",
              "        2.00000077e-01,  3.00000072e-01,  4.00000066e-01,  5.00000060e-01,\n",
              "        6.00000083e-01,  7.00000107e-01,  8.00000131e-01,  9.00000155e-01],\n",
              "      dtype=float32)>"
            ]
          },
          "metadata": {},
          "execution_count": 40
        }
      ]
    },
    {
      "cell_type": "markdown",
      "source": [
        "so after max()"
      ],
      "metadata": {
        "id": "-16VE9j5CPN4"
      }
    },
    {
      "cell_type": "code",
      "source": [
        "tf.maximum(0, random)"
      ],
      "metadata": {
        "colab": {
          "base_uri": "https://localhost:8080/"
        },
        "id": "Kc3kn9PVCTUu",
        "outputId": "4227ad86-a719-40d7-99bb-e1854c006a51"
      },
      "execution_count": 44,
      "outputs": [
        {
          "output_type": "execute_result",
          "data": {
            "text/plain": [
              "<tf.Tensor: shape=(20,), dtype=float32, numpy=\n",
              "array([0.00000000e+00, 0.00000000e+00, 0.00000000e+00, 0.00000000e+00,\n",
              "       0.00000000e+00, 0.00000000e+00, 0.00000000e+00, 0.00000000e+00,\n",
              "       0.00000000e+00, 0.00000000e+00, 7.45058060e-08, 1.00000076e-01,\n",
              "       2.00000077e-01, 3.00000072e-01, 4.00000066e-01, 5.00000060e-01,\n",
              "       6.00000083e-01, 7.00000107e-01, 8.00000131e-01, 9.00000155e-01],\n",
              "      dtype=float32)>"
            ]
          },
          "metadata": {},
          "execution_count": 44
        }
      ]
    },
    {
      "cell_type": "markdown",
      "source": [
        "So if we plot it using `matplotlib`"
      ],
      "metadata": {
        "id": "JU7Y0riFCYB9"
      }
    },
    {
      "cell_type": "code",
      "source": [
        "plt.plot(tf.maximum(0, random));"
      ],
      "metadata": {
        "colab": {
          "base_uri": "https://localhost:8080/",
          "height": 265
        },
        "id": "kfsBosWoCrdM",
        "outputId": "9388f975-2ee4-4ad6-ca75-fa10c7be7799"
      },
      "execution_count": 46,
      "outputs": [
        {
          "output_type": "display_data",
          "data": {
            "text/plain": [
              "<Figure size 432x288 with 1 Axes>"
            ],
            "image/png": "[encoded data removed]"
          },
          "metadata": {
            "needs_background": "light"
          }
        }
      ]
    },
    {
      "cell_type": "code",
      "source": [],
      "metadata": {
        "id": "KWGJlgl_CuEF"
      },
      "execution_count": null,
      "outputs": []
    }
  ]
}
{
  "nbformat": 4,
  "nbformat_minor": 0,
  "metadata": {
    "colab": {
      "provenance": [],
      "collapsed_sections": [],
      "toc_visible": true,
      "authorship_tag": "ABX9TyOpviTa8HY3yGij9iNEsjbH",
      "include_colab_link": true
    },
    "kernelspec": {
      "name": "python3",
      "display_name": "Python 3"
    },
    "language_info": {
      "name": "python"
    }
  },
  "cells": [
    {
      "cell_type": "markdown",
      "metadata": {
        "id": "view-in-github",
        "colab_type": "text"
      },
      "source": [
        "<a href=\"https://colab.research.google.com/github/SaketMunda/tensorflow-fundamentals/blob/master/02_neural_network_classification_exercises.ipynb\" target=\"_parent\"><img src=\"https://colab.research.google.com/assets/colab-badge.svg\" alt=\"Open In Colab\"/></a>"
      ]
    },
    {
      "cell_type": "markdown",
      "source": [
        "# Neural Network Classification with TensorFlow Exercises\n",
        "\n",
        "This notebook consist of various exercises that are listed in the [readMe](https://github.com/SaketMunda/tensorflow-fundamentals/blob/master/README.md) of the [Github Repo](https://github.com/SaketMunda/tensorflow-fundamentals)"
      ],
      "metadata": {
        "id": "VLXCyCmB-YBg"
      }
    },
    {
      "cell_type": "code",
      "source": [
        "# Import required libraries\n",
        "import tensorflow as tf\n",
        "import numpy as np\n",
        "import pandas as pd\n",
        "import matplotlib.pyplot as plt"
      ],
      "metadata": {
        "id": "ul51uC4M_smZ"
      },
      "execution_count": 1,
      "outputs": []
    },
    {
      "cell_type": "markdown",
      "source": [
        "## 2. Replicate the model pictured in the TensorFlow Playground diagram \n",
        "\n",
        "Given below is the diagram, use TensorFlow code and Compile it using the Adam optimizer, binary crossentropy loss and accuracy metric. Once it's compiled check a summary of the model.\n",
        "\n",
        "![image](https://raw.githubusercontent.com/mrdbourke/tensorflow-deep-learning/main/images/02-tensorflow-playground-replication-exercise.png)"
      ],
      "metadata": {
        "id": "TFm3xq1D-18n"
      }
    },
    {
      "cell_type": "code",
      "source": [
        "# First need to create some dataset for this, X (data) and y (labels)\n",
        "from sklearn.datasets import make_circles\n",
        "\n",
        "# Make 1000 samples\n",
        "n_samples = 1000\n",
        "X, y = make_circles(n_samples, noise= 0.03, random_state = 17)"
      ],
      "metadata": {
        "id": "w_jKznEa_NWP"
      },
      "execution_count": 2,
      "outputs": []
    },
    {
      "cell_type": "code",
      "source": [
        "# Let's check the samples\n",
        "X[:5], y[:5]"
      ],
      "metadata": {
        "colab": {
          "base_uri": "https://localhost:8080/"
        },
        "id": "2_b_yXd4Acz2",
        "outputId": "dac732c5-b24b-47db-9371-2044e8f77087"
      },
      "execution_count": 3,
      "outputs": [
        {
          "output_type": "execute_result",
          "data": {
            "text/plain": [
              "(array([[-0.69661282, -0.32845725],\n",
              "        [ 0.95581012, -0.05841444],\n",
              "        [ 0.53469756, -0.57338982],\n",
              "        [-0.89332834,  0.42098993],\n",
              "        [-0.65647965, -0.4353153 ]]), array([1, 0, 1, 0, 1]))"
            ]
          },
          "metadata": {},
          "execution_count": 3
        }
      ]
    },
    {
      "cell_type": "code",
      "source": [
        "# Shape of the samples\n",
        "X.shape, y.shape"
      ],
      "metadata": {
        "colab": {
          "base_uri": "https://localhost:8080/"
        },
        "id": "fsqxHBoDAh-K",
        "outputId": "30bfaaa6-8a88-4f37-b8f9-addf7fe3a7bf"
      },
      "execution_count": 4,
      "outputs": [
        {
          "output_type": "execute_result",
          "data": {
            "text/plain": [
              "((1000, 2), (1000,))"
            ]
          },
          "metadata": {},
          "execution_count": 4
        }
      ]
    },
    {
      "cell_type": "markdown",
      "source": [
        "Okay what we learned from the data ? Seeing the data in this format is not speaking out anything. Let's visualize it."
      ],
      "metadata": {
        "id": "IlWp6FDYAmne"
      }
    },
    {
      "cell_type": "code",
      "source": [
        "circles = pd.DataFrame({\"X0\":X[:, 0], \"X1\": X[:, 1], \"label\": y})\n",
        "circles.head(10)"
      ],
      "metadata": {
        "colab": {
          "base_uri": "https://localhost:8080/",
          "height": 363
        },
        "id": "LhE1aTsSArdm",
        "outputId": "7ac12a61-8e0f-4348-be21-9fe778ecb818"
      },
      "execution_count": 11,
      "outputs": [
        {
          "output_type": "execute_result",
          "data": {
            "text/plain": [
              "         X0        X1  label\n",
              "0 -0.696613 -0.328457      1\n",
              "1  0.955810 -0.058414      0\n",
              "2  0.534698 -0.573390      1\n",
              "3 -0.893328  0.420990      0\n",
              "4 -0.656480 -0.435315      1\n",
              "5  0.611903  0.800231      0\n",
              "6 -0.598358 -0.567453      1\n",
              "7  0.331679  0.922320      0\n",
              "8  0.782751 -0.135743      1\n",
              "9  0.579686  0.842586      0"
            ],
            "text/html": [
              "\n",
              "  <div id=\"df-da1a6070-f218-47c8-8004-9cfca40204c3\">\n",
              "    <div class=\"colab-df-container\">\n",
              "      <div>\n",
              "<style scoped>\n",
              "    .dataframe tbody tr th:only-of-type {\n",
              "        vertical-align: middle;\n",
              "    }\n",
              "\n",
              "    .dataframe tbody tr th {\n",
              "        vertical-align: top;\n",
              "    }\n",
              "\n",
              "    .dataframe thead th {\n",
              "        text-align: right;\n",
              "    }\n",
              "</style>\n",
              "<table border=\"1\" class=\"dataframe\">\n",
              "  <thead>\n",
              "    <tr style=\"text-align: right;\">\n",
              "      <th></th>\n",
              "      <th>X0</th>\n",
              "      <th>X1</th>\n",
              "      <th>label</th>\n",
              "    </tr>\n",
              "  </thead>\n",
              "  <tbody>\n",
              "    <tr>\n",
              "      <th>0</th>\n",
              "      <td>-0.696613</td>\n",
              "      <td>-0.328457</td>\n",
              "      <td>1</td>\n",
              "    </tr>\n",
              "    <tr>\n",
              "      <th>1</th>\n",
              "      <td>0.955810</td>\n",
              "      <td>-0.058414</td>\n",
              "      <td>0</td>\n",
              "    </tr>\n",
              "    <tr>\n",
              "      <th>2</th>\n",
              "      <td>0.534698</td>\n",
              "      <td>-0.573390</td>\n",
              "      <td>1</td>\n",
              "    </tr>\n",
              "    <tr>\n",
              "      <th>3</th>\n",
              "      <td>-0.893328</td>\n",
              "      <td>0.420990</td>\n",
              "      <td>0</td>\n",
              "    </tr>\n",
              "    <tr>\n",
              "      <th>4</th>\n",
              "      <td>-0.656480</td>\n",
              "      <td>-0.435315</td>\n",
              "      <td>1</td>\n",
              "    </tr>\n",
              "    <tr>\n",
              "      <th>5</th>\n",
              "      <td>0.611903</td>\n",
              "      <td>0.800231</td>\n",
              "      <td>0</td>\n",
              "    </tr>\n",
              "    <tr>\n",
              "      <th>6</th>\n",
              "      <td>-0.598358</td>\n",
              "      <td>-0.567453</td>\n",
              "      <td>1</td>\n",
              "    </tr>\n",
              "    <tr>\n",
              "      <th>7</th>\n",
              "      <td>0.331679</td>\n",
              "      <td>0.922320</td>\n",
              "      <td>0</td>\n",
              "    </tr>\n",
              "    <tr>\n",
              "      <th>8</th>\n",
              "      <td>0.782751</td>\n",
              "      <td>-0.135743</td>\n",
              "      <td>1</td>\n",
              "    </tr>\n",
              "    <tr>\n",
              "      <th>9</th>\n",
              "      <td>0.579686</td>\n",
              "      <td>0.842586</td>\n",
              "      <td>0</td>\n",
              "    </tr>\n",
              "  </tbody>\n",
              "</table>\n",
              "</div>\n",
              "      <button class=\"colab-df-convert\" onclick=\"convertToInteractive('df-da1a6070-f218-47c8-8004-9cfca40204c3')\"\n",
              "              title=\"Convert this dataframe to an interactive table.\"\n",
              "              style=\"display:none;\">\n",
              "        \n",
              "  <svg xmlns=\"http://www.w3.org/2000/svg\" height=\"24px\"viewBox=\"0 0 24 24\"\n",
              "       width=\"24px\">\n",
              "    <path d=\"M0 0h24v24H0V0z\" fill=\"none\"/>\n",
              "    <path d=\"M18.56 5.44l.94 2.06.94-2.06 2.06-.94-2.06-.94-.94-2.06-.94 2.06-2.06.94zm-11 1L8.5 8.5l.94-2.06 2.06-.94-2.06-.94L8.5 2.5l-.94 2.06-2.06.94zm10 10l.94 2.06.94-2.06 2.06-.94-2.06-.94-.94-2.06-.94 2.06-2.06.94z\"/><path d=\"M17.41 7.96l-1.37-1.37c-.4-.4-.92-.59-1.43-.59-.52 0-1.04.2-1.43.59L10.3 9.45l-7.72 7.72c-.78.78-.78 2.05 0 2.83L4 21.41c.39.39.9.59 1.41.59.51 0 1.02-.2 1.41-.59l7.78-7.78 2.81-2.81c.8-.78.8-2.07 0-2.86zM5.41 20L4 18.59l7.72-7.72 1.47 1.35L5.41 20z\"/>\n",
              "  </svg>\n",
              "      </button>\n",
              "      \n",
              "  <style>\n",
              "    .colab-df-container {\n",
              "      display:flex;\n",
              "      flex-wrap:wrap;\n",
              "      gap: 12px;\n",
              "    }\n",
              "\n",
              "    .colab-df-convert {\n",
              "      background-color: #E8F0FE;\n",
              "      border: none;\n",
              "      border-radius: 50%;\n",
              "      cursor: pointer;\n",
              "      display: none;\n",
              "      fill: #1967D2;\n",
              "      height: 32px;\n",
              "      padding: 0 0 0 0;\n",
              "      width: 32px;\n",
              "    }\n",
              "\n",
              "    .colab-df-convert:hover {\n",
              "      background-color: #E2EBFA;\n",
              "      box-shadow: 0px 1px 2px rgba(60, 64, 67, 0.3), 0px 1px 3px 1px rgba(60, 64, 67, 0.15);\n",
              "      fill: #174EA6;\n",
              "    }\n",
              "\n",
              "    [theme=dark] .colab-df-convert {\n",
              "      background-color: #3B4455;\n",
              "      fill: #D2E3FC;\n",
              "    }\n",
              "\n",
              "    [theme=dark] .colab-df-convert:hover {\n",
              "      background-color: #434B5C;\n",
              "      box-shadow: 0px 1px 3px 1px rgba(0, 0, 0, 0.15);\n",
              "      filter: drop-shadow(0px 1px 2px rgba(0, 0, 0, 0.3));\n",
              "      fill: #FFFFFF;\n",
              "    }\n",
              "  </style>\n",
              "\n",
              "      <script>\n",
              "        const buttonEl =\n",
              "          document.querySelector('#df-da1a6070-f218-47c8-8004-9cfca40204c3 button.colab-df-convert');\n",
              "        buttonEl.style.display =\n",
              "          google.colab.kernel.accessAllowed ? 'block' : 'none';\n",
              "\n",
              "        async function convertToInteractive(key) {\n",
              "          const element = document.querySelector('#df-da1a6070-f218-47c8-8004-9cfca40204c3');\n",
              "          const dataTable =\n",
              "            await google.colab.kernel.invokeFunction('convertToInteractive',\n",
              "                                                     [key], {});\n",
              "          if (!dataTable) return;\n",
              "\n",
              "          const docLinkHtml = 'Like what you see? Visit the ' +\n",
              "            '<a target=\"_blank\" href=https://colab.research.google.com/notebooks/data_table.ipynb>data table notebook</a>'\n",
              "            + ' to learn more about interactive tables.';\n",
              "          element.innerHTML = '';\n",
              "          dataTable['output_type'] = 'display_data';\n",
              "          await google.colab.output.renderOutput(dataTable, element);\n",
              "          const docLink = document.createElement('div');\n",
              "          docLink.innerHTML = docLinkHtml;\n",
              "          element.appendChild(docLink);\n",
              "        }\n",
              "      </script>\n",
              "    </div>\n",
              "  </div>\n",
              "  "
            ]
          },
          "metadata": {},
          "execution_count": 11
        }
      ]
    },
    {
      "cell_type": "code",
      "source": [
        "# If we use this dataframe to plot\n",
        "plt.scatter(circles[\"X0\"], circles[\"X1\"], c=circles[\"label\"]);"
      ],
      "metadata": {
        "colab": {
          "base_uri": "https://localhost:8080/",
          "height": 265
        },
        "id": "mzLNxsc0A1T-",
        "outputId": "f07e906a-8f03-4eb5-88a3-9e19e08557a9"
      },
      "execution_count": 13,
      "outputs": [
        {
          "output_type": "display_data",
          "data": {
            "text/plain": [
              "<Figure size 432x288 with 1 Axes>"
            ],
            "image/png": "[encoded data removed]"
          },
          "metadata": {
            "needs_background": "light"
          }
        }
      ]
    },
    {
      "cell_type": "code",
      "source": [
        "# check out the different labels\n",
        "circles.label.value_counts()"
      ],
      "metadata": {
        "colab": {
          "base_uri": "https://localhost:8080/"
        },
        "id": "KxQeXH0FBvpH",
        "outputId": "26e8cc6e-753f-4547-c826-7d3ae8784792"
      },
      "execution_count": 14,
      "outputs": [
        {
          "output_type": "execute_result",
          "data": {
            "text/plain": [
              "1    500\n",
              "0    500\n",
              "Name: label, dtype: int64"
            ]
          },
          "metadata": {},
          "execution_count": 14
        }
      ]
    },
    {
      "cell_type": "markdown",
      "source": [
        "We can see that we have label `0` and `1`, it means that we're going to solve a binary classification problem."
      ],
      "metadata": {
        "id": "YMPaI3tqB9mP"
      }
    },
    {
      "cell_type": "code",
      "source": [
        "# Let's split our data into training and test set, ratio will be 80-20\n",
        "from sklearn.model_selection import train_test_split\n",
        "\n",
        "X_train, X_test, y_train, y_test = train_test_split(X,y,test_size=0.2)"
      ],
      "metadata": {
        "id": "aqXPG2-QCFxM"
      },
      "execution_count": 16,
      "outputs": []
    },
    {
      "cell_type": "code",
      "source": [
        "# Check the shapes of training and test samples\n",
        "X_train.shape, X_test.shape, y_train.shape, y_test.shape"
      ],
      "metadata": {
        "colab": {
          "base_uri": "https://localhost:8080/"
        },
        "id": "YN4cIzHiCrqA",
        "outputId": "b7c07cd7-df61-4c83-ae8d-69177adcfd09"
      },
      "execution_count": 17,
      "outputs": [
        {
          "output_type": "execute_result",
          "data": {
            "text/plain": [
              "((800, 2), (200, 2), (800,), (200,))"
            ]
          },
          "metadata": {},
          "execution_count": 17
        }
      ]
    },
    {
      "cell_type": "markdown",
      "source": [
        "Alright, now we are ready to build our model and replicate the layers shown above in the TensorFlow playground screenshot."
      ],
      "metadata": {
        "id": "Vji-nuhGDDMD"
      }
    },
    {
      "cell_type": "code",
      "source": [
        "# set the random seed\n",
        "tf.random.set_seed(17)\n",
        "\n",
        "# Create a model with 5 hidden layers having 6 neuron each layer with activation as ReLu and 1 output layer with activation as sigmoid\n",
        "model_1 = tf.keras.Sequential([\n",
        "    tf.keras.layers.Dense(6, activation='relu'),\n",
        "    tf.keras.layers.Dense(6, activation='relu'),\n",
        "    tf.keras.layers.Dense(6, activation='relu'),\n",
        "    tf.keras.layers.Dense(6, activation='relu'),\n",
        "    tf.keras.layers.Dense(6, activation='relu'),\n",
        "    tf.keras.layers.Dense(1, activation='sigmoid')\n",
        "])\n",
        "\n",
        "# Compile a model\n",
        "model_1.compile(loss='binary_crossentropy',\n",
        "                optimizer='Adam',\n",
        "                metrics=['accuracy'])\n",
        "\n",
        "# Fit the model\n",
        "history_1 = model_1.fit(X_train,\n",
        "                        y_train,\n",
        "                        epochs=100,\n",
        "                        validation_data=(X_test, y_test))"
      ],
      "metadata": {
        "colab": {
          "base_uri": "https://localhost:8080/"
        },
        "id": "ppI0yri9DOqj",
        "outputId": "269067db-5083-40c0-b8e6-e11dfec60b70"
      },
      "execution_count": 19,
      "outputs": [
        {
          "output_type": "stream",
          "name": "stdout",
          "text": [
            "Epoch 1/100\n",
            "25/25 [==============================] - 1s 13ms/step - loss: 0.6915 - accuracy: 0.5000 - val_loss: 0.6864 - val_accuracy: 0.5250\n",
            "Epoch 2/100\n",
            "25/25 [==============================] - 0s 3ms/step - loss: 0.6907 - accuracy: 0.5088 - val_loss: 0.6873 - val_accuracy: 0.5000\n",
            "Epoch 3/100\n",
            "25/25 [==============================] - 0s 3ms/step - loss: 0.6898 - accuracy: 0.5150 - val_loss: 0.6874 - val_accuracy: 0.5000\n",
            "Epoch 4/100\n",
            "25/25 [==============================] - 0s 3ms/step - loss: 0.6892 - accuracy: 0.5263 - val_loss: 0.6875 - val_accuracy: 0.4950\n",
            "Epoch 5/100\n",
            "25/25 [==============================] - 0s 4ms/step - loss: 0.6887 - accuracy: 0.5387 - val_loss: 0.6874 - val_accuracy: 0.4950\n",
            "Epoch 6/100\n",
            "25/25 [==============================] - 0s 3ms/step - loss: 0.6881 - accuracy: 0.5387 - val_loss: 0.6872 - val_accuracy: 0.4950\n",
            "Epoch 7/100\n",
            "25/25 [==============================] - 0s 3ms/step - loss: 0.6873 - accuracy: 0.5325 - val_loss: 0.6858 - val_accuracy: 0.4950\n",
            "Epoch 8/100\n",
            "25/25 [==============================] - 0s 4ms/step - loss: 0.6863 - accuracy: 0.5288 - val_loss: 0.6846 - val_accuracy: 0.4950\n",
            "Epoch 9/100\n",
            "25/25 [==============================] - 0s 3ms/step - loss: 0.6853 - accuracy: 0.5350 - val_loss: 0.6839 - val_accuracy: 0.5100\n",
            "Epoch 10/100\n",
            "25/25 [==============================] - 0s 3ms/step - loss: 0.6834 - accuracy: 0.5362 - val_loss: 0.6821 - val_accuracy: 0.5300\n",
            "Epoch 11/100\n",
            "25/25 [==============================] - 0s 3ms/step - loss: 0.6814 - accuracy: 0.5500 - val_loss: 0.6818 - val_accuracy: 0.5350\n",
            "Epoch 12/100\n",
            "25/25 [==============================] - 0s 3ms/step - loss: 0.6792 - accuracy: 0.5638 - val_loss: 0.6819 - val_accuracy: 0.5550\n",
            "Epoch 13/100\n",
            "25/25 [==============================] - 0s 4ms/step - loss: 0.6751 - accuracy: 0.5750 - val_loss: 0.6739 - val_accuracy: 0.5300\n",
            "Epoch 14/100\n",
            "25/25 [==============================] - 0s 3ms/step - loss: 0.6710 - accuracy: 0.5675 - val_loss: 0.6711 - val_accuracy: 0.5550\n",
            "Epoch 15/100\n",
            "25/25 [==============================] - 0s 4ms/step - loss: 0.6648 - accuracy: 0.6187 - val_loss: 0.6611 - val_accuracy: 0.5350\n",
            "Epoch 16/100\n",
            "25/25 [==============================] - 0s 4ms/step - loss: 0.6580 - accuracy: 0.5975 - val_loss: 0.6526 - val_accuracy: 0.5600\n",
            "Epoch 17/100\n",
            "25/25 [==============================] - 0s 4ms/step - loss: 0.6470 - accuracy: 0.6550 - val_loss: 0.6426 - val_accuracy: 0.6100\n",
            "Epoch 18/100\n",
            "25/25 [==============================] - 0s 3ms/step - loss: 0.6349 - accuracy: 0.6737 - val_loss: 0.6274 - val_accuracy: 0.5850\n",
            "Epoch 19/100\n",
            "25/25 [==============================] - 0s 3ms/step - loss: 0.6192 - accuracy: 0.6963 - val_loss: 0.6097 - val_accuracy: 0.6150\n",
            "Epoch 20/100\n",
            "25/25 [==============================] - 0s 3ms/step - loss: 0.6015 - accuracy: 0.7025 - val_loss: 0.5932 - val_accuracy: 0.6050\n",
            "Epoch 21/100\n",
            "25/25 [==============================] - 0s 3ms/step - loss: 0.5832 - accuracy: 0.7100 - val_loss: 0.5770 - val_accuracy: 0.7450\n",
            "Epoch 22/100\n",
            "25/25 [==============================] - 0s 4ms/step - loss: 0.5609 - accuracy: 0.7487 - val_loss: 0.5583 - val_accuracy: 0.7600\n",
            "Epoch 23/100\n",
            "25/25 [==============================] - 0s 4ms/step - loss: 0.5368 - accuracy: 0.7575 - val_loss: 0.5367 - val_accuracy: 0.7650\n",
            "Epoch 24/100\n",
            "25/25 [==============================] - 0s 3ms/step - loss: 0.5149 - accuracy: 0.7750 - val_loss: 0.5350 - val_accuracy: 0.6700\n",
            "Epoch 25/100\n",
            "25/25 [==============================] - 0s 3ms/step - loss: 0.4990 - accuracy: 0.7775 - val_loss: 0.5121 - val_accuracy: 0.7500\n",
            "Epoch 26/100\n",
            "25/25 [==============================] - 0s 3ms/step - loss: 0.4836 - accuracy: 0.7975 - val_loss: 0.4871 - val_accuracy: 0.7650\n",
            "Epoch 27/100\n",
            "25/25 [==============================] - 0s 3ms/step - loss: 0.4688 - accuracy: 0.7975 - val_loss: 0.4751 - val_accuracy: 0.7750\n",
            "Epoch 28/100\n",
            "25/25 [==============================] - 0s 3ms/step - loss: 0.4533 - accuracy: 0.8050 - val_loss: 0.4667 - val_accuracy: 0.7750\n",
            "Epoch 29/100\n",
            "25/25 [==============================] - 0s 3ms/step - loss: 0.4384 - accuracy: 0.8150 - val_loss: 0.4686 - val_accuracy: 0.7900\n",
            "Epoch 30/100\n",
            "25/25 [==============================] - 0s 3ms/step - loss: 0.4282 - accuracy: 0.8225 - val_loss: 0.4576 - val_accuracy: 0.7800\n",
            "Epoch 31/100\n",
            "25/25 [==============================] - 0s 3ms/step - loss: 0.4205 - accuracy: 0.8200 - val_loss: 0.4389 - val_accuracy: 0.7950\n",
            "Epoch 32/100\n",
            "25/25 [==============================] - 0s 3ms/step - loss: 0.4111 - accuracy: 0.8238 - val_loss: 0.4291 - val_accuracy: 0.7950\n",
            "Epoch 33/100\n",
            "25/25 [==============================] - 0s 4ms/step - loss: 0.4033 - accuracy: 0.8263 - val_loss: 0.4190 - val_accuracy: 0.8000\n",
            "Epoch 34/100\n",
            "25/25 [==============================] - 0s 4ms/step - loss: 0.3979 - accuracy: 0.8238 - val_loss: 0.4150 - val_accuracy: 0.8000\n",
            "Epoch 35/100\n",
            "25/25 [==============================] - 0s 3ms/step - loss: 0.3921 - accuracy: 0.8300 - val_loss: 0.4084 - val_accuracy: 0.8150\n",
            "Epoch 36/100\n",
            "25/25 [==============================] - 0s 3ms/step - loss: 0.3871 - accuracy: 0.8350 - val_loss: 0.3930 - val_accuracy: 0.8200\n",
            "Epoch 37/100\n",
            "25/25 [==============================] - 0s 3ms/step - loss: 0.3839 - accuracy: 0.8313 - val_loss: 0.3898 - val_accuracy: 0.8250\n",
            "Epoch 38/100\n",
            "25/25 [==============================] - 0s 3ms/step - loss: 0.3790 - accuracy: 0.8300 - val_loss: 0.3811 - val_accuracy: 0.8200\n",
            "Epoch 39/100\n",
            "25/25 [==============================] - 0s 3ms/step - loss: 0.3718 - accuracy: 0.8363 - val_loss: 0.3726 - val_accuracy: 0.8250\n",
            "Epoch 40/100\n",
            "25/25 [==============================] - 0s 3ms/step - loss: 0.3648 - accuracy: 0.8400 - val_loss: 0.3720 - val_accuracy: 0.8200\n",
            "Epoch 41/100\n",
            "25/25 [==============================] - 0s 3ms/step - loss: 0.3602 - accuracy: 0.8388 - val_loss: 0.3588 - val_accuracy: 0.8300\n",
            "Epoch 42/100\n",
            "25/25 [==============================] - 0s 3ms/step - loss: 0.3572 - accuracy: 0.8375 - val_loss: 0.3552 - val_accuracy: 0.8300\n",
            "Epoch 43/100\n",
            "25/25 [==============================] - 0s 3ms/step - loss: 0.3510 - accuracy: 0.8425 - val_loss: 0.3496 - val_accuracy: 0.8400\n",
            "Epoch 44/100\n",
            "25/25 [==============================] - 0s 3ms/step - loss: 0.3423 - accuracy: 0.8438 - val_loss: 0.3391 - val_accuracy: 0.8400\n",
            "Epoch 45/100\n",
            "25/25 [==============================] - 0s 5ms/step - loss: 0.3396 - accuracy: 0.8462 - val_loss: 0.3344 - val_accuracy: 0.8350\n",
            "Epoch 46/100\n",
            "25/25 [==============================] - 0s 3ms/step - loss: 0.3323 - accuracy: 0.8450 - val_loss: 0.3294 - val_accuracy: 0.8350\n",
            "Epoch 47/100\n",
            "25/25 [==============================] - 0s 3ms/step - loss: 0.3256 - accuracy: 0.8462 - val_loss: 0.3210 - val_accuracy: 0.8400\n",
            "Epoch 48/100\n",
            "25/25 [==============================] - 0s 3ms/step - loss: 0.3192 - accuracy: 0.8500 - val_loss: 0.3198 - val_accuracy: 0.8400\n",
            "Epoch 49/100\n",
            "25/25 [==============================] - 0s 3ms/step - loss: 0.3127 - accuracy: 0.8500 - val_loss: 0.3122 - val_accuracy: 0.8450\n",
            "Epoch 50/100\n",
            "25/25 [==============================] - 0s 3ms/step - loss: 0.3086 - accuracy: 0.8512 - val_loss: 0.3075 - val_accuracy: 0.8400\n",
            "Epoch 51/100\n",
            "25/25 [==============================] - 0s 4ms/step - loss: 0.3011 - accuracy: 0.8512 - val_loss: 0.3017 - val_accuracy: 0.8450\n",
            "Epoch 52/100\n",
            "25/25 [==============================] - 0s 3ms/step - loss: 0.2939 - accuracy: 0.8512 - val_loss: 0.2945 - val_accuracy: 0.8450\n",
            "Epoch 53/100\n",
            "25/25 [==============================] - 0s 4ms/step - loss: 0.2854 - accuracy: 0.8537 - val_loss: 0.2861 - val_accuracy: 0.8400\n",
            "Epoch 54/100\n",
            "25/25 [==============================] - 0s 3ms/step - loss: 0.2805 - accuracy: 0.8575 - val_loss: 0.2793 - val_accuracy: 0.8450\n",
            "Epoch 55/100\n",
            "25/25 [==============================] - 0s 3ms/step - loss: 0.2724 - accuracy: 0.8575 - val_loss: 0.2742 - val_accuracy: 0.8400\n",
            "Epoch 56/100\n",
            "25/25 [==============================] - 0s 4ms/step - loss: 0.2669 - accuracy: 0.8612 - val_loss: 0.2658 - val_accuracy: 0.8450\n",
            "Epoch 57/100\n",
            "25/25 [==============================] - 0s 3ms/step - loss: 0.2570 - accuracy: 0.8637 - val_loss: 0.2612 - val_accuracy: 0.8500\n",
            "Epoch 58/100\n",
            "25/25 [==============================] - 0s 4ms/step - loss: 0.2492 - accuracy: 0.8700 - val_loss: 0.2504 - val_accuracy: 0.8550\n",
            "Epoch 59/100\n",
            "25/25 [==============================] - 0s 3ms/step - loss: 0.2430 - accuracy: 0.8687 - val_loss: 0.2488 - val_accuracy: 0.8550\n",
            "Epoch 60/100\n",
            "25/25 [==============================] - 0s 4ms/step - loss: 0.2408 - accuracy: 0.8712 - val_loss: 0.2441 - val_accuracy: 0.8550\n",
            "Epoch 61/100\n",
            "25/25 [==============================] - 0s 3ms/step - loss: 0.2357 - accuracy: 0.8725 - val_loss: 0.2444 - val_accuracy: 0.8500\n",
            "Epoch 62/100\n",
            "25/25 [==============================] - 0s 3ms/step - loss: 0.2279 - accuracy: 0.8750 - val_loss: 0.2325 - val_accuracy: 0.8600\n",
            "Epoch 63/100\n",
            "25/25 [==============================] - 0s 3ms/step - loss: 0.2248 - accuracy: 0.8763 - val_loss: 0.2366 - val_accuracy: 0.8550\n",
            "Epoch 64/100\n",
            "25/25 [==============================] - 0s 3ms/step - loss: 0.2177 - accuracy: 0.8800 - val_loss: 0.2222 - val_accuracy: 0.8600\n",
            "Epoch 65/100\n",
            "25/25 [==============================] - 0s 4ms/step - loss: 0.2118 - accuracy: 0.8825 - val_loss: 0.2165 - val_accuracy: 0.8550\n",
            "Epoch 66/100\n",
            "25/25 [==============================] - 0s 3ms/step - loss: 0.2037 - accuracy: 0.8838 - val_loss: 0.2136 - val_accuracy: 0.8700\n",
            "Epoch 67/100\n",
            "25/25 [==============================] - 0s 4ms/step - loss: 0.1966 - accuracy: 0.8863 - val_loss: 0.2054 - val_accuracy: 0.8750\n",
            "Epoch 68/100\n",
            "25/25 [==============================] - 0s 3ms/step - loss: 0.1936 - accuracy: 0.8888 - val_loss: 0.1991 - val_accuracy: 0.8700\n",
            "Epoch 69/100\n",
            "25/25 [==============================] - 0s 4ms/step - loss: 0.2029 - accuracy: 0.8788 - val_loss: 0.2479 - val_accuracy: 0.8550\n",
            "Epoch 70/100\n",
            "25/25 [==============================] - 0s 3ms/step - loss: 0.2014 - accuracy: 0.8813 - val_loss: 0.2029 - val_accuracy: 0.8750\n",
            "Epoch 71/100\n",
            "25/25 [==============================] - 0s 3ms/step - loss: 0.1915 - accuracy: 0.8850 - val_loss: 0.1904 - val_accuracy: 0.8800\n",
            "Epoch 72/100\n",
            "25/25 [==============================] - 0s 3ms/step - loss: 0.1794 - accuracy: 0.8913 - val_loss: 0.1797 - val_accuracy: 0.8900\n",
            "Epoch 73/100\n",
            "25/25 [==============================] - 0s 3ms/step - loss: 0.1786 - accuracy: 0.8938 - val_loss: 0.1797 - val_accuracy: 0.8800\n",
            "Epoch 74/100\n",
            "25/25 [==============================] - 0s 3ms/step - loss: 0.1759 - accuracy: 0.8900 - val_loss: 0.1782 - val_accuracy: 0.8850\n",
            "Epoch 75/100\n",
            "25/25 [==============================] - 0s 3ms/step - loss: 0.1759 - accuracy: 0.8913 - val_loss: 0.1727 - val_accuracy: 0.8800\n",
            "Epoch 76/100\n",
            "25/25 [==============================] - 0s 4ms/step - loss: 0.1744 - accuracy: 0.8913 - val_loss: 0.1742 - val_accuracy: 0.8800\n",
            "Epoch 77/100\n",
            "25/25 [==============================] - 0s 3ms/step - loss: 0.1675 - accuracy: 0.8938 - val_loss: 0.1630 - val_accuracy: 0.8900\n",
            "Epoch 78/100\n",
            "25/25 [==============================] - 0s 4ms/step - loss: 0.1606 - accuracy: 0.8938 - val_loss: 0.1522 - val_accuracy: 0.8950\n",
            "Epoch 79/100\n",
            "25/25 [==============================] - 0s 3ms/step - loss: 0.1566 - accuracy: 0.8950 - val_loss: 0.1523 - val_accuracy: 0.8900\n",
            "Epoch 80/100\n",
            "25/25 [==============================] - 0s 4ms/step - loss: 0.1525 - accuracy: 0.8950 - val_loss: 0.1399 - val_accuracy: 0.9100\n",
            "Epoch 81/100\n",
            "25/25 [==============================] - 0s 3ms/step - loss: 0.1446 - accuracy: 0.8988 - val_loss: 0.1313 - val_accuracy: 0.9100\n",
            "Epoch 82/100\n",
            "25/25 [==============================] - 0s 3ms/step - loss: 0.1361 - accuracy: 0.9025 - val_loss: 0.1217 - val_accuracy: 0.9150\n",
            "Epoch 83/100\n",
            "25/25 [==============================] - 0s 3ms/step - loss: 0.1284 - accuracy: 0.9062 - val_loss: 0.1468 - val_accuracy: 0.9050\n",
            "Epoch 84/100\n",
            "25/25 [==============================] - 0s 3ms/step - loss: 0.1158 - accuracy: 0.9438 - val_loss: 0.0944 - val_accuracy: 0.9600\n",
            "Epoch 85/100\n",
            "25/25 [==============================] - 0s 3ms/step - loss: 0.0647 - accuracy: 0.9800 - val_loss: 0.0688 - val_accuracy: 0.9700\n",
            "Epoch 86/100\n",
            "25/25 [==============================] - 0s 3ms/step - loss: 0.0475 - accuracy: 0.9875 - val_loss: 0.0511 - val_accuracy: 0.9800\n",
            "Epoch 87/100\n",
            "25/25 [==============================] - 0s 4ms/step - loss: 0.0336 - accuracy: 0.9937 - val_loss: 0.0329 - val_accuracy: 0.9900\n",
            "Epoch 88/100\n",
            "25/25 [==============================] - 0s 3ms/step - loss: 0.0292 - accuracy: 0.9937 - val_loss: 0.0337 - val_accuracy: 0.9850\n",
            "Epoch 89/100\n",
            "25/25 [==============================] - 0s 4ms/step - loss: 0.0224 - accuracy: 0.9962 - val_loss: 0.0259 - val_accuracy: 0.9950\n",
            "Epoch 90/100\n",
            "25/25 [==============================] - 0s 4ms/step - loss: 0.0224 - accuracy: 0.9950 - val_loss: 0.0249 - val_accuracy: 0.9950\n",
            "Epoch 91/100\n",
            "25/25 [==============================] - 0s 3ms/step - loss: 0.0191 - accuracy: 0.9962 - val_loss: 0.0191 - val_accuracy: 0.9950\n",
            "Epoch 92/100\n",
            "25/25 [==============================] - 0s 4ms/step - loss: 0.0223 - accuracy: 0.9937 - val_loss: 0.0154 - val_accuracy: 1.0000\n",
            "Epoch 93/100\n",
            "25/25 [==============================] - 0s 4ms/step - loss: 0.0179 - accuracy: 0.9962 - val_loss: 0.0147 - val_accuracy: 1.0000\n",
            "Epoch 94/100\n",
            "25/25 [==============================] - 0s 3ms/step - loss: 0.0140 - accuracy: 0.9975 - val_loss: 0.0138 - val_accuracy: 1.0000\n",
            "Epoch 95/100\n",
            "25/25 [==============================] - 0s 4ms/step - loss: 0.0141 - accuracy: 0.9975 - val_loss: 0.0160 - val_accuracy: 0.9950\n",
            "Epoch 96/100\n",
            "25/25 [==============================] - 0s 3ms/step - loss: 0.0147 - accuracy: 0.9950 - val_loss: 0.0227 - val_accuracy: 0.9950\n",
            "Epoch 97/100\n",
            "25/25 [==============================] - 0s 4ms/step - loss: 0.0147 - accuracy: 0.9975 - val_loss: 0.0110 - val_accuracy: 1.0000\n",
            "Epoch 98/100\n",
            "25/25 [==============================] - 0s 3ms/step - loss: 0.0109 - accuracy: 0.9975 - val_loss: 0.0115 - val_accuracy: 1.0000\n",
            "Epoch 99/100\n",
            "25/25 [==============================] - 0s 3ms/step - loss: 0.0099 - accuracy: 0.9987 - val_loss: 0.0112 - val_accuracy: 1.0000\n",
            "Epoch 100/100\n",
            "25/25 [==============================] - 0s 4ms/step - loss: 0.0104 - accuracy: 0.9975 - val_loss: 0.0107 - val_accuracy: 1.0000\n"
          ]
        }
      ]
    },
    {
      "cell_type": "markdown",
      "source": [
        "Our model performed pretty well with `Accuracy` **99%**.\n",
        "\n",
        "Now to replicate the figure we need to plot the decision boundary. Let's do then,"
      ],
      "metadata": {
        "id": "Wxe2FWcnEYmR"
      }
    },
    {
      "cell_type": "code",
      "source": [
        "def plot_decision_boundary(model, X, y):\n",
        "  # Define the axis boundaries of the plot and create a meshgrid\n",
        "  x_min, x_max = X[:, 0].min() - 0.1, X[:, 0].max() + 0.1\n",
        "  y_min, y_max = X[:, 1].min() - 0.1, X[:, 1].max() + 0.1\n",
        "  xx, yy = np.meshgrid(np.linspace(x_min, x_max, 100),\n",
        "                       np.linspace(y_min, y_max, 100))\n",
        "  \n",
        "  # Create X values (we're going to predict on all of these)\n",
        "  x_in = np.c_[xx.ravel(), yy.ravel()] # stack 2D arrays together\n",
        "\n",
        "  # Make predictions using trained model\n",
        "  y_pred = model.predict(x_in)\n",
        "\n",
        "  # Check for multi-class\n",
        "  if model.output_shape[-1] > 1: \n",
        "    print(\"Doing multi-class classification...\")\n",
        "    # We have to reshape our predictions to get them ready for plotting\n",
        "    y_pred = np.argmax(y_pred, axis=1).reshape(xx.shape)\n",
        "  else:\n",
        "    print(\"Doing binary-class classification...\")\n",
        "    y_pred = np.round(np.max(y_pred, axis=1)).reshape(xx.shape)\n",
        "  \n",
        "  # plot decision boundary\n",
        "  plt.contourf(xx, yy, y_pred, cmap=plt.cm.RdYlBu, alpha = 0.7)\n",
        "  plt.scatter(X[:,0], X[:,1], c = y, s=40, cmap=plt.cm.RdYlBu)\n",
        "  plt.xlim(xx.min(), xx.max())\n",
        "  plt.ylim(yy.min(), yy.max())"
      ],
      "metadata": {
        "id": "yIoUkN1rEwC0"
      },
      "execution_count": 35,
      "outputs": []
    },
    {
      "cell_type": "code",
      "source": [
        "plot_decision_boundary(model_1, X, y)"
      ],
      "metadata": {
        "colab": {
          "base_uri": "https://localhost:8080/",
          "height": 300
        },
        "id": "RH5BO1rrF9lJ",
        "outputId": "3698c144-47a5-4368-fc4c-5c679fbc6a6c"
      },
      "execution_count": 36,
      "outputs": [
        {
          "output_type": "stream",
          "name": "stdout",
          "text": [
            "313/313 [==============================] - 0s 1ms/step\n",
            "Doing binary-class classification...\n"
          ]
        },
        {
          "output_type": "display_data",
          "data": {
            "text/plain": [
              "<Figure size 432x288 with 1 Axes>"
            ],
            "image/png": "[encoded data removed]"
          },
          "metadata": {
            "needs_background": "light"
          }
        }
      ]
    },
    {
      "cell_type": "code",
      "source": [],
      "metadata": {
        "id": "6dWBzHXnI-cX"
      },
      "execution_count": null,
      "outputs": []
    }
  ]
}
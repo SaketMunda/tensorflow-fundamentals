{
  "nbformat": 4,
  "nbformat_minor": 0,
  "metadata": {
    "colab": {
      "provenance": [],
      "toc_visible": true,
      "collapsed_sections": [],
      "mount_file_id": "1u7FZfLxo6wTWefiWWMltW2VfQytyK44u",
      "authorship_tag": "ABX9TyNsqn0fpusM67ps1GKSEPaK",
      "include_colab_link": true
    },
    "kernelspec": {
      "name": "python3",
      "display_name": "Python 3"
    },
    "language_info": {
      "name": "python"
    }
  },
  "cells": [
    {
      "cell_type": "markdown",
      "metadata": {
        "id": "view-in-github",
        "colab_type": "text"
      },
      "source": [
        "<a href=\"https://colab.research.google.com/github/SaketMunda/tensorflow-fundamentals/blob/master/02_neural_network_classfication_with_tensorflow.ipynb\" target=\"_parent\"><img src=\"https://colab.research.google.com/assets/colab-badge.svg\" alt=\"Open In Colab\"/></a>"
      ]
    },
    {
      "cell_type": "markdown",
      "source": [
        "# Introduction to neural network classification with tensorflow\n",
        "\n",
        "A classification problem involves predicting whether something is one thing or another.\n",
        "\n",
        "In this notebook we will see below types of classification problem,\n",
        "* **Binary classification**\n",
        "* **Multi-class classification**\n",
        "* **Multi-label classification**"
      ],
      "metadata": {
        "id": "Gt9hp_98wTpn"
      }
    },
    {
      "cell_type": "markdown",
      "source": [
        "## Typical architecture of a classification neural network\n",
        "\n",
        "The word *typical* is on purpose.\n",
        "\n",
        "Because the architecture of a classification neural network can widely vary depending on the problem you're working on.\n",
        "\n",
        "However, there are some fundamentals all deep neural networks contain:\n",
        "* An Input layer\n",
        "* Some Hidden layer\n",
        "* An output layer\n",
        "\n",
        "The following are some standard values you'll often use in your classification neural networks,\n",
        "\n",
        "| **Hyperparameter** | **Binary Classfication** | **Multiclass Classfication** | \n",
        "| --- | --- | --- |\n",
        "| Input layer shape | Same shape as number of features (e.g. 3 for age, sex, height, weight, smoking status in heart disease prediction) | Same as binary classification |\n",
        "| Hidden layer(s) | Problem specific, minimum = 1, maximum = unlimited | Same as binary classification |\n",
        "| Neurons per hidden layer | Problem specific, generally 10 to 100 | Same as binary classification |\n",
        "| Output layer shape | 1 (one class or the other) | 1 per class (e.g. 3 for food, person or dog photo) |\n",
        "| Hidden activation | Usually [ReLU](https://www.kaggle.com/dansbecker/rectified-linear-units-relu-in-deep-learning) (rectified linear unit) | Same as binary classification |\n",
        "| Output activation | [Sigmoid](https://en.wikipedia.org/wiki/Sigmoid_function) | [Softmax](https://en.wikipedia.org/wiki/Softmax_function) |\n",
        "| Loss function | [Cross entropy](https://en.wikipedia.org/wiki/Cross_entropy#Cross-entropy_loss_function_and_logistic_regression) (`tf.keras.losses.BinaryCrossentropy` in TensorFlow) | [Cross entropy](https://en.wikipedia.org/wiki/Cross_entropy#Cross-entropy_loss_function_and_logistic_regression) (`tf.keras.losses.CategoricalCrossentropy` in TensorFlow) |\n",
        "| Optimizer | [SGD](https://www.tensorflow.org/api_docs/python/tf/keras/optimizers/SGD) (stochastic gradient descent), [Adam](https://www.tensorflow.org/api_docs/python/tf/keras/optimizers/Adam) | Same as binary classification |\n",
        "\n",
        "***Table 1:*** *Typical architecture of a regression network.* ***Source:*** *Adapted from page 293 of [Hands-On Machine Learning with Scikit-Learn, Keras & TensorFlow Book by Aurélien Géron](https://www.oreilly.com/library/view/hands-on-machine-learning/9781492032632/)*\n"
      ],
      "metadata": {
        "id": "73lu8WCszli-"
      }
    },
    {
      "cell_type": "code",
      "source": [
        "# let's start by importing tensorflow\n",
        "import tensorflow as tf\n",
        "print(tf.__version__)"
      ],
      "metadata": {
        "colab": {
          "base_uri": "https://localhost:8080/"
        },
        "id": "a5RVL_GK7SEu",
        "outputId": "1fcc4dc6-d212-4d9f-9dbf-0642a48ba044"
      },
      "execution_count": null,
      "outputs": [
        {
          "output_type": "stream",
          "name": "stdout",
          "text": [
            "2.9.2\n"
          ]
        }
      ]
    },
    {
      "cell_type": "markdown",
      "source": [
        "## Creating data to view and fit\n",
        "\n",
        "We could start by importing a classification dataset but let's practice making some own classification data,\n",
        "\n",
        "> 🔑 It's common practice to get you and model you build working on a toy (or   simple) dataset before moving to your actual problem. Treat it as a rehersal experiment before the actual experiment(s).\n",
        "\n",
        "We'll use Scikit-learn's `make_circles()` function."
      ],
      "metadata": {
        "id": "YlScjmfk7kgY"
      }
    },
    {
      "cell_type": "code",
      "source": [
        "from sklearn.datasets import make_circles\n",
        "\n",
        "# Make 1000 samples\n",
        "n_samples = 1000\n",
        "\n",
        "# Create circles\n",
        "X, y = make_circles(n_samples,\n",
        "                    noise=0.03,\n",
        "                    random_state=42)"
      ],
      "metadata": {
        "id": "3OkziJq-8Vln"
      },
      "execution_count": null,
      "outputs": []
    },
    {
      "cell_type": "code",
      "source": [
        "# Let's check the shapes and size\n",
        "X.shape, y.shape"
      ],
      "metadata": {
        "colab": {
          "base_uri": "https://localhost:8080/"
        },
        "id": "DUpGnLp38ZVP",
        "outputId": "c39da4d1-7204-493a-e865-0ec15880bce7"
      },
      "execution_count": null,
      "outputs": [
        {
          "output_type": "execute_result",
          "data": {
            "text/plain": [
              "((1000, 2), (1000,))"
            ]
          },
          "metadata": {},
          "execution_count": 4
        }
      ]
    },
    {
      "cell_type": "code",
      "source": [
        "# check the values\n",
        "X[:10]"
      ],
      "metadata": {
        "colab": {
          "base_uri": "https://localhost:8080/"
        },
        "id": "pf17t_zr8rAh",
        "outputId": "3836ef46-4295-4db0-9dd1-6b6a6a5d6ec7"
      },
      "execution_count": null,
      "outputs": [
        {
          "output_type": "execute_result",
          "data": {
            "text/plain": [
              "array([[ 0.75424625,  0.23148074],\n",
              "       [-0.75615888,  0.15325888],\n",
              "       [-0.81539193,  0.17328203],\n",
              "       [-0.39373073,  0.69288277],\n",
              "       [ 0.44220765, -0.89672343],\n",
              "       [-0.47964637,  0.67643477],\n",
              "       [-0.01364836,  0.80334872],\n",
              "       [ 0.77151327,  0.14775959],\n",
              "       [-0.16932234, -0.79345575],\n",
              "       [-0.1214858 ,  1.02150905]])"
            ]
          },
          "metadata": {},
          "execution_count": 5
        }
      ]
    },
    {
      "cell_type": "code",
      "source": [
        "y[:10]"
      ],
      "metadata": {
        "colab": {
          "base_uri": "https://localhost:8080/"
        },
        "id": "QBMYwJgX8uMy",
        "outputId": "5ee48c42-e04c-49ab-8427-b835cff791ff"
      },
      "execution_count": null,
      "outputs": [
        {
          "output_type": "execute_result",
          "data": {
            "text/plain": [
              "array([1, 1, 1, 1, 0, 1, 1, 1, 1, 0])"
            ]
          },
          "metadata": {},
          "execution_count": 6
        }
      ]
    },
    {
      "cell_type": "markdown",
      "source": [
        "But seeing the data in this format is not speaking out anyting. Let's visualize it first."
      ],
      "metadata": {
        "id": "ri26MuNI88C1"
      }
    },
    {
      "cell_type": "code",
      "source": [
        "# converting them into pandas\n",
        "import pandas as pd\n",
        "\n",
        "circles = pd.DataFrame({\"X0\": X[:,0], \"X1\": X[:,1], \"label\":y})\n",
        "circles.head(10)"
      ],
      "metadata": {
        "colab": {
          "base_uri": "https://localhost:8080/",
          "height": 363
        },
        "id": "AQ6nTzlU9DML",
        "outputId": "a328fb42-ad29-4112-ee07-be7cf8a2ef3f"
      },
      "execution_count": null,
      "outputs": [
        {
          "output_type": "execute_result",
          "data": {
            "text/plain": [
              "         X0        X1  label\n",
              "0  0.754246  0.231481      1\n",
              "1 -0.756159  0.153259      1\n",
              "2 -0.815392  0.173282      1\n",
              "3 -0.393731  0.692883      1\n",
              "4  0.442208 -0.896723      0\n",
              "5 -0.479646  0.676435      1\n",
              "6 -0.013648  0.803349      1\n",
              "7  0.771513  0.147760      1\n",
              "8 -0.169322 -0.793456      1\n",
              "9 -0.121486  1.021509      0"
            ],
            "text/html": [
              "\n",
              "  <div id=\"df-bfb0214d-d337-4af4-8374-b4dd6d606659\">\n",
              "    <div class=\"colab-df-container\">\n",
              "      <div>\n",
              "<style scoped>\n",
              "    .dataframe tbody tr th:only-of-type {\n",
              "        vertical-align: middle;\n",
              "    }\n",
              "\n",
              "    .dataframe tbody tr th {\n",
              "        vertical-align: top;\n",
              "    }\n",
              "\n",
              "    .dataframe thead th {\n",
              "        text-align: right;\n",
              "    }\n",
              "</style>\n",
              "<table border=\"1\" class=\"dataframe\">\n",
              "  <thead>\n",
              "    <tr style=\"text-align: right;\">\n",
              "      <th></th>\n",
              "      <th>X0</th>\n",
              "      <th>X1</th>\n",
              "      <th>label</th>\n",
              "    </tr>\n",
              "  </thead>\n",
              "  <tbody>\n",
              "    <tr>\n",
              "      <th>0</th>\n",
              "      <td>0.754246</td>\n",
              "      <td>0.231481</td>\n",
              "      <td>1</td>\n",
              "    </tr>\n",
              "    <tr>\n",
              "      <th>1</th>\n",
              "      <td>-0.756159</td>\n",
              "      <td>0.153259</td>\n",
              "      <td>1</td>\n",
              "    </tr>\n",
              "    <tr>\n",
              "      <th>2</th>\n",
              "      <td>-0.815392</td>\n",
              "      <td>0.173282</td>\n",
              "      <td>1</td>\n",
              "    </tr>\n",
              "    <tr>\n",
              "      <th>3</th>\n",
              "      <td>-0.393731</td>\n",
              "      <td>0.692883</td>\n",
              "      <td>1</td>\n",
              "    </tr>\n",
              "    <tr>\n",
              "      <th>4</th>\n",
              "      <td>0.442208</td>\n",
              "      <td>-0.896723</td>\n",
              "      <td>0</td>\n",
              "    </tr>\n",
              "    <tr>\n",
              "      <th>5</th>\n",
              "      <td>-0.479646</td>\n",
              "      <td>0.676435</td>\n",
              "      <td>1</td>\n",
              "    </tr>\n",
              "    <tr>\n",
              "      <th>6</th>\n",
              "      <td>-0.013648</td>\n",
              "      <td>0.803349</td>\n",
              "      <td>1</td>\n",
              "    </tr>\n",
              "    <tr>\n",
              "      <th>7</th>\n",
              "      <td>0.771513</td>\n",
              "      <td>0.147760</td>\n",
              "      <td>1</td>\n",
              "    </tr>\n",
              "    <tr>\n",
              "      <th>8</th>\n",
              "      <td>-0.169322</td>\n",
              "      <td>-0.793456</td>\n",
              "      <td>1</td>\n",
              "    </tr>\n",
              "    <tr>\n",
              "      <th>9</th>\n",
              "      <td>-0.121486</td>\n",
              "      <td>1.021509</td>\n",
              "      <td>0</td>\n",
              "    </tr>\n",
              "  </tbody>\n",
              "</table>\n",
              "</div>\n",
              "      <button class=\"colab-df-convert\" onclick=\"convertToInteractive('df-bfb0214d-d337-4af4-8374-b4dd6d606659')\"\n",
              "              title=\"Convert this dataframe to an interactive table.\"\n",
              "              style=\"display:none;\">\n",
              "        \n",
              "  <svg xmlns=\"http://www.w3.org/2000/svg\" height=\"24px\"viewBox=\"0 0 24 24\"\n",
              "       width=\"24px\">\n",
              "    <path d=\"M0 0h24v24H0V0z\" fill=\"none\"/>\n",
              "    <path d=\"M18.56 5.44l.94 2.06.94-2.06 2.06-.94-2.06-.94-.94-2.06-.94 2.06-2.06.94zm-11 1L8.5 8.5l.94-2.06 2.06-.94-2.06-.94L8.5 2.5l-.94 2.06-2.06.94zm10 10l.94 2.06.94-2.06 2.06-.94-2.06-.94-.94-2.06-.94 2.06-2.06.94z\"/><path d=\"M17.41 7.96l-1.37-1.37c-.4-.4-.92-.59-1.43-.59-.52 0-1.04.2-1.43.59L10.3 9.45l-7.72 7.72c-.78.78-.78 2.05 0 2.83L4 21.41c.39.39.9.59 1.41.59.51 0 1.02-.2 1.41-.59l7.78-7.78 2.81-2.81c.8-.78.8-2.07 0-2.86zM5.41 20L4 18.59l7.72-7.72 1.47 1.35L5.41 20z\"/>\n",
              "  </svg>\n",
              "      </button>\n",
              "      \n",
              "  <style>\n",
              "    .colab-df-container {\n",
              "      display:flex;\n",
              "      flex-wrap:wrap;\n",
              "      gap: 12px;\n",
              "    }\n",
              "\n",
              "    .colab-df-convert {\n",
              "      background-color: #E8F0FE;\n",
              "      border: none;\n",
              "      border-radius: 50%;\n",
              "      cursor: pointer;\n",
              "      display: none;\n",
              "      fill: #1967D2;\n",
              "      height: 32px;\n",
              "      padding: 0 0 0 0;\n",
              "      width: 32px;\n",
              "    }\n",
              "\n",
              "    .colab-df-convert:hover {\n",
              "      background-color: #E2EBFA;\n",
              "      box-shadow: 0px 1px 2px rgba(60, 64, 67, 0.3), 0px 1px 3px 1px rgba(60, 64, 67, 0.15);\n",
              "      fill: #174EA6;\n",
              "    }\n",
              "\n",
              "    [theme=dark] .colab-df-convert {\n",
              "      background-color: #3B4455;\n",
              "      fill: #D2E3FC;\n",
              "    }\n",
              "\n",
              "    [theme=dark] .colab-df-convert:hover {\n",
              "      background-color: #434B5C;\n",
              "      box-shadow: 0px 1px 3px 1px rgba(0, 0, 0, 0.15);\n",
              "      filter: drop-shadow(0px 1px 2px rgba(0, 0, 0, 0.3));\n",
              "      fill: #FFFFFF;\n",
              "    }\n",
              "  </style>\n",
              "\n",
              "      <script>\n",
              "        const buttonEl =\n",
              "          document.querySelector('#df-bfb0214d-d337-4af4-8374-b4dd6d606659 button.colab-df-convert');\n",
              "        buttonEl.style.display =\n",
              "          google.colab.kernel.accessAllowed ? 'block' : 'none';\n",
              "\n",
              "        async function convertToInteractive(key) {\n",
              "          const element = document.querySelector('#df-bfb0214d-d337-4af4-8374-b4dd6d606659');\n",
              "          const dataTable =\n",
              "            await google.colab.kernel.invokeFunction('convertToInteractive',\n",
              "                                                     [key], {});\n",
              "          if (!dataTable) return;\n",
              "\n",
              "          const docLinkHtml = 'Like what you see? Visit the ' +\n",
              "            '<a target=\"_blank\" href=https://colab.research.google.com/notebooks/data_table.ipynb>data table notebook</a>'\n",
              "            + ' to learn more about interactive tables.';\n",
              "          element.innerHTML = '';\n",
              "          dataTable['output_type'] = 'display_data';\n",
              "          await google.colab.output.renderOutput(dataTable, element);\n",
              "          const docLink = document.createElement('div');\n",
              "          docLink.innerHTML = docLinkHtml;\n",
              "          element.appendChild(docLink);\n",
              "        }\n",
              "      </script>\n",
              "    </div>\n",
              "  </div>\n",
              "  "
            ]
          },
          "metadata": {},
          "execution_count": 7
        }
      ]
    },
    {
      "cell_type": "code",
      "source": [
        "# check out the different labels\n",
        "circles.label.value_counts()"
      ],
      "metadata": {
        "colab": {
          "base_uri": "https://localhost:8080/"
        },
        "id": "J2rD5w7E9KXm",
        "outputId": "e3fb79e2-e782-498a-af46-d92627796726"
      },
      "execution_count": null,
      "outputs": [
        {
          "output_type": "execute_result",
          "data": {
            "text/plain": [
              "1    500\n",
              "0    500\n",
              "Name: label, dtype: int64"
            ]
          },
          "metadata": {},
          "execution_count": 8
        }
      ]
    },
    {
      "cell_type": "markdown",
      "source": [
        "We can see that we have labels as `0` or `1`, it means that we're going to solve **binary classification problem**."
      ],
      "metadata": {
        "id": "72a9BliC-IWS"
      }
    },
    {
      "cell_type": "code",
      "source": [
        "# visualize with the plot\n",
        "import matplotlib.pyplot as plt\n",
        "\n",
        "plt.scatter(X[:, 0], X[:, 1], c=y, cmap=\"RdYlBu\");"
      ],
      "metadata": {
        "colab": {
          "base_uri": "https://localhost:8080/",
          "height": 265
        },
        "id": "Dt6Myjwi-QkL",
        "outputId": "87872981-b301-4ec7-d90e-ec358ee5ecdd"
      },
      "execution_count": null,
      "outputs": [
        {
          "output_type": "display_data",
          "data": {
            "text/plain": [
              "<Figure size 432x288 with 1 Axes>"
            ],
            "image/png": "[encoded data removed]"
          },
          "metadata": {
            "needs_background": "light"
          }
        }
      ]
    },
    {
      "cell_type": "markdown",
      "source": [
        "Nice! From the plot, can you guess what kind of model we want to build ?\n",
        "\n",
        "How about we try to build one to classify blue or red dots ? As in, a model which is able to distinguish blue from red dots.\n",
        "\n",
        "> **Practice** : [TensorFlow Playground](https://playground.tensorflow.org/#activation=relu&batchSize=10&dataset=circle&regDataset=reg-plane&learningRate=0.03&regularizationRate=0&noise=0&networkShape=2,2&seed=0.93799&showTestData=false&discretize=false&percTrainData=50&x=true&y=true&xTimesY=false&xSquared=false&ySquared=false&cosX=false&sinX=false&cosY=false&sinY=false&collectStats=false&problem=classification&initZero=false&hideText=false&regularization_hide=true&regularizationRate_hide=true&batchSize_hide=true)"
      ],
      "metadata": {
        "id": "195lrwwL-bAg"
      }
    },
    {
      "cell_type": "markdown",
      "source": [
        "## Input and Output Shapes"
      ],
      "metadata": {
        "id": "fmDs2IOO_M8D"
      }
    },
    {
      "cell_type": "markdown",
      "source": [
        "One of the most common issue you'll run into when building deep neural networks is shape mismatches.\n",
        "\n",
        "More specifically, the shape of the input data and the shape of output data.\n",
        "\n",
        "In our case, we want to input `X` and get our model to predict `y`\n",
        "\n",
        "So let's check out the shapes of `X` and `y`."
      ],
      "metadata": {
        "id": "CfIWPFk6H8wg"
      }
    },
    {
      "cell_type": "code",
      "source": [
        "# Check the shapes of our features and labels\n",
        "X.shape, y.shape"
      ],
      "metadata": {
        "colab": {
          "base_uri": "https://localhost:8080/"
        },
        "id": "X392AW_kIMZD",
        "outputId": "ba19a6e2-ea5e-4d9c-bde6-59089a0b5444"
      },
      "execution_count": null,
      "outputs": [
        {
          "output_type": "execute_result",
          "data": {
            "text/plain": [
              "((1000, 2), (1000,))"
            ]
          },
          "metadata": {},
          "execution_count": 10
        }
      ]
    },
    {
      "cell_type": "markdown",
      "source": [
        "Where do these numbers come from ?"
      ],
      "metadata": {
        "id": "KsfaVOVyIXI1"
      }
    },
    {
      "cell_type": "code",
      "source": [
        "len(X), len(y)"
      ],
      "metadata": {
        "colab": {
          "base_uri": "https://localhost:8080/"
        },
        "id": "XXFK_FgeIhdH",
        "outputId": "594f2a74-2742-40b5-cbee-6b460c04115f"
      },
      "execution_count": null,
      "outputs": [
        {
          "output_type": "execute_result",
          "data": {
            "text/plain": [
              "(1000, 1000)"
            ]
          },
          "metadata": {},
          "execution_count": 11
        }
      ]
    },
    {
      "cell_type": "markdown",
      "source": [
        "So we've got as many `X` values as we do `y` values, that makes sense."
      ],
      "metadata": {
        "id": "j0cf2weKIi9U"
      }
    },
    {
      "cell_type": "code",
      "source": [
        "# View the first example of features and labels\n",
        "X[2], y[2]"
      ],
      "metadata": {
        "colab": {
          "base_uri": "https://localhost:8080/"
        },
        "id": "sIq-ISHRIpan",
        "outputId": "a27f0437-765d-49ce-dce3-24b434511ac3"
      },
      "execution_count": null,
      "outputs": [
        {
          "output_type": "execute_result",
          "data": {
            "text/plain": [
              "(array([-0.81539193,  0.17328203]), 1)"
            ]
          },
          "metadata": {},
          "execution_count": 12
        }
      ]
    },
    {
      "cell_type": "markdown",
      "source": [
        "Alright, so we've got two `X` features which lead to one `y` value.\n",
        "\n",
        "This means our neural network input shape will has to accept a tensor with at least one dimension being two and output a tensor with at least one value.\n",
        "\n",
        "\n",
        "> 🤔 **Note**: `y` having a shape of (1000,) can seem confusing. However, this is because all `y` values are actually scalars (single values) and therefore don't have a dimension. For now, think of your output shape as being at least the same value as one of example of `y`(in our case, the output from our neural network has to be at least one value)\n",
        "\n"
      ],
      "metadata": {
        "id": "eiD1AivbIupW"
      }
    },
    {
      "cell_type": "markdown",
      "source": [
        "## Steps in modelling\n",
        "\n",
        "Now we know what data we have as well as the input and output shapes, let's see how we'd build a neural network to model it.\n",
        "\n",
        "In TensorFlow, there are typically 3 fundamental steps to creating and training a model.\n",
        "\n",
        "1. **Creating a model**: piece together the layers of neural network yourself(using the functional or Sequential API) or import a previously built model(known as transfer learning).\n",
        "2. **Compiling a model**: defining how a model's performance should be measured(loss/metrics) as well as defining how it should improve(optimizer).\n",
        "3. **Fitting a model**: letting the model try to find patterns in the data(how does `X` get to `y`).\n",
        "\n",
        "Let's see these in action using Sequential API to build a model for our regression data. And then we'll step through each."
      ],
      "metadata": {
        "id": "MvLLzZUpKm9e"
      }
    },
    {
      "cell_type": "code",
      "source": [
        "# set the random seed\n",
        "tf.random.set_seed(17)\n",
        "\n",
        "# 1. Create a model\n",
        "model = tf.keras.Sequential([\n",
        "    tf.keras.layers.Dense(1)\n",
        "])\n",
        "\n",
        "# 2. Compile a model\n",
        "model.compile(loss=tf.keras.losses.BinaryCrossentropy(),\n",
        "              optimizer=tf.keras.optimizers.SGD(),\n",
        "              metrics=[\"accuracy\"])\n",
        "\n",
        "# 3. Fitting a model\n",
        "model.fit(X, y, epochs = 100, verbose=0)"
      ],
      "metadata": {
        "colab": {
          "base_uri": "https://localhost:8080/"
        },
        "id": "jWCd4o3zMJfF",
        "outputId": "708fa1f8-031f-4d12-fe36-456fd942ee27"
      },
      "execution_count": null,
      "outputs": [
        {
          "output_type": "execute_result",
          "data": {
            "text/plain": [
              "<keras.callbacks.History at 0x7f66b279df90>"
            ]
          },
          "metadata": {},
          "execution_count": 13
        }
      ]
    },
    {
      "cell_type": "code",
      "source": [
        "# 4. Evaluating a model\n",
        "model.evaluate(X, y)"
      ],
      "metadata": {
        "colab": {
          "base_uri": "https://localhost:8080/"
        },
        "id": "kLu-2YcyMObg",
        "outputId": "296f918d-49a4-46a9-827b-6eb37df94e24"
      },
      "execution_count": null,
      "outputs": [
        {
          "output_type": "stream",
          "name": "stdout",
          "text": [
            "32/32 [==============================] - 0s 968us/step - loss: 0.6932 - accuracy: 0.5000\n"
          ]
        },
        {
          "output_type": "execute_result",
          "data": {
            "text/plain": [
              "[0.6931850910186768, 0.5]"
            ]
          },
          "metadata": {},
          "execution_count": 14
        }
      ]
    },
    {
      "cell_type": "markdown",
      "source": [
        "Looking at the accuracy metric, our model performs poorly (50% accuracy on a binary classification problem is the equivalent of guessing), but what if we trained it for longer?"
      ],
      "metadata": {
        "id": "3VXb0afNM1ee"
      }
    },
    {
      "cell_type": "code",
      "source": [
        "# Train our model for longer,\n",
        "model.fit(X, y, epochs=200,verbose=0)\n",
        "model.evaluate(X, y)"
      ],
      "metadata": {
        "colab": {
          "base_uri": "https://localhost:8080/"
        },
        "id": "Er6V6I4xNEi0",
        "outputId": "1559e465-585d-4c9d-83e7-6af417892eb3"
      },
      "execution_count": null,
      "outputs": [
        {
          "output_type": "stream",
          "name": "stdout",
          "text": [
            "32/32 [==============================] - 0s 3ms/step - loss: 0.6934 - accuracy: 0.5000\n"
          ]
        },
        {
          "output_type": "execute_result",
          "data": {
            "text/plain": [
              "[0.6933965086936951, 0.5]"
            ]
          },
          "metadata": {},
          "execution_count": 15
        }
      ]
    },
    {
      "cell_type": "markdown",
      "source": [
        "So even if we have trained our model for little longer than previous, it is not improving, it's performing like it's guessing.\n",
        "\n",
        "What if we added an extra layer and trained for a little longer ?"
      ],
      "metadata": {
        "id": "GfLBMGDdNS8G"
      }
    },
    {
      "cell_type": "code",
      "source": [
        "# set random seed\n",
        "tf.random.set_seed(17)\n",
        "\n",
        "# 1. Create a model\n",
        "model_1 = tf.keras.Sequential([\n",
        "    tf.keras.layers.Dense(1), # add an extra layer\n",
        "    tf.keras.layers.Dense(1)\n",
        "])\n",
        "\n",
        "# 2. Compile a model\n",
        "model_1.compile(loss=tf.keras.losses.BinaryCrossentropy(),\n",
        "                optimizer=tf.keras.optimizers.SGD(),\n",
        "                metrics=[\"accuracy\"])\n",
        "# 3. Fit a model\n",
        "model_1.fit(X, y, epochs=200, verbose=0)\n",
        "\n",
        "# 4. Evaluate a model\n",
        "model_1.evaluate(X, y)"
      ],
      "metadata": {
        "colab": {
          "base_uri": "https://localhost:8080/"
        },
        "id": "YlsJxFLgNoRu",
        "outputId": "6c818706-1562-4ddc-8cf2-8df00861cc23"
      },
      "execution_count": null,
      "outputs": [
        {
          "output_type": "stream",
          "name": "stdout",
          "text": [
            "32/32 [==============================] - 0s 973us/step - loss: 7.7125 - accuracy: 0.5000\n"
          ]
        },
        {
          "output_type": "execute_result",
          "data": {
            "text/plain": [
              "[7.712474346160889, 0.5]"
            ]
          },
          "metadata": {},
          "execution_count": 16
        }
      ]
    },
    {
      "cell_type": "markdown",
      "source": [
        "So even we have added an extra layer the model is not improving.\n",
        "\n",
        "Let's see what are things we have to do to improve our models."
      ],
      "metadata": {
        "id": "kpokCFNlOx-B"
      }
    },
    {
      "cell_type": "markdown",
      "source": [
        "## Improving a model\n",
        "\n",
        "To improve a model, we can alter almost every part of the 3 steps we went thrugh before.\n",
        "\n",
        "1. **Creating a model**: here we might want to add more layers, increase the number of hidden units (also called neurons) within each layer, change the activation functions of each layer.\n",
        "2. **Compiling a model**: you might want to choose a different optimization function (such as Adam optimizer, which is usually pretty good for any problems) or perhaps change the learning rate of the optimization function.\n",
        "3. **Fitting a model**: we might train our model little longer by increasing the value of epochs.\n",
        "\n",
        "\n",
        "How about first try adding more neurons, an extra layer and choose Adam as optimizer function?"
      ],
      "metadata": {
        "id": "Fz64-DnePGla"
      }
    },
    {
      "cell_type": "code",
      "source": [
        "# set the random seed\n",
        "tf.random.set_seed(17)\n",
        "\n",
        "# Create a model\n",
        "model_2 = tf.keras.Sequential([\n",
        "    tf.keras.layers.Dense(100), ## adding an extra layer with 100 neurons\n",
        "    tf.keras.layers.Dense(1),\n",
        "    tf.keras.layers.Dense(1)\n",
        "])\n",
        "\n",
        "# Compile a model\n",
        "model_2.compile(loss=tf.keras.losses.BinaryCrossentropy(),\n",
        "                optimizer=tf.keras.optimizers.Adam(),\n",
        "                metrics=[\"accuracy\"])\n",
        "\n",
        "# Fitting a model\n",
        "model_2.fit(X, y, epochs=200, verbose=0)\n",
        "\n",
        "# Evaluating a model\n",
        "model_2.evaluate(X, y)"
      ],
      "metadata": {
        "colab": {
          "base_uri": "https://localhost:8080/"
        },
        "id": "T2ZSq77iQoSe",
        "outputId": "9801d23b-868e-4269-af3e-f833f901ef87"
      },
      "execution_count": null,
      "outputs": [
        {
          "output_type": "stream",
          "name": "stdout",
          "text": [
            "32/32 [==============================] - 0s 1ms/step - loss: 0.6937 - accuracy: 0.4150\n"
          ]
        },
        {
          "output_type": "execute_result",
          "data": {
            "text/plain": [
              "[0.6936585307121277, 0.41499999165534973]"
            ]
          },
          "metadata": {},
          "execution_count": 17
        }
      ]
    },
    {
      "cell_type": "markdown",
      "source": [
        "Oh !\n",
        "\n",
        "Accuracy decreases more.\n",
        "\n",
        "We've pulled out a few tricks but our model isn't even doing better than guessing."
      ],
      "metadata": {
        "id": "l3oDwTYoReUr"
      }
    },
    {
      "cell_type": "markdown",
      "source": [
        "Let's make some visualization to see what's happening."
      ],
      "metadata": {
        "id": "oM86jY7HRw8x"
      }
    },
    {
      "cell_type": "markdown",
      "source": [
        "> 🔑 **Note**: Whenever your model is performing strangely or there's something going on with your data you're not quite sure of, remember these three words: **Visualize**, **Visualize**, **Visualize**. Inspect your data, inspect your model, inspect your model's predictions."
      ],
      "metadata": {
        "id": "_u4gFULkR1iz"
      }
    },
    {
      "cell_type": "markdown",
      "source": [
        "To visualize our model's predictions we're going to create a function `plot_decision_boundary()` which:\n",
        "* Takes in a trained model, features `X` and labels `y`.\n",
        "* Create a [meshgrid](https://numpy.org/doc/stable/reference/generated/numpy.meshgrid.html) of the different `X` values.\n",
        "* Makes predictions across the meshgrid.\n",
        "* Plots the predictions as well as a line between the different zones (where each unique class falls)\n",
        "\n",
        "If this sounds confusing, let's see it in code and then see the output."
      ],
      "metadata": {
        "id": "ZqYPFvcdSPcn"
      }
    },
    {
      "cell_type": "code",
      "source": [
        "import numpy as np"
      ],
      "metadata": {
        "id": "CV5dC_dXTbkv"
      },
      "execution_count": null,
      "outputs": []
    },
    {
      "cell_type": "code",
      "source": [
        "def plot_decision_boundary(model, X, y):\n",
        "  \"\"\"\n",
        "  Plots the decision boundary created by a model predicting on X.\n",
        "  This function is adapated from two phenomenal resources:\n",
        "  1. CS231n - https://cs231n.github.io/neural-networks-case-study/\n",
        "  2. Made with ML basics - https://github.com/GokuMohandas/MadeWithML/blob/main/notebooks/08_Neural_Networks.ipynb\n",
        "  \"\"\"\n",
        "  # Define the axis boundaries of the plot and create a meshgrid\n",
        "  x_min, x_max = X[:, 0].min() - 0.1, X[:, 0].max() + 0.1\n",
        "  y_min, y_max = X[:, 1].min() - 0.1, X[:, 1].max() + 0.1\n",
        "  xx, yy = np.meshgrid(np.linspace(x_min, x_max, 100),\n",
        "                       np.linspace(y_min, y_max, 100))\n",
        "  \n",
        "  # Create X values (we're going to predict on all of these)\n",
        "  x_in = np.c_[xx.ravel(), yy.ravel()] # stack 2D arrays together\n",
        "\n",
        "  # Make predictions using trained model\n",
        "  y_pred = model.predict(x_in)\n",
        "\n",
        "  # Check for multi-class\n",
        "  if model.output_shape[-1] > 1: # check the final dimension of the model's output shape, if this is > (greater than) 1, it's multi-class\n",
        "    print(\"doing multi-class classification...\")\n",
        "    # We have to reshape our predictions to get them ready for plotting\n",
        "    y_pred = np.argmax(y_pred, axis=1).reshape(xx.shape)\n",
        "  else:\n",
        "    print(\"doing binary classification...\")\n",
        "    y_pred = np.round(np.max(y_pred, axis = 1)).reshape(xx.shape)\n",
        "\n",
        "  \n",
        "  # Plot decision boundary\n",
        "  plt.contourf(xx, yy, y_pred, cmap=plt.cm.RdYlBu, alpha=0.7)\n",
        "  plt.scatter(X[:,0], X[:, 1], c=y, s=40, cmap=plt.cm.RdYlBu)\n",
        "  plt.xlim(xx.min(), xx.max())\n",
        "  plt.ylim(yy.min(), yy.max())"
      ],
      "metadata": {
        "id": "LhaEniT0TdO4"
      },
      "execution_count": null,
      "outputs": []
    },
    {
      "cell_type": "markdown",
      "source": [
        "Now we've got a function to plot our model's decision boundary (the cut off point its making between red and blue dots), let's try it out."
      ],
      "metadata": {
        "id": "G_AhvODoi0sV"
      }
    },
    {
      "cell_type": "code",
      "source": [
        "# check out the predictions our model is making\n",
        "plot_decision_boundary(model_2, X, y)"
      ],
      "metadata": {
        "colab": {
          "base_uri": "https://localhost:8080/",
          "height": 300
        },
        "id": "gyVbNDyfi-YE",
        "outputId": "fe21ce8d-ef2a-478d-ba6c-23b8d9c40bb0"
      },
      "execution_count": null,
      "outputs": [
        {
          "output_type": "stream",
          "name": "stdout",
          "text": [
            "313/313 [==============================] - 0s 833us/step\n",
            "doing binary classification...\n"
          ]
        },
        {
          "output_type": "display_data",
          "data": {
            "text/plain": [
              "<Figure size 432x288 with 1 Axes>"
            ],
            "image/png": "[encoded data removed]"
          },
          "metadata": {
            "needs_background": "light"
          }
        }
      ]
    },
    {
      "cell_type": "markdown",
      "source": [
        "Looks like our model is trying to draw a straight line through the data.\n",
        "\n",
        "What's wrong with doing this ?\n",
        "\n",
        "The main issue is our data isn't separable by a straight line.\n",
        "\n",
        "In a regression problem, our model might work. In fact, let's try it."
      ],
      "metadata": {
        "id": "0IVtPUntjEm9"
      }
    },
    {
      "cell_type": "code",
      "source": [
        "# set random seed\n",
        "tf.random.set_seed(17)\n",
        "\n",
        "# create some regression data\n",
        "X_regression = np.arange(0,1000,5)\n",
        "y_regression = np.arange(100,1100,5)\n",
        "\n",
        "# Split it into training and test sets\n",
        "X_reg_train, y_reg_train = X_regression[:150], y_regression[:150]\n",
        "X_reg_test, y_reg_test = X_regression[150:], y_regression[150:]\n",
        "\n",
        "# Fit our model to the data\n",
        "model_2.fit(tf.expand_dims(X_reg_train, axis = -1), y_reg_train, epochs = 100, verbose = 0)\n"
      ],
      "metadata": {
        "colab": {
          "base_uri": "https://localhost:8080/",
          "height": 728
        },
        "id": "80F7gmYnjqAB",
        "outputId": "a8a8f9a0-4829-4b56-fad7-ab55a6d58bd8"
      },
      "execution_count": null,
      "outputs": [
        {
          "output_type": "error",
          "ename": "ValueError",
          "evalue": "ignored",
          "traceback": [
            "\u001b[0;31m---------------------------------------------------------------------------\u001b[0m",
            "\u001b[0;31mValueError\u001b[0m                                Traceback (most recent call last)",
            "\u001b[0;32m<ipython-input-21-3b58fbf1bc36>\u001b[0m in \u001b[0;36m<module>\u001b[0;34m\u001b[0m\n\u001b[1;32m     11\u001b[0m \u001b[0;34m\u001b[0m\u001b[0m\n\u001b[1;32m     12\u001b[0m \u001b[0;31m# Fit our model to the data\u001b[0m\u001b[0;34m\u001b[0m\u001b[0;34m\u001b[0m\u001b[0;34m\u001b[0m\u001b[0m\n\u001b[0;32m---> 13\u001b[0;31m \u001b[0mmodel_2\u001b[0m\u001b[0;34m.\u001b[0m\u001b[0mfit\u001b[0m\u001b[0;34m(\u001b[0m\u001b[0mtf\u001b[0m\u001b[0;34m.\u001b[0m\u001b[0mexpand_dims\u001b[0m\u001b[0;34m(\u001b[0m\u001b[0mX_reg_train\u001b[0m\u001b[0;34m,\u001b[0m \u001b[0maxis\u001b[0m \u001b[0;34m=\u001b[0m \u001b[0;34m-\u001b[0m\u001b[0;36m1\u001b[0m\u001b[0;34m)\u001b[0m\u001b[0;34m,\u001b[0m \u001b[0my_reg_train\u001b[0m\u001b[0;34m,\u001b[0m \u001b[0mepochs\u001b[0m \u001b[0;34m=\u001b[0m \u001b[0;36m100\u001b[0m\u001b[0;34m,\u001b[0m \u001b[0mverbose\u001b[0m \u001b[0;34m=\u001b[0m \u001b[0;36m0\u001b[0m\u001b[0;34m)\u001b[0m\u001b[0;34m\u001b[0m\u001b[0;34m\u001b[0m\u001b[0m\n\u001b[0m",
            "\u001b[0;32m/usr/local/lib/python3.7/dist-packages/keras/utils/traceback_utils.py\u001b[0m in \u001b[0;36merror_handler\u001b[0;34m(*args, **kwargs)\u001b[0m\n\u001b[1;32m     65\u001b[0m     \u001b[0;32mexcept\u001b[0m \u001b[0mException\u001b[0m \u001b[0;32mas\u001b[0m \u001b[0me\u001b[0m\u001b[0;34m:\u001b[0m  \u001b[0;31m# pylint: disable=broad-except\u001b[0m\u001b[0;34m\u001b[0m\u001b[0;34m\u001b[0m\u001b[0m\n\u001b[1;32m     66\u001b[0m       \u001b[0mfiltered_tb\u001b[0m \u001b[0;34m=\u001b[0m \u001b[0m_process_traceback_frames\u001b[0m\u001b[0;34m(\u001b[0m\u001b[0me\u001b[0m\u001b[0;34m.\u001b[0m\u001b[0m__traceback__\u001b[0m\u001b[0;34m)\u001b[0m\u001b[0;34m\u001b[0m\u001b[0;34m\u001b[0m\u001b[0m\n\u001b[0;32m---> 67\u001b[0;31m       \u001b[0;32mraise\u001b[0m \u001b[0me\u001b[0m\u001b[0;34m.\u001b[0m\u001b[0mwith_traceback\u001b[0m\u001b[0;34m(\u001b[0m\u001b[0mfiltered_tb\u001b[0m\u001b[0;34m)\u001b[0m \u001b[0;32mfrom\u001b[0m \u001b[0;32mNone\u001b[0m\u001b[0;34m\u001b[0m\u001b[0;34m\u001b[0m\u001b[0m\n\u001b[0m\u001b[1;32m     68\u001b[0m     \u001b[0;32mfinally\u001b[0m\u001b[0;34m:\u001b[0m\u001b[0;34m\u001b[0m\u001b[0;34m\u001b[0m\u001b[0m\n\u001b[1;32m     69\u001b[0m       \u001b[0;32mdel\u001b[0m \u001b[0mfiltered_tb\u001b[0m\u001b[0;34m\u001b[0m\u001b[0;34m\u001b[0m\u001b[0m\n",
            "\u001b[0;32m/usr/local/lib/python3.7/dist-packages/keras/engine/training.py\u001b[0m in \u001b[0;36mtf__train_function\u001b[0;34m(iterator)\u001b[0m\n\u001b[1;32m     13\u001b[0m                 \u001b[0;32mtry\u001b[0m\u001b[0;34m:\u001b[0m\u001b[0;34m\u001b[0m\u001b[0;34m\u001b[0m\u001b[0m\n\u001b[1;32m     14\u001b[0m                     \u001b[0mdo_return\u001b[0m \u001b[0;34m=\u001b[0m \u001b[0;32mTrue\u001b[0m\u001b[0;34m\u001b[0m\u001b[0;34m\u001b[0m\u001b[0m\n\u001b[0;32m---> 15\u001b[0;31m                     \u001b[0mretval_\u001b[0m \u001b[0;34m=\u001b[0m \u001b[0mag__\u001b[0m\u001b[0;34m.\u001b[0m\u001b[0mconverted_call\u001b[0m\u001b[0;34m(\u001b[0m\u001b[0mag__\u001b[0m\u001b[0;34m.\u001b[0m\u001b[0mld\u001b[0m\u001b[0;34m(\u001b[0m\u001b[0mstep_function\u001b[0m\u001b[0;34m)\u001b[0m\u001b[0;34m,\u001b[0m \u001b[0;34m(\u001b[0m\u001b[0mag__\u001b[0m\u001b[0;34m.\u001b[0m\u001b[0mld\u001b[0m\u001b[0;34m(\u001b[0m\u001b[0mself\u001b[0m\u001b[0;34m)\u001b[0m\u001b[0;34m,\u001b[0m \u001b[0mag__\u001b[0m\u001b[0;34m.\u001b[0m\u001b[0mld\u001b[0m\u001b[0;34m(\u001b[0m\u001b[0miterator\u001b[0m\u001b[0;34m)\u001b[0m\u001b[0;34m)\u001b[0m\u001b[0;34m,\u001b[0m \u001b[0;32mNone\u001b[0m\u001b[0;34m,\u001b[0m \u001b[0mfscope\u001b[0m\u001b[0;34m)\u001b[0m\u001b[0;34m\u001b[0m\u001b[0;34m\u001b[0m\u001b[0m\n\u001b[0m\u001b[1;32m     16\u001b[0m                 \u001b[0;32mexcept\u001b[0m\u001b[0;34m:\u001b[0m\u001b[0;34m\u001b[0m\u001b[0;34m\u001b[0m\u001b[0m\n\u001b[1;32m     17\u001b[0m                     \u001b[0mdo_return\u001b[0m \u001b[0;34m=\u001b[0m \u001b[0;32mFalse\u001b[0m\u001b[0;34m\u001b[0m\u001b[0;34m\u001b[0m\u001b[0m\n",
            "\u001b[0;31mValueError\u001b[0m: in user code:\n\n    File \"/usr/local/lib/python3.7/dist-packages/keras/engine/training.py\", line 1051, in train_function  *\n        return step_function(self, iterator)\n    File \"/usr/local/lib/python3.7/dist-packages/keras/engine/training.py\", line 1040, in step_function  **\n        outputs = model.distribute_strategy.run(run_step, args=(data,))\n    File \"/usr/local/lib/python3.7/dist-packages/keras/engine/training.py\", line 1030, in run_step  **\n        outputs = model.train_step(data)\n    File \"/usr/local/lib/python3.7/dist-packages/keras/engine/training.py\", line 889, in train_step\n        y_pred = self(x, training=True)\n    File \"/usr/local/lib/python3.7/dist-packages/keras/utils/traceback_utils.py\", line 67, in error_handler\n        raise e.with_traceback(filtered_tb) from None\n    File \"/usr/local/lib/python3.7/dist-packages/keras/engine/input_spec.py\", line 249, in assert_input_compatibility\n        f'Input {input_index} of layer \"{layer_name}\" is '\n\n    ValueError: Exception encountered when calling layer \"sequential_2\" (type Sequential).\n    \n    Input 0 of layer \"dense_3\" is incompatible with the layer: expected axis -1 of input shape to have value 2, but received input with shape (None, 1)\n    \n    Call arguments received by layer \"sequential_2\" (type Sequential):\n      • inputs=tf.Tensor(shape=(None, 1), dtype=int64)\n      • training=True\n      • mask=None\n"
          ]
        }
      ]
    },
    {
      "cell_type": "code",
      "source": [
        "model_2.summary()"
      ],
      "metadata": {
        "colab": {
          "base_uri": "https://localhost:8080/"
        },
        "id": "o5fdcFDekg52",
        "outputId": "8921e3b2-418c-4748-a6f9-1253dba54ae4"
      },
      "execution_count": null,
      "outputs": [
        {
          "output_type": "stream",
          "name": "stdout",
          "text": [
            "Model: \"sequential_2\"\n",
            "_________________________________________________________________\n",
            " Layer (type)                Output Shape              Param #   \n",
            "=================================================================\n",
            " dense_3 (Dense)             (None, 100)               300       \n",
            "                                                                 \n",
            " dense_4 (Dense)             (None, 1)                 101       \n",
            "                                                                 \n",
            " dense_5 (Dense)             (None, 1)                 2         \n",
            "                                                                 \n",
            "=================================================================\n",
            "Total params: 403\n",
            "Trainable params: 403\n",
            "Non-trainable params: 0\n",
            "_________________________________________________________________\n"
          ]
        }
      ]
    },
    {
      "cell_type": "markdown",
      "source": [
        "We compiled our model for a binary classification problem.\n",
        "\n",
        "We can recreate it for a regression problem."
      ],
      "metadata": {
        "id": "QDvOWBj7kwyV"
      }
    },
    {
      "cell_type": "code",
      "source": [
        "# setup the random seed\n",
        "tf.random.set_seed(17)\n",
        "\n",
        "# Recreate a model\n",
        "model_3 = tf.keras.Sequential([\n",
        "    tf.keras.layers.Dense(100),\n",
        "    tf.keras.layers.Dense(10),\n",
        "    tf.keras.layers.Dense(1)\n",
        "])\n",
        "\n",
        "# compile a model, change the loss and metrics for regression model\n",
        "model_3.compile(loss=tf.keras.losses.mae,\n",
        "                optimizer=tf.keras.optimizers.Adam(),\n",
        "                metrics=[\"mae\"])\n",
        "\n",
        "# fit the model\n",
        "model_3.fit(tf.expand_dims(X_reg_train, axis = -1), y_reg_train, epochs=100, verbose=0)"
      ],
      "metadata": {
        "colab": {
          "base_uri": "https://localhost:8080/"
        },
        "id": "vBvkOuQulCxG",
        "outputId": "314c1798-9ef0-4d7e-9a83-ed5c9b9d775b"
      },
      "execution_count": null,
      "outputs": [
        {
          "output_type": "execute_result",
          "data": {
            "text/plain": [
              "<keras.callbacks.History at 0x7f66b1e06cd0>"
            ]
          },
          "metadata": {},
          "execution_count": 23
        }
      ]
    },
    {
      "cell_type": "code",
      "source": [
        "# evaluate the model\n",
        "model_3.evaluate(X_reg_test, y_reg_test)"
      ],
      "metadata": {
        "colab": {
          "base_uri": "https://localhost:8080/"
        },
        "id": "QWuu7UOTloJH",
        "outputId": "3a02e971-22c9-499f-b5f7-26e0d3b4a942"
      },
      "execution_count": null,
      "outputs": [
        {
          "output_type": "stream",
          "name": "stdout",
          "text": [
            "2/2 [==============================] - 0s 5ms/step - loss: 56.8959 - mae: 56.8959\n"
          ]
        },
        {
          "output_type": "execute_result",
          "data": {
            "text/plain": [
              "[56.895851135253906, 56.895851135253906]"
            ]
          },
          "metadata": {},
          "execution_count": 24
        }
      ]
    },
    {
      "cell_type": "markdown",
      "source": [
        "Let's plot the predictions"
      ],
      "metadata": {
        "id": "Qe-t2o64luH-"
      }
    },
    {
      "cell_type": "code",
      "source": [
        "# Make a predictions with our trained model\n",
        "y_reg_preds = model_3.predict(X_reg_test)\n",
        "\n",
        "# plot the model's predictions against our regression data\n",
        "plt.figure(figsize=(10, 7))\n",
        "plt.scatter(X_reg_train, y_reg_train, c='b', label='training data')\n",
        "plt.scatter(X_reg_test, y_reg_test, c='g', label='testing data')\n",
        "plt.scatter(X_reg_test, y_reg_preds.squeeze(), c='r', label='Predictions')\n",
        "plt.legend();"
      ],
      "metadata": {
        "colab": {
          "base_uri": "https://localhost:8080/",
          "height": 445
        },
        "id": "RTzd-hMtl11v",
        "outputId": "18bde03a-695e-4f01-c3de-d3ecc151ffbd"
      },
      "execution_count": null,
      "outputs": [
        {
          "output_type": "stream",
          "name": "stdout",
          "text": [
            "2/2 [==============================] - 0s 3ms/step\n"
          ]
        },
        {
          "output_type": "display_data",
          "data": {
            "text/plain": [
              "<Figure size 720x504 with 1 Axes>"
            ],
            "image/png": "[encoded data removed]"
          },
          "metadata": {
            "needs_background": "light"
          }
        }
      ]
    },
    {
      "cell_type": "markdown",
      "source": [
        "Okay, the predictions aren't perfect (if the predictions were perfect, the red would line up with the green), but they look better than complete guessing.\n",
        "\n",
        "So this means our model must be learning something...\n",
        "\n",
        "There must be something we are missing out on for our classification problem."
      ],
      "metadata": {
        "id": "pwt0Jii_ma0q"
      }
    },
    {
      "cell_type": "markdown",
      "source": [
        "## The missing piece : Non-Linearity"
      ],
      "metadata": {
        "id": "JVZtaH7-nHv5"
      }
    },
    {
      "cell_type": "markdown",
      "source": [
        "Okay so we saw our neural network can model straight lines (with ability a little bit better than guessing).\n",
        "\n",
        "What about non-straight lines (non-linear)?\n",
        "\n",
        "If we're going to model our classification data (the red and blue circles), we're going to need some non-linear lines.\n",
        "\n",
        "There is a concept of activation function while setting up the neural network layers, and there are multiple activation function and each has it's own use case.\n",
        "\n",
        "Types of **Activation Function**:\n",
        "* ReLu\n",
        "* Softmax\n",
        "* Linear\n",
        "* Sigmoid\n",
        "\n",
        "By default each layer has a activation function as `None`.\n",
        "\n",
        "Since we are dealing with non-linear binary classification problem, so we can try with other activation function except `Linear`.\n",
        "\n",
        "Let's do the modelling,"
      ],
      "metadata": {
        "id": "wHMrDTgDOpqk"
      }
    },
    {
      "cell_type": "code",
      "source": [
        "# set the random seed\n",
        "tf.random.set_seed(17)\n",
        "\n",
        "# 1. Create a model\n",
        "model_4 = tf.keras.Sequential([\n",
        "    tf.keras.layers.Dense(1, activation=\"relu\"), # 1 hidden layer with activation function Relu\n",
        "    tf.keras.layers.Dense(1) # output layer\n",
        "])\n",
        "\n",
        "# 2. Compile a model\n",
        "model_4.compile(loss=\"binary_crossentropy\",\n",
        "                optimizer=tf.keras.optimizers.Adam(learning_rate=0.001),\n",
        "                metrics=[\"accuracy\"])\n",
        "\n",
        "# 3. Fit the model\n",
        "history = model_4.fit(X, y, epochs=200, verbose=0)\n",
        "\n",
        "# 4. Evaluating\n",
        "model_4.evaluate(X, y)"
      ],
      "metadata": {
        "colab": {
          "base_uri": "https://localhost:8080/"
        },
        "id": "BilXFe0iRhL9",
        "outputId": "e21e8005-e040-4c5d-caeb-0618aabb3d28"
      },
      "execution_count": null,
      "outputs": [
        {
          "output_type": "stream",
          "name": "stdout",
          "text": [
            "32/32 [==============================] - 0s 1ms/step - loss: 0.6993 - accuracy: 0.5000\n"
          ]
        },
        {
          "output_type": "execute_result",
          "data": {
            "text/plain": [
              "[0.6993036270141602, 0.5]"
            ]
          },
          "metadata": {},
          "execution_count": 27
        }
      ]
    },
    {
      "cell_type": "markdown",
      "source": [
        "Okay so it looks like that model is still guessing rather learning for this kind of inputs.\n",
        "\n",
        "Let's tweak the things in [TensorFlow Playground](https://playground.tensorflow.org/) and immitate here.\n",
        "\n",
        "![Image](https://drive.google.com/uc?export=view&id=1n_l6LZHfwYVlCiiBK52IMyylP2ytZWZT)"
      ],
      "metadata": {
        "id": "5H_B9WmoXPlN"
      }
    },
    {
      "cell_type": "markdown",
      "source": [
        "Let's mock the above settings into our model"
      ],
      "metadata": {
        "id": "ppl_u7aEZxAy"
      }
    },
    {
      "cell_type": "code",
      "source": [
        "# Set the random seed\n",
        "tf.random.set_seed(17)\n",
        "\n",
        "# Create a model\n",
        "model_5 = tf.keras.Sequential([\n",
        "    tf.keras.layers.Dense(4, activation=tf.keras.activations.relu),\n",
        "    tf.keras.layers.Dense(4, activation='relu'),\n",
        "    tf.keras.layers.Dense(1) # Output layer\n",
        "])\n",
        "\n",
        "# Compile a model\n",
        "model_5.compile(loss='binary_crossentropy',\n",
        "                optimizer='Adam',\n",
        "                metrics=['accuracy'])\n",
        "\n",
        "# Fit the model\n",
        "history = model_5.fit(X, y, epochs=200, verbose=0)\n",
        "\n",
        "# Evaluate\n",
        "model_5.evaluate(X,y)"
      ],
      "metadata": {
        "colab": {
          "base_uri": "https://localhost:8080/"
        },
        "id": "K738vs_RaVXG",
        "outputId": "40b8df42-f944-4cbf-a87c-81d6f55a959f"
      },
      "execution_count": 30,
      "outputs": [
        {
          "output_type": "stream",
          "name": "stdout",
          "text": [
            "32/32 [==============================] - 0s 1ms/step - loss: 7.7125 - accuracy: 0.5000\n"
          ]
        },
        {
          "output_type": "execute_result",
          "data": {
            "text/plain": [
              "[7.712474346160889, 0.5]"
            ]
          },
          "metadata": {},
          "execution_count": 30
        }
      ]
    },
    {
      "cell_type": "markdown",
      "source": [
        "Hmmmm, Still it's not doing well. What's wrong with our model now.\n",
        "\n",
        "I think there is one more missing thing, i.e **output layer activation function**.\n",
        "\n",
        "This was mentioned in the *typical* **Architecture of Classification Neural Network**, that Output Layer should have activation function with `Sigmoid` for Binary Classification"
      ],
      "metadata": {
        "id": "jUD8SocebCdv"
      }
    },
    {
      "cell_type": "markdown",
      "source": [
        "Let's try that,"
      ],
      "metadata": {
        "id": "RchOIffwbrFT"
      }
    },
    {
      "cell_type": "code",
      "source": [
        "# set the random seed\n",
        "tf.random.set_seed(17)\n",
        "\n",
        "# create a model\n",
        "model_6 = tf.keras.Sequential([\n",
        "    tf.keras.layers.Dense(4, activation='relu'),\n",
        "    tf.keras.layers.Dense(4, activation='relu'),\n",
        "    tf.keras.layers.Dense(1, activation='sigmoid')\n",
        "])\n",
        "\n",
        "# compile a model\n",
        "model_6.compile(loss='binary_crossentropy',\n",
        "                optimizer='Adam',\n",
        "                metrics=['accuracy'])\n",
        "\n",
        "# fit the model\n",
        "history = model_6.fit(X, y, epochs=200, verbose=0)\n",
        "\n",
        "# evaluating\n",
        "model_6.evaluate(X, y)"
      ],
      "metadata": {
        "colab": {
          "base_uri": "https://localhost:8080/"
        },
        "id": "VYpKyvtybs5L",
        "outputId": "c1e5644a-df3a-4eb2-b6a3-4a8747fe80f5"
      },
      "execution_count": 31,
      "outputs": [
        {
          "output_type": "stream",
          "name": "stdout",
          "text": [
            "32/32 [==============================] - 0s 1ms/step - loss: 0.0821 - accuracy: 0.9980\n"
          ]
        },
        {
          "output_type": "execute_result",
          "data": {
            "text/plain": [
              "[0.08213621377944946, 0.9980000257492065]"
            ]
          },
          "metadata": {},
          "execution_count": 31
        }
      ]
    },
    {
      "cell_type": "markdown",
      "source": [
        "Voila !! OMFG\n",
        "\n",
        "\n",
        "See the accuracy, it is incredible.\n",
        "\n",
        "Now let's plot our decision boundary using our function."
      ],
      "metadata": {
        "id": "u_n9dFgYcgom"
      }
    },
    {
      "cell_type": "code",
      "source": [
        "plot_decision_boundary(model_6, X, y)"
      ],
      "metadata": {
        "colab": {
          "base_uri": "https://localhost:8080/",
          "height": 300
        },
        "id": "wiGt0Eo4c6u8",
        "outputId": "37cd26e5-39de-422b-f276-ef6f5af5fab8"
      },
      "execution_count": 32,
      "outputs": [
        {
          "output_type": "stream",
          "name": "stdout",
          "text": [
            "313/313 [==============================] - 1s 3ms/step\n",
            "doing binary classification...\n"
          ]
        },
        {
          "output_type": "display_data",
          "data": {
            "text/plain": [
              "<Figure size 432x288 with 1 Axes>"
            ],
            "image/png": "[encoded data removed]"
          },
          "metadata": {
            "needs_background": "light"
          }
        }
      ]
    },
    {
      "cell_type": "markdown",
      "source": [
        "**Before**:\n",
        "\n",
        "When we model with basic settings"
      ],
      "metadata": {
        "id": "Qq9dbtz4dAKk"
      }
    },
    {
      "cell_type": "code",
      "source": [
        "plot_decision_boundary(model_2, X, y)"
      ],
      "metadata": {
        "colab": {
          "base_uri": "https://localhost:8080/",
          "height": 300
        },
        "id": "jyWdIQJudNbl",
        "outputId": "155c889c-c1ec-4cc3-f785-5cb67b1d5d8b"
      },
      "execution_count": 33,
      "outputs": [
        {
          "output_type": "stream",
          "name": "stdout",
          "text": [
            "313/313 [==============================] - 1s 2ms/step\n",
            "doing binary classification...\n"
          ]
        },
        {
          "output_type": "display_data",
          "data": {
            "text/plain": [
              "<Figure size 432x288 with 1 Axes>"
            ],
            "image/png": "[encoded data removed]"
          },
          "metadata": {
            "needs_background": "light"
          }
        }
      ]
    },
    {
      "cell_type": "markdown",
      "source": [
        "We successfully improved our model by tweaking the settings of Neural Network layers"
      ],
      "metadata": {
        "id": "RdaSXGRJdQIs"
      }
    },
    {
      "cell_type": "code",
      "source": [
        "# let's see the summary of our successful model\n",
        "model_6.summary()"
      ],
      "metadata": {
        "colab": {
          "base_uri": "https://localhost:8080/"
        },
        "id": "IBQ6Yr1Zdec9",
        "outputId": "66ae142b-41f3-46f0-c11a-4bac8b9a1f7f"
      },
      "execution_count": 34,
      "outputs": [
        {
          "output_type": "stream",
          "name": "stdout",
          "text": [
            "Model: \"sequential_6\"\n",
            "_________________________________________________________________\n",
            " Layer (type)                Output Shape              Param #   \n",
            "=================================================================\n",
            " dense_14 (Dense)            (None, 4)                 12        \n",
            "                                                                 \n",
            " dense_15 (Dense)            (None, 4)                 20        \n",
            "                                                                 \n",
            " dense_16 (Dense)            (None, 1)                 5         \n",
            "                                                                 \n",
            "=================================================================\n",
            "Total params: 37\n",
            "Trainable params: 37\n",
            "Non-trainable params: 0\n",
            "_________________________________________________________________\n"
          ]
        }
      ]
    },
    {
      "cell_type": "code",
      "source": [
        "# and if we plot the history\n",
        "import pandas as pd\n",
        "pd.DataFrame(history.history).plot()\n",
        "plt.ylabel(\"Loss\")\n",
        "plt.xlabel(\"Epochs\")"
      ],
      "metadata": {
        "colab": {
          "base_uri": "https://localhost:8080/",
          "height": 296
        },
        "id": "PO2qAdfMdjW9",
        "outputId": "fd7cce13-9533-41fd-d718-81de54c1242e"
      },
      "execution_count": 35,
      "outputs": [
        {
          "output_type": "execute_result",
          "data": {
            "text/plain": [
              "Text(0.5, 0, 'Epochs')"
            ]
          },
          "metadata": {},
          "execution_count": 35
        },
        {
          "output_type": "display_data",
          "data": {
            "text/plain": [
              "<Figure size 432x288 with 1 Axes>"
            ],
            "image/png": "[encoded data removed]"
          },
          "metadata": {
            "needs_background": "light"
          }
        }
      ]
    },
    {
      "cell_type": "markdown",
      "source": [
        "🤔 **Question**: What's wrong the predictions we've made ? Are we really evaluating our model correctly? Hint: What data did the model learn on and what data did we predict on ?\n",
        "\n",
        "🔑 **Note**: The combination of **linear(straight lines)** and **non-linear(non-straight lines)** functions is one of the key fundamentals of neural networks.\n",
        "\n",
        "Think of it like this:\n",
        "\n",
        "If we have an unlimited amount of straight and non-straight lines, what kind of patterns could we draw ?\n",
        "\n",
        "That's essentially what neural networks do to find patterns in data.\n",
        "\n",
        "Now we might be thinking, \"but I haven't seen a linear function or a non-linear function before...\"\n",
        "\n",
        "Oh but we have.\n",
        "\n",
        "We've been using them the whole time.\n",
        "\n",
        "They're what power the layers in the models we just built.\n",
        "\n",
        "To get some intuition about the activation functions we've just used, let's create them and then try them on some toy data."
      ],
      "metadata": {
        "id": "z62PA0fxeDq8"
      }
    },
    {
      "cell_type": "code",
      "source": [
        "# Create a toy tensor data\n",
        "A = tf.cast(tf.range(-10,10), tf.float32)\n",
        "A"
      ],
      "metadata": {
        "colab": {
          "base_uri": "https://localhost:8080/"
        },
        "id": "lyMRCsUhkmJc",
        "outputId": "9d6193a0-fca0-479c-afaa-249f98272141"
      },
      "execution_count": 38,
      "outputs": [
        {
          "output_type": "execute_result",
          "data": {
            "text/plain": [
              "<tf.Tensor: shape=(20,), dtype=float32, numpy=\n",
              "array([-10.,  -9.,  -8.,  -7.,  -6.,  -5.,  -4.,  -3.,  -2.,  -1.,   0.,\n",
              "         1.,   2.,   3.,   4.,   5.,   6.,   7.,   8.,   9.],\n",
              "      dtype=float32)>"
            ]
          },
          "metadata": {},
          "execution_count": 38
        }
      ]
    },
    {
      "cell_type": "code",
      "source": [
        "plt.plot(A)"
      ],
      "metadata": {
        "colab": {
          "base_uri": "https://localhost:8080/",
          "height": 282
        },
        "id": "6xjaTmvEk3cN",
        "outputId": "de0116d5-1a7f-49f5-aedd-72472d2baa15"
      },
      "execution_count": 39,
      "outputs": [
        {
          "output_type": "execute_result",
          "data": {
            "text/plain": [
              "[<matplotlib.lines.Line2D at 0x7f66ae898fd0>]"
            ]
          },
          "metadata": {},
          "execution_count": 39
        },
        {
          "output_type": "display_data",
          "data": {
            "text/plain": [
              "<Figure size 432x288 with 1 Axes>"
            ],
            "image/png": "[encoded data removed]"
          },
          "metadata": {
            "needs_background": "light"
          }
        }
      ]
    },
    {
      "cell_type": "code",
      "source": [
        "# Let's see what Sigmoid activation function do,\n",
        "# sigmoid(x) = 1 / 1 + exp(-x)\n",
        "\n",
        "def sigmoid(x):\n",
        "  return 1 / (1 + tf.exp(-x))\n",
        "\n",
        "# Let's see what sigmoid return with our toy tensor\n",
        "sigmoid(A)"
      ],
      "metadata": {
        "colab": {
          "base_uri": "https://localhost:8080/"
        },
        "id": "h-afWCFrk84m",
        "outputId": "b6c094e2-e45c-4083-e7c8-5aea1c6291ee"
      },
      "execution_count": 43,
      "outputs": [
        {
          "output_type": "execute_result",
          "data": {
            "text/plain": [
              "<tf.Tensor: shape=(20,), dtype=float32, numpy=\n",
              "array([4.5397872e-05, 1.2339458e-04, 3.3535014e-04, 9.1105117e-04,\n",
              "       2.4726233e-03, 6.6928510e-03, 1.7986210e-02, 4.7425874e-02,\n",
              "       1.1920292e-01, 2.6894143e-01, 5.0000000e-01, 7.3105860e-01,\n",
              "       8.8079703e-01, 9.5257413e-01, 9.8201376e-01, 9.9330717e-01,\n",
              "       9.9752742e-01, 9.9908900e-01, 9.9966466e-01, 9.9987662e-01],\n",
              "      dtype=float32)>"
            ]
          },
          "metadata": {},
          "execution_count": 43
        }
      ]
    },
    {
      "cell_type": "code",
      "source": [
        "# ploting\n",
        "plt.plot(sigmoid(A));"
      ],
      "metadata": {
        "colab": {
          "base_uri": "https://localhost:8080/",
          "height": 265
        },
        "id": "jvahyWS6laZa",
        "outputId": "6ad563f6-92af-4825-fce7-031f9fbfdd27"
      },
      "execution_count": 44,
      "outputs": [
        {
          "output_type": "display_data",
          "data": {
            "text/plain": [
              "<Figure size 432x288 with 1 Axes>"
            ],
            "image/png": "[encoded data removed]"
          },
          "metadata": {
            "needs_background": "light"
          }
        }
      ]
    },
    {
      "cell_type": "markdown",
      "source": [
        "So basically Sigmoid function turns our input to create patterns with some curve lines."
      ],
      "metadata": {
        "id": "LEja4BYplumj"
      }
    },
    {
      "cell_type": "code",
      "source": [
        "# Let's see reLu function which is max(x, 0)\n",
        "def relu(x):\n",
        "  return tf.maximum(0, x)\n",
        "\n",
        "# see what our toy tensor looks like\n",
        "relu(A)"
      ],
      "metadata": {
        "colab": {
          "base_uri": "https://localhost:8080/"
        },
        "id": "hmi4XwuQl30v",
        "outputId": "a3b87186-ac5a-4ef9-fad4-5a203511f6f5"
      },
      "execution_count": 45,
      "outputs": [
        {
          "output_type": "execute_result",
          "data": {
            "text/plain": [
              "<tf.Tensor: shape=(20,), dtype=float32, numpy=\n",
              "array([0., 0., 0., 0., 0., 0., 0., 0., 0., 0., 0., 1., 2., 3., 4., 5., 6.,\n",
              "       7., 8., 9.], dtype=float32)>"
            ]
          },
          "metadata": {},
          "execution_count": 45
        }
      ]
    },
    {
      "cell_type": "markdown",
      "source": [
        "So relu activation function, converts all the -ve numbers into 0 and keep the +ve number as it is."
      ],
      "metadata": {
        "id": "UV9uDHpQmFwi"
      }
    },
    {
      "cell_type": "code",
      "source": [
        "# plot the relu function\n",
        "plt.plot(relu(A));"
      ],
      "metadata": {
        "colab": {
          "base_uri": "https://localhost:8080/",
          "height": 265
        },
        "id": "Xk21h9owmN9U",
        "outputId": "44ac0a74-79fa-473a-b526-c5693174ceaf"
      },
      "execution_count": 46,
      "outputs": [
        {
          "output_type": "display_data",
          "data": {
            "text/plain": [
              "<Figure size 432x288 with 1 Axes>"
            ],
            "image/png": "[encoded data removed]"
          },
          "metadata": {
            "needs_background": "light"
          }
        }
      ]
    },
    {
      "cell_type": "markdown",
      "source": [
        "And it gives the bend lines to create pattern."
      ],
      "metadata": {
        "id": "SLpbeJpQmUf2"
      }
    },
    {
      "cell_type": "code",
      "source": [
        "# Checking linear function, which says it doesn't modify anything\n",
        "tf.keras.activations.linear(A)"
      ],
      "metadata": {
        "colab": {
          "base_uri": "https://localhost:8080/"
        },
        "id": "Z4XsVbNrmeTy",
        "outputId": "535046af-a72e-42fc-87df-32c57d2efcbe"
      },
      "execution_count": 47,
      "outputs": [
        {
          "output_type": "execute_result",
          "data": {
            "text/plain": [
              "<tf.Tensor: shape=(20,), dtype=float32, numpy=\n",
              "array([-10.,  -9.,  -8.,  -7.,  -6.,  -5.,  -4.,  -3.,  -2.,  -1.,   0.,\n",
              "         1.,   2.,   3.,   4.,   5.,   6.,   7.,   8.,   9.],\n",
              "      dtype=float32)>"
            ]
          },
          "metadata": {},
          "execution_count": 47
        }
      ]
    },
    {
      "cell_type": "code",
      "source": [
        "# it will draw the same plot as it was for A\n",
        "plt.plot(tf.keras.activations.linear(A))"
      ],
      "metadata": {
        "colab": {
          "base_uri": "https://localhost:8080/",
          "height": 282
        },
        "id": "YvnK8MW_mmcr",
        "outputId": "dcbc5c9c-757c-41c8-cd81-5f19cec5c9f8"
      },
      "execution_count": 48,
      "outputs": [
        {
          "output_type": "execute_result",
          "data": {
            "text/plain": [
              "[<matplotlib.lines.Line2D at 0x7f66ae57c4d0>]"
            ]
          },
          "metadata": {},
          "execution_count": 48
        },
        {
          "output_type": "display_data",
          "data": {
            "text/plain": [
              "<Figure size 432x288 with 1 Axes>"
            ],
            "image/png": "[encoded data removed]"
          },
          "metadata": {
            "needs_background": "light"
          }
        }
      ]
    },
    {
      "cell_type": "markdown",
      "source": [
        "Activation functions are basically modify our inputs into some output for that layer and become an input for the next layer.\n",
        "\n",
        "Non-linear functions are able to deduce patterns in non-linear data whereas Linear functions cannot."
      ],
      "metadata": {
        "id": "keOS7ORShKjR"
      }
    },
    {
      "cell_type": "markdown",
      "source": [
        "📖 **Resource**: [Machine Learning Cheatsheet](https://ml-cheatsheet.readthedocs.io/en/latest/activation_functions.html) for more on activation functions."
      ],
      "metadata": {
        "id": "JLiWpCgDklAg"
      }
    },
    {
      "cell_type": "code",
      "source": [],
      "metadata": {
        "id": "2VodpCWznfvk"
      },
      "execution_count": null,
      "outputs": []
    }
  ]
}
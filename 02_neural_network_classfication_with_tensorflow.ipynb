{
  "nbformat": 4,
  "nbformat_minor": 0,
  "metadata": {
    "colab": {
      "provenance": [],
      "authorship_tag": "ABX9TyNbDzdvbdut15tJkEseI3Zt",
      "include_colab_link": true
    },
    "kernelspec": {
      "name": "python3",
      "display_name": "Python 3"
    },
    "language_info": {
      "name": "python"
    }
  },
  "cells": [
    {
      "cell_type": "markdown",
      "metadata": {
        "id": "view-in-github",
        "colab_type": "text"
      },
      "source": [
        "<a href=\"https://colab.research.google.com/github/SaketMunda/tensorflow-fundamentals/blob/master/02_neural_network_classfication_with_tensorflow.ipynb\" target=\"_parent\"><img src=\"https://colab.research.google.com/assets/colab-badge.svg\" alt=\"Open In Colab\"/></a>"
      ]
    },
    {
      "cell_type": "markdown",
      "source": [
        "# Introduction to neural network classification with tensorflow\n",
        "\n",
        "A classification problem involves predicting whether something is one thing or another.\n",
        "\n",
        "In this notebook we will see below types of classification problem,\n",
        "* **Binary classification**\n",
        "* **Multi-class classification**\n",
        "* **Multi-label classification**"
      ],
      "metadata": {
        "id": "Gt9hp_98wTpn"
      }
    },
    {
      "cell_type": "code",
      "source": [],
      "metadata": {
        "id": "73lu8WCszli-"
      },
      "execution_count": null,
      "outputs": []
    }
  ]
}